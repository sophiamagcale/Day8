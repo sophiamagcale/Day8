{
 "cells": [
  {
   "cell_type": "markdown",
   "id": "a9215f5c-525b-4508-8b0d-700f55cbd252",
   "metadata": {},
   "source": [
    "## Introduction to Data Science\n",
    "\n",
    "#### University of Redlands - DATA 101\n",
    "#### Prof: Joanna Bieri [joanna_bieri@redlands.edu](mailto:joanna_bieri@redlands.edu)\n",
    "#### [Class Website: data101.joannabieri.com](https://joannabieri.com/data101.html)\n",
    "\n",
    "---------------------------------------\n",
    "# Homework Day 8\n",
    "---------------------------------------\n",
    "\n",
    "GOALS:\n",
    "\n",
    "1. Load data into Python that you find online\n",
    "2. Understand data types and fix some errors\n",
    "3. Find your own data to play with\n",
    "\n",
    "----------------------------------------------------------\n",
    "\n",
    "This homework has **5 questions** and **1 problem**.\n",
    "\n",
    "NOTE: Be kind to yourself. Working with data can be hard! Every data set is different. **Seriously** come get help! Come to lab!\n"
   ]
  },
  {
   "cell_type": "markdown",
   "id": "8a9da804-1b7c-4dbd-bb16-286f8741334d",
   "metadata": {},
   "source": [
    "import numpy as np\n",
    "import pandas as pd\n",
    "\n",
    "import matplotlib.pyplot as plt\n",
    "import plotly.express as px\n",
    "from plotly.subplots import make_subplots\n",
    "import plotly.io as pio\n",
    "pio.renderers.defaule = 'colab'\n",
    "\n",
    "from itables import show"
   ]
  },
  {
   "cell_type": "markdown",
   "id": "3f6acebf-abd7-462c-9e6d-5cd749afba32",
   "metadata": {},
   "source": [
    "## Try reading in some data - csv\n",
    "\n",
    "Go to the [Cal Fire Website](https://www.fire.ca.gov/incidents) and scroll to the bottom to see the Incident Data. We will download the file named **ALL DATA AS CSV** this should put the data file into your Downloads folder. \n",
    "\n",
    "Next you need to move the file **mapdataall.csv** from your Downloads folder into your Day8 folder where you are doing your homework. You can open your Downloads folder and drag the file into JupyterLab side bar. Then I can run the command\n",
    "\n",
    "    DF_raw = pd.read_csv('mapdataall.csv')\n",
    "\n",
    "to load the data and look at the data frame."
   ]
  },
  {
   "cell_type": "code",
   "execution_count": 359,
   "id": "e90fdd5f-bd17-4c94-b3f4-7ddc998bd001",
   "metadata": {},
   "outputs": [
    {
     "data": {
      "text/html": [
       "<table id=\"itables_ca72e1f4_85ad_415f_ad80_a9ab1d7e522b\" class=\"display nowrap\" data-quarto-disable-processing=\"true\" style=\"table-layout:auto;width:auto;margin:auto;caption-side:bottom\">\n",
       "<thead>\n",
       "    <tr style=\"text-align: right;\">\n",
       "      \n",
       "      <th>incident_name</th>\n",
       "      <th>incident_is_final</th>\n",
       "      <th>incident_date_last_update</th>\n",
       "      <th>incident_date_created</th>\n",
       "      <th>incident_administrative_unit</th>\n",
       "      <th>incident_administrative_unit_url</th>\n",
       "      <th>incident_county</th>\n",
       "      <th>incident_location</th>\n",
       "      <th>incident_acres_burned</th>\n",
       "      <th>incident_containment</th>\n",
       "      <th>incident_control</th>\n",
       "      <th>incident_cooperating_agencies</th>\n",
       "      <th>incident_longitude</th>\n",
       "      <th>incident_latitude</th>\n",
       "      <th>incident_type</th>\n",
       "      <th>incident_id</th>\n",
       "      <th>incident_url</th>\n",
       "      <th>incident_date_extinguished</th>\n",
       "      <th>incident_dateonly_extinguished</th>\n",
       "      <th>incident_dateonly_created</th>\n",
       "      <th>is_active</th>\n",
       "      <th>calfire_incident</th>\n",
       "      <th>notification_desired</th>\n",
       "    </tr>\n",
       "  </thead><tbody><tr>\n",
       "<td style=\"vertical-align:middle; text-align:left\">\n",
       "<div style=\"float:left; margin-right: 10px;\">\n",
       "<a href=https://mwouts.github.io/itables/><svg class=\"main-svg\" xmlns=\"http://www.w3.org/2000/svg\" xmlns:xlink=\"http://www.w3.org/1999/xlink\"\n",
       "width=\"64\" viewBox=\"0 0 500 400\" style=\"font-family: 'Droid Sans', sans-serif;\">\n",
       "    <g style=\"fill:#d9d7fc\">\n",
       "        <path d=\"M100,400H500V357H100Z\" />\n",
       "        <path d=\"M100,300H400V257H100Z\" />\n",
       "        <path d=\"M0,200H400V157H0Z\" />\n",
       "        <path d=\"M100,100H500V57H100Z\" />\n",
       "        <path d=\"M100,350H500V307H100Z\" />\n",
       "        <path d=\"M100,250H400V207H100Z\" />\n",
       "        <path d=\"M0,150H400V107H0Z\" />\n",
       "        <path d=\"M100,50H500V7H100Z\" />\n",
       "    </g>\n",
       "    <g style=\"fill:#1a1366;stroke:#1a1366;\">\n",
       "   <rect x=\"100\" y=\"7\" width=\"400\" height=\"43\">\n",
       "    <animate\n",
       "      attributeName=\"width\"\n",
       "      values=\"0;400;0\"\n",
       "      dur=\"5s\"\n",
       "      repeatCount=\"indefinite\" />\n",
       "      <animate\n",
       "      attributeName=\"x\"\n",
       "      values=\"100;100;500\"\n",
       "      dur=\"5s\"\n",
       "      repeatCount=\"indefinite\" />\n",
       "  </rect>\n",
       "        <rect x=\"0\" y=\"107\" width=\"400\" height=\"43\">\n",
       "    <animate\n",
       "      attributeName=\"width\"\n",
       "      values=\"0;400;0\"\n",
       "      dur=\"3.5s\"\n",
       "      repeatCount=\"indefinite\" />\n",
       "    <animate\n",
       "      attributeName=\"x\"\n",
       "      values=\"0;0;400\"\n",
       "      dur=\"3.5s\"\n",
       "      repeatCount=\"indefinite\" />\n",
       "  </rect>\n",
       "        <rect x=\"100\" y=\"207\" width=\"300\" height=\"43\">\n",
       "    <animate\n",
       "      attributeName=\"width\"\n",
       "      values=\"0;300;0\"\n",
       "      dur=\"3s\"\n",
       "      repeatCount=\"indefinite\" />\n",
       "    <animate\n",
       "      attributeName=\"x\"\n",
       "      values=\"100;100;400\"\n",
       "      dur=\"3s\"\n",
       "      repeatCount=\"indefinite\" />\n",
       "  </rect>\n",
       "        <rect x=\"100\" y=\"307\" width=\"400\" height=\"43\">\n",
       "    <animate\n",
       "      attributeName=\"width\"\n",
       "      values=\"0;400;0\"\n",
       "      dur=\"4s\"\n",
       "      repeatCount=\"indefinite\" />\n",
       "      <animate\n",
       "      attributeName=\"x\"\n",
       "      values=\"100;100;500\"\n",
       "      dur=\"4s\"\n",
       "      repeatCount=\"indefinite\" />\n",
       "  </rect>\n",
       "        <g style=\"fill:transparent;stroke-width:8; stroke-linejoin:round\" rx=\"5\">\n",
       "            <g transform=\"translate(45 50) rotate(-45)\">\n",
       "                <circle r=\"33\" cx=\"0\" cy=\"0\" />\n",
       "                <rect x=\"-8\" y=\"32\" width=\"16\" height=\"30\" />\n",
       "            </g>\n",
       "\n",
       "            <g transform=\"translate(450 152)\">\n",
       "                <polyline points=\"-15,-20 -35,-20 -35,40 25,40 25,20\" />\n",
       "                <rect x=\"-15\" y=\"-40\" width=\"60\" height=\"60\" />\n",
       "            </g>\n",
       "\n",
       "            <g transform=\"translate(50 352)\">\n",
       "                <polygon points=\"-35,-5 0,-40 35,-5\" />\n",
       "                <polygon points=\"-35,10 0,45 35,10\" />\n",
       "            </g>\n",
       "\n",
       "            <g transform=\"translate(75 250)\">\n",
       "                <polyline points=\"-30,30 -60,0 -30,-30\" />\n",
       "                <polyline points=\"0,30 -30,0 0,-30\" />\n",
       "            </g>\n",
       "\n",
       "            <g transform=\"translate(425 250) rotate(180)\">\n",
       "                <polyline points=\"-30,30 -60,0 -30,-30\" />\n",
       "                <polyline points=\"0,30 -30,0 0,-30\" />\n",
       "            </g>\n",
       "        </g>\n",
       "    </g>\n",
       "</svg>\n",
       "</a>\n",
       "</div>\n",
       "<div>\n",
       "Loading ITables v2.1.4 from the internet...\n",
       "(need <a href=https://mwouts.github.io/itables/troubleshooting.html>help</a>?)</td>\n",
       "</div>\n",
       "</tr></tbody>\n",
       "\n",
       "</table>\n",
       "<link href=\"https://www.unpkg.com/dt_for_itables@2.0.11/dt_bundle.css\" rel=\"stylesheet\">\n",
       "<script type=\"module\">\n",
       "    import {DataTable, jQuery as $} from 'https://www.unpkg.com/dt_for_itables@2.0.11/dt_bundle.js';\n",
       "\n",
       "    document.querySelectorAll(\"#itables_ca72e1f4_85ad_415f_ad80_a9ab1d7e522b:not(.dataTable)\").forEach(table => {\n",
       "        // Define the table data\n",
       "        const data = [[\" Bridge Fire\", \"Y\", \"2018-01-09T13:46:00Z\", \"2017-10-31T11:22:00Z\", \" Shasta-Trinity National Forest \", NaN, \"Shasta\", \"I-5 and Turntable Bay, 7 miles NE of Shasta Lake \", 37.0, 100.0, \"NaN\", \" Shasta-Trinity National Forest \", -122.309, 40.774, \"NaN\", \"2ca11d45-8139-4c16-8af0-880d99b21e82\", \"https://www.fire.ca.gov/incidents/2017/10/31/bridge-fire/\", \"2018-01-09T13:46:00Z\", \"2018-01-09\", \"2017-10-31\", \"N\", false, false], [\"Pala Fire\", \"Y\", \"2020-09-16T14:07:35Z\", \"2009-05-24T14:56:00Z\", \"CAL FIRE San Diego Unit\", NaN, \"San Diego\", \"Hwy 76 and Pala Temecula, northwest of Pala\", 122.0, 100.0, \"NaN\", \"CAL FIRE San Diego Unit\", 1.0, 1.0, \"Wildfire\", \"8f61f461-552d-4538-b186-35ab030da416\", \"https://www.fire.ca.gov/incidents/2009/5/24/pala-fire/\", \"2009-05-25T00:00:00Z\", \"2009-05-25\", \"2009-05-24\", \"N\", true, false], [\"River Fire\", \"Y\", \"2022-10-24T11:39:23Z\", \"2013-02-24T08:16:00Z\", \"CAL FIRE San Bernardino Unit\", NaN, \"Inyo\", \"south of Narrow Gauge Rd & north of Hwy 136, east of Lone Pine\", 407.0, 100.0, \"NaN\", \"CAL FIRE San Bernardino Unit, Inyo County Sheriff, US Forest Service, BLM, LADWP, Lone Pine Volunteer Fire Department, Big Pine Volunteer Fire Department, Olancha Volunteer Fire Department, Independence Volunteer Fire Department.\", -118.01651, 36.602575, \"NaN\", \"094719ba-a47b-4abb-9ec5-a506b2b9fd23\", \"https://www.fire.ca.gov/incidents/2013/2/24/river-fire/\", \"2013-02-28T20:00:00Z\", \"2013-02-28\", \"2013-02-24\", \"N\", true, false], [\"Fawnskin Fire\", \"Y\", \"2013-04-22T09:00:00Z\", \"2013-04-20T17:30:00Z\", \"San Bernardino National Forest\", NaN, \"San Bernardino\", \"west of Delamar Mountain, north of the community of Fawnskin, northside of Big Bear Lake\", 30.0, 100.0, \"NaN\", \"San Bernardino National Forest\", -116.941311, 34.288877, \"NaN\", \"58f89ff8-bd3e-4355-b1c0-8fa05c747d3f\", \"https://www.fire.ca.gov/incidents/2013/4/20/fawnskin-fire/\", \"2013-04-22T09:00:00Z\", \"2013-04-22\", \"2013-04-20\", \"N\", false, false], [\"Gold Fire\", \"Y\", \"2013-05-01T07:00:00Z\", \"2013-04-30T12:59:00Z\", \"CAL FIRE Madera-Mariposa-Merced Unit\", NaN, \"Madera\", \"Between Road 210 and Road 200 near Fine Gold Creek in the community of O\", 274.0, 100.0, \"NaN\", \"CAL FIRE Madera-Mariposa-Merced Unit\", -119.635004, 37.116295, \"NaN\", \"357ffc13-bef9-48eb-810f-c5de851972eb\", \"https://www.fire.ca.gov/incidents/2013/4/30/gold-fire/\", \"2013-05-01T07:00:00Z\", \"2013-05-01\", \"2013-04-30\", \"N\", true, false], [\"Panther Fire\", \"Y\", \"2022-10-24T11:40:03Z\", \"2013-05-01T09:12:00Z\", \"CAL FIRE Butte Unit\", NaN, \"Tehama\", \"140K3 Line, 8 miles northwest of Butte Meadows\", 6896.0, 100.0, \"NaN\", \"CAL FIRE Butte Unit, CAL FIRE, USFS (Lassen and Plumas NF), CDCR, SPI, Collins Pine, Chico Fire Department\", -121.595555, 40.190062, \"NaN\", \"53122f0f-fefc-4dbf-b2d8-566b42ced66d\", \"https://www.fire.ca.gov/incidents/2013/5/1/panther-fire/\", \"2013-05-09T09:00:00Z\", \"2013-05-09\", \"2013-05-01\", \"N\", true, false], [\"Silverado Fire\", \"Y\", \"2013-05-01T17:15:00Z\", \"2013-04-30T23:44:00Z\", \"CAL FIRE Sonoma-Lake-Napa Unit\", NaN, \"Napa\", \"7300 block of Silverado Trail, north of Napa\", 75.0, 100.0, \"NaN\", \"CAL FIRE Sonoma-Lake-Napa Unit\", -122.350844, 38.441792, \"NaN\", \"d8d1c943-7b5d-4885-9043-f41075d6eded\", \"https://www.fire.ca.gov/incidents/2013/4/30/silverado-fire/\", \"2013-05-01T17:15:00Z\", \"2013-05-01\", \"2013-04-30\", \"N\", true, false], [\"Yellow Fire\", \"Y\", \"2013-05-03T06:15:00Z\", \"2013-05-01T02:01:00Z\", \"CAL FIRE Sonoma-Lake-Napa Unit\", NaN, \"Sonoma\", \"Hwy 128 & Yellow Jacket Ranch Rd in Knights Valley, northwest of Calistoga\", 125.0, 100.0, \"NaN\", \"CAL FIRE Sonoma-Lake-Napa Unit\", -122.655616, 38.638828, \"NaN\", \"64e4f81e-d872-44c4-ba8d-111fa77124ba\", \"https://www.fire.ca.gov/incidents/2013/5/1/yellow-fire/\", \"2013-05-03T06:15:00Z\", \"2013-05-03\", \"2013-05-01\", \"N\", true, false], [\"Summit Fire\", \"Y\", \"2022-10-24T11:40:42Z\", \"2013-05-01T12:38:00Z\", \"CAL FIRE/Riverside County Fire \", NaN, \"Riverside\", \"Mias Canyon and Bluff Road in Banning\", 2956.0, 100.0, \"NaN\", \"CAL FIRE/Riverside County Fire \", -116.941311, 34.288877, \"NaN\", \"a1b14be5-a8cf-4e40-8588-96becf4c5879\", \"https://www.fire.ca.gov/incidents/2013/5/1/summit-fire/\", \"2013-05-04T18:30:00Z\", \"2013-05-04\", \"2013-05-01\", \"N\", true, false], [\"Tres Pinos Fire\", \"Y\", \"2013-05-03T18:45:00Z\", \"2013-05-03T11:42:00Z\", \"CAL FIRE San Benito-Monterey \", NaN, \"San Benito\", \"Highway 25 and Horizon Rd, Community of Tres \", 354.0, 100.0, \"NaN\", \"CAL FIRE San Benito-Monterey \", -120.937494, 37.160346, \"NaN\", \"ca68f3c4-4906-4952-b794-4531d7da8369\", \"https://www.fire.ca.gov/incidents/2013/5/3/tres-pinos-fire/\", \"2013-05-03T18:45:00Z\", \"2013-05-03\", \"2013-05-03\", \"N\", true, false], [\"306 Fire\", \"Y\", \"2013-05-05T18:00:00Z\", \"2013-05-01T19:00:00Z\", \"CAL FIRE Tehama-Glenn Unit\", NaN, \"Glenn\", \"2 miles south of the community of Elk Creek\", 217.0, 100.0, \"NaN\", \"CAL FIRE Tehama-Glenn Unit\", -122.560862, 39.514139, \"NaN\", \"5649e78d-7c26-4698-89a0-b0fa9a35cf78\", \"https://www.fire.ca.gov/incidents/2013/5/1/306-fire/\", \"2013-05-05T18:00:00Z\", \"2013-05-05\", \"2013-05-01\", \"N\", true, false], [\"Lytle Fire\", \"Y\", \"2013-05-15T08:15:00Z\", \"2013-05-13T13:30:00Z\", \"USFS San Bernardino National Forest, CAL FIRE San Bernardino Unit\", NaN, \"San Bernardino\", \"I-15 at Sierra Ave, near Lytle Creek\", 75.0, 100.0, \"NaN\", \"USFS San Bernardino National Forest, CAL FIRE San Bernardino Unit, CAL FIRE, USFS, San Bernardino Co., San Bernardino City, Rialto, Rancho, Ontario, CHP, San Bernardino Sheriff's Office\", -117.4408, 34.1834, \"NaN\", \"e2c4b308-9a2d-483b-8434-999bef9adc7c\", \"https://www.fire.ca.gov/incidents/2013/5/13/lytle-fire/\", \"2013-05-15T08:15:00Z\", \"2013-05-15\", \"2013-05-13\", \"N\", true, false], [\"Gorgonio Fire\", \"Y\", \"2022-10-24T11:40:58Z\", \"2013-05-04T11:43:00Z\", \"CAL FIRE/Riverside County Fire\", NaN, \"Riverside\", \"Highway 243, south of Banning and north of Pine Cove\", 650.0, 100.0, \"NaN\", \"CAL FIRE/Riverside County Fire\", -116.855019, 33.894055, \"NaN\", \"958ce6d2-97f9-4848-8620-d14ab87f329d\", \"https://www.fire.ca.gov/incidents/2013/5/4/gorgonio-fire/\", \"2013-05-05T18:45:00Z\", \"2013-05-05\", \"2013-05-04\", \"N\", true, false], [\"Grand Fire\", \"Y\", \"2013-05-21T19:45:00Z\", \"2013-05-15T12:50:00Z\", \"CAL FIRE / USFS Los Padres National Forest\", NaN, \"Kern, Ventura\", \"South of Frazier Mountain Park Rd, South of Frazier Park\", 4346.0, 100.0, \"NaN\", \"CAL FIRE / USFS Los Padres National Forest, CAL FIRE, USFS, KERN CO FD, VENTURA CO FD, KERN COUNTY SO, VENTURA CO SO, LA CO SO, LAFD, CALEMA, BLM, KERN CO RD DEPT., CHP, CALIFORNIA STATE PARKS\", -118.9411, 34.7861, \"NaN\", \"e0d038e9-0926-4c05-8317-ec7075a04b12\", \"https://www.fire.ca.gov/incidents/2013/5/15/grand-fire/\", \"2013-05-21T19:45:00Z\", \"2013-05-21\", \"2013-05-15\", \"N\", true, false], [\"54 Fire\", \"Y\", \"2013-05-17T08:30:00Z\", \"2013-05-16T13:48:00Z\", \"CAL FIRE Riverside Unit\", NaN, \"Riverside\", \"Avenue 54 and Tyler Street, near the community of Coachella\", 40.0, 100.0, \"NaN\", \"CAL FIRE Riverside Unit\", -116.161201, 33.655638, \"NaN\", \"e215290f-d0b4-48fd-be32-f599959347b1\", \"https://www.fire.ca.gov/incidents/2013/5/16/54-fire/\", \"2013-05-17T08:30:00Z\", \"2013-05-17\", \"2013-05-16\", \"N\", true, false], [\"Lake Fire\", \"Y\", \"2013-05-18T19:00:00Z\", \"2013-05-17T13:23:00Z\", \"CAL FIRE/Los Angeles County \", NaN, \"Los Angeles\", \"I-5 Southbound at Lake Hughes Road\", 712.0, 100.0, \"NaN\", \"CAL FIRE/Los Angeles County \", -118.610044, 34.49149, \"NaN\", \"39af7eac-c188-411f-8c8a-d165c5fca4a9\", \"https://www.fire.ca.gov/incidents/2013/5/17/lake-fire/\", \"2013-05-18T19:00:00Z\", \"2013-05-18\", \"2013-05-17\", \"N\", true, false], [\"Lilly 2 Fire\", \"Y\", \"2013-05-20T19:10:00Z\", \"2013-05-19T15:07:00Z\", \"CAL FIRE Madera-Mariposa-Merced Unit\", NaN, \"Madera\", \"Off Road 400 & Sandy Beach Dr. in Yosemite Lakes\", 91.0, 100.0, \"NaN\", \"CAL FIRE Madera-Mariposa-Merced Unit\", -119.7917, 37.1927, \"NaN\", \"2b765a08-c770-4b19-baa8-00dffe3fa838\", \"https://www.fire.ca.gov/incidents/2013/5/19/lilly-2-fire/\", \"2013-05-20T19:10:00Z\", \"2013-05-20\", \"2013-05-19\", \"N\", true, false], [\"Cottontail Fire\", \"Y\", \"2013-05-20T19:10:00Z\", \"2013-05-20T15:45:00Z\", \"CAL FIRE San Luis Obispo Unit\", NaN, \"San Luis Obispo\", \"Cayucos Creek Rd & Thunder Canyon Rd north of Cayucos\", 35.0, 100.0, \"NaN\", \"CAL FIRE San Luis Obispo Unit\", -120.91375, 35.49864, \"NaN\", \"f17c523c-bf01-4245-899b-7c2331096dae\", \"https://www.fire.ca.gov/incidents/2013/5/20/cottontail-fire/\", \"2013-05-20T19:10:00Z\", \"2013-05-20\", \"2013-05-20\", \"N\", true, false], [\"Cherry Fire\", \"Y\", \"2013-05-20T18:50:00Z\", \"2013-05-20T13:47:00Z\", \"CAL FIRE Riverside Unit\", NaN, \"Riverside\", \"Off Sunset Ave & Mesa St in Banning\", 25.0, 100.0, \"NaN\", \"CAL FIRE Riverside Unit\", -116.907213, 33.96201, \"NaN\", \"a60e315c-23d5-4ba4-869c-5c1e22a25e7a\", \"https://www.fire.ca.gov/incidents/2013/5/20/cherry-fire/\", \"2013-05-20T18:50:00Z\", \"2013-05-20\", \"2013-05-20\", \"N\", true, false], [\"Water Fire\", \"Y\", \"2013-05-21T19:30:00Z\", \"2013-05-21T14:16:00Z\", \"CAL FIRE/Riverside County Fire \", NaN, \"Riverside\", \"Off Whitewater Canyon Road in Whitewater\", 90.0, 100.0, \"NaN\", \"CAL FIRE/Riverside County Fire \", -116.6534, 33.9582, \"NaN\", \"13850faa-5bab-4fd7-bac3-433ce9250c4d\", \"https://www.fire.ca.gov/incidents/2013/5/21/water-fire/\", \"2013-05-21T19:30:00Z\", \"2013-05-21\", \"2013-05-21\", \"N\", true, false], [\"Shelton Fire\", \"Y\", \"2013-05-30T13:25:00Z\", \"2013-05-30T11:20:00Z\", \"CAL FIRE Tuolumne-Calaveras Unit \", NaN, \"San Joaquin\", \"off North Shelton Rd in the Linden Peters area\", 303.0, 100.0, \"NaN\", \"CAL FIRE Tuolumne-Calaveras Unit \", -120.90325, 38.04993, \"NaN\", \"0b51d59b-457d-4a62-b066-55c2b8d400e2\", \"https://www.fire.ca.gov/incidents/2013/5/30/shelton-fire/\", \"2013-05-30T13:25:00Z\", \"2013-05-30\", \"2013-05-30\", \"N\", true, false], [\"Border Fire\", \"Y\", \"2013-05-23T08:30:00Z\", \"2013-05-22T16:14:00Z\", \"CAL FIRE San Diego Unit\", NaN, \"San Diego\", \"Off Alta Rd in the Otay Mesa area\", 100.0, 100.0, \"NaN\", \"CAL FIRE San Diego Unit\", -116.900368, 32.564465, \"NaN\", \"e077e091-f890-477c-b948-eb23774b432e\", \"https://www.fire.ca.gov/incidents/2013/5/22/border-fire/\", \"2013-05-23T08:30:00Z\", \"2013-05-23\", \"2013-05-22\", \"N\", true, false], [\"San Felipe Fire\", \"Y\", \"2022-10-24T11:41:15Z\", \"2013-05-23T12:20:00Z\", \"CAL FIRE San Diego Unit\", NaN, \"San Diego\", \"San Felipe Road, north of Highway 78, East of Julian\", 2650.0, 100.0, \"NaN\", \"CAL FIRE San Diego Unit, CALFIRE, USFS, BLM, SAN DIEGO SHERIFF'S OFFICE, AMR, CAL EMA, SAN DIEGO CITY, LOCAL GOVERNMENT, SAN DIEGO FIRE AUTHORITY, RESERVATION, CCC\", -116.52579, 33.12111, \"NaN\", \"859479e3-918c-42c6-bb74-5fdc17930a16\", \"https://www.fire.ca.gov/incidents/2013/5/23/san-felipe-fire/\", \"2013-05-26T17:45:00Z\", \"2013-05-26\", \"2013-05-23\", \"N\", true, false], [\"Homestead Fire\", \"Y\", \"2013-05-25T18:45:00Z\", \"2013-05-25T17:35:00Z\", \"CAL FIRE San Luis Obispo Unit\", NaN, \"San Luis Obispo\", \"Homestead Rd & Hwy 41, northeast of Atascadero \", 50.0, 100.0, \"NaN\", \"CAL FIRE San Luis Obispo Unit\", -120.6368, 35.5123, \"NaN\", \"5b5ce06d-7ea9-4d28-b564-715fd0d04f3f\", \"https://www.fire.ca.gov/incidents/2013/5/25/homestead-fire/\", \"2013-05-25T18:45:00Z\", \"2013-05-25\", \"2013-05-25\", \"N\", true, false], [\"Smiley Fire\", \"Y\", \"2013-05-25T23:00:00Z\", \"2013-05-25T14:59:00Z\", \"CAL FIRE/Riverside County Fire\", NaN, \"Riverside\", \"Off Smiley Blvd & Vista Suelto Rd, north of Moreno Valley\", 124.0, 100.0, \"NaN\", \"CAL FIRE/Riverside County Fire\", -117.187934, 33.963591, \"NaN\", \"9795afee-7e60-4ab3-b5c3-7df67f91c5f9\", \"https://www.fire.ca.gov/incidents/2013/5/25/smiley-fire/\", \"2013-05-25T23:00:00Z\", \"2013-05-25\", \"2013-05-25\", \"N\", true, false], [\"General Fire\", \"Y\", \"2022-10-24T11:41:51Z\", \"2013-05-26T12:04:00Z\", \"CAL FIRE San Diego Unit\", NaN, \"San Diego\", \"Banner Grade area, south of Hwy 78 & east of Hwy 79, southeast of Julian\", 2500.0, 100.0, \"NaN\", \"CAL FIRE San Diego Unit\", -116.5209, 33.04458, \"NaN\", \"07a5397c-a665-4f84-9a82-5f689cb2c8f3\", \"https://www.fire.ca.gov/incidents/2013/5/26/general-fire/\", \"2013-05-31T06:15:00Z\", \"2013-05-31\", \"2013-05-26\", \"N\", true, false], [\"White Fire\", \"Y\", \"2013-05-30T19:30:00Z\", \"2013-05-27T14:45:00Z\", \"USFS Los Padres National Forest\", NaN, \"Santa Barbara\", \"Southeast of Lake Cachuma, approx. 12 miles southeast of Santa Ynez\", 1984.0, 100.0, \"NaN\", \"USFS Los Padres National Forest\", -119.82429, 34.55048, \"NaN\", \"abc61995-8bea-4be1-aa49-ee378ab3baaa\", \"https://www.fire.ca.gov/incidents/2013/5/27/white-fire/\", \"2013-05-30T19:30:00Z\", \"2013-05-30\", \"2013-05-27\", \"N\", false, false], [\"Magic Fire\", \"Y\", \"2013-05-29T15:30:00Z\", \"2013-05-28T11:30:00Z\", \"Los Angeles County Fire Department\", NaN, \"Los Angeles\", \"off Magic Mtn Parkway in Valencia\", 149.0, 100.0, \"NaN\", \"Los Angeles County Fire Department\", -118.58688, 34.419284, \"NaN\", \"794412f2-1ba2-4217-ac38-49272a96fb6f\", \"https://www.fire.ca.gov/incidents/2013/5/28/magic-fire/\", \"2013-05-29T15:30:00Z\", \"2013-05-29\", \"2013-05-28\", \"N\", true, false], [\"Olive Fire\", \"Y\", \"2013-05-29T10:30:00Z\", \"2013-05-28T15:24:00Z\", \"Santa Barbara County Fire\", NaN, \"Santa Barbara\", \"Hwy 246 and Meadowvale, East of Solvang \", 170.0, 100.0, \"NaN\", \"Santa Barbara County Fire\", -120.074655, 34.611824, \"NaN\", \"cb5f34a0-177e-445d-9349-dd94063a01d0\", \"https://www.fire.ca.gov/incidents/2013/5/28/olive-fire/\", \"2013-05-29T10:30:00Z\", \"2013-05-29\", \"2013-05-28\", \"N\", true, false], [\"Branch Fire\", \"Y\", \"2013-06-03T18:30:00Z\", \"2013-06-01T17:27:00Z\", \"Los Padres National Forest\", NaN, \"San Luis Obispo\", \"west of the Carrizo Plain, Los Padres National Forest\", 500.0, 100.0, \"NaN\", \"Los Padres National Forest\", -120.05131, 35.15832, \"NaN\", \"213dc89e-9f29-4480-91a6-aec5fb694999\", \"https://www.fire.ca.gov/incidents/2013/6/1/branch-fire/\", \"2013-06-03T18:30:00Z\", \"2013-06-03\", \"2013-06-01\", \"N\", false, false], [\"Murphy Fire\", \"Y\", \"2013-06-02T16:55:00Z\", \"2013-06-02T13:30:00Z\", \"CAL FIRE Tuolumne-Calaveras Unit\", NaN, \"Tuolumne\", \"off Lime Kiln Rd\", 100.0, 100.0, \"NaN\", \"CAL FIRE Tuolumne-Calaveras Unit\", -120.33313, 37.91529, \"NaN\", \"98bfbb7c-8446-4e2e-a268-7e961353723c\", \"https://www.fire.ca.gov/incidents/2013/6/2/murphy-fire/\", \"2013-06-02T16:55:00Z\", \"2013-06-02\", \"2013-06-02\", \"N\", true, false], [\"Lone Fire\", \"Y\", \"2013-06-03T20:00:00Z\", \"2013-06-03T13:49:00Z\", \"CAL FIRE Butte Unit\", NaN, \"Butte\", \"Palermo Road and Lone Tree Road near Palermo\", 298.0, 100.0, \"All road closures have been lifted.\", \"CAL FIRE Butte Unit, CAL FIRE, El Medio Fire, Chico Fire Dept, Oroville Fire Dept, Butte Co. Sheriff's Dept, Butte Co. Public Works, PG&E and CHP\", -121.576804, 39.434183, \"NaN\", \"1a5192f1-bc99-4130-8683-381e0534b76a\", \"https://www.fire.ca.gov/incidents/2013/6/3/lone-fire/\", \"2013-06-03T20:00:00Z\", \"2013-06-03\", \"2013-06-03\", \"N\", true, false], [\"Hathaway Fire\", \"Y\", \"2013-06-09T16:45:00Z\", \"2013-06-09T12:30:00Z\", \"USFS San Bernardino National Forest\", NaN, \"Riverside\", \"Hathaway Canyon area, northeast of Banning\", 0.0, 100.0, \"NaN\", \"USFS San Bernardino National Forest\", -116.84137, 33.99647, \"NaN\", \"befb9d5c-c0ea-48b8-8589-2586be0275af\", \"https://www.fire.ca.gov/incidents/2013/6/9/hathaway-fire/\", \"2013-06-09T16:45:00Z\", \"2013-06-09\", \"2013-06-09\", \"N\", false, false], [\"Sonoma-Lake-Napa Unit Lightning Fires\", \"Y\", \"2013-06-14T15:45:00Z\", \"2013-06-10T00:46:00Z\", \"CAL FIRE Sonoma-Lake-Napa Unit\", NaN, \"Sonoma, Solano, Lake, Colusa\", \"throughout Sonoma, Solano, Lake & Colusa Counties\", 28.0, 100.0, \"NaN\", \"CAL FIRE Sonoma-Lake-Napa Unit\", -122.0437, 38.4229, \"NaN\", \"5ce45b6c-81b5-422c-9078-8c68dd872c8a\", \"https://www.fire.ca.gov/incidents/2013/6/10/sonoma-lake-napa-unit-lightning-fires/\", \"2013-06-14T15:45:00Z\", \"2013-06-14\", \"2013-06-10\", \"N\", true, false], [\"152 Fire\", \"Y\", \"2013-06-05T08:30:00Z\", \"2013-06-04T15:42:00Z\", \"CAL FIRE Madera-Mariposa-Merced Unit\", NaN, \"Merced\", \"Hwy 152 in San Luis Creek Reservoir\", 124.0, 100.0, \"NaN\", \"CAL FIRE Madera-Mariposa-Merced Unit\", -121.006939, 37.03776, \"NaN\", \"f9e85371-fc46-4f54-822c-7dcdaadde551\", \"https://www.fire.ca.gov/incidents/2013/6/4/152-fire/\", \"2013-06-05T08:30:00Z\", \"2013-06-05\", \"2013-06-04\", \"N\", true, false], [\"Lake Fire\", \"Y\", \"2013-06-06T07:00:00Z\", \"2013-06-05T16:05:00Z\", \"CAL FIRE Sonoma-Lake-Napa Unit\", NaN, \"Lake\", \"Lakeshore Drive and Patterson Drive in Clearlake Oaks\", 30.0, 100.0, \"NaN\", \"CAL FIRE Sonoma-Lake-Napa Unit\", -122.703193, 38.99233, \"NaN\", \"dcb21e64-9d38-47c2-848b-e8e0dea5c2de\", \"https://www.fire.ca.gov/incidents/2013/6/5/lake-fire/\", \"2013-06-06T07:00:00Z\", \"2013-06-06\", \"2013-06-05\", \"N\", true, false], [\"Powerhouse Fire\", \"Y\", \"2013-06-08T18:30:00Z\", \"2013-05-30T15:28:00Z\", \"USFS Angeles National Forest/Los Angeles County/CAL FIRE\", NaN, \"Los Angeles\", \"Angeles National Forest\", 30274.0, 100.0, \"NaN\", \"USFS Angeles National Forest/Los Angeles County/CAL FIRE\", -118.423176, 34.585595, \"NaN\", \"bf37805e-1cc2-4208-9972-753e47874c87\", \"https://www.fire.ca.gov/incidents/2013/5/30/powerhouse-fire/\", \"2013-06-08T18:30:00Z\", \"2013-06-08\", \"2013-05-30\", \"N\", true, false], [\"Vasco Fire\", \"Y\", \"2013-06-08T13:25:00Z\", \"2013-06-08T10:16:00Z\", \"CAL FIRE Santa Clara Unit\", NaN, \"Alameda\", \"off Vasco Road & North Vasco Road, north of Livermore\", 240.0, 100.0, \"NaN\", \"CAL FIRE Santa Clara Unit\", -121.737213, 37.775057, \"NaN\", \"2ad509e4-99f1-4e1a-81eb-839f772f9c45\", \"https://www.fire.ca.gov/incidents/2013/6/8/vasco-fire/\", \"2013-06-08T13:25:00Z\", \"2013-06-08\", \"2013-06-08\", \"N\", true, false], [\"Viper Fire\", \"Y\", \"2013-06-08T19:00:00Z\", \"2013-06-08T15:37:00Z\", \"CAL FIRE/Riverside County Fire\", NaN, \"Riverside\", \"off San Timoteo Canyon Rd and Viper Rd, north of Moreno Valley\", 42.0, 100.0, \"NaN\", \"CAL FIRE/Riverside County Fire\", -117.1265, 33.96936, \"NaN\", \"e9505435-e861-4f33-9069-b0040fb2a135\", \"https://www.fire.ca.gov/incidents/2013/6/8/viper-fire/\", \"2013-06-08T19:00:00Z\", \"2013-06-08\", \"2013-06-08\", \"N\", true, false], [\"Northern California Lightning Activity\", \"Y\", \"2013-06-14T16:30:00Z\", \"2013-06-10T00:46:00Z\", \"California Northern Region\", NaN, \"NaN\", \"Across Northern California\", 60.0, 100.0, \"NaN\", \"California Northern Region\", -121.5747, 39.9845, \"NaN\", \"369e41d4-75a6-4be0-a38a-5f7450553631\", \"https://www.fire.ca.gov/incidents/2013/6/10/northern-california-lightning-activity/\", \"2013-06-14T16:30:00Z\", \"2013-06-14\", \"2013-06-10\", \"N\", true, false], [\"Roadrunner Fire\", \"Y\", \"2013-06-13T09:45:00Z\", \"2013-06-12T16:43:00Z\", \"CAL FIRE Amador-El Dorado Unit\", NaN, \"Amador\", \"Roadrunner Drive, south of Ione\", 96.0, 100.0, \"NaN\", \"CAL FIRE Amador-El Dorado Unit\", -120.966016, 38.27783, \"NaN\", \"bf59bc5b-1398-4ae5-adef-6f61b9ee1b90\", \"https://www.fire.ca.gov/incidents/2013/6/12/roadrunner-fire/\", \"2013-06-13T09:45:00Z\", \"2013-06-13\", \"2013-06-12\", \"N\", true, false], [\"Revis Fire\", \"Y\", \"2013-06-14T16:30:00Z\", \"2013-06-12T16:40:00Z\", \"CAL FIRE Madera-Mariposa-Merced Unit\", NaN, \"Madera\", \"Off Revis Road & Yosemite Springs Parkway in Yosemite Lake Parks area in Coarsegold\", 75.0, 100.0, \"NaN\", \"CAL FIRE Madera-Mariposa-Merced Unit\", -119.75636, 37.169379, \"NaN\", \"7055a440-5d4c-4f58-bac9-2954ff6698a5\", \"https://www.fire.ca.gov/incidents/2013/6/12/revis-fire/\", \"2013-06-14T16:30:00Z\", \"2013-06-14\", \"2013-06-12\", \"N\", true, false], [\"Clinton Fire\", \"Y\", \"2013-06-13T21:30:00Z\", \"2013-06-13T11:54:00Z\", \"CAL FIRE/Fresno County Fire\", NaN, \"Fresno\", \"Clinton and Highland, East of Fresno\", 108.0, 100.0, \"NaN\", \"CAL FIRE/Fresno County Fire\", -119.628389, 36.772425, \"NaN\", \"a2cfda2a-21c1-4e45-90b5-37d931b4a926\", \"https://www.fire.ca.gov/incidents/2013/6/13/clinton-fire/\", \"2013-06-13T21:30:00Z\", \"2013-06-13\", \"2013-06-13\", \"N\", true, false], [\"Carstens Fire\", \"Y\", \"2013-06-26T11:15:00Z\", \"2013-06-16T14:12:00Z\", \"CAL FIRE Madera-Mariposa-Merced Unit / Sierra National Forest \", NaN, \"Mariposa\", \"Off Carstens Road, east of 140 in the Midpines area.\", 1708.0, 100.0, \"NaN\", \"CAL FIRE Madera-Mariposa-Merced Unit / Sierra National Forest , CAL FIRE, US Forest Service, California Highway Patrol, National Park Service, Mariposa County, Mariposa County Fire, Mariposa County Sheriff.\", -119.91071, 37.58202, \"NaN\", \"bb2eb175-43a3-4a5c-bff6-e3669e52c1d1\", \"https://www.fire.ca.gov/incidents/2013/6/16/carstens-fire/\", \"2013-06-26T11:15:00Z\", \"2013-06-26\", \"2013-06-16\", \"N\", true, false], [\"PFE Fire\", \"Y\", \"2013-06-13T14:15:00Z\", \"2013-06-13T11:28:00Z\", \"CAL FIRE/Placer County Fire\", NaN, \"Placer\", \"PFE Road and Watt Avenue, West Roseville\", 237.0, 100.0, \"NaN\", \"CAL FIRE/Placer County Fire\", -121.380862, 38.729297, \"NaN\", \"fe47b1c2-b9c0-44be-8d10-f270056db35c\", \"https://www.fire.ca.gov/incidents/2013/6/13/pfe-fire/\", \"2013-06-13T14:15:00Z\", \"2013-06-13\", \"2013-06-13\", \"N\", true, false], [\"Michelle Fire\", \"Y\", \"2013-06-13T21:30:00Z\", \"2013-06-13T15:54:00Z\", \"CAL FIRE/Fresno County Fire\", NaN, \"Fresno\", \"off McKinley Ave & Academy Ave, north of Sanger \", 35.0, 100.0, \"NaN\", \"CAL FIRE/Fresno County Fire\", -119.558244, 36.763367, \"NaN\", \"953f17a1-2034-467b-b48c-28da1a9af60e\", \"https://www.fire.ca.gov/incidents/2013/6/13/michelle-fire/\", \"2013-06-13T21:30:00Z\", \"2013-06-13\", \"2013-06-13\", \"N\", true, false], [\"Palmyrita Fire\", \"Y\", \"2013-06-15T08:00:00Z\", \"2013-06-14T13:47:00Z\", \"CAL FIRE/Riverside County Fire\", NaN, \"Riverside\", \"Highgrove Pass Rd and Pigeon Pass Rd, Community of Highgrove\", 40.0, 100.0, \"NaN\", \"CAL FIRE/Riverside County Fire\", -117.302057, 34.001745, \"NaN\", \"2d1f0c40-92e7-4540-991b-d353ed68ec6c\", \"https://www.fire.ca.gov/incidents/2013/6/14/palmyrita-fire/\", \"2013-06-15T08:00:00Z\", \"2013-06-15\", \"2013-06-14\", \"N\", true, false], [\"Rolling Fire\", \"Y\", \"2022-10-24T11:42:08Z\", \"2013-06-16T18:17:00Z\", \"CAL FIRE Madera-Mariposa-Merced Unit\", NaN, \"Madera\", \"off Hwy 41 & Road 145, northwest of Friant \", 480.0, 100.0, \"NaN\", \"CAL FIRE Madera-Mariposa-Merced Unit\", -119.78106, 37.015575, \"NaN\", \"05d0fed7-8502-4a6f-9c5c-b9cee0e75408\", \"https://www.fire.ca.gov/incidents/2013/6/16/rolling-fire/\", \"2013-06-18T19:30:00Z\", \"2013-06-18\", \"2013-06-16\", \"N\", true, false], [\"California Fire\", \"Y\", \"2013-06-18T22:30:00Z\", \"2013-06-18T15:18:00Z\", \"CAL FIRE Sanoma-Lake-Napa Unit\", NaN, \"Solano\", \"Off Lake Herman Rd, west of Hwy 680 in Benicia\", 124.0, 100.0, \"NaN\", \"CAL FIRE Sanoma-Lake-Napa Unit\", -122.13802, 38.08744, \"NaN\", \"2b403f03-fe84-450a-90b7-befb8acc7e70\", \"https://www.fire.ca.gov/incidents/2013/6/18/california-fire/\", \"2013-06-18T22:30:00Z\", \"2013-06-18\", \"2013-06-18\", \"N\", true, false], [\"Sierra Fire\", \"Y\", \"2013-06-19T08:45:00Z\", \"2013-06-17T14:41:00Z\", \"CAL FIRE/Fresno County Fire\", NaN, \"Fresno\", \"Black Mountain Road at Lodge Road near Sierra High School, southeast of Auberry\", 46.0, 100.0, \"NaN\", \"CAL FIRE/Fresno County Fire\", -119.463757, 37.03087, \"NaN\", \"15e7e15d-f707-473e-b0f3-6534cfd845b7\", \"https://www.fire.ca.gov/incidents/2013/6/17/sierra-fire/\", \"2013-06-19T08:45:00Z\", \"2013-06-19\", \"2013-06-17\", \"N\", true, false], [\"George Fire\", \"Y\", \"2013-06-25T17:15:00Z\", \"2013-06-25T13:36:00Z\", \"CAL FIRE/Fresno County Fire\", NaN, \"Fresno\", \"off Bronco Lane in Squaw Valley\", 150.0, 100.0, \"NaN\", \"CAL FIRE/Fresno County Fire\", -119.2248, 36.7218, \"NaN\", \"23ec2f69-da30-4983-80c2-1f04bfea6f9a\", \"https://www.fire.ca.gov/incidents/2013/6/25/george-fire/\", \"2013-06-25T17:15:00Z\", \"2013-06-25\", \"2013-06-25\", \"N\", true, false], [\"Mount Fire\", \"Y\", \"2013-06-20T13:15:00Z\", \"2013-06-20T14:29:00Z\", \"CAL FIRE Sanoma-Lake-Napa Unit\", NaN, \"Lake\", \"Off Konocti Rd & Oak Hills Ln, east of Kelseyville\", 25.0, 100.0, \"NaN\", \"CAL FIRE Sanoma-Lake-Napa Unit\", -122.81796, 38.98058, \"NaN\", \"d489b45e-dcba-4eaa-8bb5-6a23255562da\", \"https://www.fire.ca.gov/incidents/2013/6/20/mount-fire/\", \"2013-06-20T13:15:00Z\", \"2013-06-20\", \"2013-06-20\", \"N\", true, false], [\"Mills Fire\", \"Y\", \"2022-10-24T11:35:12Z\", \"2013-06-28T14:30:00Z\", \"CAL FIRE San Bernardino Unit/ City of Redlands/San Bernardino Sheriff\", NaN, \"San Bernardino\", \"south of Highway 38 & Bryant Street, northwest of Yucaipa \", 534.0, 100.0, \"NaN\", \"CAL FIRE San Bernardino Unit/ City of Redlands/San Bernardino Sheriff\", -117.048397, 34.071556, \"NaN\", \"6011819c-19ac-46c2-aa48-0ee8be0e48c0\", \"https://www.fire.ca.gov/incidents/2013/6/28/mills-fire/\", \"2013-07-01T06:00:00Z\", \"2013-07-01\", \"2013-06-28\", \"N\", true, false], [\"Concord Fire\", \"Y\", \"2013-07-01T18:30:00Z\", \"2013-07-01T15:41:00Z\", \"CAL FIRE Santa Clara Unit\", NaN, \"Contra Costa\", \"off Concord Ave & Vineyard Parkway in Brentwood\", 274.0, 100.0, \"NaN\", \"CAL FIRE Santa Clara Unit\", -121.74367, 39.90465, \"NaN\", \"95399a9c-8b3e-4413-9f56-5ed57d3d81b3\", \"https://www.fire.ca.gov/incidents/2013/7/1/concord-fire/\", \"2013-07-01T18:30:00Z\", \"2013-07-01\", \"2013-07-01\", \"N\", true, false], [\"Freeman Fire\", \"Y\", \"2013-06-29T18:30:00Z\", \"2013-06-29T14:09:00Z\", \"CAL FIRE San Benito-Monterey Unit \", NaN, \"Monterey\", \"off Hwy 198, 10 miles east of King City\", 105.0, 100.0, \"NaN\", \"CAL FIRE San Benito-Monterey Unit \", -120.8973, 36.1531, \"NaN\", \"58317b8d-7f4d-466f-b2c7-035c25fb00f0\", \"https://www.fire.ca.gov/incidents/2013/6/29/freeman-fire/\", \"2013-06-29T18:30:00Z\", \"2013-06-29\", \"2013-06-29\", \"N\", true, false], [\"Kirker Fire\", \"Y\", \"2022-10-24T11:37:51Z\", \"2013-07-01T13:19:00Z\", \"CAL FIRE Santa Clara Unit\", NaN, \"Contra Costa\", \"Kirker Pass Road south of Pittsburg\", 492.0, 100.0, \"NaN\", \"CAL FIRE Santa Clara Unit\", -121.91453, 37.96866, \"NaN\", \"522114fe-ada8-49a9-9bb2-5891103ff0ca\", \"https://www.fire.ca.gov/incidents/2013/7/1/kirker-fire/\", \"2013-07-01T18:40:00Z\", \"2013-07-01\", \"2013-07-01\", \"N\", true, false], [\"Northern Region July Lightning\", \"Y\", \"2013-07-04T10:45:00Z\", \"2013-07-02T12:00:00Z\", \"CAL FIRE Northern Region\", NaN, \"NaN\", \"Throughout northeastern California\", 754.0, 100.0, \"NaN\", \"CAL FIRE Northern Region\", -121.5747, 39.9845, \"NaN\", \"42690ee2-a5ed-4320-9a55-d5ff3d1a80f5\", \"https://www.fire.ca.gov/incidents/2013/7/2/northern-region-july-lightning/\", \"2013-07-04T10:45:00Z\", \"2013-07-04\", \"2013-07-02\", \"N\", true, false], [\"Fox Fire (formally 3-7 Fire)\", \"Y\", \"2013-07-05T18:30:00Z\", \"2013-07-03T22:56:00Z\", \"CAL FIRE Lassen-Modoc Unit\", NaN, \"Modoc\", \"5 miles northwest of Aiden\", 502.0, 100.0, \"NaN\", \"CAL FIRE Lassen-Modoc Unit\", -121.035, 41.2415, \"NaN\", \"8b51033d-abc6-4ea4-8983-990ad4e1c45e\", \"https://www.fire.ca.gov/incidents/2013/7/3/fox-fire-formally-3-7-fire/\", \"2013-07-05T18:30:00Z\", \"2013-07-05\", \"2013-07-03\", \"N\", true, false], [\"Vina Fire\", \"Y\", \"2013-07-04T10:30:00Z\", \"2013-07-04T07:30:00Z\", \"CAL FIRE Tehama-Glenn Unit\", NaN, \"Tehama\", \"Tehama-Vina Rd and Sherman Rd, Los Molinos\", 200.0, 100.0, \"NaN\", \"CAL FIRE Tehama-Glenn Unit\", -122.079871, 40.012398, \"NaN\", \"c94959d7-eb88-4724-8feb-ba0662afca10\", \"https://www.fire.ca.gov/incidents/2013/7/4/vina-fire/\", \"2013-07-04T10:30:00Z\", \"2013-07-04\", \"2013-07-04\", \"N\", true, false], [\"Grant Fire\", \"Y\", \"2013-07-04T11:30:00Z\", \"2013-07-04T10:00:00Z\", \"CAL FIRE Santa Clara Unit\", NaN, \"Alameda\", \"off Grant Ln Rd & I-580 in the Altamont Pass, 5 miles west of Tracy\", 50.0, 100.0, \"NaN\", \"CAL FIRE Santa Clara Unit\", -121.5869, 37.7393, \"NaN\", \"07fb8b11-f39b-4cd0-8a27-2d4fef7fe680\", \"https://www.fire.ca.gov/incidents/2013/7/4/grant-fire/\", \"2013-07-04T11:30:00Z\", \"2013-07-04\", \"2013-07-04\", \"N\", true, false], [\"Fallon Fire\", \"Y\", \"2013-07-06T14:30:00Z\", \"2013-07-06T13:09:00Z\", \"CAL FIRE Santa Clara Unit / Alameda County Fire\", NaN, \"Alameda\", \"off Fallon Rd & Camino Tassajara near Dublin \", 38.0, 100.0, \"NaN\", \"CAL FIRE Santa Clara Unit / Alameda County Fire\", -121.86216, 37.74241, \"NaN\", \"4c04a4e5-f580-4e62-bb53-2575c72d29dc\", \"https://www.fire.ca.gov/incidents/2013/7/6/fallon-fire/\", \"2013-07-06T14:30:00Z\", \"2013-07-06\", \"2013-07-06\", \"N\", true, false], [\"Chariot Fire\", \"Y\", \"2013-07-15T06:15:00Z\", \"2013-07-06T12:55:00Z\", \"CAL FIRE San Diego Unit / Cleveland National Forest\", NaN, \"San Diego\", \"off Sunrise Hwy, 9 miles southeast of Julian\", 7055.0, 100.0, \"NaN\", \"CAL FIRE San Diego Unit / Cleveland National Forest, CAL FIRE, USFS Cleveland NF, CHP, San Diego County Fire Authority, San Diego County Sheriff, California State Parks\", -116.47381, 32.95435, \"NaN\", \"ee19b2ec-a96a-4738-994e-fb3ea016e053\", \"https://www.fire.ca.gov/incidents/2013/7/6/chariot-fire/\", \"2013-07-15T06:15:00Z\", \"2013-07-15\", \"2013-07-06\", \"N\", true, false], [\"Adelaida Fire\", \"Y\", \"2013-07-07T22:00:00Z\", \"2013-07-07T13:16:00Z\", \"CAL FIRE San Luis Obispo\", NaN, \"San Luis Obispo\", \"off Adelaida Rd & Vineyard Dr, west of Paso Robles\", 85.0, 100.0, \"NaN\", \"CAL FIRE San Luis Obispo\", -120.83417, 35.62743, \"NaN\", \"a97d2b3a-3a53-424f-852c-5f1b8d199cc3\", \"https://www.fire.ca.gov/incidents/2013/7/7/adelaida-fire/\", \"2013-07-07T22:00:00Z\", \"2013-07-07\", \"2013-07-07\", \"N\", true, false], [\"McGanney Fire\", \"Y\", \"2013-07-08T17:30:00Z\", \"2013-07-08T09:59:00Z\", \"CAL FIRE Nevada-Placer-Yuba Unit\", NaN, \"Yuba\", \"off Highway 20 and McGanney Lane, west of Smartsville\", 73.0, 100.0, \"NaN\", \"CAL FIRE Nevada-Placer-Yuba Unit\", -121.31634, 39.206, \"NaN\", \"397ed8e6-6088-4e03-9316-8f50c65a83be\", \"https://www.fire.ca.gov/incidents/2013/7/8/mcganney-fire/\", \"2013-07-08T17:30:00Z\", \"2013-07-08\", \"2013-07-08\", \"N\", true, false], [\"Fiddler Fire\", \"Y\", \"2013-07-09T15:00:00Z\", \"2013-07-09T11:59:00Z\", \"CAL FIRE Shasta-Trinity Unit\", NaN, \"Shasta\", \"off Fiddler\", 43.0, 100.0, \"NaN\", \"CAL FIRE Shasta-Trinity Unit\", -122.7338, 40.373, \"NaN\", \"3f64fc8a-8870-4e64-b60a-3e13c8532acd\", \"https://www.fire.ca.gov/incidents/2013/7/9/fiddler-fire/\", \"2013-07-09T15:00:00Z\", \"2013-07-09\", \"2013-07-09\", \"N\", true, false], [\"Kyburz Fire\", \"Y\", \"2013-07-11T18:30:00Z\", \"2013-07-08T12:45:00Z\", \"Eldorado National Forest\", NaN, \"El Dorado\", \"Off Hwy 50 at 30 Mile Tract, Kyburz\", 572.0, 100.0, \"NaN\", \"Eldorado National Forest\", -120.298, 38.774, \"NaN\", \"d778a3f0-2d23-43c1-b9bc-1ea33898fab2\", \"https://www.fire.ca.gov/incidents/2013/7/8/kyburz-fire/\", \"2013-07-11T18:30:00Z\", \"2013-07-11\", \"2013-07-08\", \"N\", false, false], [\"Uvas Fire\", \"Y\", \"2013-07-12T17:45:00Z\", \"2013-07-12T13:09:00Z\", \"CAL FIRE Santa Clara Unit\", NaN, \"Santa Clara\", \"Uvas Road and Casa Loma Road, near Calero County Park,  west of Morgan Hill\", 50.0, 100.0, \"NaN\", \"CAL FIRE Santa Clara Unit\", -121.7804, 37.1438, \"NaN\", \"e779a754-29fd-472f-8d29-46cfee32d3c2\", \"https://www.fire.ca.gov/incidents/2013/7/12/uvas-fire/\", \"2013-07-12T17:45:00Z\", \"2013-07-12\", \"2013-07-12\", \"N\", true, false], [\"Diablo Fire\", \"Y\", \"2013-07-13T21:45:00Z\", \"2013-07-12T15:35:00Z\", \"CAL FIRE Santa Clara Unit\", NaN, \"Stanislaus\", \"off Diablo Grande Parkway, west of I-5, southwest of Patterson\", 150.0, 100.0, \"NaN\", \"CAL FIRE Santa Clara Unit\", -121.1955, 37.436, \"NaN\", \"873074c8-4b6d-417b-a78c-1d1430027805\", \"https://www.fire.ca.gov/incidents/2013/7/12/diablo-fire/\", \"2013-07-13T21:45:00Z\", \"2013-07-13\", \"2013-07-12\", \"N\", true, false], [\"Mountain Fire\", \"Y\", \"2022-10-24T11:38:10Z\", \"2013-07-15T13:43:00Z\", \"CAL FIRE Riverside Unit / San Bernardino National Forest\", NaN, \"Riverside\", \"Hwy 243 & Hwy 74 near Mountain Center\", 27531.0, 100.0, \"NaN\", \"CAL FIRE Riverside Unit / San Bernardino National Forest\", -116.72885, 33.7095, \"NaN\", \"a3149fec-4d48-427c-8b2c-59e8b79d59db\", \"https://www.fire.ca.gov/incidents/2013/7/15/mountain-fire/\", \"2013-07-30T18:00:00Z\", \"2013-07-30\", \"2013-07-15\", \"N\", true, false], [\"Orleans Complex\", \"Y\", \"2013-08-03T15:00:00Z\", \"2013-08-03T08:00:00Z\", \"Six Rivers National Forest\", NaN, \"Humboldt\", \"10 miles east of Somes Bar, California\", 0.0, 100.0, \"NaN\", \"Six Rivers National Forest\", -123.376, 41.333, \"NaN\", \"7d4f107b-66a9-43d2-819d-ec855c2947bf\", \"https://www.fire.ca.gov/incidents/2013/8/3/orleans-complex/\", \"2013-08-03T15:00:00Z\", \"2013-08-03\", \"2013-08-03\", \"N\", false, false], [\"Silverwood Fire\", \"Y\", \"2013-07-26T18:15:00Z\", \"2013-07-25T15:09:00Z\", \"San Bernardino County Fire\", NaN, \"San Bernardino\", \" Hwy 138 west of Hwy 173\", 75.0, 100.0, \"NaN\", \"San Bernardino County Fire\", -117.352, 34.316, \"NaN\", \"ed51bbd2-6f8e-4f46-9073-3673a583fada\", \"https://www.fire.ca.gov/incidents/2013/7/25/silverwood-fire/\", \"2013-07-26T18:15:00Z\", \"2013-07-26\", \"2013-07-25\", \"N\", true, false], [\"Flume Fire\", \"Y\", \"2013-07-28T17:50:00Z\", \"2013-07-28T09:43:00Z\", \"CAL FIRE San Diego Unit\", NaN, \"San Diego\", \"Barrett Lake Road and Highway 94\", 25.0, 100.0, \"NaN\", \"CAL FIRE San Diego Unit\", -116.707335, 32.612773, \"NaN\", \"c6cfeed9-55bb-4fdb-8a52-e4d947dba721\", \"https://www.fire.ca.gov/incidents/2013/7/28/flume-fire/\", \"2013-07-28T17:50:00Z\", \"2013-07-28\", \"2013-07-28\", \"N\", true, false], [\"Aspen Fire\", \"Y\", \"2013-09-24T20:15:00Z\", \"2013-07-22T22:15:00Z\", \"Sierra National Forest\", NaN, \"Fresno\", \"Seven miles north of Big Creek\", 22992.0, 100.0, \"NaN\", \"Sierra National Forest\", -119.318, 37.279, \"NaN\", \"bee8c339-4f26-4b78-a5b4-a8a0ebdb8786\", \"https://www.fire.ca.gov/incidents/2013/7/22/aspen-fire/\", \"2013-09-24T20:15:00Z\", \"2013-09-24\", \"2013-07-22\", \"N\", false, false], [\"Salmon River Complex\", \"Y\", \"2013-08-31T06:45:00Z\", \"2013-07-31T22:00:00Z\", \"Klamath National Forest\", NaN, \"Siskiyou\", \"North Fork of the Salmon River, West of Sawyers Bar, Klamath National Forest\", 14754.0, 100.0, \"NaN\", \"Klamath National Forest\", -123.176, 41.32, \"NaN\", \"ba76c009-09c9-497c-b923-1ac8cf05c20d\", \"https://www.fire.ca.gov/incidents/2013/7/31/salmon-river-complex/\", \"2013-08-31T06:45:00Z\", \"2013-08-31\", \"2013-07-31\", \"N\", false, false], [\"Branch Fire\", \"Y\", \"2013-08-04T14:45:00Z\", \"2013-08-01T16:01:00Z\", \"CAL FIRE Butte Unit\", NaN, \"Butte\", \"Near Rocky Peak - North Fork Lake Oroville near Cherokee\", 92.0, 100.0, \"NaN\", \"CAL FIRE Butte Unit\", -121.50354, 39.6612, \"NaN\", \"0b51d3d5-bb3a-426d-9c12-c1878a01d7cf\", \"https://www.fire.ca.gov/incidents/2013/8/1/branch-fire/\", \"2013-08-04T14:45:00Z\", \"2013-08-04\", \"2013-08-01\", \"N\", true, false], [\"Redlands Fire\", \"Y\", \"2013-07-17T07:45:00Z\", \"2013-07-16T17:48:00Z\", \"CAL FIRE / Riverside County Fire\", NaN, \"Riverside\", \"Redlands Boulevard and San Timoteo Canyon Road, north of Moreno Valley\", 150.0, 100.0, \"NaN\", \"CAL FIRE / Riverside County Fire\", -117.164997, 33.990128, \"NaN\", \"d48a839f-d8da-44d7-9b35-b9f61aa28c61\", \"https://www.fire.ca.gov/incidents/2013/7/16/redlands-fire/\", \"2013-07-17T07:45:00Z\", \"2013-07-17\", \"2013-07-16\", \"N\", true, false], [\"Relay Fire\", \"Y\", \"2013-08-04T18:00:00Z\", \"2013-08-04T16:29:00Z\", \"CAL FIRE/Riverside County  Fire\", NaN, \"Riverside\", \"near Mt. David, south of Beaumont\", 60.0, 100.0, \"NaN\", \"CAL FIRE/Riverside County  Fire\", -116.99895, 33.91027, \"NaN\", \"0658b1f8-5323-4152-b6d1-b208736587db\", \"https://www.fire.ca.gov/incidents/2013/8/4/relay-fire/\", \"2013-08-04T18:00:00Z\", \"2013-08-04\", \"2013-08-04\", \"N\", true, false], [\"Water Fire\", \"Y\", \"2013-07-25T18:30:00Z\", \"2013-07-23T09:15:00Z\", \"Kern County Fire\", NaN, \"Kern\", \"West side of Interstate 5 at Tejon Ranch\", 612.0, 100.0, \"NaN\", \"Kern County Fire\", -118.93388, 34.90327, \"NaN\", \"86faecab-ed3a-4fce-95cf-89433a825c72\", \"https://www.fire.ca.gov/incidents/2013/7/23/water-fire/\", \"2013-07-25T18:30:00Z\", \"2013-07-25\", \"2013-07-23\", \"N\", true, false], [\"Pratt Fire\", \"Y\", \"2013-07-23T16:00:00Z\", \"2013-07-23T13:29:00Z\", \"CAL FIRE Mendocino Unit\", NaN, \"Mendocino\", \"Hwy 175 & Pratt Ranch Road, East of Hopland \", 45.0, 100.0, \"NaN\", \"CAL FIRE Mendocino Unit\", -123.067671, 38.980846, \"NaN\", \"f1d7f375-8aa3-4cb5-a864-bae9bb90cbd1\", \"https://www.fire.ca.gov/incidents/2013/7/23/pratt-fire/\", \"2013-07-23T16:00:00Z\", \"2013-07-23\", \"2013-07-23\", \"N\", true, false], [\"Rancho Fire\", \"Y\", \"2022-10-24T11:42:25Z\", \"2013-07-19T12:00:00Z\", \"CAL FIRE / Kern County Fire / State Parks / US Forest Service\", NaN, \"Kern\", \"West side of Interstate 5 in Lebec (Kern County)\", 500.0, 100.0, \"Oak Knolls Road\", \"CAL FIRE / Kern County Fire / State Parks / US Forest Service, Cal Fire, United States Forest Service, Ventura County Fire, Kern County Sheriff Department, Calif State Parks, Calif Highway Patrol\", -118.9194, 34.882, \"NaN\", \"591a56a5-e9c0-45a0-96bd-34098588c39b\", \"https://www.fire.ca.gov/incidents/2013/7/19/rancho-fire/\", \"2013-07-22T18:45:00Z\", \"2013-07-22\", \"2013-07-19\", \"N\", true, false], [\"Paskenta Fire\", \"Y\", \"2013-07-19T15:00:00Z\", \"2013-07-19T13:32:00Z\", \"CAL FIRE Tehama-Glenn Unit\", NaN, \"Tehama\", \"West of Corning\", 195.0, 100.0, \"NaN\", \"CAL FIRE Tehama-Glenn Unit\", -122.330879, 39.961309, \"NaN\", \"4423899b-6197-4ef5-9f73-bca1763f17e6\", \"https://www.fire.ca.gov/incidents/2013/7/19/paskenta-fire/\", \"2013-07-19T15:00:00Z\", \"2013-07-19\", \"2013-07-19\", \"N\", true, false], [\"Lakeville Fire\", \"Y\", \"2013-07-26T17:45:00Z\", \"2013-07-26T13:45:00Z\", \"CAL FIRE Sonoma-Lake-Napa Unit\", NaN, \"Sonoma\", \"Off Lakeville Hwy, 6 miles SE of Petaluma\", 158.0, 100.0, \"NaN\", \"CAL FIRE Sonoma-Lake-Napa Unit\", -122.51253, 38.17693, \"NaN\", \"c9b5d1ff-c042-4b39-8bac-b10fb6fc6c13\", \"https://www.fire.ca.gov/incidents/2013/7/26/lakeville-fire/\", \"2013-07-26T17:45:00Z\", \"2013-07-26\", \"2013-07-26\", \"N\", true, false], [\"50 Fire\", \"Y\", \"2013-07-19T17:15:00Z\", \"2013-07-19T14:12:00Z\", \"CAL FIRE / Sacramento Metropolitan Fire\", NaN, \"El Dorado, Sacramento\", \"South of Hwy 50 at the El Dorado and Sacramento County line\", 163.0, 100.0, \"NaN\", \"CAL FIRE / Sacramento Metropolitan Fire\", -121.08438, 38.63987, \"NaN\", \"4630e9ce-88ec-4159-9bc9-25ff5f8216cc\", \"https://www.fire.ca.gov/incidents/2013/7/19/50-fire/\", \"2013-07-19T17:15:00Z\", \"2013-07-19\", \"2013-07-19\", \"N\", true, false], [\"Heacock Fire\", \"Y\", \"2013-07-20T19:30:00Z\", \"2013-07-19T16:21:00Z\", \"CAL FIRE / Riverside County Fire\", NaN, \"Riverside\", \"Heacock St & Sandy Glade Ave in Moreno Valley\", 40.0, 100.0, \"NaN\", \"CAL FIRE / Riverside County Fire\", -117.2508, 33.9634, \"NaN\", \"8fb3a438-3146-4b8d-8f20-bfa8d6610f84\", \"https://www.fire.ca.gov/incidents/2013/7/19/heacock-fire/\", \"2013-07-20T19:30:00Z\", \"2013-07-20\", \"2013-07-19\", \"N\", true, false], [\"Gilman Fire\", \"Y\", \"2013-07-19T19:30:00Z\", \"2013-07-19T17:31:00Z\", \"CAL FIRE / Riverside County Fire\", NaN, \"Riverside\", \"Hwy 60 east of Gilman Springs Rd, east of Moreno Valley\", 15.0, 100.0, \"NaN\", \"CAL FIRE / Riverside County Fire\", -117.09306, 33.94528, \"NaN\", \"2b300dd5-4474-4b8a-9b4c-3a3014afe27d\", \"https://www.fire.ca.gov/incidents/2013/7/19/gilman-fire/\", \"2013-07-19T19:30:00Z\", \"2013-07-19\", \"2013-07-19\", \"N\", true, false], [\"Chuckwagon Fire\", \"Y\", \"2013-07-23T15:10:00Z\", \"2013-07-22T12:34:00Z\", \"CAL FIRE Tuolumne-Calaveras Unit\", NaN, \"Calaveras\", \"near the 4500 block of Chuckwagon Drive, Copperopolis\", 31.0, 100.0, \"NaN\", \"CAL FIRE Tuolumne-Calaveras Unit\", -120.696362, 37.965364, \"NaN\", \"68dadbb3-6a63-483a-add9-491a69d9e0ad\", \"https://www.fire.ca.gov/incidents/2013/7/22/chuckwagon-fire/\", \"2013-07-23T15:10:00Z\", \"2013-07-23\", \"2013-07-22\", \"N\", true, false], [\"Power Fire\", \"Y\", \"2013-08-14T08:30:00Z\", \"2013-08-05T06:00:00Z\", \"Stanislaus National Forest\", NaN, \"Tuolumne\", \"Near Beardsley Lake, northeast of Sonora\", 1070.0, 100.0, \"NaN\", \"Stanislaus National Forest\", -120.02778, 38.25108, \"NaN\", \"1e8441c2-f426-40b4-9f4f-3de9f7e232b9\", \"https://www.fire.ca.gov/incidents/2013/8/5/power-fire/\", \"2013-08-14T08:30:00Z\", \"2013-08-14\", \"2013-08-05\", \"N\", false, false], [\"Falls Fire\", \"Y\", \"2013-08-09T18:45:00Z\", \"2013-08-05T10:10:00Z\", \"Cleveland National Forest / CAL FIRE Riverside Unit\", NaN, \"Riverside\", \"Ortega Highway, west of Lake Elsinoire\", 1383.0, 100.0, \"NaN\", \"Cleveland National Forest / CAL FIRE Riverside Unit\", -117.40288, 33.62236, \"NaN\", \"4867ac70-663e-48f4-b9ae-ca0a486234ca\", \"https://www.fire.ca.gov/incidents/2013/8/5/falls-fire/\", \"2013-08-09T18:45:00Z\", \"2013-08-09\", \"2013-08-05\", \"N\", true, false], [\"Tram Fire\", \"Y\", \"2013-08-08T09:00:00Z\", \"2013-08-06T13:39:00Z\", \"San Bernardino National Forest\", NaN, \"Riverside\", \"Off of Hwy 111 & Tramway Rd in Palm Springs\", 60.0, 100.0, \"NaN\", \"San Bernardino National Forest\", -116.61, 38.838, \"NaN\", \"ac568737-dae6-4050-b1f4-62ab1f9ec930\", \"https://www.fire.ca.gov/incidents/2013/8/6/tram-fire/\", \"2013-08-08T09:00:00Z\", \"2013-08-08\", \"2013-08-06\", \"N\", false, false], [\"Indian Fire\", \"Y\", \"2013-08-07T18:30:00Z\", \"2013-08-07T12:35:00Z\", \"CAL FIRE Sanoma-Lake-Napa Unit\", NaN, \"Lake\", \"Off Bartlett Springs Road near Indian Valley Reservoir, 10 miles northeast of Clearlake Oaks\", 38.0, 100.0, \"NaN\", \"CAL FIRE Sanoma-Lake-Napa Unit\", -122.5906, 39.1591, \"NaN\", \"b5b63934-923d-4504-a9b1-75c885477a8d\", \"https://www.fire.ca.gov/incidents/2013/8/7/indian-fire/\", \"2013-08-07T18:30:00Z\", \"2013-08-07\", \"2013-08-07\", \"N\", true, false], [\"Silver Fire\", \"Y\", \"2022-10-24T11:38:40Z\", \"2013-08-07T14:05:00Z\", \"CAL FIRE Riverside Unit / San Bernardino National Forest\", NaN, \"Riverside\", \"Poppet Flats Rd near Hwy 243, south of Banning\", 20292.0, 100.0, \"Hwy 243 remains closed between Twin Pines Road and Westley Street in Banning due to road damage.\", \"CAL FIRE Riverside Unit / San Bernardino National Forest, Federal, State and Local Agencies from throughout the Western United States are assisting.\", -116.90427, 33.86157, \"NaN\", \"c400203b-a7fd-4bd8-803a-f3c74bc32a2b\", \"https://www.fire.ca.gov/incidents/2013/8/7/silver-fire/\", \"2013-08-12T18:00:00Z\", \"2013-08-12\", \"2013-08-07\", \"N\", true, false], [\"Corral Complex\", \"Y\", \"2013-08-12T12:00:00Z\", \"2013-08-10T11:40:00Z\", \"Six Rivers National Forest\", NaN, \"Humboldt\", \"Tish Tang Ridge east of Hoopa Valley Reservation\", 12503.0, 100.0, \"NaN\", \"Six Rivers National Forest\", -123.488, 41.035, \"NaN\", \"f3dcbca8-f8ed-46d0-8f6e-9c7fc2fb03e6\", \"https://www.fire.ca.gov/incidents/2013/8/10/corral-complex/\", \"2013-08-12T12:00:00Z\", \"2013-08-12\", \"2013-08-10\", \"N\", false, false], [\"Cottonwood Fire\", \"Y\", \"2013-08-15T17:00:00Z\", \"2013-08-15T14:40:00Z\", \"CAL FIRE Siskiyou Unit\", NaN, \"Siskiyou\", \"Cottonwood Creek Rd., 2 miles north of Hornbrook\", 50.0, 100.0, \"NaN\", \"CAL FIRE Siskiyou Unit\", -122.578393, 41.923323, \"NaN\", \"e16c204e-58d6-4f78-bc97-729b16ef9f83\", \"https://www.fire.ca.gov/incidents/2013/8/15/cottonwood-fire/\", \"2013-08-15T17:00:00Z\", \"2013-08-15\", \"2013-08-15\", \"N\", true, false], [\"Union Fire\", \"Y\", \"2013-08-16T17:55:00Z\", \"2013-08-16T13:55:00Z\", \"CAL FIRE Amador-El Dorado Unit\", NaN, \"El Dorado\", \"off Koki Ln and Pleasant Valley Rd, northwest of Diamond Springs\", 116.0, 100.0, \"NaN\", \"CAL FIRE Amador-El Dorado Unit\", -120.839075, 38.682378, \"NaN\", \"db009f8f-8b9d-44bb-a3f6-83f319c84d72\", \"https://www.fire.ca.gov/incidents/2013/8/16/union-fire/\", \"2013-08-16T17:55:00Z\", \"2013-08-16\", \"2013-08-16\", \"N\", true, false], [\"Sharp Fire\", \"Y\", \"2013-08-13T23:45:00Z\", \"2013-08-08T12:15:00Z\", \"Angeles National Forest\", NaN, \"San Bernardino\", \"Sheep canyon just south of Wrightwood\", 243.0, 100.0, \"NaN\", \"Angeles National Forest\", -117.62, 34.35, \"NaN\", \"62eabea3-40be-497d-94e4-150f011b925f\", \"https://www.fire.ca.gov/incidents/2013/8/8/sharp-fire/\", \"2013-08-13T23:45:00Z\", \"2013-08-13\", \"2013-08-08\", \"N\", false, false], [\"Cloverdale Fire\", \"Y\", \"2013-08-14T20:35:00Z\", \"2013-08-14T15:37:00Z\", \"CAL FIRE Shasta-Trinity Unit\", NaN, \"Shasta\", \"Cloverdale Rd. and Dale Rd., Happy Valley, 9 miles SW of Redding\", 27.0, 100.0, \"NaN\", \"CAL FIRE Shasta-Trinity Unit\", -122.48259, 40.473356, \"NaN\", \"0537a175-8fe9-4f5f-b56f-77848fa195f4\", \"https://www.fire.ca.gov/incidents/2013/8/14/cloverdale-fire/\", \"2013-08-14T20:35:00Z\", \"2013-08-14\", \"2013-08-14\", \"N\", true, false], [\"Swedes Fire\", \"Y\", \"2022-10-24T11:43:04Z\", \"2013-08-16T16:37:00Z\", \"CAL FIRE Butte Unit\", NaN, \"Butte\", \"southeast of Oroville\", 2264.0, 100.0, \"NaN\", \"CAL FIRE Butte Unit, United States Forest Service, Oroville Fire Department, El Medio Fire Department, Chico Fire Department, Butte County Sheriff, California Highway Patrol, California Office of Emergency Services, California Department of Corrections and Rehabilitation, Bureau of Land Management, South Feather Water and Power, Red Cross, North Valley Animal Rescue Group.\", -121.38236, 39.446268, \"NaN\", \"0758e1c0-95ea-47e7-b5c1-5f3ea96bc664\", \"https://www.fire.ca.gov/incidents/2013/8/16/swedes-fire/\", \"2013-08-22T18:00:00Z\", \"2013-08-22\", \"2013-08-16\", \"N\", true, false], [\"American Fire\", \"Y\", \"2013-08-30T08:00:00Z\", \"2013-08-10T16:30:00Z\", \"Tahoe National Forest\", NaN, \"Placer\", \"Deadwood Ridge, northeast of Foresthill\", 27440.0, 100.0, \"NaN\", \"Tahoe National Forest\", -120.65, 39.12, \"NaN\", \"8213f5c7-34fa-403b-a4bc-da2ace6e6625\", \"https://www.fire.ca.gov/incidents/2013/8/10/american-fire/\", \"2013-08-30T08:00:00Z\", \"2013-08-30\", \"2013-08-10\", \"N\", false, false], [\"Coyote Fire\", \"Y\", \"2013-08-12T09:30:00Z\", \"2013-08-09T15:51:00Z\", \"CAL FIRE Lassen-Modoc Unit\", NaN, \"Lassen\", \"Southeast of Coyote Reservoir, 20 miles southeast of Bieber\", 97.0, 100.0, \"NaN\", \"CAL FIRE Lassen-Modoc Unit\", -120.958126, 40.88886, \"NaN\", \"2b84c8a2-e2e8-45a2-9221-e8075608c218\", \"https://www.fire.ca.gov/incidents/2013/8/9/coyote-fire/\", \"2013-08-12T09:30:00Z\", \"2013-08-12\", \"2013-08-09\", \"N\", true, false], [\"Pierce Fire\", \"Y\", \"2013-08-16T21:00:00Z\", \"2013-08-16T13:31:00Z\", \"CAL FIRE/Riverside County Fire\", NaN, \"Riverside\", \"Ave 66 and Pierce Street  \", 40.0, 100.0, \"NaN\", \"CAL FIRE/Riverside County Fire\", -116.10815, 33.570291, \"NaN\", \"f23f8148-6ec4-4885-9729-0dad7c744485\", \"https://www.fire.ca.gov/incidents/2013/8/16/pierce-fire/\", \"2013-08-16T21:00:00Z\", \"2013-08-16\", \"2013-08-16\", \"N\", true, false], [\"Double Fire\", \"Y\", \"2013-08-18T18:30:00Z\", \"2013-08-16T17:57:00Z\", \"CAL FIRE Sonoma-Lake-Napa Unit\", NaN, \"Lake\", \"Hwy 20 and Mule Skinner Rd., Clear Lake Oaks\", 70.0, 100.0, \"NaN\", \"CAL FIRE Sonoma-Lake-Napa Unit\", -122.491894, 39.013682, \"NaN\", \"ae025ba5-8b5d-48de-ad5e-3037de3d18e9\", \"https://www.fire.ca.gov/incidents/2013/8/16/double-fire/\", \"2013-08-18T18:30:00Z\", \"2013-08-18\", \"2013-08-16\", \"N\", true, false], [\"Bridges Fire\", \"Y\", \"2013-08-19T07:10:00Z\", \"2013-08-17T10:11:00Z\", \"CAL FIRE Tuolumne-Calaveras Unit\", NaN, \"Calaveras\", \"Parrott's Ferry Road north of the bridge, near Vallecito & New Melones Lake \", 46.0, 100.0, \"NaN\", \"CAL FIRE Tuolumne-Calaveras Unit, Altaville/Melones Fire; Angels City Fire; Murphys Fire; West Point Fire; Central Fire; San Joaquin County; Stanislaus County; Stanislaus National Forest; Los Angeles County Fire.\", -120.45233, 38.06231, \"NaN\", \"10445e2c-979d-49a2-82c2-c3789bd2449a\", \"https://www.fire.ca.gov/incidents/2013/8/17/bridges-fire/\", \"2013-08-19T07:10:00Z\", \"2013-08-19\", \"2013-08-17\", \"N\", true, false], [\"Cleghorn Fire\", \"Y\", \"2013-08-18T20:55:00Z\", \"2013-08-17T17:25:00Z\", \"San Bernardino National Forest\", NaN, \"San Bernardino\", \"I-15 Cajon Pass south of Cleghorn Road\", 110.0, 100.0, \"NaN\", \"San Bernardino National Forest\", -117.451, 34.287, \"NaN\", \"c7f05927-66a4-403c-9048-aeb42eca0211\", \"https://www.fire.ca.gov/incidents/2013/8/17/cleghorn-fire/\", \"2013-08-18T20:55:00Z\", \"2013-08-18\", \"2013-08-17\", \"N\", false, false], [\"Clover Fire\", \"Y\", \"2013-09-15T07:30:00Z\", \"2013-09-09T12:32:00Z\", \"CAL FIRE Shasta-Trinity Unit\", NaN, \"Shasta\", \"Community of Igo, 10 miles southwest of Redding\", 8073.0, 100.0, \"NaN\", \"CAL FIRE Shasta-Trinity Unit, USFS, City of Redding, Anderson Fire Protection District, Burney Fire Protection District, Cottonwood Fire Protection District, Happy Valley Fire Protection District, Shasta County Sheriffs Dept., CHP, Redding Police Dept., Cal OES, PG&E\", -122.535496, 40.498332, \"NaN\", \"92af9783-eda9-4186-afe9-447f61a92636\", \"https://www.fire.ca.gov/incidents/2013/9/9/clover-fire/\", \"2013-09-15T07:30:00Z\", \"2013-09-15\", \"2013-09-09\", \"N\", true, false], [\"Plumas Lightning Complex (Hough)\", \"Y\", \"2013-08-25T13:15:00Z\", \"2013-08-18T18:30:00Z\", \"Plumas National Forest\", NaN, \"Plumas\", \"Keddie Ridge/North Arm areas of Indian Valley near Taylorsville\", 513.0, 100.0, \"NaN\", \"Plumas National Forest\", -120.764666, 40.00842, \"NaN\", \"5015b3c2-2bae-4cce-9bf8-f1b25b0ce1e6\", \"https://www.fire.ca.gov/incidents/2013/8/18/plumas-lightning-complex-hough/\", \"2013-08-25T13:15:00Z\", \"2013-08-25\", \"2013-08-18\", \"N\", false, false], [\"Shirley Fire\", \"Y\", \"2013-08-24T13:45:00Z\", \"2013-08-18T23:12:00Z\", \"Sequoia National Forest\", NaN, \"Kern\", \"Lower Kern River Canyon area off Highway 178\", 794.0, 100.0, \"NaN\", \"Sequoia National Forest\", -118.588, 35.707, \"NaN\", \"5421868e-52ba-4737-8169-325e0aa040e4\", \"https://www.fire.ca.gov/incidents/2013/8/18/shirley-fire/\", \"2013-08-24T13:45:00Z\", \"2013-08-24\", \"2013-08-18\", \"N\", false, false], [\"Burney Lightning Series (Warner Fire)\", \"Y\", \"2013-08-23T19:15:00Z\", \"2013-08-19T17:48:00Z\", \"CAL FIRE Shasta Unit \", NaN, \"Shasta\", \"Fall River Mills and McAruther area\", 196.0, 100.0, \"NaN\", \"CAL FIRE Shasta Unit \", -121.3754, 40.5445, \"NaN\", \"f21a41c6-0905-4531-9bdf-2456d0051eed\", \"https://www.fire.ca.gov/incidents/2013/8/19/burney-lightning-series-warner-fire/\", \"2013-08-23T19:15:00Z\", \"2013-08-23\", \"2013-08-19\", \"N\", true, false], [\"Sierra Fire\", \"Y\", \"2013-09-30T08:30:00Z\", \"2013-09-24T15:51:00Z\", \"San Bernardino National Forest/CAL FIRE San Bernardino Unit\", NaN, \"San Bernardino\", \"in the Cajon Pass west of I-15 near Glen Helen Road\", 200.0, 100.0, \"NaN\", \"San Bernardino National Forest/CAL FIRE San Bernardino Unit\", -117.417, 34.2, \"NaN\", \"f7358513-329f-4dba-8980-4cd3a19b469a\", \"https://www.fire.ca.gov/incidents/2013/9/24/sierra-fire/\", \"2013-09-30T08:30:00Z\", \"2013-09-30\", \"2013-09-24\", \"N\", false, false], [\"Deer Fire\", \"Y\", \"2013-08-29T16:45:00Z\", \"2013-08-23T14:15:00Z\", \"CAL FIRE Tehama-Glenn Unit\", NaN, \"Tehama\", \"Near Deer Creek, 12 miles east of Los Molinos. \", 11429.0, 100.0, \"NaN\", \"CAL FIRE Tehama-Glenn Unit, CDCR, USFS, California Fish & Wildlife, California National Guard, Tehama County Sheriff's Office, PG&E\", -121.85397, 40.04263, \"NaN\", \"956dbcf6-db40-4b61-b235-4ede14738f1e\", \"https://www.fire.ca.gov/incidents/2013/8/23/deer-fire/\", \"2013-08-29T16:45:00Z\", \"2013-08-29\", \"2013-08-23\", \"N\", true, false], [\"Gobblers Fire\", \"Y\", \"2013-08-20T13:32:00Z\", \"2013-08-20T13:32:00Z\", \"San Bernardino National Forest\", NaN, \"San Bernardino\", \"upper end of Lytle Creek\", 413.0, 100.0, \"NaN\", \"San Bernardino National Forest\", -117.598, 34.302, \"NaN\", \"b202bd85-c5ef-4bdf-8270-d556f95c3742\", \"https://www.fire.ca.gov/incidents/2013/8/20/gobblers-fire/\", \"2013-08-20T13:32:00Z\", \"2013-08-20\", \"2013-08-20\", \"N\", false, false], [\"Fish Fire\", \"Y\", \"2013-09-24T20:15:00Z\", \"2013-08-24T14:31:00Z\", \"Sequoia National Forest\", NaN, \"Tulare\", \"Golden Trout Wilderness on the Sequoia National Forest.\", 2060.0, 100.0, \"NaN\", \"Sequoia National Forest\", -118.444, 36.208, \"NaN\", \"a4de6058-c68c-4924-bfb5-dc8ecc3b54c0\", \"https://www.fire.ca.gov/incidents/2013/8/24/fish-fire/\", \"2013-09-24T20:15:00Z\", \"2013-09-24\", \"2013-08-24\", \"N\", false, false], [\"Empire Fire\", \"Y\", \"2013-08-24T11:45:00Z\", \"2013-08-24T14:54:00Z\", \"CAL FIRE Amador-El Dorado Unit\", NaN, \"El Dorado\", \"off Hwy 193 & Empire Creek Cir near Georgetown\", 38.0, 100.0, \"NaN\", \"CAL FIRE Amador-El Dorado Unit\", -120.84716, 38.89555, \"NaN\", \"fea7802f-ba70-450a-9ad1-96e2751293a9\", \"https://www.fire.ca.gov/incidents/2013/8/24/empire-fire/\", \"2013-08-24T11:45:00Z\", \"2013-08-24\", \"2013-08-24\", \"N\", true, false], [\"Little Fire\", \"Y\", \"2013-08-30T08:00:00Z\", \"2013-08-24T15:09:00Z\", \"San Bernardino National Forest\", NaN, \"San Bernardino\", \"near Thomas Mountain south of Lake Hemet on the San Jacinto Ranger District.\", 97.0, 100.0, \"NaN\", \"San Bernardino National Forest\", -116.706, 33.642, \"NaN\", \"b5109726-5e91-4c10-96f8-2a5bb72e5a59\", \"https://www.fire.ca.gov/incidents/2013/8/24/little-fire/\", \"2013-08-30T08:00:00Z\", \"2013-08-30\", \"2013-08-24\", \"N\", false, false], [\"Chestnut Fire\", \"Y\", \"2013-09-07T20:00:00Z\", \"2013-09-07T13:55:00Z\", \"CAL FIRE San Mateo-Santa Cruz Unit\", NaN, \"San Mateo\", \"Chestnut Ave and Hillside Blvd, San Bruno Mountain, South San Francisco\", 41.0, 100.0, \"NaN\", \"CAL FIRE San Mateo-Santa Cruz Unit\", -122.427285, 37.667295, \"NaN\", \"b30ee931-f349-4d21-a38a-d346c516b104\", \"https://www.fire.ca.gov/incidents/2013/9/7/chestnut-fire/\", \"2013-09-07T20:00:00Z\", \"2013-09-07\", \"2013-09-07\", \"N\", true, false], [\"Morgan Fire\", \"Y\", \"2013-09-14T17:30:00Z\", \"2013-09-08T13:08:00Z\", \"CAL FIRE Santa-Clara Unit\", NaN, \"Contra Costa\", \"off Morgan Territory Road, Southeast of Clayton\", 3111.0, 100.0, \"NaN\", \"CAL FIRE Santa-Clara Unit, CAL FIRE, East Contra Costa Fire Protection District, Contra Costa Fire Protection District, San Ramon Valley Fire, East Bay Regional Parks, CALOES, CDCR, California State Parks, California Highway Patorl, CalTrans, Contra Costa County Sheriff's Department, Contra Costa Public Works, Clayton PD, PG&E, America Red Cross and the Salvation Army.\", -121.882582, 37.90757, \"NaN\", \"e33b2d80-7fec-4470-9e79-440d349b0d95\", \"https://www.fire.ca.gov/incidents/2013/9/8/morgan-fire/\", \"2013-09-14T17:30:00Z\", \"2013-09-14\", \"2013-09-08\", \"N\", true, false], [\"Angora Fire\", \"Y\", \"2013-09-24T20:15:00Z\", \"2013-09-08T11:53:00Z\", \"Sequoia National Forest\", NaN, \"Tulare\", \"Golden Trout Wilderness\", 134.0, 100.0, \"NaN\", \"Sequoia National Forest\", -118.459, 36.258, \"NaN\", \"d332a628-6290-4e91-b8d0-4dc663b80c38\", \"https://www.fire.ca.gov/incidents/2013/9/8/angora-fire/\", \"2013-09-24T20:15:00Z\", \"2013-09-24\", \"2013-09-08\", \"N\", false, false], [\"Liveoak Fire\", \"Y\", \"2013-09-12T08:45:00Z\", \"2013-09-11T16:57:00Z\", \"CAL FIRE San Bernardino Unit\", NaN, \"San Bernardino\", \"Live Oak Canyon Rd, South of I-10 near cities of Redlands and Yucaipa. \", 73.0, 100.0, \"NaN\", \"CAL FIRE San Bernardino Unit\", -117.106075, 34.003151, \"NaN\", \"31f21c59-8a94-4b17-91aa-88ca14817162\", \"https://www.fire.ca.gov/incidents/2013/9/11/liveoak-fire/\", \"2013-09-12T08:45:00Z\", \"2013-09-12\", \"2013-09-11\", \"N\", true, false], [\"Madre Fire\", \"Y\", \"2013-09-28T08:00:00Z\", \"2013-09-23T18:00:00Z\", \"Angeles National Forest/Los Angeles County Fire\", NaN, \"Los Angeles\", \"San Gabriel Canyon 1/4 mile west of the entrance station\", 268.0, 100.0, \"NaN\", \"Angeles National Forest/Los Angeles County Fire\", -117.908, 34.149, \"NaN\", \"eb5a3f2a-0c25-417a-af78-bb0d643247c7\", \"https://www.fire.ca.gov/incidents/2013/9/23/madre-fire/\", \"2013-09-28T08:00:00Z\", \"2013-09-28\", \"2013-09-23\", \"N\", false, false], [\"Davis Creek Complex\", \"Y\", \"2013-09-24T20:15:00Z\", \"2013-09-05T15:57:00Z\", \"Modoc National Forest \", NaN, \"Modoc\", \"Both sides of Davis Creek near Hwy 395, south of Goose Lake \", 97.0, 100.0, \"NaN\", \"Modoc National Forest \", -120.375, 41.73325, \"NaN\", \"308ce8d5-67c8-4edb-9e2f-bf6295f98d7e\", \"https://www.fire.ca.gov/incidents/2013/9/5/davis-creek-complex/\", \"2013-09-24T20:15:00Z\", \"2013-09-24\", \"2013-09-05\", \"N\", false, false], [\"Tyler Fire\", \"Y\", \"2013-08-31T21:30:00Z\", \"2013-08-31T14:42:00Z\", \"CAL FIRE Nevada-Yuba-Placer Unit\", NaN, \"Nevada\", \"North San Juan Area, Highway 49 and Tyler Foote Road\", 52.0, 100.0, \"NaN\", \"CAL FIRE Nevada-Yuba-Placer Unit\", -121.107022, 39.333401, \"NaN\", \"1476673c-df55-4c39-b117-d9d067f8a020\", \"https://www.fire.ca.gov/incidents/2013/8/31/tyler-fire/\", \"2013-08-31T21:30:00Z\", \"2013-08-31\", \"2013-08-31\", \"N\", true, false], [\"Centerville Fire\", \"Y\", \"2013-09-01T18:00:00Z\", \"2013-08-31T17:23:00Z\", \"CAL FIRE Butte Unit\", NaN, \"Butte\", \"Off Centerville Rd in the Butte Creek Canyon in the community of Centerville, west of Magalia \", 80.0, 100.0, \"NaN\", \"CAL FIRE Butte Unit, CDCR, PG&E, El Medio Fire\", -121.713938, 39.731878, \"NaN\", \"dd374f36-e7cb-4a48-91ee-e8be101e0f88\", \"https://www.fire.ca.gov/incidents/2013/8/31/centerville-fire/\", \"2013-09-01T18:00:00Z\", \"2013-09-01\", \"2013-08-31\", \"N\", true, false], [\"Rail Fire\", \"Y\", \"2013-09-05T21:00:00Z\", \"2013-09-07T17:30:00Z\", \"Modoc National Forest\", NaN, \"Modoc\", \"Rail Mountain, 7 miles NW of Canby\", 68.0, 100.0, \"NaN\", \"Modoc National Forest\", -120.959, 41.569, \"NaN\", \"0875cf4e-9948-45ed-a76d-d74564319b49\", \"https://www.fire.ca.gov/incidents/2013/9/7/rail-fire/\", \"2013-09-05T21:00:00Z\", \"2013-09-05\", \"2013-09-07\", \"N\", false, false], [\"Rim Fire\", \"Y\", \"2013-09-06T18:30:00Z\", \"2013-08-17T15:25:00Z\", \"Stanislaus National Forest/Yosemite National Park\", NaN, \"Tuolumne\", \"3 miles east of Groveland along Hwy 120\", 257314.0, 100.0, \"NaN\", \"Stanislaus National Forest/Yosemite National Park\", -120.086, 37.857, \"NaN\", \"5fb18d4d-213f-4d83-a179-daaf11939e78\", \"https://www.fire.ca.gov/incidents/2013/8/17/rim-fire/\", \"2013-09-06T18:30:00Z\", \"2013-09-06\", \"2013-08-17\", \"N\", true, false], [\"Lyon Fire\", \"Y\", \"2013-09-12T18:15:00Z\", \"2013-09-09T13:09:00Z\", \"CAL FIRE San Diego Unit / Cleveland National Forest\", NaN, \"San Diego\", \"Four Corners, Lyons Valley Road, east of Lyons Peak\", 263.0, 100.0, \"NaN\", \"CAL FIRE San Diego Unit / Cleveland National Forest, CAL FIRE, USFS, CHP, San Diego Co. Sheriff, County Animal Control, SDG&E, Red Cross, SDCO Fire Authority\", -116.746023, 32.710918, \"NaN\", \"f6f6fefa-ac4e-466f-815e-492416e37b98\", \"https://www.fire.ca.gov/incidents/2013/9/9/lyon-fire/\", \"2013-09-12T18:15:00Z\", \"2013-09-12\", \"2013-09-09\", \"N\", true, false], [\"Lakeshore Fire\", \"Y\", \"2013-09-15T17:14:00Z\", \"2013-09-15T19:45:00Z\", \"CAL FIRE Sonoma-Lake-Napa Unit\", NaN, \"Lake\", \"near the community of Clearlake\", 30.0, 100.0, \"NaN\", \"CAL FIRE Sonoma-Lake-Napa Unit\", -122.683, 38.9777, \"NaN\", \"51e00abb-53d0-4014-9224-2a853b1d6bcf\", \"https://www.fire.ca.gov/incidents/2013/9/15/lakeshore-fire/\", \"2013-09-15T17:14:00Z\", \"2013-09-15\", \"2013-09-15\", \"N\", true, false], [\"Creek Fire\", \"Y\", \"2013-09-24T17:30:00Z\", \"2013-09-24T03:20:00Z\", \"CAL FIRE San Luis Obispo Unit\", NaN, \"San Luis Obispo\", \"off Toro Creek Rd, east of Cayucos\", 94.0, 100.0, \"NaN\", \"CAL FIRE San Luis Obispo Unit\", -120.8358, 35.4393, \"NaN\", \"ac469123-da14-4821-b824-c6cf66138514\", \"https://www.fire.ca.gov/incidents/2013/9/24/creek-fire/\", \"2013-09-24T17:30:00Z\", \"2013-09-24\", \"2013-09-24\", \"N\", true, false], [\"Highland Fire\", \"Y\", \"2013-09-29T18:15:00Z\", \"2013-09-28T13:57:00Z\", \"CAL FIRE Mendocino Unit\", NaN, \"Mendocino\", \"off Highland Springs Rd, southeast of Kelseyville\", 98.0, 100.0, \"NaN\", \"CAL FIRE Mendocino Unit\", -122.966, 38.9252, \"NaN\", \"b20a2031-12c9-4e9c-9f44-ac82c26e6c66\", \"https://www.fire.ca.gov/incidents/2013/9/28/highland-fire/\", \"2013-09-29T18:15:00Z\", \"2013-09-29\", \"2013-09-28\", \"N\", true, false], [\"Putah Fire\", \"Y\", \"2013-10-04T16:55:00Z\", \"2013-10-03T20:33:00Z\", \"CAL FIRE Sonoma-Lake-Napa Unit\", NaN, \"Napa\", \"off Berryessa Knoxville Rd near Lake Berryessa\", 376.0, 100.0, \"NaN\", \"CAL FIRE Sonoma-Lake-Napa Unit, CAL FIRE, Bureau of Reclamation\", -122.289, 38.628, \"NaN\", \"1f94fce5-49a5-4220-bc99-f003ab4d3e60\", \"https://www.fire.ca.gov/incidents/2013/10/3/putah-fire/\", \"2013-10-04T16:55:00Z\", \"2013-10-04\", \"2013-10-03\", \"N\", true, false], [\"Crane Fire\", \"Y\", \"2013-10-05T07:45:00Z\", \"2013-10-04T12:25:00Z\", \"CAL FIRE Sonoma-Lake-Napa Unit\", NaN, \"Sonoma\", \"near Crane Creek Regional Park off Pressley Rd, east of Rohnert Park \", 159.0, 100.0, \"NaN\", \"CAL FIRE Sonoma-Lake-Napa Unit\", -122.6503, 38.34599, \"NaN\", \"1460f2d9-853b-4901-bed3-ac196e00bb3a\", \"https://www.fire.ca.gov/incidents/2013/10/4/crane-fire/\", \"2013-10-05T07:45:00Z\", \"2013-10-05\", \"2013-10-04\", \"N\", true, false], [\"DeLuz Fire\", \"Y\", \"2013-10-09T19:00:00Z\", \"2013-10-05T12:45:00Z\", \"Camp Pendleton Marine Corps Base\", NaN, \"San Diego\", \"On Camp Pendleton, west of Fallbrook\", 2236.0, 100.0, \"NaN\", \"Camp Pendleton Marine Corps Base\", -117.3092, 33.341, \"NaN\", \"9fb847ce-44c7-4a11-a733-a6cc82838671\", \"https://www.fire.ca.gov/incidents/2013/10/5/deluz-fire/\", \"2013-10-09T19:00:00Z\", \"2013-10-09\", \"2013-10-05\", \"N\", false, false], [\"Summit Fire\", \"Y\", \"2013-10-05T22:00:00Z\", \"2013-10-04T17:37:00Z\", \"CAL FIRE Butte Unit\", NaN, \"Butte\", \"off District Center Dr & Fortune Way in Palermo\", 305.0, 100.0, \"NaN\", \"CAL FIRE Butte Unit\", -121.497, 39.439, \"NaN\", \"d922e7c8-814a-412b-a40b-53072d0983ea\", \"https://www.fire.ca.gov/incidents/2013/10/4/summit-fire/\", \"2013-10-05T22:00:00Z\", \"2013-10-05\", \"2013-10-04\", \"N\", true, false], [\"Baker Fire\", \"Y\", \"2013-10-09T08:00:00Z\", \"2013-10-06T10:52:00Z\", \"Orange County Fire Authority\", NaN, \"Orange\", \"Off Baker Canyon Rd, Silverado Canyon area, east of Irvine\", 40.0, 100.0, \"NaN\", \"Orange County Fire Authority\", -117.6649, 33.7655, \"NaN\", \"9a110003-2f4c-4ac7-a3e5-b4e713f8d1fe\", \"https://www.fire.ca.gov/incidents/2013/10/6/baker-fire/\", \"2013-10-09T08:00:00Z\", \"2013-10-09\", \"2013-10-06\", \"N\", true, false], [\"Capay Fire\", \"Y\", \"2013-11-04T15:35:00Z\", \"2013-11-04T11:41:00Z\", \"CAL FIRE Sonoma-Lake-Napa Unit\", NaN, \"Yolo\", \"Off County Road 23 & County Road 81, Southwest of Esparto\", 163.0, 100.0, \"NaN\", \"CAL FIRE Sonoma-Lake-Napa Unit\", -122.08725, 38.67479, \"NaN\", \"0aa08938-eaab-4a60-8891-946197328f94\", \"https://www.fire.ca.gov/incidents/2013/11/4/capay-fire/\", \"2013-11-04T15:35:00Z\", \"2013-11-04\", \"2013-11-04\", \"N\", true, false], [\"Dersch Fire\", \"Y\", \"2013-11-07T19:45:00Z\", \"2013-11-07T16:10:00Z\", \"CAL FIRE Shasta-Trinity Unit\", NaN, \"Shasta\", \"Off Dersch Rd and Hyrax, Millville\", 33.0, 100.0, \"NaN\", \"CAL FIRE Shasta-Trinity Unit\", -122.140914, 40.483662, \"NaN\", \"29a2efda-c28f-4a41-9c6d-8cb8f763d464\", \"https://www.fire.ca.gov/incidents/2013/11/7/dersch-fire/\", \"2013-11-07T19:45:00Z\", \"2013-11-07\", \"2013-11-07\", \"N\", true, false], [\"Toro Fire\", \"Y\", \"2013-11-09T17:00:00Z\", \"2013-11-08T10:30:00Z\", \"CAL FIRE San Luis Obispo Unit\", NaN, \"San Luis Obispo\", \"Toro Creek Rd. and Hwy 41 West, Morro Bay\", 51.0, 100.0, \"Toro Creek Road remains closed to non-emergency traffic at Summit Road North of Highway 41. \", \"CAL FIRE San Luis Obispo Unit, United States Forest Service, Atascadero City Fire, Paso Robles Fire, San Luis Obispo City Fire, Templeton Fire, Morro Bay City Fire and Cayucos Fire Departments. As well as San Luis Obispo County Sheriff\\u2019s Department, and the California Highway Patrol.\", -120.751555, 35.457978, \"NaN\", \"587c03e3-4831-47c1-8c03-c08176e91b11\", \"https://www.fire.ca.gov/incidents/2013/11/8/toro-fire/\", \"2013-11-09T17:00:00Z\", \"2013-11-09\", \"2013-11-08\", \"N\", true, false], [\"Cantwell Fire\", \"Y\", \"2013-11-10T18:30:00Z\", \"2013-11-08T13:42:00Z\", \"CAL FIRE Sonoma-Lake-Napa Unit\", NaN, \"Lake\", \"South of Morgan Valley Rd and East of Hwy 29, Community of Lower Lake\", 120.0, 100.0, \"NaN\", \"CAL FIRE Sonoma-Lake-Napa Unit\", -122.567525, 38.882214, \"NaN\", \"20ba8b6b-78d4-46a7-995b-d8fa38cbf3b8\", \"https://www.fire.ca.gov/incidents/2013/11/8/cantwell-fire/\", \"2013-11-10T18:30:00Z\", \"2013-11-10\", \"2013-11-08\", \"N\", true, false], [\"Silverado Fire\", \"Y\", \"2013-11-23T18:30:00Z\", \"2013-11-21T21:39:00Z\", \"CAL FIRE Sonoma-Lake-Napa Unit\", NaN, \"Napa\", \"Off Silverado Trail in the Soda Canyon area near Napa\", 190.0, 100.0, \"NaN\", \"CAL FIRE Sonoma-Lake-Napa Unit, CAL FIRE, Napa County Fire, Rutherford VFD, Soda Canyon VFD, Napa County Sheriff\\u2019s Office, and California Dept. of Corrections and Rehabilitation\", -122.311, 38.382, \"NaN\", \"79d476e5-0b4d-48e2-a105-2bba5c1140e9\", \"https://www.fire.ca.gov/incidents/2013/11/21/silverado-fire/\", \"2013-11-23T18:30:00Z\", \"2013-11-23\", \"2013-11-21\", \"N\", true, false], [\"Wheeler Fire\", \"Y\", \"2013-11-15T16:00:00Z\", \"2013-11-14T11:05:00Z\", \"Ventura County Fire Department\", NaN, \"Ventura\", \"Wheeler Canyon, north of Santa Paula\", 64.0, 100.0, \"NaN\", \"Ventura County Fire Department\", -119.13249, 34.384, \"NaN\", \"0adb968c-eb85-41c5-8e08-04c0ec386c79\", \"https://www.fire.ca.gov/incidents/2013/11/14/wheeler-fire/\", \"2013-11-15T16:00:00Z\", \"2013-11-15\", \"2013-11-14\", \"N\", true, false], [\"Retek Fire\", \"Y\", \"2013-11-22T17:30:00Z\", \"2013-11-22T10:06:00Z\", \"CAL FIRE Mendocino Unit\", NaN, \"Mendocino\", \"Off Hwy 101 at Henry Station Rd, north of Hopland\", 82.0, 100.0, \"NaN\", \"CAL FIRE Mendocino Unit\", -123.1478, 39.0442, \"NaN\", \"e9e43213-b2fc-47bc-92cd-117ccd6e4780\", \"https://www.fire.ca.gov/incidents/2013/11/22/retek-fire/\", \"2013-11-22T17:30:00Z\", \"2013-11-22\", \"2013-11-22\", \"N\", true, false], [\"McCabe Fire\", \"Y\", \"2013-11-27T18:15:00Z\", \"2013-11-22T02:04:00Z\", \"CAL FIRE Sonoma-Lake-Napa Unit\", NaN, \"Sonoma\", \"The Geysers area, 10 miles northeast of Geyserville\", 3505.0, 100.0, \"NaN\", \"CAL FIRE Sonoma-Lake-Napa Unit, CAL FIRE, Napa County Fire, Geyserville FPD, Healdsburg FD, Cloverdale FPD, Santa Rosa FD, Sonoma Valley FRA, Glen Ellen FPD, Schell-Vista FPD, Forestville FPD, Graton FPD, Gold Ridge FPD, Occidental CSD, Bennett Valley FPD, Sebastopol FD, Rancho Adobe FPD, CHP, Cal Trans, Sonoma County Sheriff\\u2019s, CAL OES, California Department of Correction and Rehabilitation, Sonoma County Fire Services, Bureau of Land Management, United States Forest Service.\", -122.8498, 38.8167, \"NaN\", \"b4bc1480-cbb8-4ef2-8d5f-88a496d21d10\", \"https://www.fire.ca.gov/incidents/2013/11/22/mccabe-fire/\", \"2013-11-27T18:15:00Z\", \"2013-11-27\", \"2013-11-22\", \"N\", true, false], [\"Bruner Fire\", \"Y\", \"2013-11-24T08:45:00Z\", \"2013-11-23T12:04:00Z\", \"CAL FIRE Sonoma-Lake-Napa Unit\", NaN, \"Lake\", \"Off Bruner Drive & Al Drive, Clearlake Oaks\", 50.0, 100.0, \"NaN\", \"CAL FIRE Sonoma-Lake-Napa Unit\", -122.7656, 39.0448, \"NaN\", \"3f3e234c-04e1-4941-a79f-23ddc419bf59\", \"https://www.fire.ca.gov/incidents/2013/11/23/bruner-fire/\", \"2013-11-24T08:45:00Z\", \"2013-11-24\", \"2013-11-23\", \"N\", true, false], [\"Dam Fire\", \"Y\", \"2013-11-24T18:45:00Z\", \"2013-11-23T14:17:00Z\", \"CAL FIRE Sonoma-Lake-Napa Unit\", NaN, \"Lake\", \"Off Dam Rd, southeast of Clear Lake\", 23.0, 100.0, \"NaN\", \"CAL FIRE Sonoma-Lake-Napa Unit\", -122.5818, 38.9289, \"NaN\", \"720f1d0a-81b7-4a00-85db-be3d9587ea3e\", \"https://www.fire.ca.gov/incidents/2013/11/23/dam-fire/\", \"2013-11-24T18:45:00Z\", \"2013-11-24\", \"2013-11-23\", \"N\", true, false], [\"Grant Fire\", \"Y\", \"2013-12-31T16:00:00Z\", \"2013-12-31T05:30:00Z\", \"CAL FIRE Santa Clara Unit\", NaN, \"Santa Clara\", \"off Mount Hamilton Road near Grant Ranch County Park\", 40.0, 100.0, \"NaN\", \"CAL FIRE Santa Clara Unit\", -121.717706, 37.342186, \"NaN\", \"7a168690-06e5-4056-97c8-73b834204744\", \"https://www.fire.ca.gov/incidents/2013/12/31/grant-fire/\", \"2013-12-31T16:00:00Z\", \"2013-12-31\", \"2013-12-31\", \"N\", true, false], [\"Campbell Fire\", \"Y\", \"2014-01-10T18:30:00Z\", \"2014-01-02T20:00:00Z\", \"Lassen National Forest\", NaN, \"Tehama\", \"Ishi Wilderness, north of Campbellville in the Lassen National Forest\", 865.0, 100.0, \"NaN\", \"Lassen National Forest\", -121.790183, 40.134597, \"NaN\", \"353e7df7-440c-4c41-a27c-b35bb1e2831c\", \"https://www.fire.ca.gov/incidents/2014/1/2/campbell-fire/\", \"2014-01-10T18:30:00Z\", \"2014-01-10\", \"2014-01-02\", \"N\", false, false], [\"Colby Fire\", \"Y\", \"2014-01-27T10:00:00Z\", \"2014-01-16T05:50:00Z\", \"Angeles National Forest and LA County Fire Department\", NaN, \"Los Angeles\", \"near Morris Reservoir, north of Glendora\", 1952.0, 100.0, \"NaN\", \"Angeles National Forest and LA County Fire Department\", -117.8816, 34.1703, \"NaN\", \"1fe0ea01-23e8-47a1-8fbd-ced6cf655e4d\", \"https://www.fire.ca.gov/incidents/2014/1/16/colby-fire/\", \"2014-01-27T10:00:00Z\", \"2014-01-27\", \"2014-01-16\", \"N\", false, false], [\"Red Fire\", \"Y\", \"2014-01-08T19:15:00Z\", \"2014-01-04T12:00:00Z\", \"CAL FIRE Humboldt Del-Norte Unit\", NaN, \"Humboldt\", \"South of Berry Summit, west of Willow Creek\", 333.0, 100.0, \"NaN\", \"CAL FIRE Humboldt Del-Norte Unit\", -123.773779, 40.884415, \"NaN\", \"6d75c6a4-12cb-4f18-8951-f2737e980916\", \"https://www.fire.ca.gov/incidents/2014/1/4/red-fire/\", \"2014-01-08T19:15:00Z\", \"2014-01-08\", \"2014-01-04\", \"N\", true, false], [\"Lake Fire\", \"Y\", \"2014-01-26T18:00:00Z\", \"2014-01-25T06:37:00Z\", \"CAL FIRE Fresno-Kings Unit\", NaN, \"Fresno\", \"off Trimmer Springs Rd & Sunnyslope Rd near Pine Flat Lake \", 106.0, 100.0, \"NaN\", \"CAL FIRE Fresno-Kings Unit\", -119.3415, 36.8266, \"NaN\", \"d529636e-33d0-484b-9c6f-093ba33736b7\", \"https://www.fire.ca.gov/incidents/2014/1/25/lake-fire/\", \"2014-01-26T18:00:00Z\", \"2014-01-26\", \"2014-01-25\", \"N\", true, false], [\"Gun Fire\", \"Y\", \"2014-03-11T11:00:00Z\", \"2014-03-08T12:30:00Z\", \"USFS - Cleveland National Forest\", NaN, \"San Diego\", \"Off Interstate 8 & Sunrise Hwy, near Pine Valley\", 125.0, 100.0, \"NaN\", \"USFS - Cleveland National Forest\", -116.49, 32.81, \"NaN\", \"a67fe9bc-b8ec-4ed1-a2e8-06623aab7039\", \"https://www.fire.ca.gov/incidents/2014/3/8/gun-fire/\", \"2014-03-11T11:00:00Z\", \"2014-03-11\", \"2014-03-08\", \"N\", false, false], [\"Encinal Fire\", \"Y\", \"2014-03-21T18:00:00Z\", \"2014-03-19T16:45:00Z\", \"CAL FIRE San Benito-Monterey Unit\", NaN, \"Monterey\", \"Off Encinal Rd, 8 miles southeast of Salinas\", 400.0, 100.0, \"NaN\", \"CAL FIRE San Benito-Monterey Unit\", -121.4819, 36.6313, \"NaN\", \"cb580f06-5d43-46aa-8b2c-f2b5a21eff02\", \"https://www.fire.ca.gov/incidents/2014/3/19/encinal-fire/\", \"2014-03-21T18:00:00Z\", \"2014-03-21\", \"2014-03-19\", \"N\", true, false], [\"Van Buren Fire\", \"Y\", \"2014-03-29T17:15:00Z\", \"2014-03-28T14:31:00Z\", \"CAL FIRE / Riverside County Fire\", NaN, \"Riverside\", \"Off Ave 62 and Van Buren St in Thermal\", 57.0, 100.0, \"NaN\", \"CAL FIRE / Riverside County Fire\", -116.1985, 33.5982, \"NaN\", \"edff6f87-80b8-4c0d-8f6a-45c6e798b7fa\", \"https://www.fire.ca.gov/incidents/2014/3/28/van-buren-fire/\", \"2014-03-29T17:15:00Z\", \"2014-03-29\", \"2014-03-28\", \"N\", true, false], [\"Bridges Fire\", \"Y\", \"2014-04-21T19:15:00Z\", \"2014-04-19T15:54:00Z\", \"CAL FIRE San Bernardino Unit\", NaN, \"Inyo\", \"off Highway 6 & 5 Bridges Rd, 5 miles northeast of Bishop\", 113.0, 100.0, \"NaN\", \"CAL FIRE San Bernardino Unit, Bishop Fire Dept, Inyo National Forest, Los Angeles Dept of Water and Power (LADWP), BLM - Desert District, CHP and Inyo Sheriff\", -118.352, 37.399, \"NaN\", \"1faad916-32b9-4cd0-94b8-dacfe71fa9f8\", \"https://www.fire.ca.gov/incidents/2014/4/19/bridges-fire/\", \"2014-04-21T19:15:00Z\", \"2014-04-21\", \"2014-04-19\", \"N\", true, false], [\"Etiwanda Fire\", \"Y\", \"2014-05-05T17:30:00Z\", \"2014-04-30T08:00:00Z\", \"CAL FIRE San Bernardino / USFS / Rancho Cucamonga Fire\", NaN, \"San Bernardino\", \"North of Rancho Cucamonga\", 2143.0, 100.0, \"NaN\", \"CAL FIRE San Bernardino / USFS / Rancho Cucamonga Fire, CAL FIRE, US Forest Service and Rancho Cucamonga Fire\", -117.547374, 34.169346, \"NaN\", \"13bfff2c-cb2f-4ed9-a7f8-6985646a2d5d\", \"https://www.fire.ca.gov/incidents/2014/4/30/etiwanda-fire/\", \"2014-05-05T17:30:00Z\", \"2014-05-05\", \"2014-04-30\", \"N\", true, false], [\"Jacumba Fire\", \"Y\", \"2014-05-06T10:20:00Z\", \"2014-05-05T16:36:00Z\", \"CAL FIRE San Diego Unit\", NaN, \"San Diego\", \"Off Interstate 8, east of McCain Valley Rd, east of Boulevard\", 29.0, 100.0, \"NaN\", \"CAL FIRE San Diego Unit\", -116.222, 32.665, \"NaN\", \"d5cb2477-6627-4ef6-bab1-d0eecc4ad12a\", \"https://www.fire.ca.gov/incidents/2014/5/5/jacumba-fire/\", \"2014-05-06T10:20:00Z\", \"2014-05-06\", \"2014-05-05\", \"N\", true, false], [\"Bernardo Fire\", \"Y\", \"2014-05-17T20:14:00Z\", \"2014-05-13T11:00:00Z\", \"CAL FIRE San Diego Unit/San Diego City Fire/Rancho Santa Fe Fire District\", NaN, \"San Diego\", \"off Nighthawk Lane, southwest of Rancho Bernardo\", 1548.0, 100.0, \"NaN\", \"CAL FIRE San Diego Unit/San Diego City Fire/Rancho Santa Fe Fire District\", -117.133, 33.003, \"NaN\", \"9e5ee790-ee7e-4b40-b300-7a3046901162\", \"https://www.fire.ca.gov/incidents/2014/5/13/bernardo-fire/\", \"2014-05-17T20:14:00Z\", \"2014-05-17\", \"2014-05-13\", \"N\", true, false], [\"San Lucas Fire\", \"Y\", \"2014-05-01T19:00:00Z\", \"2014-04-30T14:25:00Z\", \"CAL FIRE San Benito-Monterey Unit\", NaN, \"Monterey\", \"San Lucas & Jolon Rd, west of King City \", 75.0, 100.0, \"NaN\", \"CAL FIRE San Benito-Monterey Unit\", -121.117, 36.103, \"NaN\", \"91c3081d-33b4-46f2-8774-032c57f0f6a2\", \"https://www.fire.ca.gov/incidents/2014/4/30/san-lucas-fire/\", \"2014-05-01T19:00:00Z\", \"2014-05-01\", \"2014-04-30\", \"N\", true, false], [\"Miguelito Fire\", \"Y\", \"2014-05-19T09:20:00Z\", \"2014-05-13T14:00:00Z\", \"Santa Barbara County Fire\", NaN, \"Santa Barbara\", \"Off Santa Miguelito Canyon Road in Lompoc\", 632.0, 100.0, \"NaN\", \"Santa Barbara County Fire, San Diego City, USFS, OES, Red Cross, San Diego PD, San Diego SO, San Diego School PD, CHP, CCC.\", -120.454, 34.609, \"NaN\", \"d08b0c4e-35d3-43fb-8af8-1756b1789172\", \"https://www.fire.ca.gov/incidents/2014/5/13/miguelito-fire/\", \"2014-05-19T09:20:00Z\", \"2014-05-19\", \"2014-05-13\", \"N\", true, false], [\"Tomahawk Fire\", \"Y\", \"2014-05-19T09:20:00Z\", \"2014-05-14T09:45:00Z\", \"Marine Corps Base Camp Pendleton\", NaN, \"San Diego\", \"Traveled from Naval Weapons Station, Fallbrook and is now on Camp Pendleton \", 5367.0, 100.0, \"NaN\", \"Marine Corps Base Camp Pendleton\", -117.284889, 33.3529, \"NaN\", \"2b35bd0d-169f-4a81-835b-13bf527031a6\", \"https://www.fire.ca.gov/incidents/2014/5/14/tomahawk-fire/\", \"2014-05-19T09:20:00Z\", \"2014-05-19\", \"2014-05-14\", \"N\", false, false], [\"San Mateo Fire\", \"Y\", \"2014-05-20T23:30:00Z\", \"2014-05-16T11:24:00Z\", \"Marine Corps Base Camp Pendleton\", NaN, \"San Diego\", \"in the Talega area of Marine Corps Base Camp Pendleton\", 1457.0, 100.0, \"NaN\", \"Marine Corps Base Camp Pendleton\", -117.550567, 33.417572, \"NaN\", \"b0b5efed-3edc-4a4b-97c8-95a79d12d0c6\", \"https://www.fire.ca.gov/incidents/2014/5/16/san-mateo-fire/\", \"2014-05-20T23:30:00Z\", \"2014-05-20\", \"2014-05-16\", \"N\", false, false], [\"Highway Fire\", \"Y\", \"2014-05-15T18:30:00Z\", \"2014-05-14T13:00:00Z\", \"CAL FIRE San Diego Unit\", NaN, \"San Diego\", \"off Old Hwy 395 and I-15 in the Deer Springs area \", 380.0, 100.0, \"Interstate 15 is closed 3 1/2 miles south of Hwy 76 to .7 miles north of Hwy 76\", \"CAL FIRE San Diego Unit\", -117.162, 33.312, \"NaN\", \"ebea3cc2-c0ad-4de2-829a-0b544183461b\", \"https://www.fire.ca.gov/incidents/2014/5/14/highway-fire/\", \"2014-05-15T18:30:00Z\", \"2014-05-15\", \"2014-05-14\", \"N\", true, false], [\"Fiddler Fire\", \"Y\", \"2014-05-15T11:30:00Z\", \"2014-05-14T14:00:00Z\", \"CAL FIRE Shasta-Trinity Unit\", NaN, \"Shasta\", \"Off Perla Rd & Fiddlers Rd in Igo\", 50.0, 100.0, \"NaN\", \"CAL FIRE Shasta-Trinity Unit\", -122.721, 40.39, \"NaN\", \"2c241790-d062-4b15-9a25-8e511c0febab\", \"https://www.fire.ca.gov/incidents/2014/5/14/fiddler-fire/\", \"2014-05-15T11:30:00Z\", \"2014-05-15\", \"2014-05-14\", \"N\", true, false], [\"Cocos Fire\", \"Y\", \"2014-05-22T18:15:00Z\", \"2014-05-14T16:00:00Z\", \"San Marcos Fire / CAL FIRE San Diego Unit / Elfin Forest Fire Dept\", NaN, \"San Diego\", \"Village Drive and Twin Oaks Road, San Marcos\", 1995.0, 100.0, \"NaN\", \"San Marcos Fire / CAL FIRE San Diego Unit / Elfin Forest Fire Dept\", -117.1599, 33.1137, \"NaN\", \"1b1cba8f-7893-4eea-82d9-dc78663fd911\", \"https://www.fire.ca.gov/incidents/2014/5/14/cocos-fire/\", \"2014-05-22T18:15:00Z\", \"2014-05-22\", \"2014-05-14\", \"N\", true, false], [\"Poinsettia Fire\", \"Y\", \"2014-05-17T00:00:00Z\", \"2014-05-14T10:30:00Z\", \"Carlsbad Fire Department\", NaN, \"San Diego\", \"off Poinsettia Ln & Alicante Rd in Carlsbad\", 600.0, 100.0, \"NaN\", \"Carlsbad Fire Department\", -117.279, 33.1109, \"NaN\", \"cc18296d-573a-4737-8e4e-1221d75d1e7b\", \"https://www.fire.ca.gov/incidents/2014/5/14/poinsettia-fire/\", \"2014-05-17T00:00:00Z\", \"2014-05-17\", \"2014-05-14\", \"N\", false, false], [\"Indian Fire\", \"Y\", \"2014-05-26T08:45:00Z\", \"2014-05-25T12:20:00Z\", \"CAL FIRE Sonoma-Lake-Napa Unit\", NaN, \"Lake\", \"Near Indian Valley Reservoir, East of Clearlake Oaks\", 175.0, 100.0, \"NaN\", \"CAL FIRE Sonoma-Lake-Napa Unit\", -122.5983, 39.1647, \"NaN\", \"b454456c-1fa9-4766-b179-6df36b4d844b\", \"https://www.fire.ca.gov/incidents/2014/5/25/indian-fire/\", \"2014-05-26T08:45:00Z\", \"2014-05-26\", \"2014-05-25\", \"N\", true, false], [\"59 Fire\", \"Y\", \"2022-10-24T11:30:50Z\", \"2014-06-04T11:45:00Z\", \"CAL FIRE Tuolumne-Calaveras Unit\", NaN, \"Tuolumne\", \"near Bonds Flat Rd & La Grange Rd (J59), west of Don Pedro Reservoir\", 402.0, 100.0, \"NaN\", \"CAL FIRE Tuolumne-Calaveras Unit\", -120.45087, 37.76617, \"NaN\", \"1a0bbf7e-7f9b-4359-9c91-85dec2e2869a\", \"https://www.fire.ca.gov/incidents/2014/6/4/59-fire/\", \"2014-06-05T20:00:00Z\", \"2014-06-05\", \"2014-06-04\", \"N\", true, false], [\"Hetch Hetchy Fire\", \"Y\", \"2014-06-06T09:30:00Z\", \"2014-06-05T13:04:00Z\", \"CAL FIRE Tuolumne-Calaveras Unit\", NaN, \"Tuolumne\", \"off La Grange Rd (J59) at Hetch Hetchy power lines, northwest shore of Don Pedro Reservoir\", 269.0, 100.0, \"NaN\", \"CAL FIRE Tuolumne-Calaveras Unit\", -120.452, 37.787, \"NaN\", \"b5d32131-cf00-4e34-9e08-b74d68a3174f\", \"https://www.fire.ca.gov/incidents/2014/6/5/hetch-hetchy-fire/\", \"2014-06-06T09:30:00Z\", \"2014-06-06\", \"2014-06-05\", \"N\", true, false], [\"Hall Fire\", \"Y\", \"2014-06-09T19:15:00Z\", \"2014-06-11T07:30:00Z\", \"CAL FIRE Fresno-Kings Unit\", NaN, \"Fresno\", \"near Hwy 180 & Hall Lane near Squaw Valley\", 25.0, 100.0, \"NaN\", \"CAL FIRE Fresno-Kings Unit\", -119.241493, 36.742747, \"NaN\", \"ccc2ec2b-4941-4bbd-ae60-be6706d97f13\", \"https://www.fire.ca.gov/incidents/2014/6/11/hall-fire/\", \"2014-06-09T19:15:00Z\", \"2014-06-09\", \"2014-06-11\", \"N\", true, false], [\"Morgan Fire\", \"Y\", \"2014-06-11T07:30:00Z\", \"2014-06-09T15:15:00Z\", \"CAL FIRE Fresno-Kings Unit\", NaN, \"Fresno\", \"near the 16,000 block of Highway 168 near Prather\", 40.0, 100.0, \"Highway 168 has been reopened.\", \"CAL FIRE Fresno-Kings Unit\", -119.525506, 36.991825, \"NaN\", \"857e832f-17bd-4ad2-8789-99b003187049\", \"https://www.fire.ca.gov/incidents/2014/6/9/morgan-fire/\", \"2014-06-11T07:30:00Z\", \"2014-06-11\", \"2014-06-09\", \"N\", true, false], [\"Norman Fire\", \"Y\", \"2014-06-13T08:00:00Z\", \"2014-06-12T14:29:00Z\", \"CAL FIRE Sonoma-Lake-Napa Unit\", NaN, \"Solano\", \"off Rolling Hills Lane, north of Vacaville \", 70.0, 100.0, \"NaN\", \"CAL FIRE Sonoma-Lake-Napa Unit\", 38.453, 121.999, \"NaN\", \"45cf54ae-c166-4f81-816f-2e0ef959a56e\", \"https://www.fire.ca.gov/incidents/2014/6/12/norman-fire/\", \"2014-06-13T08:00:00Z\", \"2014-06-13\", \"2014-06-12\", \"N\", true, false], [\"Haigh Fire\", \"Y\", \"2014-06-13T18:30:00Z\", \"2014-06-10T15:11:00Z\", \"CAL FIRE Madera-Mariposa-Merced Unit\", NaN, \"Mariposa\", \"Highway 49 and Haigh Rd., north of Coulterville\", 130.0, 100.0, \"NaN\", \"CAL FIRE Madera-Mariposa-Merced Unit\", -120.197, 37.7103, \"NaN\", \"50567f4a-c56d-4d73-9855-f5d81fa74025\", \"https://www.fire.ca.gov/incidents/2014/6/10/haigh-fire/\", \"2014-06-13T18:30:00Z\", \"2014-06-13\", \"2014-06-10\", \"N\", true, false], [\"Shirley Fire\", \"Y\", \"2014-06-20T08:30:00Z\", \"2014-06-13T17:00:00Z\", \"Sequoia National Forest\", NaN, \"Kern\", \"3 Miles south of Shirley Meadows\", 3895.0, 100.0, \"NaN\", \"Sequoia National Forest\", -118.555527, 35.70683, \"NaN\", \"8ede9823-938e-4786-97b8-a0f42b852cb2\", \"https://www.fire.ca.gov/incidents/2014/6/13/shirley-fire/\", \"2014-06-20T08:30:00Z\", \"2014-06-20\", \"2014-06-13\", \"N\", false, false], [\"Tehama Fire\", \"Y\", \"2014-06-13T13:50:00Z\", \"2014-06-13T12:23:00Z\", \"CAL FIRE Tehama-Glenn Unit\", NaN, \"Tehama\", \"Rancho Tehama, southwest of Red Bluff\", 225.0, 100.0, \"NaN\", \"CAL FIRE Tehama-Glenn Unit\", -122.345078, 40.009827, \"NaN\", \"724209e0-12b0-4d49-b798-8ccacf95e668\", \"https://www.fire.ca.gov/incidents/2014/6/13/tehama-fire/\", \"2014-06-13T13:50:00Z\", \"2014-06-13\", \"2014-06-13\", \"N\", true, false], [\"Reed Fire\", \"Y\", \"2014-06-21T19:00:00Z\", \"2014-06-20T15:27:00Z\", \"CAL FIRE Tuolumne Calaveras Unit\", NaN, \"Calaveras\", \"off George Reed Drive and Pool Station Road, San Andreas\", 120.0, 100.0, \"NaN\", \"CAL FIRE Tuolumne Calaveras Unit\", 38.178241, 120.679019, \"NaN\", \"2b382ade-87e2-4cff-92f7-67328139d7eb\", \"https://www.fire.ca.gov/incidents/2014/6/20/reed-fire/\", \"2014-06-21T19:00:00Z\", \"2014-06-21\", \"2014-06-20\", \"N\", true, false], [\"Oak Fire\", \"Y\", \"2014-06-24T19:00:00Z\", \"2014-06-22T12:37:00Z\", \"CAL FIRE Tuolumne Calaveras Unit\", NaN, \"Calaveras\", \"Oak Valley Road at Pool Station Road, south of San Andreas\", 85.0, 100.0, \"NaN\", \"CAL FIRE Tuolumne Calaveras Unit, USFS, Central Fire, Mokelumne Hill Fire, San Andreas Fire, Angels Fire, Copperopolis Fire, Altaville/Melones Fire, PG&E, CHP, Calaveras County SO\", -120.66, 38.058, \"NaN\", \"06ae83a9-125e-4cf5-826e-8b541b2308fd\", \"https://www.fire.ca.gov/incidents/2014/6/22/oak-fire/\", \"2014-06-24T19:00:00Z\", \"2014-06-24\", \"2014-06-22\", \"N\", true, false], [\"Butts Fire\", \"Y\", \"2014-07-09T18:00:00Z\", \"2014-07-01T12:08:00Z\", \"CAL FIRE Sonoma-Lake-Napa Unit\", NaN, \"Napa, Lake\", \"Off Butts Canyon Rd in Pope Valley, northwest of Lake Berryessa\", 4300.0, 100.0, \"All road closures have been lifted.\", \"CAL FIRE Sonoma-Lake-Napa Unit, Napa County Sheriff's, CHP, United States Forest Service, CAL OES, Napa County OES, Lake County OES, PG&E, Bureau of Land Management, California Department of Corrections and Rehabilitation, Napa County Fire\", -122.454, 38.664, \"NaN\", \"2437bb57-1d09-4892-8c26-a60661dae1d9\", \"https://www.fire.ca.gov/incidents/2014/7/1/butts-fire/\", \"2014-07-09T18:00:00Z\", \"2014-07-09\", \"2014-07-01\", \"N\", true, false], [\"Bible Fire\", \"Y\", \"2014-07-09T16:45:00Z\", \"2014-07-09T14:34:00Z\", \"CAL FIRE Amador-El Dorado Unit\", NaN, \"El Dorado\", \"off Mt Aukum Rd, Somerset \", 30.0, 100.0, \"NaN\", \"CAL FIRE Amador-El Dorado Unit\", -120.703238, 38.608336, \"NaN\", \"da607cd1-32fc-44c0-bd7a-ba14ad0a14cc\", \"https://www.fire.ca.gov/incidents/2014/7/9/bible-fire/\", \"2014-07-09T16:45:00Z\", \"2014-07-09\", \"2014-07-09\", \"N\", true, false], [\"Bully Fire\", \"Y\", \"2022-10-24T11:33:31Z\", \"2014-07-11T15:37:00Z\", \"CAL FIRE Shasta-Trinity Unit\", NaN, \"Shasta\", \"Plantina Road at Bland Road, Igo\", 12661.0, 100.0, \"NaN\", \"CAL FIRE Shasta-Trinity Unit, Shasta County Fire, BLM, USFS, Shasta County Sheriff\\u2019s Office, CHP, Cal  OES, CDCR, CCC and Shasta County DPW.\", -122.750788, 40.4314, \"NaN\", \"3a1fab73-882a-478c-b289-504497db4d64\", \"https://www.fire.ca.gov/incidents/2014/7/11/bully-fire/\", \"2014-07-26T20:00:00Z\", \"2014-07-26\", \"2014-07-11\", \"N\", true, false], [\"Monticello Fire\", \"Y\", \"2014-07-12T18:00:00Z\", \"2014-07-04T21:32:00Z\", \"CAL FIRE Sonoma-Lake-Napa Unit\", NaN, \"Yolo\", \"Hwy 128 at Monticello Dam, southeast shore of Lake Berryessa \", 6488.0, 100.0, \"Hwy 128 has been reopened. \", \"CAL FIRE Sonoma-Lake-Napa Unit, Winters FPD, Yolo County Sheriff, Lake County Sheriff, Napa County Fire, local government fire agencies of Napa, Solano and Yolo counties, CAL OES, California Department of Corrections and Rehabilitation, CHP, Bureau of Land Management, Red Cross, PG&E, Yolo County Animal Services, Cal Trans, City of Woodland, City of Winters, and Yolo County OES.\", -122.104, 38.512, \"NaN\", \"756d8f5b-bc05-4741-a5a3-3b20ca21906d\", \"https://www.fire.ca.gov/incidents/2014/7/4/monticello-fire/\", \"2014-07-12T18:00:00Z\", \"2014-07-12\", \"2014-07-04\", \"N\", true, false], [\"Gulch Fire\", \"Y\", \"2014-07-07T07:00:00Z\", \"2014-07-03T15:46:00Z\", \"CAL FIRE Lassen-Modoc Unit / Modoc National Forest\", NaN, \"Modoc\", \"Off highway 139, 15 miles north of Canby - The fire is burning on the east side of Hwy 139\", 1469.0, 100.0, \"NaN\", \"CAL FIRE Lassen-Modoc Unit / Modoc National Forest\", -120.904, 41.489, \"NaN\", \"00089805-cdee-4607-8b67-1653bee463bc\", \"https://www.fire.ca.gov/incidents/2014/7/3/gulch-fire/\", \"2014-07-07T07:00:00Z\", \"2014-07-07\", \"2014-07-03\", \"N\", true, false], [\"Modoc Lightning Complex\", \"Y\", \"2014-07-03T10:30:00Z\", \"2014-07-01T19:00:00Z\", \"Modoc National Forest\", NaN, \"Modoc\", \"15 fires across the Modoc National Forest\", 1651.0, 100.0, \"NaN\", \"Modoc National Forest\", -120.79, 41.89, \"NaN\", \"8f48a8a9-facf-49e8-92dc-ea1147e53792\", \"https://www.fire.ca.gov/incidents/2014/7/1/modoc-lightning-complex/\", \"2014-07-03T10:30:00Z\", \"2014-07-03\", \"2014-07-01\", \"N\", false, false], [\"West Fire\", \"Y\", \"2014-07-03T10:45:00Z\", \"2014-07-01T03:45:00Z\", \"Shasta - Trinity National Forest\", NaN, \"Trinity\", \"near the Trinity Pines community\", 15.0, 100.0, \"NaN\", \"Shasta - Trinity National Forest\", -123.24, 40.41, \"NaN\", \"62c2a563-1768-4c94-ac71-694a553cfdf8\", \"https://www.fire.ca.gov/incidents/2014/7/1/west-fire/\", \"2014-07-03T10:45:00Z\", \"2014-07-03\", \"2014-07-01\", \"N\", false, false], [\"Banner Fire\", \"Y\", \"2014-07-06T09:15:00Z\", \"2014-07-03T10:43:00Z\", \"CAL FIRE San Diego Unit\", NaN, \"San Diego\", \"Banner Grade, east of Julian\", 217.0, 100.0, \"The following road closures are in effect: <li>State Route 78 at Manzanita Drive</li><li>Manzanita Drive at Lakeview Drive</li>\", \"CAL FIRE San Diego Unit\", -116.576454, 33.078948, \"NaN\", \"d2623c2c-ff3d-419e-a129-b3aa542c05c4\", \"https://www.fire.ca.gov/incidents/2014/7/3/banner-fire/\", \"2014-07-06T09:15:00Z\", \"2014-07-06\", \"2014-07-03\", \"N\", true, false], [\"Marsh Fire\", \"Y\", \"2014-07-12T18:00:00Z\", \"2014-07-11T21:57:00Z\", \"CAL FIRE Santa Clara Unit\", NaN, \"Contra Costa\", \"off Marsh Creek Rd., near Aspara Drive, east of Clayton\", 80.0, 100.0, \"NaN\", \"CAL FIRE Santa Clara Unit\", -121.5118, 37.5359, \"NaN\", \"dc1a83b0-500c-440f-85d7-7090884f5487\", \"https://www.fire.ca.gov/incidents/2014/7/11/marsh-fire/\", \"2014-07-12T18:00:00Z\", \"2014-07-12\", \"2014-07-11\", \"N\", true, false], [\"Cassel Fire\", \"Y\", \"2014-07-08T18:30:00Z\", \"2014-07-05T18:44:00Z\", \"CAL FIRE Shasta-Trinity Unit\", NaN, \"Shasta\", \"Off Cassel Road at Thrush Road, in Cassel\", 75.0, 100.0, \"NaN\", \"CAL FIRE Shasta-Trinity Unit\", -121.3415, 40.5719, \"NaN\", \"0bc42201-27c2-4b3d-a329-ce44bc1261d9\", \"https://www.fire.ca.gov/incidents/2014/7/5/cassel-fire/\", \"2014-07-08T18:30:00Z\", \"2014-07-08\", \"2014-07-05\", \"N\", true, false], [\"Interlake Fire\", \"Y\", \"2014-07-08T18:30:00Z\", \"2014-07-07T16:12:00Z\", \"CAL FIRE San Benito-Monterey Unit\", NaN, \"San Luis Obispo\", \"along Interlake Road between Monterey & San Luis Obispo County\", 47.0, 100.0, \"NaN\", \"CAL FIRE San Benito-Monterey Unit\", -121.0226, 35.8218, \"NaN\", \"1df51ee3-c15a-4266-bf3d-d52272189cff\", \"https://www.fire.ca.gov/incidents/2014/7/7/interlake-fire/\", \"2014-07-08T18:30:00Z\", \"2014-07-08\", \"2014-07-07\", \"N\", true, false], [\"Hutto Fire\", \"Y\", \"2014-07-08T06:56:00Z\", \"2014-07-07T16:35:00Z\", \"CAL FIRE Nevada-Yuba-Placer\", NaN, \"Nevada\", \"on Hutto Rd & Keller Rd in Smartsville\", 38.0, 100.0, \"NaN\", \"CAL FIRE Nevada-Yuba-Placer\", -121.2687, 39.1871, \"NaN\", \"61506ea2-3f16-4aa6-ba54-d7788c3a2b35\", \"https://www.fire.ca.gov/incidents/2014/7/7/hutto-fire/\", \"2014-07-08T06:56:00Z\", \"2014-07-08\", \"2014-07-07\", \"N\", true, false], [\"Dry Fire\", \"Y\", \"2014-07-10T07:30:00Z\", \"2014-07-09T13:45:00Z\", \"CAL FIRE Shasta-Trinity Unit\", NaN, \"Shasta\", \"off Hwy 299 & Dry Creek Rd, east of Bella Vista\", 143.0, 100.0, \"NaN\", \"CAL FIRE Shasta-Trinity Unit\", -122.2215, 40.6569, \"NaN\", \"dcbc7afb-cdef-49a3-822e-20bbaa86a5d0\", \"https://www.fire.ca.gov/incidents/2014/7/9/dry-fire/\", \"2014-07-10T07:30:00Z\", \"2014-07-10\", \"2014-07-09\", \"N\", true, false], [\"Nicolls Fire \", \"Y\", \"2014-07-21T14:45:00Z\", \"2014-07-11T13:46:00Z\", \"Sequoia National Forest\", NaN, \"Kern\", \"Kelso Valley/Onyx area\", 1680.0, 100.0, \"NaN\", \"Sequoia National Forest\", -118.15, 35.642, \"NaN\", \"45abd556-f41f-4507-91a5-1cf2f751bb4c\", \"https://www.fire.ca.gov/incidents/2014/7/11/nicolls-fire/\", \"2014-07-21T14:45:00Z\", \"2014-07-21\", \"2014-07-11\", \"N\", false, false], [\"Wildlife Fire\", \"Y\", \"2014-07-16T08:00:00Z\", \"2014-07-14T18:00:00Z\", \"CAL FIRE Butte Unit\", NaN, \"Butte\", \"Wildlife Area - Larkin Road, west of Oroville<br><br>Road Closures: None, the Wildlife area north of the Afterbay Outlet is closed to the public.\", 72.0, 100.0, \"NaN\", \"CAL FIRE Butte Unit\", -121.6129, 39.4664, \"NaN\", \"9c21bb74-e919-403c-8a43-05f561669e4e\", \"https://www.fire.ca.gov/incidents/2014/7/14/wildlife-fire/\", \"2014-07-16T08:00:00Z\", \"2014-07-16\", \"2014-07-14\", \"N\", true, false], [\"Sand Fire\", \"Y\", \"2022-10-24T11:28:11Z\", \"2014-07-25T16:34:00Z\", \"CAL FIRE Amador-El Dorado Unit\", NaN, \"Amador, El Dorado\", \"East of Highway 49, 5 miles north of Plymouth\", 4240.0, 100.0, \"NaN\", \"CAL FIRE Amador-El Dorado Unit, CHP, El Dorado Co SO, Amador SO, Cal OES, CDCR, El Dorado Co Animal Control, USFS, BLM, El Dorado Co DOT, CCC, Red Cross, PG&E, Cal Trans\", -120.7819, 38.5691, \"Wildfire\", \"4d07ccc3-32be-4a1d-acac-18333884c97d\", \"https://www.fire.ca.gov/incidents/2014/7/25/sand-fire/\", \"2014-08-02T19:15:00Z\", \"2014-08-02\", \"2014-07-25\", \"N\", true, false], [\"Bald Fire\", \"Y\", \"2014-08-15T14:00:00Z\", \"2014-07-30T20:15:00Z\", \"CAL FIRE Lassen-Modoc Unit / USFS - Lassen National Forest\", NaN, \"Shasta\", \"8 miles southeast of Fall River Mills\", 39736.0, 100.0, \"NaN\", \"CAL FIRE Lassen-Modoc Unit / USFS - Lassen National Forest\", -121.368, 40.901, \"NaN\", \"045a1a18-72e4-4579-b64c-f34b33a1031b\", \"https://www.fire.ca.gov/incidents/2014/7/30/bald-fire/\", \"2014-08-15T14:00:00Z\", \"2014-08-15\", \"2014-07-30\", \"N\", true, false], [\"Day Fire\", \"Y\", \"2022-10-24T11:28:26Z\", \"2014-07-30T19:01:00Z\", \"CAL FIRE Lassen-Modoc Unit\", NaN, \"Modoc\", \"North of the community of Day\", 13153.0, 100.0, \"NaN\", \"CAL FIRE Lassen-Modoc Unit, CAL FIRE, USFS, BLM, CAL EMA, Local Government, Modoc County Sheriff, Lassen  County Sheriff, Shasta County Sheriff, Sierra Pacific Industries, WM Beatty and Associates, and CDCR.\", -121.2144, 41.1336, \"NaN\", \"e3b7143d-6faa-4962-9fe5-c2d1559c5d20\", \"https://www.fire.ca.gov/incidents/2014/7/30/day-fire/\", \"2014-08-13T07:00:00Z\", \"2014-08-13\", \"2014-07-30\", \"N\", true, false], [\"Oregon Gulch Fire (part of the Beaver Complex)\", \"Y\", \"2014-08-18T09:45:00Z\", \"2014-07-30T23:00:00Z\", \"CAL FIRE Siskiyou Unit / Oregon Dept. of Forestry / Oregon Office of The State Fire Marshal\", NaN, \"Siskiyou\", \"Community of Copco, South of Oregon Border\", 35302.0, 100.0, \"NaN\", \"CAL FIRE Siskiyou Unit / Oregon Dept. of Forestry / Oregon Office of The State Fire Marshal\", -122.345, 42.048, \"NaN\", \"3b2609f0-b3a2-493c-bf66-c5b5f64409f8\", \"https://www.fire.ca.gov/incidents/2014/7/30/oregon-gulch-fire-part-of-the-beaver-complex/\", \"2014-08-18T09:45:00Z\", \"2014-08-18\", \"2014-07-30\", \"N\", true, false], [\"Eiler Fire\", \"Y\", \"2014-08-25T10:00:00Z\", \"2014-07-31T18:04:00Z\", \"CAL FIRE / USFS - Lassen National Forest\", NaN, \"Shasta\", \"12 miles southeast of Burney near Old Station\", 32416.0, 100.0, \"See evacuations above\", \"CAL FIRE / USFS - Lassen National Forest, Shasta County Fire, Burney Fire District, BLM, Shasta County Sheriff's Office, CHP, CDCR, PG&E, Sierra Pacific Industries, W. Beatty Co. Georgia Forestry Commission, Louisiana Office of Forestry\", -121.562, 40.72, \"NaN\", \"60ea04ec-5f5e-4a49-8fbc-fa50c17a1199\", \"https://www.fire.ca.gov/incidents/2014/7/31/eiler-fire/\", \"2014-08-25T10:00:00Z\", \"2014-08-25\", \"2014-07-31\", \"N\", true, false], [\"Tar Fire\", \"Y\", \"2024-07-23T23:32:41Z\", \"2024-07-22T11:24:38Z\", \"CAL FIRE Fresno-Kings Unit\", NaN, \"Kings\", \"Tar Canyon Rd and HWY 33\", 32.0, 100.0, \"NaN\", \"NaN\", -120.154889, 35.960403, \"Wildfire\", \"683af4f3-37ca-4c1d-81f3-5348ffbfee2c\", \"https://www.fire.ca.gov/incidents/2024/7/22/tar-fire/\", \"NaN\", \"NaN\", \"2024-07-22\", \"N\", true, false], [\"Gold Complex\", \"Y\", \"2024-08-04T23:08:11Z\", \"2024-07-22T14:34:07Z\", \"U.S. Forest Service-Plumas National Forest \", NaN, \"Plumas\", \"Plumas National Forest - Beckwourth Ranger District\", 3007.0, 100.0, \"NaN\", \"NaN\", -120.535158, 39.726014, \"Wildfire\", \"8ef9f3d7-125c-42a3-8654-f11eacb30b9d\", \"https://www.fire.ca.gov/incidents/2024/7/22/gold-complex/\", \"2024-08-04T23:08:08Z\", \"2024-08-04\", \"2024-07-22\", \"N\", false, false], [\"Pencil Fire\", \"Y\", \"2024-07-28T22:36:04Z\", \"2024-07-22T14:16:21Z\", \"U.S. Forest Service-Modoc National Forest \", NaN, \"Modoc\", \"Near McGinty Reservoir\", 396.0, 100.0, \"NaN\", \"NaN\", -120.519727, 41.80078, \"Wildfire\", \"e3b62ab2-1900-45e2-a3c9-bbe45d96379a\", \"https://www.fire.ca.gov/incidents/2024/7/22/pencil-fire/\", \"2024-07-28T22:35:49Z\", \"2024-07-28\", \"2024-07-22\", \"N\", false, false], [\"Juniper Fire\", \"Y\", \"2024-07-23T07:47:44Z\", \"2024-07-22T17:20:43Z\", \"CAL FIRE Riverside Unit\", NaN, \"Riverside\", \"Juniper Flats Road / Mapes Road, Homeland\", 15.0, 100.0, \"NaN\", \"NaN\", -117.112942, 33.757839, \"Wildfire\", \"55bd9617-c8cc-4062-b75b-8ed05328605d\", \"https://www.fire.ca.gov/incidents/2024/7/22/juniper-fire/\", \"NaN\", \"NaN\", \"2024-07-22\", \"N\", true, false], [\"Maria Fire\", \"Y\", \"2024-07-28T22:30:35Z\", \"2024-07-23T00:29:55Z\", \"CAL FIRE Tuolumne-Calaveras Unit\", NaN, \"Calaveras\", \"Jesus Maria Road and Hawver Road, southeast of Mokelumne Hill\", 71.0, 100.0, \"NaN\", \"NaN\", -120.656662, 38.28567, \"Wildfire\", \"5002319c-73be-49c6-bd3e-ee8a2275b437\", \"https://www.fire.ca.gov/incidents/2024/7/23/maria-fire/\", \"2024-07-28T22:30:18Z\", \"2024-07-28\", \"2024-07-23\", \"N\", true, false], [\"Border 63 Fire\", \"Y\", \"2024-07-25T12:16:12Z\", \"2024-07-23T09:56:42Z\", \"CAL FIRE San Diego Unit\", NaN, \"San Diego\", \"Highway 94, West of Bell Valley Truck Trail, Potrero\", 12.0, 100.0, \"NaN\", \"NaN\", -116.568589, 32.59738, \"Wildfire\", \"1fb7abf0-6d39-4453-8507-4ba02c7489b3\", \"https://www.fire.ca.gov/incidents/2024/7/23/border-63-fire/\", \"2024-07-25T12:16:06Z\", \"2024-07-25\", \"2024-07-23\", \"N\", true, false], [\"Circle Fire\", \"Y\", \"2024-07-25T23:06:46Z\", \"2024-07-23T12:36:19Z\", \"CAL FIRE Madera-Mariposa-Merced Unit\", NaN, \"Madera\", \"Road 200 and Circle J Ranch Road, O'neals\", 49.0, 100.0, \"NaN\", \"NaN\", -119.65963, 37.152487, \"Wildfire\", \"07237a37-5e0e-44f9-9255-7442bd596f77\", \"https://www.fire.ca.gov/incidents/2024/7/23/circle-fire/\", \"2024-07-25T23:06:44Z\", \"2024-07-25\", \"2024-07-23\", \"N\", true, false], [\"Metz Fire\", \"Y\", \"2024-07-25T09:50:36Z\", \"2024-07-23T15:13:43Z\", \"CAL FIRE San Benito-Monterey Unit\", NaN, \"Monterey\", \"Metz Road, east of Greenfield  \", 1100.0, 100.0, \"NaN\", \"NaN\", -121.199629, 36.340405, \"Wildfire\", \"4f825f9d-08d2-4ad6-87fd-d5152ad6b4ce\", \"https://www.fire.ca.gov/incidents/2024/7/23/metz-fire/\", \"NaN\", \"NaN\", \"2024-07-23\", \"N\", true, false], [\"Oakdale Fire\", \"Y\", \"2024-07-23T23:32:23Z\", \"2024-07-23T14:54:09Z\", \"CAL FIRE Madera-Mariposa-Merced Unit\", NaN, \"Merced\", \"Highway 59 North and Oakdale Rd.\", 96.0, 100.0, \"NaN\", \"NaN\", -120.541611, 37.430142, \"Wildfire\", \"f7ed042a-a219-44ef-b856-a6ec000fc194\", \"https://www.fire.ca.gov/incidents/2024/7/23/oakdale-fire/\", \"NaN\", \"NaN\", \"2024-07-23\", \"N\", true, false], [\"Cow Camp Fire\", \"Y\", \"2024-07-28T22:32:54Z\", \"2024-07-23T15:40:13Z\", \"Humboldt/Toiyabe National Forest\", NaN, \"Mono\", \"Cow Camp Road at Bodie Masonic Road, Bridgeport\", 292.0, 100.0, \"NaN\", \"NaN\", -119.074167, 38.300167, \"Wildfire\", \"852ed4e7-2505-41dc-9070-a71a0dce290a\", \"https://www.fire.ca.gov/incidents/2024/7/23/cow-camp-fire/\", \"2024-07-28T22:32:39Z\", \"2024-07-28\", \"2024-07-23\", \"N\", false, false], [\"Harry Fire\", \"Y\", \"2024-07-25T12:15:27Z\", \"2024-07-23T16:28:05Z\", \"CAL FIRE Siskiyou Unit\", NaN, \"Siskiyou\", \"Harry Cash Road, near Montague.\", 10.0, 100.0, \"NaN\", \"Montague Fire Department, Lake Shastina Fire Department, South Yreka Fire Department, Yreka City Fire Department, Klamath National Forest, Shasta Trinity National Forest, Siskiyou County Sheriff Office and Siskiyou County Office of Emergency Services.\", -122.369802, 41.673939, \"Wildfire\", \"46a2ab3e-8d76-4f30-8453-248c47b99624\", \"https://www.fire.ca.gov/incidents/2024/7/23/harry-fire/\", \"2024-07-25T12:15:21Z\", \"2024-07-25\", \"2024-07-23\", \"N\", true, false], [\"Beaver Fire\", \"Y\", \"2024-07-24T15:37:05Z\", \"2024-07-23T16:09:45Z\", \"CAL FIRE San Benito-Monterey Unit\", NaN, \"San Benito\", \"Coalinga Road, Paicines\", 19.0, 100.0, \"NaN\", \"NaN\", -120.802733, 36.362544, \"Wildfire\", \"6c0ae648-b287-4a3f-9c12-2c5f26494e86\", \"https://www.fire.ca.gov/incidents/2024/7/23/beaver-fire/\", \"NaN\", \"NaN\", \"2024-07-23\", \"N\", true, false], [\"Acres Fire\", \"Y\", \"2024-07-25T12:15:52Z\", \"2024-07-23T21:09:54Z\", \"CAL FIRE Madera-Mariposa-Merced Unit\", NaN, \"Madera\", \"22800 Block Road 26,North of Madera Acres\", 10.0, 100.0, \"NaN\", \"NaN\", -120.074549, 37.081853, \"Wildfire\", \"d524998a-1423-4088-a562-b5b511b6457b\", \"https://www.fire.ca.gov/incidents/2024/7/23/acres-fire/\", \"2024-07-25T12:15:44Z\", \"2024-07-25\", \"2024-07-23\", \"N\", true, false], [\"Grove 2 Fire\", \"Y\", \"2024-07-28T22:36:51Z\", \"2024-07-24T13:12:32Z\", \"CAL FIRE San Diego Unit\", NaN, \"San Diego\", \"Northeast of Sunshine Summit, CA\", 863.0, 100.0, \"NaN\", \"San Diego County Fire Protection District, Bureau of Land Managment, Vista Irrigation District.\\\\n\", -116.741601, 33.409448, \"Wildfire\", \"e35176e8-fbe8-451a-ba16-3bdddb7b83e0\", \"https://www.fire.ca.gov/incidents/2024/7/24/grove-2-fire/\", \"2024-07-28T22:36:35Z\", \"2024-07-28\", \"2024-07-24\", \"N\", true, false], [\"Bullion Fire\", \"Y\", \"2024-07-24T22:28:04Z\", \"2024-07-24T14:04:38Z\", \"CAL FIRE Madera-Mariposa-Merced Unit\", NaN, \"Mariposa\", \"6000 block of Highway 49, Mariposa\", 50.0, 100.0, \"NaN\", \"NaN\", -120.046081, 37.51019, \"Wildfire\", \"da3ce6fb-d828-4f22-bff2-ca124a86db5b\", \"https://www.fire.ca.gov/incidents/2024/7/24/bullion-fire/\", \"NaN\", \"NaN\", \"2024-07-24\", \"N\", true, false], [\"Scales Fire\", \"Y\", \"2024-07-27T20:03:14Z\", \"2024-07-24T14:20:16Z\", \"CAL FIRE Tehama-Glenn Unit\", NaN, \"Tehama\", \"Cascade Wonderland Highway, Cottonwood\", 59.0, 100.0, \"NaN\", \"NaN\", -122.283667, 40.356228, \"Wildfire\", \"b15dcd50-3ff0-4910-b004-2f6842ebc8fa\", \"https://www.fire.ca.gov/incidents/2024/7/24/scales-fire/\", \"NaN\", \"NaN\", \"2024-07-24\", \"N\", true, false], [\"Park Fire\", \"Y\", \"2024-10-01T09:07:53Z\", \"2024-07-24T14:52:43Z\", \"CAL FIRE Butte Unit, CAL FIRE Tehama-Glenn Unit and Lassen National Forest\", NaN, \"Butte, Tehama\", \"Off Upper Park Road in Bidwell Park, Chico\", 429603.0, 100.0, \"NaN\", \"\\\\n\\\\n\", -121.76168, 39.7789, \"Wildfire\", \"d9a0045f-b30c-490b-b181-5be460544947\", \"https://www.fire.ca.gov/incidents/2024/7/24/park-fire/\", \"NaN\", \"NaN\", \"2024-07-24\", \"N\", true, false], [\"Horse Fire\", \"Y\", \"2024-07-25T12:20:24Z\", \"2024-07-24T13:43:25Z\", \"NaN\", NaN, \"Modoc\", \"Unknown / TBD\", 13.0, 100.0, \"NaN\", \"NaN\", -121.304529, 41.742143, \"Wildfire\", \"55424dca-0bf0-48c6-a7d3-e892b8e7fafe\", \"https://www.fire.ca.gov/incidents/2024/7/24/horse-fire/\", \"2024-07-25T12:20:21Z\", \"2024-07-25\", \"2024-07-24\", \"N\", false, false], [\"R-6 Fire\", \"Y\", \"2024-07-30T17:31:56Z\", \"2024-07-23T20:18:39Z\", \"Bureau of Land Management\", NaN, \"Lassen\", \"North of Buckhorn Rd and West of the California and Nevada Border\", 26.0, 100.0, \"NaN\", \"NaN\", -120.0485, 40.914833, \"Wildfire\", \"763e1a5b-4887-40e0-8289-1b5deb8feb10\", \"https://www.fire.ca.gov/incidents/2024/7/23/r-6-fire/\", \"NaN\", \"NaN\", \"2024-07-23\", \"N\", false, false], [\"Flora Fire\", \"Y\", \"2024-07-28T22:29:29Z\", \"2024-07-24T16:41:23Z\", \"CAL FIRE Sonoma-Lake-Napa Unit\", NaN, \"Sonoma\", \"East side of Chalk Hill Road, Geyserville\", 36.0, 100.0, \"NaN\", \"Northern Sonoma County Fire, Santa Rosa Fire, Sonoma County Fire District, North Sonoma Coast Fire Protection District, Gold Ridge Fire Protection District, South Lake County Fire Protection District, Dry Creek Rancheria Fire, Healdsburg Fire Department,  CHP\\\\n\", -122.768983, 38.590922, \"Wildfire\", \"a40b4b2d-54ea-4aa7-8fa0-528c91bc8424\", \"https://www.fire.ca.gov/incidents/2024/7/24/flora-fire/\", \"2024-07-28T22:29:06Z\", \"2024-07-28\", \"2024-07-24\", \"N\", true, false], [\"Pentz Fire\", \"Y\", \"2024-07-25T23:07:06Z\", \"2024-07-24T19:33:53Z\", \"CAL FIRE Butte Unit\", NaN, \"Butte\", \"Durham-Pentz Road near Hwy 99, S/E of Chico Butte County\", 40.0, 100.0, \"NaN\", \"Butte County Sheriff's Office, PG&E, Plumas National Forest\", -121.680996, 39.638817, \"Wildfire\", \"c1545163-959e-4258-848c-3ffde697345a\", \"https://www.fire.ca.gov/incidents/2024/7/24/pentz-fire/\", \"2024-07-25T23:07:01Z\", \"2024-07-25\", \"2024-07-24\", \"N\", true, false], [\"Hatchett Fire\", \"Y\", \"2024-07-25T23:07:26Z\", \"2024-07-25T08:58:56Z\", \"CAL FIRE Tulare Unit\", NaN, \"Tulare\", \"Unknown / TBD\", 19.0, 100.0, \"NaN\", \"NaN\", -118.934596, 35.99271, \"Wildfire\", \"20850293-7c71-4c60-8a88-678e79a05c7c\", \"https://www.fire.ca.gov/incidents/2024/7/25/hatchett-fire/\", \"NaN\", \"NaN\", \"2024-07-25\", \"N\", false, false], [\"Acorn Fire\", \"Y\", \"2024-07-28T22:32:09Z\", \"2024-07-25T12:54:34Z\", \"Unified Command: CAL FIRE Sonoma-Lake-Napa Unit and Northshore Fire Protection District\", NaN, \"Lake\", \"1000 block of Manzanita Circle, Upper Lake\", 151.0, 100.0, \"NaN\", \"NaN\", -122.87667, 39.140133, \"Wildfire\", \"c6511dca-4499-4bd1-9699-d7ae0ab5a588\", \"https://www.fire.ca.gov/incidents/2024/7/25/acorn-fire/\", \"2024-07-28T22:31:51Z\", \"2024-07-28\", \"2024-07-25\", \"N\", true, false], [\"Lawton Fire\", \"Y\", \"2024-07-25T23:07:47Z\", \"2024-07-25T14:17:27Z\", \"CAL FIRE San Bernardino Unit\", NaN, \"San Bernardino\", \"South of Sage Drive & Sierra Vista Drive, Loma Linda\", 17.0, 100.0, \"NaN\", \"NaN\", -117.26745, 34.042687, \"Wildfire\", \"1542dc82-a61e-40fe-b01b-33dc2dc26773\", \"https://www.fire.ca.gov/incidents/2024/7/25/lawton-fire/\", \"2024-07-25T23:07:45Z\", \"2024-07-25\", \"2024-07-25\", \"N\", true, false], [\"Macy Fire\", \"Y\", \"2024-07-28T22:31:23Z\", \"2024-07-25T17:43:22Z\", \"CAL FIRE Riverside Unit\", NaN, \"Riverside\", \"Macy Street and Orange Street, Lake Elsinore\", 145.0, 100.0, \"NaN\", \"NaN\", -117.383235, 33.656742, \"Wildfire\", \"0b9dcedc-4ba1-41d3-bd28-e3f794253336\", \"https://www.fire.ca.gov/incidents/2024/7/25/macy-fire/\", \"2024-07-28T22:31:05Z\", \"2024-07-28\", \"2024-07-25\", \"N\", true, false], [\"Flynn Fire\", \"Y\", \"2024-07-28T22:34:55Z\", \"2024-07-25T21:48:20Z\", \"CAL FIRE Santa Clara Unit\", NaN, \"Alameda\", \"I 580 E and N Flynn Rd in the Altamont\", 389.0, 100.0, \"NaN\", \"NaN\", -121.69605, 37.724532, \"Wildfire\", \"2e22d229-d659-4405-ba5b-6218fa1d8e57\", \"https://www.fire.ca.gov/incidents/2024/7/25/flynn-fire/\", \"2024-07-28T22:34:42Z\", \"2024-07-28\", \"2024-07-25\", \"N\", true, false], [\"Victoria Fire\", \"Y\", \"2024-07-27T07:28:00Z\", \"2024-07-26T13:00:28Z\", \"Los Angeles County Fire Department\", NaN, \"Los Angeles\", \"North of Highway 14, Acton\", 10.0, 100.0, \"NaN\", \"NaN\", -118.245656, 34.50523, \"Wildfire\", \"dd43c38f-a57b-496f-a935-d4b2c2cee574\", \"https://www.fire.ca.gov/incidents/2024/7/26/victoria-fire/\", \"NaN\", \"NaN\", \"2024-07-26\", \"N\", false, false], [\"Lammers Fire\", \"Y\", \"2024-07-29T22:11:20Z\", \"2024-07-26T14:34:15Z\", \"South San Joaquin County Fire Authority\", NaN, \"San Joaquin\", \"South Lammers Road and Western Pacific Highway, Tracy\", 20.0, 100.0, \"NaN\", \"NaN\", -121.4764, 37.7146, \"Wildfire\", \"87afc01a-76e9-4e5a-84d0-1b4aa0ee6808\", \"https://www.fire.ca.gov/incidents/2024/7/26/lammers-fire/\", \"NaN\", \"NaN\", \"2024-07-26\", \"N\", false, false], [\"Creek Fire\", \"Y\", \"2024-08-03T06:53:11Z\", \"2024-07-26T15:57:00Z\", \"CAL FIRE Santa Clara Unit\", NaN, \"Alameda\", \"Welch Creek Rd and Calaveras Rd in Sunol\", 744.0, 100.0, \"NaN\", \"NaN\", -121.830534, 37.515462, \"Wildfire\", \"27b6f459-94a5-4f7e-953e-65ad6e5475eb\", \"https://www.fire.ca.gov/incidents/2024/7/26/creek-fire/\", \"NaN\", \"NaN\", \"2024-07-26\", \"N\", true, false], [\"Dockery Fire\", \"Y\", \"2024-07-27T07:28:13Z\", \"2024-07-26T21:14:13Z\", \"CAL FIRE Fresno-Kings Unit\", NaN, \"Fresno\", \"Unknown / TBD\", 20.0, 100.0, \"NaN\", \"NaN\", -119.601794, 36.573716, \"Wildfire\", \"058435b8-9372-466c-8073-fb8d34ba5ce0\", \"https://www.fire.ca.gov/incidents/2024/7/26/dockery-fire/\", \"NaN\", \"NaN\", \"2024-07-26\", \"N\", false, false], [\"Cosgrove Fire\", \"Y\", \"2024-07-28T22:28:18Z\", \"2024-07-27T14:49:12Z\", \"CAL FIRE Tuolumne-Calaveras Unit\", NaN, \"Calaveras\", \"Cosgrove Creek Road and Paloma Road, Valley Springs \", 12.0, 100.0, \"NaN\", \"NaN\", -120.802822, 38.222987, \"Wildfire\", \"7f2f64d4-8a53-44a3-b2fd-043ce5857574\", \"https://www.fire.ca.gov/incidents/2024/7/27/cosgrove-fire/\", \"2024-07-28T22:26:34Z\", \"2024-07-28\", \"2024-07-27\", \"N\", true, false], [\"Riley Fire\", \"Y\", \"2024-07-31T22:48:40Z\", \"2024-07-27T10:47:34Z\", \"CAL FIRE Mendocino Unit\", NaN, \"Mendocino\", \"Riley Road near Campo Noyo\", 12.0, 100.0, \"NaN\", \"NaN\", -123.590238, 39.418982, \"Wildfire\", \"3f6feca8-33d6-4a2f-ac4f-163cd64c2821\", \"https://www.fire.ca.gov/incidents/2024/7/27/riley-fire/\", \"2024-07-31T22:46:17Z\", \"2024-07-31\", \"2024-07-27\", \"N\", true, false], [\"Museum Fire\", \"Y\", \"2024-07-28T05:18:54Z\", \"2024-07-27T17:53:36Z\", \"CAL FIRE Riverside Unit\", NaN, \"Riverside\", \"17000 Block Lake Perris Drive\", 21.0, 100.0, \"NaN\", \"NaN\", -117.204108, 33.856642, \"Wildfire\", \"c76f540e-925a-48a7-8451-ff02c3705b49\", \"https://www.fire.ca.gov/incidents/2024/7/27/museum-fire/\", \"NaN\", \"NaN\", \"2024-07-27\", \"N\", true, false], [\"Walnut Fire\", \"Y\", \"2024-07-28T09:07:28Z\", \"2024-07-27T20:18:50Z\", \"CAL FIRE Riverside Unit\", NaN, \"Riverside\", \"Near Walnut Street and Sunny Canyon Street in Riverside County\", 68.0, 100.0, \"NaN\", \"NaN\", -117.257982, 33.826534, \"Wildfire\", \"85f2400b-f8c9-461b-9a89-8e90dccd5196\", \"https://www.fire.ca.gov/incidents/2024/7/27/walnut-fire/\", \"NaN\", \"NaN\", \"2024-07-27\", \"N\", false, false], [\"Walker Fire\", \"Y\", \"2024-07-29T10:49:58Z\", \"2024-07-28T13:58:53Z\", \"CAL FIRE Riverside Unit\", NaN, \"Riverside\", \"Walker Canyon Road and Lake Street, Lake Elsinore\", 65.0, 100.0, \"NaN\", \"NaN\", -117.393766, 33.731572, \"Wildfire\", \"c3da896d-42a4-4fb1-abcb-cf17c701f03c\", \"https://www.fire.ca.gov/incidents/2024/7/28/walker-fire/\", \"NaN\", \"NaN\", \"2024-07-28\", \"N\", true, false], [\"Border 65 Fire\", \"Y\", \"2024-07-29T22:10:26Z\", \"2024-07-28T13:05:02Z\", \"CAL FIRE San Deigo Unit\", NaN, \"San Diego\", \"Tecate Peak, Marron Valley\", 61.0, 100.0, \"NaN\", \"NaN\", -116.699961, 32.576716, \"Wildfire\", \"a7788f97-1255-400c-95de-3f73d38eff78\", \"https://www.fire.ca.gov/incidents/2024/7/28/border-65-fire/\", \"NaN\", \"NaN\", \"2024-07-28\", \"N\", true, false], [\"Simpson Fire\", \"Y\", \"2024-08-22T14:47:25Z\", \"2024-07-25T17:07:14Z\", \"Sequoia and Kings Canyon National parks\", NaN, \"Fresno\", \"Sequoia and Kings Canyon National Park\", 47.0, 0.0, \"NaN\", \"NaN\", -118.61484, 36.98268, \"Wildfire\", \"07012184-4968-49bf-af0b-5781e699efb6\", \"https://www.fire.ca.gov/incidents/2024/7/25/simpson-fire/\", \"NaN\", \"NaN\", \"2024-07-25\", \"N\", false, false], [\"Sunset Fire\", \"Y\", \"2024-07-29T08:57:30Z\", \"2024-07-28T14:27:07Z\", \"CAL FIRE Humboldt-Del Norte Unit\", NaN, \"Humboldt\", \"Near Mattole Road, North of Petrolia\", 13.0, 100.0, \"NaN\", \"NaN\", -124.362017, 40.368506, \"Wildfire\", \"c985d631-a65d-42f6-b4a3-5af4d804a21a\", \"https://www.fire.ca.gov/incidents/2024/7/28/sunset-fire/\", \"NaN\", \"NaN\", \"2024-07-28\", \"N\", true, false], [\"Nixon Fire\", \"Y\", \"2024-08-07T16:36:15Z\", \"2024-07-29T12:30:48Z\", \"CAL FIRE Riverside Unit\", NaN, \"Riverside\", \"Tule Valley Road and Richard Nixon Boulevard, Aguanga\", 5222.0, 100.0, \"NaN\", \"NaN\", -116.7805, 33.4773, \"Wildfire\", \"a899bdb4-c0c2-45d9-8310-39de98c4892a\", \"https://www.fire.ca.gov/incidents/2024/7/29/nixon-fire/\", \"NaN\", \"NaN\", \"2024-07-29\", \"N\", true, false], [\"Cougar Fire\", \"Y\", \"2024-07-31T22:43:24Z\", \"2024-07-29T16:20:54Z\", \"CAL FIRE Tehama-Glenn Unit\", NaN, \"Tehama\", \"Cougar Drive near Hillcrest Drive, Corning \", 9.0, 100.0, \"NaN\", \"NaN\", -122.404759, 40.002008, \"Wildfire\", \"67dfa6fa-3981-43a8-bed6-038556f64840\", \"https://www.fire.ca.gov/incidents/2024/7/29/cougar-fire/\", \"2024-07-31T22:39:18Z\", \"2024-07-31\", \"2024-07-29\", \"N\", true, false], [\"Carmen Fire\", \"Y\", \"2024-07-30T22:02:04Z\", \"2024-07-29T16:37:32Z\", \"CAL FIRE Riverside Unit\", NaN, \"Riverside\", \"Broadway and Carmen\\u2019s Av, in Cabazon\", 11.0, 100.0, \"NaN\", \"NaN\", -116.782856, 33.910649, \"Wildfire\", \"ac21a214-0984-4fb9-98ed-0b812bd43bee\", \"https://www.fire.ca.gov/incidents/2024/7/29/carmen-fire/\", \"NaN\", \"NaN\", \"2024-07-29\", \"N\", true, false], [\"Border 66 Fire\", \"Y\", \"2024-07-31T22:48:20Z\", \"2024-07-30T11:17:16Z\", \"CAL FIRE San Diego Unit\", NaN, \"San Diego\", \"West of Highway 188, Tecate\", 300.0, 100.0, \"NaN\", \"NaN\", -116.6961, 32.5736, \"Wildfire\", \"17e1886c-3b88-4b34-8e60-95fb5cd349de\", \"https://www.fire.ca.gov/incidents/2024/7/30/border-66-fire/\", \"NaN\", \"NaN\", \"2024-07-30\", \"N\", true, false], [\"Italian Fire\", \"Y\", \"2024-08-22T14:47:08Z\", \"2024-07-29T12:30:39Z\", \"Sierra National Forest\", NaN, \"Fresno\", \"Italian Bar Road and Jose Basin Road, Shaver Lake\", 46.0, NaN, \"NaN\", \"NaN\", -119.394, 37.1336, \"Wildfire\", \"2174967f-fd0d-4114-b887-f9d87de74dcb\", \"https://www.fire.ca.gov/incidents/2024/7/29/italian-fire/\", \"NaN\", \"NaN\", \"2024-07-29\", \"N\", false, false], [\"Pedro Fire\", \"Y\", \"2024-08-08T20:14:55Z\", \"2024-07-30T12:47:53Z\", \"CAL FIRE Madera-Mariposa-Merced Unit\", NaN, \"Mariposa, Tuolumne\", \"Arbolada Drive, Lake Don Pedro\", 3815.0, 100.0, \"NaN\", \"BLM, Mariposa County Sheriffs, Tuolumne County Sheriffs, California Highway Patrol, Cal OES, Mariposa County OES, PG&E, Mariposa Public Works, Merced Irrigation District, Red Cross, California Conservation Corps.\", -120.31848, 37.689773, \"Wildfire\", \"9962f124-7701-443e-97b3-d6f64f5e673d\", \"https://www.fire.ca.gov/incidents/2024/7/30/pedro-fire/\", \"NaN\", \"NaN\", \"2024-07-30\", \"N\", true, false], [\"Plantation Fire\", \"Y\", \"2024-08-01T08:09:29Z\", \"2024-07-17T11:40:20Z\", \"USFS - Modoc National Forest\", NaN, \"Modoc\", \"East of Hwy 395 and Goose Lake, North of Davis Creek\", 31.0, 100.0, \"NaN\", \"NaN\", -120.341894, 41.842269, \"Wildfire\", \"6a7b4fc4-4246-4629-a001-f0a5e3bac50d\", \"https://www.fire.ca.gov/incidents/2024/7/17/plantation-fire/\", \"NaN\", \"NaN\", \"2024-07-17\", \"N\", false, false], [\"Eagle Fire\", \"Y\", \"2024-07-31T22:42:25Z\", \"2024-07-30T13:14:59Z\", \"CAL FIRE San Luis Obispo Unit\", NaN, \"San Luis Obispo\", \"2500 block of Bald Eagle, San Miguel\", 11.0, 100.0, \"NaN\", \"NaN\", -120.561774, 35.720588, \"Wildfire\", \"5036da8f-717a-4a81-88b2-8d719d2c19e3\", \"https://www.fire.ca.gov/incidents/2024/7/30/eagle-fire/\", \"2024-07-31T22:42:09Z\", \"2024-07-31\", \"2024-07-30\", \"N\", true, false], [\"Borel Fire\", \"Y\", \"2024-09-16T22:06:56Z\", \"2024-07-24T12:59:10Z\", \"Sequoia National Forest\\\\r\\\\n\", NaN, \"Kern\", \"Highway 178, East of Democrat\", 59288.0, 100.0, \"NaN\", \"NaN\", -118.6836, 35.515, \"Wildfire\", \"cdbc2cd1-1679-4161-9235-df8e7137efa1\", \"https://www.fire.ca.gov/incidents/2024/7/24/borel-fire/\", \"2024-09-16T00:00:00Z\", \"2024-09-16\", \"2024-07-24\", \"N\", false, false], [\"Pole Fire\", \"Y\", \"2024-08-22T14:46:46Z\", \"2024-07-30T16:26:10Z\", \"Bureau Of Land Management - California Desert District\", NaN, \"San Bernardino\", \"Roundup Way at Central Road, Apple Valley\", 300.0, 100.0, \"NaN\", \"NaN\", -117.172494, 34.413261, \"Wildfire\", \"a917a41a-20d6-4163-b82d-2568bcc94e8b\", \"https://www.fire.ca.gov/incidents/2024/7/30/pole-fire/\", \"2024-08-22T14:46:43Z\", \"2024-08-22\", \"2024-07-30\", \"N\", false, false], [\"Happy Fire\", \"Y\", \"2024-08-22T14:49:49Z\", \"2024-07-16T09:18:46Z\", \"Sequoia National Forest\", NaN, \"Fresno\", \"Cedar Grove\", 24.0, NaN, \"NaN\", \"NaN\", -118.738174, 36.850037, \"Wildfire\", \"4809d048-58f1-4e0e-af5e-59eaa93dc61c\", \"https://www.fire.ca.gov/incidents/2024/7/16/happy-fire/\", \"NaN\", \"NaN\", \"2024-07-16\", \"N\", false, false], [\"Dino Fire\", \"Y\", \"2024-07-31T19:21:18Z\", \"2024-07-31T15:02:29Z\", \"CAL FIRE Madera-Mariposa-Merced Unit\", NaN, \"Merced\", \"Pacheco Pass Highway, Hollister\", 15.0, 100.0, \"NaN\", \"NaN\", -121.213195, 37.068124, \"Wildfire\", \"e5bfa9bc-cd0f-4475-8a2d-f48c1373a94d\", \"https://www.fire.ca.gov/incidents/2024/7/31/dino-fire/\", \"NaN\", \"NaN\", \"2024-07-31\", \"N\", true, false], [\"Alamos Fire\", \"Y\", \"2024-08-05T16:54:28Z\", \"2024-08-02T15:23:49Z\", \"City of Murrieta\", NaN, \"Riverside\", \"Los Alamos Road and Ruth Ellen Way, Murrieta\", 72.0, 100.0, \"NaN\", \"NaN\", -117.166941, 33.582198, \"Wildfire\", \"382cdef0-e558-48b1-bccb-4997878962ff\", \"https://www.fire.ca.gov/incidents/2024/8/2/alamos-fire/\", \"NaN\", \"NaN\", \"2024-08-02\", \"N\", false, false], [\"Tahoe Fire\", \"Y\", \"2024-08-03T20:49:59Z\", \"2024-08-03T15:09:59Z\", \"CAL FIRE Madera-Mariposa-Merced Unit\", NaN, \"Merced\", \"Tahoe street and Highway 59 North \", 22.0, 100.0, \"NaN\", \"NaN\", -120.507495, 37.353634, \"Wildfire\", \"d34989e6-3964-42c4-a25a-05d0530bb505\", \"https://www.fire.ca.gov/incidents/2024/8/3/tahoe-fire/\", \"NaN\", \"NaN\", \"2024-08-03\", \"N\", true, false], [\"Burbank Fire \", \"Y\", \"2024-08-04T23:08:36Z\", \"2024-08-03T17:11:53Z\", \"Los Angeles Fire Department \", NaN, \"Los Angeles\", \"Burbank Boulevard and Woodley Avenue, Encino\", 75.0, 100.0, \"NaN\", \"NaN\", -118.475521, 34.172602, \"Wildfire\", \"59e1a0fb-d5df-4c79-b35e-ff9bb3823b16\", \"https://www.fire.ca.gov/incidents/2024/8/3/burbank-fire/\", \"2024-08-04T23:08:34Z\", \"2024-08-04\", \"2024-08-03\", \"N\", false, false], [\"Franklin Fire\", \"Y\", \"2024-08-05T08:17:29Z\", \"2024-08-04T14:40:38Z\", \"CAL FIRE Riverside Unit\", NaN, \"Riverside\", \"South of I-5, South of N Main Street, Lake Elsinore\", 12.0, 100.0, \"NaN\", \"NaN\", -117.318087, 33.671261, \"Wildfire\", \"67cb1820-f2c6-4b7e-a172-c23a87e84f3a\", \"https://www.fire.ca.gov/incidents/2024/8/4/franklin-fire/\", \"NaN\", \"NaN\", \"2024-08-04\", \"N\", true, false], [\"Bella Fire\", \"Y\", \"2024-08-10T06:01:29Z\", \"2024-08-04T17:28:39Z\", \"Bureau of Land Management\", NaN, \"Kern\", \"Highway 17, west of Highway 14, Inyokern\", 500.0, 100.0, \"NaN\", \"NaN\", -117.970987, 35.633966, \"Wildfire\", \"c0cdfdc9-d5e1-44b2-b95b-a8a6d8f1686b\", \"https://www.fire.ca.gov/incidents/2024/8/4/bella-fire/\", \"NaN\", \"NaN\", \"2024-08-04\", \"N\", false, false], [\"Gover Fire\", \"Y\", \"2024-08-07T22:38:46Z\", \"2024-08-05T14:34:23Z\", \"CAL FIRE Shasta-Trinity Unit\", NaN, \"Shasta\", \"3000 Block of Gover Road, Andersen\", 12.0, 100.0, \"NaN\", \"NaN\", -122.176593, 40.393586, \"Wildfire\", \"04f84ac3-d09e-4cd3-a78f-1c3a8e44c0c3\", \"https://www.fire.ca.gov/incidents/2024/8/5/gover-fire/\", \"NaN\", \"NaN\", \"2024-08-05\", \"N\", true, false], [\"Kimtu Fire\", \"Y\", \"2024-08-07T22:38:22Z\", \"2024-08-05T15:15:26Z\", \"CAL FIRE Humboldt-Del Norte Unit\", NaN, \"Humboldt\", \"Kimtu Road, Garberville\", 14.0, 100.0, \"NaN\", \"NaN\", -123.807764, 40.08453, \"Wildfire\", \"d4df6b62-f791-4b72-a376-ff33d5c33901\", \"https://www.fire.ca.gov/incidents/2024/8/5/kimtu-fire/\", \"NaN\", \"NaN\", \"2024-08-05\", \"N\", true, false], [\"Middle Fire\", \"Y\", \"2024-08-21T20:52:29Z\", \"2024-08-04T15:51:59Z\", \"Yosemite National Park\", NaN, \"Tuolumne\", \"S of Middle Tuolumne River & N of Tioga Rd, Yosemite National Park\", 310.0, 100.0, \"NaN\", \"NaN\", -119.704567, 37.862367, \"Wildfire\", \"ad2d133d-2af3-413d-9b4e-a916320b451e\", \"https://www.fire.ca.gov/incidents/2024/8/4/middle-fire/\", \"NaN\", \"NaN\", \"2024-08-04\", \"N\", false, false], [\"Edgehill Fire\", \"Y\", \"2024-08-08T20:32:02Z\", \"2024-08-05T14:38:00Z\", \"San Bernardino County Fire\", NaN, \"San Bernardino\", \"Beverly Drive & W Edgehill Rd, San Bernardino\", 54.0, 100.0, \"NaN\", \"NaN\", -117.304374, 34.151668, \"Wildfire\", \"b213ec11-15c6-495e-9e4e-01555ab35215\", \"https://www.fire.ca.gov/incidents/2024/8/5/edgehill-fire/\", \"NaN\", \"NaN\", \"2024-08-05\", \"N\", false, false], [\"Town Fire\", \"Y\", \"2024-08-10T06:01:10Z\", \"2024-08-07T11:11:07Z\", \"CAL FIRE Tuolumne-Calaveras Unit\", NaN, \"Calaveras\", \"Watertown Road, Valley Springs\", 10.0, 100.0, \"NaN\", \"NaN\", -120.833961, 38.217239, \"Wildfire\", \"f4d1a569-fee6-466a-8973-ed1a3cb91966\", \"https://www.fire.ca.gov/incidents/2024/8/7/town-fire/\", \"NaN\", \"NaN\", \"2024-08-07\", \"N\", true, false], [\"Silver Fire\", \"Y\", \"2024-08-12T23:13:12Z\", \"2024-08-07T14:07:52Z\", \"CAL FIRE Amador-El Dorado Unit\", NaN, \"El Dorado\", \"2300 Block of Green Valley Road, Green Springs Ranch\", 41.0, 100.0, \"NaN\", \"NaN\", -121.020844, 38.702712, \"Wildfire\", \"8a183a23-b0ac-4edc-9892-821b96b40597\", \"https://www.fire.ca.gov/incidents/2024/8/7/silver-fire/\", \"NaN\", \"NaN\", \"2024-08-07\", \"N\", true, false], [\"Purple Fire\", \"Y\", \"2024-08-08T18:54:06Z\", \"2024-08-07T17:22:21Z\", \"CAL FIRE Butte Unit\", NaN, \"Butte\", \"Dickerson Lane and Purple Rocks Lane, Robinson Mill\", 10.0, 100.0, \"NaN\", \"NaN\", -121.35725, 39.46018, \"Wildfire\", \"95290f3c-9c14-4249-9665-a14c14f29aab\", \"https://www.fire.ca.gov/incidents/2024/8/7/purple-fire/\", \"NaN\", \"NaN\", \"2024-08-07\", \"N\", true, false], [\"Morrison Fire\", \"Y\", \"2024-08-22T14:46:12Z\", \"2024-08-04T10:46:39Z\", \"National Park Service\", NaN, \"Tuolumne\", \"Near Morrison Creek, Yosemite National Park\", 31.0, 35.0, \"NaN\", \"NaN\", -119.615283, 37.9043, \"Wildfire\", \"4d9c178d-e086-42f4-b6b1-a931b5b2b2a9\", \"https://www.fire.ca.gov/incidents/2024/8/4/morrison-fire/\", \"NaN\", \"NaN\", \"2024-08-04\", \"N\", false, false], [\"Valley Fire\", \"Y\", \"2024-08-08T18:52:44Z\", \"2024-08-08T15:03:26Z\", \"CAL FIRE Madera-Mariposa-Merced Unit\", NaN, \"Madera\", \"Road 14, Madera\", 55.0, 100.0, \"NaN\", \"NaN\", -120.291882, 36.954837, \"Wildfire\", \"aad4f00a-f28f-414d-83d4-9e40976fea36\", \"https://www.fire.ca.gov/incidents/2024/8/8/valley-fire/\", \"NaN\", \"NaN\", \"2024-08-08\", \"N\", true, false], [\"Canyon Fire\", \"Y\", \"2024-08-26T09:33:59Z\", \"2024-08-08T22:56:00Z\", \"NaN\", NaN, \"Tuolumne\", \"Buchanan Rd and Canyon Dr, Tuolumne City\", 80.0, 100.0, \"NaN\", \"NaN\", -120.21464, 37.978113, \"Wildfire\", \"f4b94fa8-a58e-4e0a-a566-71d35e3f8b6f\", \"https://www.fire.ca.gov/incidents/2024/8/8/canyon-fire/\", \"2024-08-23T18:00:00Z\", \"2024-08-23\", \"2024-08-08\", \"N\", true, false], [\"Boise Fire\", \"Y\", \"2024-09-17T18:14:31Z\", \"2024-08-09T11:25:44Z\", \"Six Rivers National Forest\", NaN, \"Humboldt\", \"South of Orleans\", 12967.0, 91.0, \"NaN\", \"NaN\", -123.5113, 41.2522, \"Wildfire\", \"b09307d2-1a45-473c-9734-9af5171a3e6d\", \"https://www.fire.ca.gov/incidents/2024/8/9/boise-fire/\", \"NaN\", \"NaN\", \"2024-08-09\", \"N\", false, false], [\"Blue Fire\", \"Y\", \"2024-08-10T19:08:39Z\", \"2024-08-09T15:32:55Z\", \"CAL FIRE Sonoma-Lake-Napa Unit\", NaN, \"Solano\", \"Blue Mountain Drive intersection at I-80, southwest of Vacaville\", 60.0, 100.0, \"NaN\", \"NaN\", -122.0501, 38.3073, \"Wildfire\", \"9d3c785a-73a3-4654-b0e9-b467a2b4252e\", \"https://www.fire.ca.gov/incidents/2024/8/9/blue-fire/\", \"NaN\", \"NaN\", \"2024-08-09\", \"N\", true, false], [\"Cal Fire\", \"Y\", \"2024-08-12T23:23:48Z\", \"2024-08-09T13:33:00Z\", \"Kern County Fire Department\", NaN, \"Kern\", \"14600 Block of Tehachapi-Willow Springs Rd, Mojave\", 60.0, 100.0, \"NaN\", \"NaN\", -118.364146, 35.030731, \"Wildfire\", \"32411b4b-22e3-442b-b783-dcacff114841\", \"https://www.fire.ca.gov/incidents/2024/8/9/cal-fire/\", \"NaN\", \"NaN\", \"2024-08-09\", \"N\", true, false], [\"Mack Fire\", \"Y\", \"2024-08-10T21:23:05Z\", \"2024-08-10T12:26:18Z\", \"CAL FIRE Riverside Unit\", NaN, \"Riverside\", \"Mack St. and Old Elsinore Rd, Mead Valley\", 63.0, 100.0, \"NaN\", \"Corona Fire Department and City of Riverside Fire\", -117.282555, 33.822694, \"Wildfire\", \"ae054933-c432-48fc-8842-23614a7a3139\", \"https://www.fire.ca.gov/incidents/2024/8/10/mack-fire/\", \"NaN\", \"NaN\", \"2024-08-10\", \"N\", true, false], [\"Summit Fire\", \"Y\", \"2024-08-22T14:45:47Z\", \"2024-08-10T13:19:52Z\", \"CAL FIRE Tuolumne-Calaveras Unit\", NaN, \"Calaveras\", \"Summit Level Road, Rail Road Flats\", 21.0, 100.0, \"NaN\", \"NaN\", -120.427903, 38.324942, \"Wildfire\", \"575b3dff-3c7e-4915-ac34-d7174ba7f555\", \"https://www.fire.ca.gov/incidents/2024/8/10/summit-fire/\", \"NaN\", \"NaN\", \"2024-08-10\", \"N\", true, false], [\"Lower Fire\", \"Y\", \"2024-08-15T04:51:47Z\", \"2024-08-10T15:55:31Z\", \"CAL FIRE Shasta-Trinity Unit\", NaN, \"Shasta\", \"Lower Springs road and Eureka Way, Shasta\", 110.0, 100.0, \"NaN\", \"NaN\", -122.449341, 40.581893, \"Wildfire\", \"cc78abb3-6b9f-4285-93c4-0466946916d2\", \"https://www.fire.ca.gov/incidents/2024/8/10/lower-fire/\", \"2024-08-14T04:51:10Z\", \"2024-08-14\", \"2024-08-10\", \"N\", true, false], [\"Blue Fire\", \"Y\", \"2024-08-15T04:50:41Z\", \"2024-08-10T18:25:52Z\", \"Kern County Fire Department\", NaN, \"Kern\", \"Sand Canyon Road, Caliente\", 427.0, 100.0, \"NaN\", \"NaN\", -118.419612, 35.33324, \"Wildfire\", \"d9b21406-7000-42b7-bed6-7bd26a8d64a7\", \"https://www.fire.ca.gov/incidents/2024/8/10/blue-fire/\", \"2024-08-14T04:50:10Z\", \"2024-08-14\", \"2024-08-10\", \"N\", false, false], [\"Mission Fire\", \"Y\", \"2024-08-10T21:23:15Z\", \"2024-08-10T16:40:04Z\", \"CAL FIRE Riverside Unit\", NaN, \"Riverside\", \"Mission Trail Road and Vine Street\", 11.0, 100.0, \"NaN\", \"NaN\", -117.292525, 33.640118, \"Wildfire\", \"6cd5af98-a8ec-4d4b-aa64-ec6248c58096\", \"https://www.fire.ca.gov/incidents/2024/8/10/mission-fire/\", \"NaN\", \"NaN\", \"2024-08-10\", \"N\", true, false], [\"Meiss Fire\", \"Y\", \"2024-08-15T22:02:47Z\", \"2024-08-11T13:40:03Z\", \"CAL FIRE Amador-El Dorado Unit\", NaN, \"Sacramento\", \"Near Ione Road and Meiss Road \", 108.0, 100.0, \"NaN\", \"NaN\", -121.054386, 38.427179, \"Wildfire\", \"3e0f22ff-2ceb-4277-b4cc-cb5803cccea5\", \"https://www.fire.ca.gov/incidents/2024/8/11/meiss-fire/\", \"NaN\", \"NaN\", \"2024-08-11\", \"N\", true, false], [\"Turbine Fire\", \"Y\", \"2024-08-16T21:11:00Z\", \"2024-08-12T10:18:00Z\", \"Kern County Fire Department\", NaN, \"Kern\", \"Tehachapi Willow Springs Road, Mojave\", 329.0, 100.0, \"NaN\", \"NaN\", -118.341991, 35.020035, \"Wildfire\", \"ef1fb5c1-e8f5-4445-a2bd-1979a652c897\", \"https://www.fire.ca.gov/incidents/2024/8/12/turbine-fire/\", \"NaN\", \"NaN\", \"2024-08-12\", \"N\", false, false], [\"Oso Fire\", \"Y\", \"2024-08-14T12:18:35Z\", \"2024-08-12T12:07:24Z\", \"CAL FIRE Santa Clara Unit\", NaN, \"Stanislaus\", \"Mt Oso Rd North of Del Puerto Canyon Road, West of Patterson\", 11.0, 100.0, \"NaN\", \"NaN\", -121.23737, 37.471329, \"Wildfire\", \"1b90265d-3400-4b35-a684-378a3acbdba4\", \"https://www.fire.ca.gov/incidents/2024/8/12/oso-fire/\", \"NaN\", \"NaN\", \"2024-08-12\", \"N\", true, false], [\"Reservoir Fire\", \"Y\", \"2024-08-15T04:54:23Z\", \"2024-08-12T14:03:25Z\", \"CAL FIRE Sonoma-Lake-Napa Unit\", NaN, \"Lake\", \"Indian Valley Reservoir Road and Walker Ridge Road, southeast of Indian Valley Reservoir\", 68.0, 100.0, \"NaN\", \"Mendocino National Forest, Bureau of Land Management, Lake County Fire Protection District, , Northshore Fire Protection District, Williams Fire Department, Esparto Fire Protection District, Maxwell Fire Protection District, Lake County Fire Protection District, Napa County Fire Department\", -122.509941, 39.07015, \"Wildfire\", \"379a65b6-ab70-44c9-bf5c-9e175516dddd\", \"https://www.fire.ca.gov/incidents/2024/8/12/reservoir-fire/\", \"2024-08-14T00:00:00Z\", \"2024-08-14\", \"2024-08-12\", \"N\", true, false], [\"Anita Fire\", \"Y\", \"2024-08-15T22:03:17Z\", \"2024-08-12T14:22:48Z\", \"CAL FIRE San Diego Unit\", NaN, \"San Diego\", \"Millar Ranch Road, North of Millar Anita Lane, Spring Valley\", 20.0, 100.0, \"NaN\", \"NaN\", -116.927749, 32.717599, \"Wildfire\", \"4e768968-bce1-45ea-b5f1-a28d75679300\", \"https://www.fire.ca.gov/incidents/2024/8/12/anita-fire/\", \"2024-08-15T22:03:16Z\", \"2024-08-15\", \"2024-08-12\", \"N\", true, false], [\"Queenstone Fire\", \"Y\", \"2024-08-15T22:03:39Z\", \"2024-08-13T07:31:00Z\", \"Marin County Fire Department\", NaN, \"Marin\", \"Queenstone Fire Rd & Chicken Shack Fire Rd, west of Marinwood\", 18.0, 100.0, \"NaN\", \"NaN\", -122.562044, 38.043415, \"Wildfire\", \"198ef9d9-1f09-44fe-bced-8640414f3f5e\", \"https://www.fire.ca.gov/incidents/2024/8/13/queenstone-fire/\", \"2024-08-15T22:03:38Z\", \"2024-08-15\", \"2024-08-13\", \"N\", false, false], [\"Quarry Fire\", \"Y\", \"2024-08-13T12:51:00Z\", \"2023-09-09T19:32:00Z\", \"Stanislaus National Forest\", NaN, \"Tuolumne\", \"Reynolds Creek in Stanislaus National Forest\", 9130.0, 100.0, \"NaN\", \"NaN\", -119.991667, 38.06095, \"Wildfire\", \"8fd639fa-cdc5-4a0c-8b8a-7ee7887d30ad\", \"https://www.fire.ca.gov/incidents/2023/9/9/quarry-fire/\", \"2023-11-15T12:49:01Z\", \"2023-11-15\", \"2023-09-09\", \"N\", false, false], [\"Papa Fire\", \"Y\", \"2024-08-21T17:31:00Z\", \"2024-08-13T14:52:53Z\", \"Camp Pendleton\", NaN, \"San Diego\", \"Papa 3 Training Area, Camp Pendleton\", 60.0, 100.0, \"NaN\", \"NaN\", -117.368598, 33.307302, \"Wildfire\", \"5f07097a-1deb-44b9-bf44-4a7b78c54749\", \"https://www.fire.ca.gov/incidents/2024/8/13/papa-fire/\", \"2024-08-18T21:21:34Z\", \"2024-08-18\", \"2024-08-13\", \"N\", false, false], [\"Moon Fire\", \"Y\", \"2024-08-22T14:45:21Z\", \"2024-08-13T14:08:09Z\", \"Angeles National Forest\", NaN, \"Los Angeles\", \"Unknown / TBD\", 15.0, 75.0, \"NaN\", \"NaN\", -117.840605, 34.284624, \"Wildfire\", \"b50cc0ce-29f2-4300-9014-747d94b7a5e4\", \"https://www.fire.ca.gov/incidents/2024/8/13/moon-fire/\", \"NaN\", \"NaN\", \"2024-08-13\", \"N\", false, false], [\"Coffee Pot Fire\", \"N\", \"2024-09-27T20:16:12Z\", \"2024-08-03T08:05:39Z\", \"Sequoia and Kings Canyon National Parks\", NaN, \"Tulare\", \"West of Homers Nose Grove, Sequoia National Park\", 14104.0, 93.0, \"NaN\", \"Tulare County Fire Department, Tulare County Sheriffs Department, Tulare County Office of Emergency Services.\", -118.768, 36.38857, \"Wildfire\", \"5366f40a-04c4-4dda-859a-17cba19fade4\", \"https://www.fire.ca.gov/incidents/2024/8/3/coffee-pot-fire/\", \"NaN\", \"NaN\", \"2024-08-03\", \"Y\", false, false], [\"Kahlon Fire\", \"Y\", \"2024-08-13T21:50:16Z\", \"2024-08-13T16:00:58Z\", \"CAL FIRE Madera-Mariposa-Merced Unit\", NaN, \"Merced\", \"Near Highway 99, South of Merced\", 17.0, 100.0, \"NaN\", \"NaN\", -120.32559, 37.181034, \"Wildfire\", \"5e835ec5-e5aa-4fb7-bf45-0d437e73fcdf\", \"https://www.fire.ca.gov/incidents/2024/8/13/kahlon-fire/\", \"2024-08-13T21:49:53Z\", \"2024-08-13\", \"2024-08-13\", \"N\", true, false], [\"Bruns Fire\", \"Y\", \"2024-08-15T04:55:26Z\", \"2024-08-14T11:33:29Z\", \"CAL FIRE Santa Clara Unit in unified command with Contra Costa Fire Protection District\", NaN, \"Contra Costa\", \"Bruns Road, South of Byron\", 25.0, 100.0, \"NaN\", \"NaN\", -121.604861, 37.809344, \"Wildfire\", \"32a55d22-1435-4014-a3c9-9cdaaaadac9f\", \"https://www.fire.ca.gov/incidents/2024/8/14/bruns-fire/\", \"2024-08-14T00:00:00Z\", \"2024-08-14\", \"2024-08-14\", \"N\", true, false], [\"White Fire\", \"Y\", \"2024-08-21T17:30:42Z\", \"2024-08-14T13:11:03Z\", \"CAL FIRE Riverside Unit\", NaN, \"Riverside\", \"West bound Interstate 10  west of Whitewater\", 13.0, 100.0, \"NaN\", \"Bureau of Land Management \", -116.650391, 33.922735, \"Wildfire\", \"8acc2c5c-d96a-4197-8b87-354bb9a6915f\", \"https://www.fire.ca.gov/incidents/2024/8/14/white-fire/\", \"2024-08-18T21:22:57Z\", \"2024-08-18\", \"2024-08-14\", \"N\", true, false], [\"Zarzo Fire\", \"Y\", \"2024-08-15T22:02:19Z\", \"2024-08-15T02:29:23Z\", \"CAL FIRE Madera-Mariposa-Merced Unit\", NaN, \"Mariposa\", \"Zarzo Way and Lazo Way\", 103.0, 100.0, \"NaN\", \"NaN\", -120.313718, 37.630738, \"Wildfire\", \"6710ee55-96da-4c8d-9e8f-db171fbf0bf1\", \"https://www.fire.ca.gov/incidents/2024/8/15/zarzo-fire/\", \"NaN\", \"NaN\", \"2024-08-15\", \"N\", true, false], [\"Waltz Fire\", \"Y\", \"2024-08-16T07:47:54Z\", \"2024-08-15T13:29:56Z\", \"CAL FIRE Madera-Mariposa-Merced Unit\", NaN, \"Merced\", \"Bear Creek and Bonner Road.\", 85.0, 100.0, \"NaN\", \"NaN\", -120.238125, 37.349442, \"Wildfire\", \"a9a1a8e3-50af-4478-9190-48e0923623c3\", \"https://www.fire.ca.gov/incidents/2024/8/15/waltz-fire/\", \"NaN\", \"NaN\", \"2024-08-15\", \"N\", true, false], [\"Marco Fire\", \"Y\", \"2024-08-18T21:21:09Z\", \"2024-08-16T15:32:25Z\", \"CAL FIRE San Bernardino Unit\", NaN, \"San Bernardino\", \"Luna Road and White Road, near Baldy Mesa\", 65.0, 100.0, \"NaN\", \"NaN\", -117.463332, 34.475777, \"Wildfire\", \"4440cc32-aa1c-4cc4-ab03-69f38c10775a\", \"https://www.fire.ca.gov/incidents/2024/8/16/marco-fire/\", \"2024-08-18T21:20:59Z\", \"2024-08-18\", \"2024-08-16\", \"N\", true, false], [\"Pendulum Fire\", \"Y\", \"2024-08-17T21:16:31Z\", \"2024-08-16T18:48:37Z\", \"Kern County Fire Department\", NaN, \"Kern\", \"Pendulum Drive, Bakersfield\", 269.0, 100.0, \"NaN\", \"NaN\", -118.870917, 35.418974, \"Wildfire\", \"4ebbd415-254c-4963-85cd-3d7a82833785\", \"https://www.fire.ca.gov/incidents/2024/8/16/pendulum-fire/\", \"NaN\", \"NaN\", \"2024-08-16\", \"N\", false, false], [\"Cypress Fire\", \"Y\", \"2024-08-21T17:29:50Z\", \"2024-08-17T13:06:39Z\", \"CAL FIRE San Luis Obispo Unit\", NaN, \"San Luis Obispo\", \"Santa Rosa Creek Road and Cypress Mountain Road, West of Templeton\", 88.0, 100.0, \"NaN\", \"NaN\", -120.901571, 35.578845, \"Wildfire\", \"e78d33bf-bcc3-4312-8e67-75e226e7ad39\", \"https://www.fire.ca.gov/incidents/2024/8/17/cypress-fire/\", \"NaN\", \"NaN\", \"2024-08-17\", \"N\", true, false], [\"Marysville Fire\", \"Y\", \"2024-08-18T21:22:12Z\", \"2024-08-17T13:53:52Z\", \"CAL FIRE Butte Unit\", NaN, \"Butte\", \"Baggett-Marysville Road, south Oroville\", 23.0, 100.0, \"NaN\", \"NaN\", -121.561366, 39.468991, \"Wildfire\", \"28fb4b10-eb02-4c62-ae6e-cd0a94816fb9\", \"https://www.fire.ca.gov/incidents/2024/8/17/marysville-fire/\", \"NaN\", \"NaN\", \"2024-08-17\", \"N\", true, false], [\"Hills Fire\", \"Y\", \"2024-08-21T17:29:30Z\", \"2024-08-18T16:49:13Z\", \"CAL FIRE Madera-Mariposa-Merced Unit\", NaN, \"Madera\", \"Highway 41 and Avenue 11\", 172.0, 100.0, \"NaN\", \"NaN\", -119.792619, 36.909429, \"Wildfire\", \"a79b5e83-a63d-4200-be50-3ebcada9298a\", \"https://www.fire.ca.gov/incidents/2024/8/18/hills-fire/\", \"NaN\", \"NaN\", \"2024-08-18\", \"N\", true, false], [\"Grant Fire\", \"Y\", \"2024-08-21T17:29:10Z\", \"2024-08-19T14:08:06Z\", \"CAL FIRE Santa Clara Unit\", NaN, \"Alameda, San Joaquin\", \"Westbound I-205 at the I-580 and I-205 interchange, west of Tracy\", 16.0, 100.0, \"NaN\", \"NaN\", -121.585729, 37.740555, \"Wildfire\", \"e14709f8-b57c-4cb4-ab3d-1c8db55c1800\", \"https://www.fire.ca.gov/incidents/2024/8/19/grant-fire/\", \"NaN\", \"NaN\", \"2024-08-19\", \"N\", true, false], [\"Interlake Fire\", \"Y\", \"2024-08-21T17:29:20Z\", \"2024-08-19T11:17:27Z\", \"CAL FIRE San Benito-Monterey Unit\", NaN, \"Monterey\", \"Bryson Hesperia Road near Interlake Road, South of Lockwood\", 22.0, 100.0, \"NaN\", \"NaN\", -121.038125, 35.8378, \"Wildfire\", \"4f0d65a1-d601-4eb6-bd6e-3da7b6b272e9\", \"https://www.fire.ca.gov/incidents/2024/8/19/interlake-fire/\", \"NaN\", \"NaN\", \"2024-08-19\", \"N\", true, false], [\"Livermore Fire\", \"Y\", \"2024-08-21T17:28:48Z\", \"2024-08-19T15:35:17Z\", \"CAL FIRE Santa Clara Unit\", NaN, \"Alameda\", \"South Livermore Ave & Tesla Road, Livermore\", 16.0, NaN, \"NaN\", \"NaN\", -121.740217, 37.665174, \"Wildfire\", \"0cc5c422-569b-45ed-b166-cfd3cfa5f074\", \"https://www.fire.ca.gov/incidents/2024/8/19/livermore-fire/\", \"NaN\", \"NaN\", \"2024-08-19\", \"N\", true, false], [\"Green Fire\", \"Y\", \"2024-08-21T13:15:54Z\", \"2024-08-19T14:49:00Z\", \"CAL FIRE Santa Clara Unit\", NaN, \"Alameda\", \"National Dr & Greenville Rd, Livermore \", 6.0, 100.0, \"NaN\", \"NaN\", -121.697111, 37.705528, \"Wildfire\", \"9adc01e7-b88e-4c83-9be7-90e1c87a4ea8\", \"https://www.fire.ca.gov/incidents/2024/8/19/green-fire/\", \"NaN\", \"NaN\", \"2024-08-19\", \"N\", true, false], [\"Railroad Fire\", \"Y\", \"2024-08-21T17:28:06Z\", \"2024-08-19T18:02:41Z\", \"NaN\", NaN, \"Solano\", \"Highway 12 and Mauds Lane, southeast of Fairfield\", 60.0, 100.0, \"NaN\", \"NaN\", -121.857286, 38.193824, \"Wildfire\", \"28e8a708-7f0c-48ed-a784-eba4e3b6d124\", \"https://www.fire.ca.gov/incidents/2024/8/19/railroad-fire/\", \"NaN\", \"NaN\", \"2024-08-19\", \"N\", false, false], [\"Quimby Fire\", \"Y\", \"2024-08-23T08:41:57Z\", \"2024-08-19T20:15:09Z\", \"Unified Command: CAL FIRE Santa Clara Unit and San Jose Fire\", NaN, \"Santa Clara\", \"4700 block of Quimby Road, East San Jose\", 33.0, 100.0, \"NaN\", \"NaN\", -121.733833, 37.333444, \"Wildfire\", \"63bee7bc-19c6-43d5-b004-563ffefa95dd\", \"https://www.fire.ca.gov/incidents/2024/8/19/quimby-fire/\", \"NaN\", \"NaN\", \"2024-08-19\", \"N\", true, false], [\"Bishop Fire\", \"Y\", \"2024-08-21T17:32:37Z\", \"2024-08-20T04:40:00Z\", \"Unified Command: CAL FIRE San Luis Obispo and San Luis Obispo City Fire Department \", NaN, \"San Luis Obispo\", \"1700 Block of Bishop Street, San Luis Obispo\", 15.0, 100.0, \"NaN\", \"NaN\", -120.644048, 35.275553, \"Wildfire\", \"7de63eaa-38b5-4afa-a845-429ff6a1b18a\", \"https://www.fire.ca.gov/incidents/2024/8/20/bishop-fire/\", \"2024-08-20T05:31:50Z\", \"2024-08-20\", \"2024-08-20\", \"N\", true, false], [\"Rancho Fire\", \"Y\", \"2024-09-27T15:50:16Z\", \"2024-08-20T12:38:37Z\", \"CAL FIRE San Luis Obispo Unit\", NaN, \"San Luis Obispo\", \"1860 block of Rancho Lomas Way, Southeast of San Miguel\", 9.0, 100.0, \"NaN\", \"NaN\", -120.582252, 35.704967, \"Wildfire\", \"91e1c5d1-1ff2-485c-9f5e-cf9925208700\", \"https://www.fire.ca.gov/incidents/2024/8/20/rancho-fire/\", \"NaN\", \"NaN\", \"2024-08-20\", \"N\", true, false], [\"Grade Fire\", \"Y\", \"2024-08-27T09:48:29Z\", \"2024-08-20T16:31:00Z\", \"Santa Barbara County Fire Department\", NaN, \"Santa Barbara\", \"Highway 101 and Old Coast Highway, Las Cruces\", 25.0, 100.0, \"NaN\", \"NaN\", -120.195855, 34.533718, \"Wildfire\", \"a23de8e2-c318-48bb-8056-b0256fc21cf7\", \"https://www.fire.ca.gov/incidents/2024/8/20/grade-fire/\", \"2024-08-22T08:00:00Z\", \"2024-08-22\", \"2024-08-20\", \"N\", false, false], [\"Winchester Fire\", \"Y\", \"2024-08-21T17:27:29Z\", \"2024-08-20T22:29:39Z\", \"CAL FIRE Riverside Unit\", NaN, \"Riverside\", \"28200 Block Unincorporated Winchester\", 10.0, 100.0, \"NaN\", \"NaN\", -117.08414, 33.71271, \"Wildfire\", \"bc27ec48-5efe-4806-929e-abd03c053e57\", \"https://www.fire.ca.gov/incidents/2024/8/20/winchester-fire/\", \"NaN\", \"NaN\", \"2024-08-20\", \"N\", false, false], [\"Amaral Fire\", \"Y\", \"2024-08-24T04:58:35Z\", \"2024-08-21T09:46:54Z\", \"CAL FIRE Sonoma-Lake-Napa Unit\", NaN, \"Solano\", \"1600 block of Amaral Ct, Fairfield\", 11.0, 100.0, \"NaN\", \"NaN\", -122.171501, 38.252807, \"Wildfire\", \"740b2301-9651-4a38-baa1-1a1a0d64448f\", \"https://www.fire.ca.gov/incidents/2024/8/21/amaral-fire/\", \"NaN\", \"NaN\", \"2024-08-21\", \"N\", true, false], [\"Turner Fire\", \"Y\", \"2024-08-21T17:32:18Z\", \"2024-08-21T13:44:45Z\", \"CAL FIRE Madera-Mariposa-Merced Unit\", NaN, \"Merced\", \"Turner Ave and Central Avenue, Hilmar\", 15.0, 100.0, \"NaN\", \"NaN\", -120.959582, 37.372385, \"Wildfire\", \"2738e71c-0c75-42ae-b308-41237e5cd310\", \"https://www.fire.ca.gov/incidents/2024/8/21/turner-fire/\", \"NaN\", \"NaN\", \"2024-08-21\", \"N\", false, false], [\"Canyon Fire\", \"Y\", \"2024-08-26T09:33:35Z\", \"2024-08-21T17:25:58Z\", \"Angeles National Forest\", NaN, \"Los Angeles\", \"Big Tujunga Canyon Road, Tujunga\", 25.0, 100.0, \"NaN\", \"NaN\", -118.288398, 34.29046, \"Wildfire\", \"5daa1233-03e4-4b8f-938c-ccfd3971bde5\", \"https://www.fire.ca.gov/incidents/2024/8/21/canyon-fire/\", \"2024-08-23T18:00:00Z\", \"2024-08-23\", \"2024-08-21\", \"N\", true, false], [\"Ace Fire\", \"Y\", \"2024-08-23T22:59:15Z\", \"2024-08-21T16:42:04Z\", \"CAL FIRE Tuolumne-Calaveras Unit\", NaN, \"Calaveras\", \"Near 72 Hwy 26 Valley Springs \", 16.0, 100.0, \"NaN\", \"NaN\", -120.828003, 38.190649, \"Wildfire\", \"578eabb5-afe7-4558-814d-040343bf69e2\", \"https://www.fire.ca.gov/incidents/2024/8/21/ace-fire/\", \"NaN\", \"NaN\", \"2024-08-21\", \"N\", true, false], [\"Beach Fire\", \"Y\", \"2024-08-23T19:24:59Z\", \"2024-08-22T12:56:40Z\", \"CAL FIRE Riverside Unit\", NaN, \"Riverside\", \"Southwest of Limonite Ave & Beach St, Southwest of Jurupa Valley\", 34.0, 100.0, \"NaN\", \"NaN\", -117.49379, 33.968991, \"Wildfire\", \"17437fdc-6fd9-4132-95bb-7503ef251af6\", \"https://www.fire.ca.gov/incidents/2024/8/22/beach-fire/\", \"NaN\", \"NaN\", \"2024-08-22\", \"N\", true, false], [\"Edna Fire\", \"Y\", \"2024-08-23T19:25:17Z\", \"2024-08-22T15:42:50Z\", \"CAL FIRE Riverside Unit\", NaN, \"Riverside\", \"Highway 243 and Mount Edna Road, Banning \", 33.0, 100.0, \"NaN\", \"NaN\", -116.869456, 33.9009, \"Wildfire\", \"6ce41fb6-2d1a-41d1-abdb-678ada7d66b1\", \"https://www.fire.ca.gov/incidents/2024/8/22/edna-fire/\", \"NaN\", \"NaN\", \"2024-08-22\", \"N\", true, false], [\"Walmort Fire\", \"Y\", \"2024-08-24T20:20:28Z\", \"2024-08-22T17:45:07Z\", \"Sacramento Metro Fire \", NaN, \"Sacramento\", \"Northeast of Walmort road and Meuret road, Wilton\", 45.0, 100.0, \"NaN\", \"NaN\", -121.251908, 38.3809, \"Wildfire\", \"e4cb8cca-8bc1-4b99-b442-2478d9ccc1f9\", \"https://www.fire.ca.gov/incidents/2024/8/22/walmort-fire/\", \"NaN\", \"NaN\", \"2024-08-22\", \"N\", false, false], [\"Far Fire\", \"Y\", \"2024-08-24T20:21:36Z\", \"2024-08-23T05:06:41Z\", \"CAL FIRE Nevada-Yuba-Placer Unit\", NaN, \"Placer\", \"Camp Far West Road & McCourtney Road, Wheatland\", 12.0, 100.0, \"NaN\", \"NaN\", -121.312694, 39.037213, \"Wildfire\", \"b7c8c806-ca83-4f94-b343-6af19a3dac15\", \"https://www.fire.ca.gov/incidents/2024/8/23/far-fire/\", \"NaN\", \"NaN\", \"2024-08-23\", \"N\", true, false], [\"Chevelle Fire\", \"Y\", \"2024-08-24T20:23:46Z\", \"2024-08-23T06:57:33Z\", \"Tulare County Fire Department\", NaN, \"Tulare\", \"1330 Highway 65 and 23200 Avenue, near Richgrove\", 27.0, 100.0, \"NaN\", \"NaN\", -119.053499, 35.805079, \"Wildfire\", \"dd8d3cf2-5fe1-4da7-9d5c-6a332b65f528\", \"https://www.fire.ca.gov/incidents/2024/8/23/chevelle-fire/\", \"NaN\", \"NaN\", \"2024-08-23\", \"N\", true, false], [\"Refugio Fire\", \"Y\", \"2024-08-27T07:18:00Z\", \"2024-08-23T00:40:32Z\", \"Los Padres National Forest\", NaN, \"Santa Barbara\", \"1400 Block of Refugio Road, Northwest of Goleta\", 86.0, 100.0, \"NaN\", \"NaN\", -120.064, 34.506, \"Wildfire\", \"3072d494-4c71-4f31-af3e-6b20ab08421a\", \"https://www.fire.ca.gov/incidents/2024/8/23/refugio-fire/\", \"2024-08-26T00:00:00Z\", \"2024-08-26\", \"2024-08-23\", \"N\", false, false], [\"Motor Fire\", \"Y\", \"2024-08-26T09:35:42Z\", \"2024-08-23T10:50:03Z\", \"Los Angeles County Fire Department\", NaN, \"Los Angeles\", \"Interstate 5 near Vista Del Lago Road, Los Angeles County\", 11.0, 100.0, \"NaN\", \"NaN\", -118.754805, 34.659252, \"Wildfire\", \"03ea04f4-53d6-47a1-a553-ab52eba0ef5a\", \"https://www.fire.ca.gov/incidents/2024/8/23/motor-fire/\", \"2024-08-23T21:00:00Z\", \"2024-08-23\", \"2024-08-23\", \"N\", false, false], [\"Banning Fire\", \"Y\", \"2024-08-23T22:59:00Z\", \"2024-08-23T13:53:44Z\", \"CAL FIRE Riverside Unit\", NaN, \"Riverside\", \"East of Banning\", 86.0, 100.0, \"NaN\", \"City of Hemet FD, Morongo Fire Department, Palm Springs FD, Soboba Fire Department, Calimesa Fire Department\", -116.846198, 33.928939, \"Wildfire\", \"cf3253e2-4f76-4773-b3fb-8165b83a3d41\", \"https://www.fire.ca.gov/incidents/2024/8/23/banning-fire/\", \"NaN\", \"NaN\", \"2024-08-23\", \"N\", true, false], [\"Proctor 8 Fire\", \"Y\", \"2024-09-06T16:53:19Z\", \"2024-08-23T17:26:12Z\", \"CAL FIRE San Diego Unit\", NaN, \"San Diego\", \"Proctor Valley Road in the community of Jamul\", 27.0, 100.0, \"NaN\", \"NaN\", -116.92502, 32.675679, \"Wildfire\", \"b1dd28a1-5757-4b62-83e2-71ec6e3a36ff\", \"https://www.fire.ca.gov/incidents/2024/8/23/proctor-8-fire/\", \"2024-08-26T00:00:00Z\", \"2024-08-26\", \"2024-08-23\", \"N\", true, false], [\"Benito Fire\", \"Y\", \"2024-08-26T09:38:50Z\", \"2024-08-24T13:33:21Z\", \"CAL FIRE Fresno-Kings Unit\", NaN, \"Fresno\", \"West Panoche Road near Mendota \", 17.0, 100.0, \"NaN\", \"NaN\", -120.360998, 36.730979, \"Wildfire\", \"245e918e-6df6-4096-be50-d9921df0e306\", \"https://www.fire.ca.gov/incidents/2024/8/24/benito-fire/\", \"2024-08-24T21:00:00Z\", \"2024-08-24\", \"2024-08-24\", \"N\", true, false], [\"Summit Fire \", \"Y\", \"2024-08-25T23:48:29Z\", \"2024-08-24T15:59:20Z\", \"NaN\", NaN, \"San Bernardino\", \"North Highway 173, South of Hesperia\", 76.0, 100.0, \"NaN\", \"San Bernardino National Forest\", -117.340037, 34.318425, \"Fire\", \"157f43e4-79ff-4a63-a4bb-199894edc0f4\", \"https://www.fire.ca.gov/incidents/2024/8/24/summit-fire/\", \"2024-08-25T23:48:03Z\", \"2024-08-25\", \"2024-08-24\", \"N\", true, false], [\"Wild Wash Fire\", \"Y\", \"2024-08-28T11:01:34Z\", \"2024-08-24T12:13:11Z\", \"BLM-Central Desert District\", NaN, \"San Bernardino\", \"Wild Wash Road, Sorrel Trail \", 23.0, NaN, \"NaN\", \"NaN\", -117.204094, 34.701134, \"Wildfire\", \"97a83444-c9d0-4fed-bf10-cf8650ce0efa\", \"https://www.fire.ca.gov/incidents/2024/8/24/wild-wash-fire/\", \"NaN\", \"NaN\", \"2024-08-24\", \"N\", false, false], [\"Tenaja Fire\", \"Y\", \"2024-09-10T14:22:16Z\", \"2024-08-25T11:48:35Z\", \"U.S. Forest Service Cleveland National Forest\", NaN, \"Riverside\", \"Tenaja Truck Trail\", 130.0, 100.0, \"NaN\", \"NaN\", -117.403313, 33.583553, \"Wildfire\", \"40dc98d3-a160-439b-ba3b-e969e0a201ef\", \"https://www.fire.ca.gov/incidents/2024/8/25/tenaja-fire/\", \"NaN\", \"NaN\", \"2024-08-25\", \"N\", false, false], [\"Echo Fire\", \"Y\", \"2024-08-28T11:01:17Z\", \"2024-08-03T09:59:50Z\", \"Yosemite National Park\", NaN, \"Mariposa\", \"North of Little Yosemite Valley above Echo Valley\", 12.0, 100.0, \"NaN\", \"NaN\", -119.416517, 37.756167, \"Wildfire\", \"c52a7849-5237-4015-9f24-c69764f78c07\", \"https://www.fire.ca.gov/incidents/2024/8/3/echo-fire/\", \"NaN\", \"NaN\", \"2024-08-03\", \"N\", false, false], [\"Solar Fire\", \"Y\", \"2024-08-25T18:21:05Z\", \"2024-08-25T15:49:19Z\", \"CAL FIRE Madera-Mariposa-Merced Unit\", NaN, \"Merced\", \"McCabe Road and Whitworth Road \", 22.0, NaN, \"NaN\", \"NaN\", -121.033398, 37.115241, \"Wildfire\", \"e8b9c282-b3a6-48a3-ab48-e97a92615a25\", \"https://www.fire.ca.gov/incidents/2024/8/25/solar-fire/\", \"NaN\", \"NaN\", \"2024-08-25\", \"N\", true, false], [\"Park Fire \", \"Y\", \"2024-09-27T07:13:24Z\", \"2024-08-25T17:11:41Z\", \"CAL FIRE RRU Unit \", NaN, \"Riverside\", \"Park Ave & Menlo Ave, Hemet\", 16.0, 100.0, \"NaN\", \"Hemet City Fire Department\", -116.949636, 33.758015, \"Wildfire\", \"783fc0e6-ffd3-41a9-8ce5-843f092a007e\", \"https://www.fire.ca.gov/incidents/2024/8/25/park-fire/\", \"NaN\", \"NaN\", \"2024-08-25\", \"N\", true, false], [\"Florin Fire\", \"Y\", \"2024-08-27T13:52:31Z\", \"2024-08-26T12:49:14Z\", \"Sacramento Metro Fire Department\", NaN, \"Sacramento\", \"Excelsior Road & Florin Road, Sacramento\", 42.0, 100.0, \"NaN\", \"NaN\", -121.297565, 38.496413, \"Fire\", \"a46ba8f8-21b5-4496-9f62-7544d63fe50f\", \"https://www.fire.ca.gov/incidents/2024/8/26/florin-fire/\", \"NaN\", \"NaN\", \"2024-08-26\", \"N\", true, false], [\"Excelsior Fire\", \"Y\", \"2024-08-27T08:34:54Z\", \"2024-08-26T21:14:15Z\", \"NaN\", NaN, \"Sacramento\", \"Excelsior Road, Sacramento\", 38.0, 100.0, \"NaN\", \"NaN\", -121.279094, 38.524067, \"Wildfire\", \"32eb6c42-4a6f-4ce9-9b47-1ad496dddd45\", \"https://www.fire.ca.gov/incidents/2024/8/26/excelsior-fire/\", \"2024-08-26T13:53:00Z\", \"2024-08-26\", \"2024-08-26\", \"N\", true, false], [\"Pioneer Fire\", \"Y\", \"2024-08-29T23:03:16Z\", \"2024-08-27T11:12:29Z\", \"CAL FIRE San Bernardino/Inyo/Mono Unit\", NaN, \"San Bernardino\", \"11100 Block of Pioneer Road, Apple Valley\", 22.0, NaN, \"NaN\", \"NaN\", -117.077204, 34.452109, \"Wildfire\", \"d9d0b205-3d25-47eb-bdc1-40f5b6636e04\", \"https://www.fire.ca.gov/incidents/2024/8/27/pioneer-fire/\", \"NaN\", \"NaN\", \"2024-08-27\", \"N\", true, false], [\"Weller Fire\", \"Y\", \"2024-08-29T06:32:44Z\", \"2024-08-27T15:48:13Z\", \"Kern County Fire Department\", NaN, \"Kern\", \"Granite Rd North of Round Mtn Rd, North of Bakersfield\", 78.0, 100.0, \"NaN\", \"NaN\", -118.958785, 35.5497, \"Wildfire\", \"78dac760-bdce-43dc-aa02-b1ca33472a30\", \"https://www.fire.ca.gov/incidents/2024/8/27/weller-fire/\", \"NaN\", \"NaN\", \"2024-08-27\", \"N\", false, false], [\"Johnson Fire\", \"Y\", \"2024-08-30T07:08:59Z\", \"2024-08-27T18:58:39Z\", \"CAL FIRE San Bernardino/Inyo/Mono Unit\", NaN, \"San Bernardino\", \"Johnson Road & Snow Line Road, Phelan\", 15.0, 100.0, \"NaN\", \"NaN\", -117.559695, 34.404556, \"Wildfire\", \"5a5fd941-d2c6-470c-9403-fa632a127c0d\", \"https://www.fire.ca.gov/incidents/2024/8/27/johnson-fire/\", \"2024-08-30T07:06:37Z\", \"2024-08-30\", \"2024-08-27\", \"N\", true, false], [\"Keys Fire\", \"Y\", \"2024-08-30T21:48:29Z\", \"2024-08-28T14:38:26Z\", \"CAL FIRE San Diego Unit\", NaN, \"San Diego\", \"Northeast of Old Lilac Road & Keys Creek Road, Valley Center\", 18.0, 100.0, \"NaN\", \"NaN\", -117.0764, 33.2902, \"Wildfire\", \"9617f448-9db9-4f9a-9192-688f939658cc\", \"https://www.fire.ca.gov/incidents/2024/8/28/keys-fire/\", \"2024-08-30T21:48:10Z\", \"2024-08-30\", \"2024-08-28\", \"N\", true, false], [\"Gulch Fire\", \"Y\", \"2024-08-30T07:12:30Z\", \"2024-08-28T17:15:11Z\", \"CAL FIRE Sonoma-Lake-Napa Unit\", NaN, \"Sonoma\", \"Stage Gulch Rd near Lakeville Hwy, Lakeville\", 19.0, 100.0, \"NaN\", \"Gold Ridge FPD, Schell-Vista FPD, Petaluma Fire Department, Rancho Adobe FPD\", -122.520366, 38.233952, \"Wildfire\", \"a176fc51-c857-48c5-bba6-35fcc907de72\", \"https://www.fire.ca.gov/incidents/2024/8/28/gulch-fire/\", \"2024-08-30T07:11:58Z\", \"2024-08-30\", \"2024-08-28\", \"N\", true, false], [\"Silver Fire\", \"Y\", \"2024-08-31T08:46:56Z\", \"2024-08-28T16:25:11Z\", \"CAL FIRE Tuolumne-Calaveras Unit\", NaN, \"Calaveras\", \"Silver Mountain Road and Riverview Drive, Rail Road Flat, CA\", 12.0, 100.0, \"NaN\", \"NaN\", -120.499717, 38.361834, \"Wildfire\", \"a3884db9-94ac-414f-883c-c71bcbf7c2e9\", \"https://www.fire.ca.gov/incidents/2024/8/28/silver-fire/\", \"2024-08-30T23:56:00Z\", \"2024-08-30\", \"2024-08-28\", \"N\", true, false], [\"Way Fire\", \"Y\", \"2024-09-02T20:58:25Z\", \"2024-08-29T10:46:53Z\", \"Kern County Fire Department\", NaN, \"Kern\", \"Sierra Way - NE of Rocky Point\", 88.0, 100.0, \"NaN\", \"NaN\", -118.426716, 35.694044, \"Wildfire\", \"b59f9cb4-566c-491f-99c1-262bf5f75999\", \"https://www.fire.ca.gov/incidents/2024/8/29/way-fire/\", \"2024-08-29T17:00:00Z\", \"2024-08-29\", \"2024-08-29\", \"N\", false, false], [\"Two Fire\", \"Y\", \"2024-08-30T21:49:16Z\", \"2024-08-29T15:34:53Z\", \"CAL FIRE Sonoma-Lake-Napa Unit\", NaN, \"Sonoma\", \"Bodega Avenue and Raven Road, west of Petaluma\", 33.0, 100.0, \"NaN\", \"Gold Ridge FPD, Marin County Fire, Petaluma Fire Department\", -122.743925, 38.264246, \"Wildfire\", \"18203802-22ca-41cb-8a32-366c82948168\", \"https://www.fire.ca.gov/incidents/2024/8/29/two-fire/\", \"2024-08-30T21:49:03Z\", \"2024-08-30\", \"2024-08-29\", \"N\", true, false], [\"Vasco Fire\", \"Y\", \"2024-09-02T07:29:23Z\", \"2024-08-29T17:28:55Z\", \"CAL FIRE Santa Clara Unit\", NaN, \"Alameda\", \"Vasco Rd at the Alameda on the Contra Costa County Line\", 16.0, 100.0, \"NaN\", \"NaN\", -121.71679, 37.777334, \"Wildfire\", \"03ab8b8e-1942-4f12-8401-e5af993ed822\", \"https://www.fire.ca.gov/incidents/2024/8/29/vasco-fire/\", \"2024-09-01T08:00:00Z\", \"2024-09-01\", \"2024-08-29\", \"N\", true, false], [\"High Fire\", \"Y\", \"2024-09-04T08:14:59Z\", \"2024-08-31T14:41:01Z\", \"CAL FIRE Tehama-Glenn Unit\", NaN, \"Tehama\", \"Near High Flat Road and Lowrey Road, South of Lowrey in Tehama county \", 45.0, 100.0, \"NaN\", \"NaN\", -122.560451, 39.993914, \"Wildfire\", \"a8c7cd92-82ca-4482-bdfe-ec87a1f5b5c2\", \"https://www.fire.ca.gov/incidents/2024/8/31/high-fire/\", \"2024-09-04T08:14:52Z\", \"2024-09-04\", \"2024-08-31\", \"N\", true, false], [\"Minton Fire\", \"Y\", \"2024-09-02T20:59:29Z\", \"2024-08-31T16:03:12Z\", \"CAL FIRE Riverside Unit\", NaN, \"Riverside\", \"Near Minton Road and Juniper Flats Road in Riverside County\", 22.0, 100.0, \"NaN\", \"NaN\", -117.112489, 33.758036, \"Wildfire\", \"66410b74-8cbe-402a-9092-4aa366831702\", \"https://www.fire.ca.gov/incidents/2024/8/31/minton-fire/\", \"2024-09-02T17:12:00Z\", \"2024-09-02\", \"2024-08-31\", \"N\", true, false], [\"Bichota Fire\", \"Y\", \"2024-09-06T18:16:17Z\", \"2024-08-31T16:59:00Z\", \"Angeles National Forest\", NaN, \"Los Angeles\", \"San Gabriel Canyon Road near Bichota Canyon Trail in Los Angeles county\", 3.0, 100.0, \"NaN\", \"NaN\", -117.856102, 34.25914, \"Wildfire\", \"9fe2d2a0-b5e4-49fb-8dde-7c623be9b040\", \"https://www.fire.ca.gov/incidents/2024/8/31/bichota-fire/\", \"2024-08-31T19:00:00Z\", \"2024-08-31\", \"2024-08-31\", \"N\", false, false], [\"Union Fire\", \"Y\", \"2024-09-02T20:59:18Z\", \"2024-08-31T16:15:07Z\", \"CAL FIRE San Luis Obispo Unit\", NaN, \"San Luis Obispo\", \"Highway 46/Union Road, Paso Robles\", 11.0, 100.0, \"NaN\", \"NaN\", -120.533933, 35.655361, \"Wildfire\", \"ec0d1ada-cec3-4876-a613-6c4b9b3cae89\", \"https://www.fire.ca.gov/incidents/2024/8/31/union-fire/\", \"2024-08-31T16:00:00Z\", \"2024-08-31\", \"2024-08-31\", \"N\", true, false], [\"Armstrong Fire\", \"Y\", \"2024-09-04T21:44:24Z\", \"2024-08-31T23:45:03Z\", \"CAL FIRE Santa Clara Unit\", NaN, \"Contra Costa\", \"Armstrong Road & Falcon Way, Byron\", 20.0, 100.0, \"NaN\", \"NaN\", -121.632921, 37.838349, \"Wildfire\", \"f54c82c5-4429-4709-8ab9-ddf874e851c2\", \"https://www.fire.ca.gov/incidents/2024/8/31/armstrong-fire/\", \"NaN\", \"NaN\", \"2024-08-31\", \"N\", true, false], [\"Robert Fire\", \"Y\", \"2024-09-04T08:15:17Z\", \"2024-09-01T13:03:59Z\", \"CAL FIRE Sonoma-Lake-Napa Unit\", NaN, \"Solano\", \"Highway 12 and Red Top Road\", 48.0, 100.0, \"NaN\", \"Unified Command with the Fairfield Fire Department.\", -122.156703, 38.207676, \"Wildfire\", \"88b1e67d-6869-4259-b9b7-7eaaf817e2a8\", \"https://www.fire.ca.gov/incidents/2024/9/1/robert-fire/\", \"2024-09-04T08:15:09Z\", \"2024-09-04\", \"2024-09-01\", \"N\", true, false], [\"Record Fire\", \"Y\", \"2024-09-05T23:41:05Z\", \"2024-09-01T14:23:20Z\", \"CAL FIRE Riverside Unit\", NaN, \"Riverside\", \"Soboba Road, San Jacinto\", 517.0, 100.0, \"NaN\", \"Hemet FD, Murrieta FD, Soboba FD, RSO, FS-San Bernardino\", -116.9476, 33.8126, \"Wildfire\", \"fed9e05e-5772-41f1-a4f0-9318519d2691\", \"https://www.fire.ca.gov/incidents/2024/9/1/record-fire/\", \"2024-09-05T00:00:00Z\", \"2024-09-05\", \"2024-09-01\", \"N\", true, false], [\"Argyle Fire\", \"Y\", \"2024-09-04T21:43:05Z\", \"2024-09-01T22:05:15Z\", \"CAL FIRE San Benito-Monterey Unit\", NaN, \"Monterey\", \"Argyle Rd, near the community of Jolon\", 91.0, 100.0, \"NaN\", \"NaN\", -121.129602, 36.015369, \"Wildfire\", \"68ebf089-c0a0-4d90-a0d6-366a6d4d78be\", \"https://www.fire.ca.gov/incidents/2024/9/1/argyle-fire/\", \"NaN\", \"NaN\", \"2024-09-01\", \"N\", true, false], [\"Bear Fire\", \"Y\", \"2024-09-17T18:14:16Z\", \"2024-09-02T14:09:00Z\", \"Unified Command: CAL FIRE Nevada-Yuba-Placer Unit and Tahoe National Forest\", NaN, \"Sierra\", \"Off Bear Valley Road, South of Loyalton\", 3327.0, 88.0, \"NaN\", \"NaN\", -120.21859, 39.596704, \"Wildfire\", \"5b4a7dbe-b514-4994-ad30-92dbffb34d52\", \"https://www.fire.ca.gov/incidents/2024/9/2/bear-fire/\", \"NaN\", \"NaN\", \"2024-09-02\", \"N\", true, false], [\"Centerville Fire\", \"Y\", \"2024-09-04T21:43:54Z\", \"2024-09-02T15:47:48Z\", \"CAL FIRE Butte Unit\", NaN, \"Butte\", \"Centerville Rd North of Honey Run Rd, West of Paradise\", 59.0, 100.0, \"NaN\", \"NaN\", -121.69988, 39.73984, \"Wildfire\", \"f2bce455-9fa7-4957-a9dd-17f05d8186f0\", \"https://www.fire.ca.gov/incidents/2024/9/2/centerville-fire/\", \"NaN\", \"NaN\", \"2024-09-02\", \"N\", true, false], [\"Gabriel Fire\", \"Y\", \"2024-09-04T21:44:10Z\", \"2024-09-02T16:58:23Z\", \"Los Angeles County Fire Department\", NaN, \"Los Angeles\", \"Near Santa Fe Dam Nature Center, Irwindale\", 40.0, 100.0, \"NaN\", \"NaN\", -117.953154, 34.122607, \"Wildfire\", \"0d339412-fd42-4037-94ba-6d1ce25ac3e9\", \"https://www.fire.ca.gov/incidents/2024/9/2/gabriel-fire/\", \"NaN\", \"NaN\", \"2024-09-02\", \"N\", false, false], [\"Hwy 152 E/ Rd 13 Fire\", \"Y\", \"2024-09-02T19:38:15Z\", \"2024-09-02T15:16:16Z\", \"CAL FIRE Madera-Mariposa-Merced Unit\", NaN, \"Madera\", \"Unknown / TBD\", 40.0, 100.0, \"NaN\", \"NaN\", -120.310758, 37.083449, \"Wildfire\", \"d83e6e6e-75c6-4deb-b026-50e59a5818a3\", \"https://www.fire.ca.gov/incidents/2024/9/2/hwy-152-e-rd-13-fire/\", \"NaN\", \"NaN\", \"2024-09-02\", \"N\", false, false], [\"Hawk Fire\", \"Y\", \"2024-09-04T15:51:42Z\", \"2024-09-03T10:18:38Z\", \"CAL FIRE San Luis Obispo Unit\", NaN, \"San Luis Obispo\", \"Unknown / TBD\", 14.0, 100.0, \"NaN\", \"NaN\", -120.623763, 35.313339, \"Wildfire\", \"030f3dea-4803-45b0-8bca-bc9ad347439d\", \"https://www.fire.ca.gov/incidents/2024/9/3/hawk-fire/\", \"NaN\", \"NaN\", \"2024-09-03\", \"N\", false, false], [\"Boone Fire\", \"Y\", \"2024-09-15T11:56:03Z\", \"2024-09-03T12:10:46Z\", \"CAL FIRE Fresno-Kings Unit\", NaN, \"Fresno\", \"Highway 198 and Boone Lane, Coalinga\", 17000.0, 100.0, \"NaN\", \"NaN\", -120.58848, 36.12175, \"Wildfire\", \"97520779-99f5-4001-85ce-4c5f5f48cd61\", \"https://www.fire.ca.gov/incidents/2024/9/3/boone-fire/\", \"NaN\", \"NaN\", \"2024-09-03\", \"N\", true, false], [\"Backus Fire\", \"Y\", \"2024-09-06T18:17:25Z\", \"2024-09-03T15:20:41Z\", \"Kern County Fire Department\", NaN, \"Kern\", \"5300 Block of Backus Road, Southwest of Mojave\", 41.0, 100.0, \"NaN\", \"NaN\", -118.248827, 34.876586, \"Wildfire\", \"b12acb92-61f8-43ef-8285-f243476588f2\", \"https://www.fire.ca.gov/incidents/2024/9/3/backus-fire/\", \"2024-09-03T08:00:00Z\", \"2024-09-03\", \"2024-09-03\", \"N\", false, false], [\"Chapman Fire\", \"Y\", \"2024-09-05T23:39:15Z\", \"2024-09-04T12:56:11Z\", \"CAL FIRE Riverside Unit\", NaN, \"Riverside\", \"44800 block Chapman Road, Anza\", 18.0, 100.0, \"NaN\", \"Cleveland National Forest, Cahuilla Band of Indians Fire Department, Murrieta Fire Department, CAL FIRE San Diego Unit (SDU)\", -116.651385, 33.472372, \"Wildfire\", \"8417ba5b-e0ba-41f5-b811-71a9cb477a6f\", \"https://www.fire.ca.gov/incidents/2024/9/4/chapman-fire/\", \"NaN\", \"NaN\", \"2024-09-04\", \"N\", true, false], [\"Post Fire\", \"Y\", \"2024-09-05T23:42:00Z\", \"2024-09-04T15:55:43Z\", \"CAL FIRE Riverside Unit\", NaN, \"Riverside\", \"20800 block of  Gardenias Street, Goodhope (unincorporated Perris)\", 264.0, 100.0, \"NaN\", \"CAL FIRE San Bernardino Unit, CAL FIRE San Diego Unit\", -117.297767, 33.773143, \"Wildfire\", \"266dcba8-5dd3-467d-988f-a49f8166694b\", \"https://www.fire.ca.gov/incidents/2024/9/4/post-fire/\", \"2024-09-05T00:00:00Z\", \"2024-09-05\", \"2024-09-04\", \"N\", true, false], [\"Midway Rd Fire\", \"Y\", \"2024-09-06T14:20:44Z\", \"2024-09-05T15:37:29Z\", \"NaN\", NaN, \"Merced\", \"Hwy 152 and Midway Road, Los Banos\", 10.0, 100.0, \"NaN\", \"NaN\", -120.750881, 37.055082, \"Wildfire\", \"8848b58e-de98-46b8-bf67-914b2bbf2587\", \"https://www.fire.ca.gov/incidents/2024/9/5/midway-rd-fire/\", \"NaN\", \"NaN\", \"2024-09-05\", \"N\", false, false], [\"Dorado Fire\", \"Y\", \"2024-09-06T20:21:48Z\", \"2024-09-05T17:01:14Z\", \"CAL FIRE Fresno-Kings Unit\", NaN, \"Fresno\", \"24700 block of West Jayne Avenue, Coalinga\", 502.0, 100.0, \"NaN\", \"NaN\", -120.24039, 36.13751, \"Wildfire\", \"576ee459-903e-4b71-a658-214034e031db\", \"https://www.fire.ca.gov/incidents/2024/9/5/dorado-fire/\", \"NaN\", \"NaN\", \"2024-09-05\", \"N\", true, false], [\"Line Fire\", \"N\", \"2024-10-01T19:06:53Z\", \"2024-09-05T18:33:57Z\", \"Unified Command with Complex California Incident Management Team 11, San Bernardino National Forest, CAL FIRE San Bernardino and San Bernardino County Fire .\", NaN, \"San Bernardino\", \"Baseline Street and Alpine Street, Highland \", 44309.0, 76.0, \"NaN\", \"CAL FIRE, Arrowbear Lake Fire Department, California Conservation Corps, California Department of Corrections and Rehabilitation, Cal OES Fire and Rescue, Caltrans, Running Springs Fire Department, City of San Bernardino Police Department, San Bernardino County, San Manuel Band of Mission Indians, Morongo Band of Mission Indians, Southern California Edison, California Highway Patrol, California National Guard, San Bernardino County Fire Protection District, San Bernardino County Sheriff's Department\", -117.154705, 34.121119, \"Wildfire\", \"cac520bf-e359-4f3c-a8ee-85510a476c67\", \"https://www.fire.ca.gov/incidents/2024/9/5/line-fire/\", \"NaN\", \"NaN\", \"2024-09-05\", \"Y\", true, false], [\"Pine Fire\", \"Y\", \"2024-09-10T23:28:08Z\", \"2024-09-06T12:14:39Z\", \"CAL FIRE Mendocino Unit\", NaN, \"Mendocino\", \"South of Gibson Road near Pine Lake Basin, North of Redwood Valley\", 18.0, 100.0, \"NaN\", \"NaN\", -123.186117, 39.351831, \"Wildfire\", \"a8738494-879c-4588-a7c5-13a9419b2c9a\", \"https://www.fire.ca.gov/incidents/2024/9/6/pine-fire/\", \"2024-09-10T00:00:00Z\", \"2024-09-10\", \"2024-09-06\", \"N\", true, false], [\"Cove Fire\", \"Y\", \"2024-09-07T17:12:09Z\", \"2024-09-06T14:24:50Z\", \"CAL FIRE Riverside Unit\", NaN, \"Riverside\", \"Southeast of Highway 243 & Mellor Ranch Road, Northwest of Idyllwild\", 15.0, 100.0, \"NaN\", \"NaN\", -116.738699, 33.758174, \"Wildfire\", \"74364d0b-b018-41f3-b821-ac5be7306645\", \"https://www.fire.ca.gov/incidents/2024/9/6/cove-fire/\", \"NaN\", \"NaN\", \"2024-09-06\", \"N\", true, false], [\"Canary Fire\", \"Y\", \"2024-09-07T12:38:13Z\", \"2024-09-06T17:06:53Z\", \"CAL FIRE San Diego Unit\", NaN, \"San Diego\", \"1 Mile Southeast of Case Springs, Camp Pendleton\", 25.0, 100.0, \"NaN\", \"NaN\", -117.40342, 33.44756, \"Wildfire\", \"45291c5b-03f9-417f-b120-480be9b60315\", \"https://www.fire.ca.gov/incidents/2024/9/6/canary-fire/\", \"2024-02-25T08:00:00Z\", \"2024-02-25\", \"2024-09-06\", \"N\", true, false], [\"Canyon Fire\", \"Y\", \"2024-09-06T22:07:05Z\", \"2024-07-20T07:02:47Z\", \"CAL FIRE Nevada-Yuba-Placer Unit\", NaN, \"Placer\", \"Unknown / TBD\", 752.0, 100.0, \"NaN\", \"NaN\", -120.952668, 39.089369, \"Wildfire\", \"ab16c24a-1523-416c-90ea-ac28798800c4\", \"https://www.fire.ca.gov/incidents/2024/7/20/canyon-fire/\", \"NaN\", \"NaN\", \"2024-07-20\", \"N\", true, false], [\"Church 2 Fire\", \"Y\", \"2024-09-08T20:48:19Z\", \"2024-09-07T11:41:06Z\", \"CAL FIRE San Diego Unit\", NaN, \"San Diego\", \"Church Road and Golden Acorn Way, Campo\", 40.0, 100.0, \"NaN\", \"NaN\", -116.357286, 32.700797, \"Wildfire\", \"accf266c-8516-45cf-9570-8cf180c86ae1\", \"https://www.fire.ca.gov/incidents/2024/9/7/church-2-fire/\", \"NaN\", \"NaN\", \"2024-09-07\", \"N\", true, false], [\"Roblar Fire \", \"Y\", \"2024-09-11T20:36:22Z\", \"2024-09-07T14:03:11Z\", \"Camp Pendleton Fire Department\", NaN, \"San Diego\", \"Case Springs Road, Camp Pendleton \", 1000.0, 100.0, \"NaN\", \"NaN\", -117.3623, 33.4088, \"Wildfire\", \"317db5a2-a6f0-43b8-b1b1-1e90a60124d7\", \"https://www.fire.ca.gov/incidents/2024/9/7/roblar-fire/\", \"2024-09-11T20:33:57Z\", \"2024-09-11\", \"2024-09-07\", \"N\", false, false], [\"Mill Creek 4 Fire\", \"Y\", \"2024-09-15T12:23:28Z\", \"2024-09-07T16:12:16Z\", \"Bureau of Indian Affairs\", NaN, \"Humboldt\", \"Mill Creek, north of Hoopa\", 25.0, 100.0, \"NaN\", \"NaN\", -123.6761, 41.1088, \"Wildfire\", \"6f67d619-6533-4889-a740-c0d018ae9cda\", \"https://www.fire.ca.gov/incidents/2024/9/7/mill-creek-4-fire/\", \"2024-09-12T17:00:00Z\", \"2024-09-12\", \"2024-09-07\", \"N\", false, false], [\"Cotton Fire\", \"Y\", \"2024-09-08T07:25:21Z\", \"2024-09-07T21:22:58Z\", \"CAL FIRE Fresno-Kings Unit\", NaN, \"Fresno\", \"Unknown / TBD\", 314.0, 100.0, \"NaN\", \"NaN\", -120.30277, 36.639321, \"Wildfire\", \"f36370f9-c5e3-4a22-840b-aebc4652737e\", \"https://www.fire.ca.gov/incidents/2024/9/7/cotton-fire/\", \"NaN\", \"NaN\", \"2024-09-07\", \"N\", true, false], [\"Boyles Fire\", \"Y\", \"2024-09-11T20:38:04Z\", \"2024-09-08T14:45:26Z\", \"Lake County Fire Protection District\", NaN, \"Lake\", \"Dam Road, Clearlake\", 81.0, 100.0, \"NaN\", \"NaN\", -122.61065, 38.92934, \"Wildfire\", \"0d74ddd7-8a31-4014-8f25-d1e1eebca140\", \"https://www.fire.ca.gov/incidents/2024/9/8/boyles-fire/\", \"2024-09-11T20:37:40Z\", \"2024-09-11\", \"2024-09-08\", \"N\", false, false], [\"Bridge Fire\", \"N\", \"2024-10-01T16:51:10-07:00\", \"2024-09-08T14:12:21Z\", \"Angeles National Forest\\\\r\\\\n\", NaN, \"Los Angeles, San Bernardino\", \"Camp Bonita Road, East of Camp Williams\", 54878.0, 98.0, \"NaN\", \"NaN\", -117.7625, 34.2396, \"Wildfire\", \"81e678d0-6b80-4a16-b8a6-1ec5a4fe0ba0\", \"https://www.fire.ca.gov/incidents/2024/9/8/bridge-fire/\", \"NaN\", \"NaN\", \"2024-09-08\", \"Y\", false, false], [\"Crozier Fire\", \"Y\", \"2024-09-11T15:59:42Z\", \"2024-09-09T09:12:28Z\", \"El Dorado National Forest\", NaN, \"El Dorado\", \"Northwest of Slate Mountain\", 1960.0, 100.0, \"NaN\", \"NaN\", -120.6975, 38.82889, \"Wildfire\", \"fff641dd-ef49-4e70-b423-e93ff0735437\", \"https://www.fire.ca.gov/incidents/2024/9/9/crozier-fire/\", \"NaN\", \"NaN\", \"2024-09-09\", \"N\", false, false], [\"Rice 2 Fire\", \"Y\", \"2024-09-10T00:06:15Z\", \"2024-09-08T19:13:26Z\", \"CAL FIRE San Diego Unit\", NaN, \"San Diego\", \"Rice Canyon Road and California State Route 76\", 20.0, 100.0, \"NaN\", \"NaN\", -117.135771, 33.353446, \"Wildfire\", \"0de2ba3a-b8de-447b-bd19-eced55f97497\", \"https://www.fire.ca.gov/incidents/2024/9/8/rice-2-fire/\", \"NaN\", \"NaN\", \"2024-09-08\", \"N\", false, false], [\"Wicklow Fire\", \"Y\", \"2024-09-11T20:39:12Z\", \"2024-09-09T13:15:11Z\", \"CAL FIRE Amador-El Dorado Unit\", NaN, \"Amador\", \"11900 Block of California Highway 88, Martell\", 63.0, 100.0, \"NaN\", \"NaN\", -120.814317, 38.361232, \"Wildfire\", \"482388dc-66e4-408d-bc60-01ce780ed0d8\", \"https://www.fire.ca.gov/incidents/2024/9/9/wicklow-fire/\", \"2024-09-11T20:38:49Z\", \"2024-09-11\", \"2024-09-09\", \"N\", true, false], [\"Airport Fire\", \"N\", \"2024-10-01T14:00:26Z\", \"2024-09-09T13:21:00Z\", \"Cleveland National Forest\", NaN, \"Orange, Riverside\", \"Trabuco Canyon and Rose Canyon, Trabuco Canyon\", 23526.0, 95.0, \"NaN\", \"CAL FIRE, US Forest Service, Orange County Sheriff Department, California Highway Patrol, CAL OES, Orange County Public Works, Riverside County Sheriff Department, Southern California Edison.\", -117.566221, 33.667676, \"Wildfire\", \"44d60d5a-522f-4c9f-ba55-ae09e9d2c973\", \"https://www.fire.ca.gov/incidents/2024/9/9/airport-fire/\", \"NaN\", \"NaN\", \"2024-09-09\", \"Y\", false, false], [\"Sunset Fire\", \"Y\", \"2024-09-09T21:14:41Z\", \"2024-09-09T15:02:08Z\", \"CAL FIRE Riverside Unit\", NaN, \"Riverside\", \"Sunset Avenue & W Westward Avenue, Banning\", 54.0, 100.0, \"NaN\", \"NaN\", -116.91162, 33.917991, \"Wildfire\", \"5d2a9d0a-2883-4ad1-8dfc-35d9e9b5402e\", \"https://www.fire.ca.gov/incidents/2024/9/9/sunset-fire/\", \"NaN\", \"NaN\", \"2024-09-09\", \"N\", false, false], [\"Train Fire\", \"Y\", \"2024-09-15T12:21:09Z\", \"2024-09-09T16:07:20Z\", \"Kern County Fire Department\", NaN, \"Kern\", \"Bealville Road, Bealville  \", 48.0, 100.0, \"NaN\", \"NaN\", -118.62193, 35.2659, \"Wildfire\", \"aa8bcbc8-31af-4d8a-b0d8-9351974cf51f\", \"https://www.fire.ca.gov/incidents/2024/9/9/train-fire/\", \"2024-09-10T12:21:06Z\", \"2024-09-10\", \"2024-09-09\", \"N\", false, false], [\"Apollo Fire\", \"Y\", \"2024-09-10T23:27:13Z\", \"2024-09-10T11:46:36Z\", \"Los Angeles County Fire Department\", NaN, \"Los Angeles\", \"29th Street West and West Aquaduct Road, Fairmont\", 800.0, 100.0, \"NaN\", \"NaN\", -118.53335, 34.77011, \"Wildfire\", \"b84f3e58-3a60-4424-8ea9-3aa7a3d27c58\", \"https://www.fire.ca.gov/incidents/2024/9/10/apollo-fire/\", \"2024-09-10T00:00:00Z\", \"2024-09-10\", \"2024-09-10\", \"N\", false, false], [\"Coyote Fire\", \"Y\", \"2024-09-15T11:39:59Z\", \"2024-09-10T16:34:15Z\", \"CAL FIRE Riverside Unit\", NaN, \"Riverside\", \"33800 Block of Washington Street, North of Desert Palms\", 20.0, 100.0, \"NaN\", \"NaN\", -116.30113, 33.803944, \"Wildfire\", \"05edf868-2c42-4981-a7df-9f66f98800c3\", \"https://www.fire.ca.gov/incidents/2024/9/10/coyote-fire/\", \"NaN\", \"NaN\", \"2024-09-10\", \"N\", true, false], [\"Kelso Fire\", \"Y\", \"2024-09-12T15:53:45Z\", \"2024-09-10T17:55:00Z\", \"CAL FIRE Santa Clara Unit\", NaN, \"Alameda\", \"Kelso Road and Bruns Road, south of Byron\", 22.0, 100.0, \"NaN\", \"NaN\", -121.606071, 37.795295, \"Wildfire\", \"a4abc467-5ae9-417d-b3e2-3d3469e698f1\", \"https://www.fire.ca.gov/incidents/2024/9/10/kelso-fire/\", \"NaN\", \"NaN\", \"2024-09-10\", \"N\", true, false], [\"Willow Fire\", \"Y\", \"2024-09-15T12:27:49Z\", \"2024-09-11T13:19:00Z\", \"Contra Costa County Fire Protection District\", NaN, \"Contra Costa\", \"Willow Pass Road and Avila Road, North of Concord\", 62.0, 100.0, \"NaN\", \"NaN\", -121.997014, 38.01154, \"Wildfire\", \"70f3bd6a-1888-4eb7-8a88-db21c81ba049\", \"https://www.fire.ca.gov/incidents/2024/9/11/willow-fire/\", \"2024-09-11T20:29:00Z\", \"2024-09-11\", \"2024-09-11\", \"N\", true, false], [\"Joshua Fire\", \"Y\", \"2024-09-15T11:40:37Z\", \"2024-09-11T01:01:31Z\", \"Los Angeles County Fire Department\", NaN, \"Los Angeles\", \"Mount Emma Road / East of 47th Street, Palmdale\", 30.0, 100.0, \"NaN\", \"NaN\", -118.045033, 34.50295, \"Wildfire\", \"02289a33-8abe-468b-93bf-55ef3ec7122f\", \"https://www.fire.ca.gov/incidents/2024/9/11/joshua-fire/\", \"NaN\", \"NaN\", \"2024-09-11\", \"N\", false, false], [\"Alpaugh Fire\", \"Y\", \"2024-09-15T11:42:42Z\", \"2024-09-11T15:13:57Z\", \"Bureau of Land Management\", NaN, \"Tulare\", \"Avenue 50 and Road 22, Southwest of Alpaugh\", 18.0, 100.0, \"NaN\", \"NaN\", -119.536893, 35.863675, \"Wildfire\", \"65e96e18-3c2e-4211-a0f9-798f59264ef7\", \"https://www.fire.ca.gov/incidents/2024/9/11/alpaugh-fire/\", \"NaN\", \"NaN\", \"2024-09-11\", \"N\", false, false], [\"Quincy Fire\", \"Y\", \"2024-09-18T08:32:17Z\", \"2024-09-12T13:13:40Z\", \"CAL FIRE Butte Unit\", NaN, \"Butte\", \"Forbestown Road and Little Oaks Road, Robinson Mill\", 85.0, 100.0, \"NaN\", \"NaN\", -121.42105, 39.48058, \"Wildfire\", \"f5edaa5c-7880-4608-a1e7-12a6571a3e3c\", \"https://www.fire.ca.gov/incidents/2024/9/12/quincy-fire/\", \"NaN\", \"NaN\", \"2024-09-12\", \"N\", true, false], [\"Bell Fire\", \"Y\", \"2024-09-15T23:54:10Z\", \"2024-09-14T16:32:28Z\", \"CAL FIRE Amador-El Dorado Unit\", NaN, \"El Dorado\", \"East of Highway 49, north of the Amador/El Dorado County line in El Dorado County\", 12.0, 100.0, \"NaN\", \"NaN\", -120.840433, 38.545436, \"Wildfire\", \"47f8f0a7-6f42-4979-8030-0b0b6c60a9f4\", \"https://www.fire.ca.gov/incidents/2024/9/14/bell-fire/\", \"NaN\", \"NaN\", \"2024-09-14\", \"N\", true, false], [\"Cougar Fire\", \"Y\", \"2024-09-16T22:08:08Z\", \"2024-09-15T13:16:20Z\", \"CAL FIRE Sonoma-Lake-Napa Unit\", NaN, \"Sonoma\", \"Lakeville Highway, south of Cougar Mountain Road, Sears Point\", 53.0, 100.0, \"NaN\", \"Marin County Fire, Petaluma Fire, Schell-Vista Fire, Gold Ridge Fire, Rancho Adobe Fire, Sonoma Valley Fire District, United States Coast Guard\", -122.485218, 38.145843, \"Wildfire\", \"43d81aa4-9deb-4235-bfdd-332cb4d60f16\", \"https://www.fire.ca.gov/incidents/2024/9/15/cougar-fire/\", \"2024-09-16T00:00:00Z\", \"2024-09-16\", \"2024-09-15\", \"N\", true, false], [\"Ripple Fire\", \"Y\", \"2024-09-15T23:53:49Z\", \"2024-09-15T15:19:28Z\", \"CAL FIRE Fresno-Kings Unit\", NaN, \"Fresno\", \"Sand Creek Road and Ripple Lane\", 15.0, 100.0, \"NaN\", \"NaN\", -119.189459, 36.682583, \"Wildfire\", \"61e2fd92-51f6-403e-8448-cc94014c5cc1\", \"https://www.fire.ca.gov/incidents/2024/9/15/ripple-fire/\", \"2024-09-15T23:53:47Z\", \"2024-09-15\", \"2024-09-15\", \"N\", true, false], [\"Rosa Fire\", \"Y\", \"2024-09-16T22:06:15Z\", \"2024-09-16T20:08:21Z\", \"Santa Barbara County Fire\", NaN, \"Santa Barbara\", \"Santa Rosa Road, Lompoc\", 20.0, 100.0, \"NaN\", \"NaN\", -120.35679, 34.59556, \"Wildfire\", \"0eabd5ea-c1e1-421a-a70a-12285cdaf62e\", \"https://www.fire.ca.gov/incidents/2024/9/16/rosa-fire/\", \"2024-09-16T00:00:00Z\", \"2024-09-16\", \"2024-09-16\", \"N\", false, false], [\"Executive Fire\", \"Y\", \"2024-09-18T20:58:32Z\", \"2024-09-17T11:28:26Z\", \"CAL FIRE Tehama-Glenn Unit\", NaN, \"Tehama\", \"Henleyville Rd and Executive Dr in the community of Henleyville\", 58.0, 100.0, \"NaN\", \"NaN\", -122.307297, 39.93192, \"Wildfire\", \"77efe2f0-3028-4644-bb42-b2fa555fb32f\", \"https://www.fire.ca.gov/incidents/2024/9/17/executive-fire/\", \"NaN\", \"NaN\", \"2024-09-17\", \"N\", true, false], [\"Phelps Fire\", \"Y\", \"2024-09-25T09:02:28Z\", \"2024-09-19T20:34:58Z\", \"CAL FIRE Fresno-Kings Unit\", NaN, \"Fresno\", \"Phelps Ave and West Gale Ave\", 35.0, 100.0, \"NaN\", \"NaN\", -120.259824, 36.15407, \"Wildfire\", \"d915cd6a-951f-473b-89e3-d75c5f47abd6\", \"https://www.fire.ca.gov/incidents/2024/9/19/phelps-fire/\", \"2024-09-20T05:13:00Z\", \"2024-09-20\", \"2024-09-19\", \"N\", true, false], [\"Antonio Fire\", \"Y\", \"2024-09-24T20:58:43Z\", \"2024-09-23T13:16:44Z\", \"CAL FIRE Sonoma-Lake-Napa Unit\", NaN, \"Sonoma\", \"San Antonio Road, Petaluma\", 11.0, 100.0, \"NaN\", \"NaN\", -122.656105, 38.187148, \"Wildfire\", \"ab5d40ea-130e-400d-9329-be910ce20dd6\", \"https://www.fire.ca.gov/incidents/2024/9/23/antonio-fire/\", \"2024-09-24T20:58:21Z\", \"2024-09-24\", \"2024-09-23\", \"N\", true, false], [\"Plymire Fire\", \"Y\", \"2024-09-27T11:36:41Z\", \"2024-09-26T10:19:38Z\", \"CAL FIRE Tehama-Glenn Unit\", NaN, \"Tehama\", \"Plymire Road at the cross of Mendenhall, Red Bluff\", 14.0, 100.0, \"NaN\", \"NaN\", -122.284309, 40.201159, \"Wildfire\", \"2877ac5e-5f3c-45f5-bfdb-d39777b57f85\", \"https://www.fire.ca.gov/incidents/2024/9/26/plymire-fire/\", \"2024-09-26T13:19:00Z\", \"2024-09-26\", \"2024-09-26\", \"N\", true, false], [\"Meiss Fire\", \"Y\", \"2024-09-30T08:26:31Z\", \"2024-09-27T14:48:30Z\", \"CAL FIRE Amador-El Dorado Unit\", NaN, \"Sacramento\", \"14000 block Meiss Rd, S/W of Rancho Murieta\", 42.0, 100.0, \"NaN\", \"NaN\", -121.054386, 38.427179, \"Wildfire\", \"824367fb-ae02-4b05-a8cc-9b85fd03995c\", \"https://www.fire.ca.gov/incidents/2024/9/27/meiss-fire/\", \"2024-09-29T08:00:01Z\", \"2024-09-29\", \"2024-09-27\", \"N\", true, false], [\"Pinnacles Fire\", \"N\", \"2024-09-29T20:01:53Z\", \"2024-09-27T14:13:57Z\", \"CAL FIRE San Benito-Monterey Unit\", NaN, \"San Benito\", \"Airline Highway 25 and Pinnacles Highway 146\", 17.0, 100.0, \"NaN\", \"NaN\", -121.147092, 36.493781, \"Wildfire\", \"2d3d58b3-520a-4751-8208-9e6266567369\", \"https://www.fire.ca.gov/incidents/2024/9/27/pinnacles-fire/\", \"2024-09-28T15:00:00Z\", \"2024-09-28\", \"2024-09-27\", \"N\", true, false], [\"86 Fire\", \"Y\", \"2024-09-28T17:10:26Z\", \"2024-09-27T17:26:28Z\", \"CAL FIRE Riverside Unit\", NaN, \"Riverside\", \"Highway 86 Expressway / Avenue 70, Thermal \", 38.0, NaN, \"NaN\", \"NaN\", -116.099893, 33.540008, \"Wildfire\", \"fbc44da8-44a9-47ac-8051-d7aa398df2e5\", \"https://www.fire.ca.gov/incidents/2024/9/27/86-fire/\", \"NaN\", \"NaN\", \"2024-09-27\", \"N\", true, false], [\"Chase Fire \", \"Y\", \"2024-09-29T18:55:39Z\", \"2024-09-27T21:10:31Z\", \"NaN\", NaN, \"Kern\", \"East of Comanche Dr & Breckenridge Rd, Edison\", 35.0, 100.0, \"NaN\", \"NaN\", -118.84398, 35.374332, \"Wildfire\", \"7f988847-1efa-42e3-95b8-b9d736bdddbb\", \"https://www.fire.ca.gov/incidents/2024/9/27/chase-fire/\", \"2024-09-28T08:00:00Z\", \"2024-09-28\", \"2024-09-27\", \"N\", false, false], [\"Cindy Fire \", \"Y\", \"2024-09-29T18:55:07Z\", \"2024-09-28T18:12:31Z\", \"NaN\", NaN, \"Los Angeles\", \"14 Freeway and East Barrel Springs Rd, Palmdale\", 13.0, 100.0, \"NaN\", \"NaN\", -118.117656, 34.53527, \"Wildfire\", \"9a4f6a74-807d-4be5-bb55-c072f7600b83\", \"https://www.fire.ca.gov/incidents/2024/9/28/cindy-fire/\", \"2024-09-29T08:00:00Z\", \"2024-09-29\", \"2024-09-28\", \"N\", false, false], [\"Ridge Fire\", \"N\", \"2024-10-01T14:00:29Z\", \"2024-09-29T08:30:17Z\", \"Santa Barbara County Fire\", NaN, \"Santa Barbara\", \"Northeast of Cuarta Road, Hollister Ranch\", 17.0, 75.0, \"NaN\", \"NaN\", -120.274, 34.50334, \"Wildfire\", \"041dd61f-f516-421e-a295-8bdafe8fb5eb\", \"https://www.fire.ca.gov/incidents/2024/9/29/ridge-fire/\", \"NaN\", \"NaN\", \"2024-09-29\", \"Y\", false, false], [\"Soda Fire\", \"Y\", \"2024-09-30T20:59:54Z\", \"2024-09-30T13:00:03Z\", \"CAL FIRE San Luis Obispo Unit\", NaN, \"San Luis Obispo\", \"Soda Lake Rd south of Hwy 58, California Valley\", 633.0, 100.0, \"NaN\", \"NaN\", -120.005229, 35.351479, \"Wildfire\", \"e0d686b7-5bb7-41e3-af4e-e14123429236\", \"https://www.fire.ca.gov/incidents/2024/9/30/soda-fire/\", \"NaN\", \"NaN\", \"2024-09-30\", \"N\", true, false]];\n",
       "\n",
       "        // Define the dt_args\n",
       "        let dt_args = {\"layout\": {\"topStart\": \"pageLength\", \"topEnd\": \"search\", \"bottomStart\": \"info\", \"bottomEnd\": \"paging\"}, \"order\": [], \"fnInfoCallback\": function (oSettings, iStart, iEnd, iMax, iTotal, sPre) { return sPre + ' (<a href=\"https://mwouts.github.io/itables/downsampling.html\">downsampled</a> from 2,727x23 to 385x23 as maxBytes=64KB)'; }};\n",
       "        dt_args[\"data\"] = data;\n",
       "\n",
       "        \n",
       "        new DataTable(table, dt_args);\n",
       "    });\n",
       "</script>\n"
      ],
      "text/plain": [
       "<IPython.core.display.HTML object>"
      ]
     },
     "metadata": {},
     "output_type": "display_data"
    }
   ],
   "source": [
    "DF_raw = pd.read_csv('mapdataall.csv')\n",
    "show(DF_raw)"
   ]
  },
  {
   "cell_type": "markdown",
   "id": "941e4499-edd1-4210-b3ff-292dd2eb4df7",
   "metadata": {},
   "source": [
    "**Q1** How many variables and observations?\n",
    "\n",
    "**Q2** How many different incident types are there?\n",
    "\n",
    "**Q3** Make a histogram of the acres burned and color the bars by whether or not the incident was a calfire incident. You will probably need to make a mask to remove very small and very large fires. How many fires burned more than 100,000 acres? What is the largest fire in the data?\n",
    "\n",
    "**Extra Q** EXTRA - CHALLENGE - See if you can create a graph that answers the question: Are fires getting bigger or more frequent over time? You get complete creative control on how to answer this question!"
   ]
  },
  {
   "cell_type": "markdown",
   "id": "15d99ace-589a-43d8-8f52-f1035143224a",
   "metadata": {},
   "source": [
    "1. 23 variables and 2727 observations\n",
    "2. 4 different types of incidents, 3 if excluding Nan\n",
    "3. The largest fire in the raw data set burned 1032648.0 acres. The largest fire in the histogram below burned 429603.0 acres. 20 fires burned more than 100,000 acres"
   ]
  },
  {
   "cell_type": "code",
   "execution_count": 362,
   "id": "df36876b-02c2-4d86-b55b-62819a368bf6",
   "metadata": {},
   "outputs": [
    {
     "data": {
      "text/plain": [
       "(2727, 23)"
      ]
     },
     "execution_count": 362,
     "metadata": {},
     "output_type": "execute_result"
    }
   ],
   "source": [
    "# You will need to write some code to answer the questions.\n",
    "DF_raw.shape"
   ]
  },
  {
   "cell_type": "code",
   "execution_count": 363,
   "id": "c06de0e3-b9e0-4b27-83be-93a269e7ddee",
   "metadata": {},
   "outputs": [],
   "source": [
    "# 1. 23 variables, 2727 observations"
   ]
  },
  {
   "cell_type": "code",
   "execution_count": 364,
   "id": "0388222e-a80b-4392-99cd-3966254c4017",
   "metadata": {},
   "outputs": [
    {
     "data": {
      "text/plain": [
       "Index(['incident_name', 'incident_is_final', 'incident_date_last_update',\n",
       "       'incident_date_created', 'incident_administrative_unit',\n",
       "       'incident_administrative_unit_url', 'incident_county',\n",
       "       'incident_location', 'incident_acres_burned', 'incident_containment',\n",
       "       'incident_control', 'incident_cooperating_agencies',\n",
       "       'incident_longitude', 'incident_latitude', 'incident_type',\n",
       "       'incident_id', 'incident_url', 'incident_date_extinguished',\n",
       "       'incident_dateonly_extinguished', 'incident_dateonly_created',\n",
       "       'is_active', 'calfire_incident', 'notification_desired'],\n",
       "      dtype='object')"
      ]
     },
     "execution_count": 364,
     "metadata": {},
     "output_type": "execute_result"
    }
   ],
   "source": [
    "DF_raw.keys()"
   ]
  },
  {
   "cell_type": "code",
   "execution_count": 365,
   "id": "0d602ad5-1d7a-4892-ba4c-9bfb9ec0fb06",
   "metadata": {},
   "outputs": [
    {
     "data": {
      "text/plain": [
       "[nan, 'Wildfire', 'Flood', 'Fire']"
      ]
     },
     "execution_count": 365,
     "metadata": {},
     "output_type": "execute_result"
    }
   ],
   "source": [
    "my_columns=['incident_type']\n",
    "DF_incidenttypes = DF_raw[my_columns]\n",
    "incident_type_list = list(DF_incidenttypes['incident_type'].unique())\n",
    "incident_type_list\n",
    "\n",
    "# 4 different types of incidents, 3 if excluding NaN"
   ]
  },
  {
   "cell_type": "code",
   "execution_count": 366,
   "id": "bb4c0b7b-1906-4f9c-9ac6-aca1e0e9e546",
   "metadata": {},
   "outputs": [
    {
     "data": {
      "text/plain": [
       "count    2.675000e+03\n",
       "mean     4.399830e+03\n",
       "std      3.585484e+04\n",
       "min      0.000000e+00\n",
       "25%      3.200000e+01\n",
       "50%      8.600000e+01\n",
       "75%      3.530000e+02\n",
       "max      1.032648e+06\n",
       "Name: incident_acres_burned, dtype: float64"
      ]
     },
     "execution_count": 366,
     "metadata": {},
     "output_type": "execute_result"
    }
   ],
   "source": [
    "my_columns = ['incident_acres_burned','calfire_incident']\n",
    "DF_acresburned = DF_raw[my_columns]\n",
    "DF_acresburned['incident_acres_burned'].describe()"
   ]
  },
  {
   "cell_type": "code",
   "execution_count": 367,
   "id": "1e9ca879-00c5-4f9b-8e9b-1373c42d1794",
   "metadata": {},
   "outputs": [
    {
     "data": {
      "text/html": [
       "<div>\n",
       "<style scoped>\n",
       "    .dataframe tbody tr th:only-of-type {\n",
       "        vertical-align: middle;\n",
       "    }\n",
       "\n",
       "    .dataframe tbody tr th {\n",
       "        vertical-align: top;\n",
       "    }\n",
       "\n",
       "    .dataframe thead tr th {\n",
       "        text-align: left;\n",
       "    }\n",
       "\n",
       "    .dataframe thead tr:last-of-type th {\n",
       "        text-align: right;\n",
       "    }\n",
       "</style>\n",
       "<table border=\"1\" class=\"dataframe\">\n",
       "  <thead>\n",
       "    <tr>\n",
       "      <th></th>\n",
       "      <th colspan=\"8\" halign=\"left\">incident_acres_burned</th>\n",
       "    </tr>\n",
       "    <tr>\n",
       "      <th></th>\n",
       "      <th>count</th>\n",
       "      <th>mean</th>\n",
       "      <th>std</th>\n",
       "      <th>min</th>\n",
       "      <th>25%</th>\n",
       "      <th>50%</th>\n",
       "      <th>75%</th>\n",
       "      <th>max</th>\n",
       "    </tr>\n",
       "    <tr>\n",
       "      <th>calfire_incident</th>\n",
       "      <th></th>\n",
       "      <th></th>\n",
       "      <th></th>\n",
       "      <th></th>\n",
       "      <th></th>\n",
       "      <th></th>\n",
       "      <th></th>\n",
       "      <th></th>\n",
       "    </tr>\n",
       "  </thead>\n",
       "  <tbody>\n",
       "    <tr>\n",
       "      <th>False</th>\n",
       "      <td>770.0</td>\n",
       "      <td>8237.038961</td>\n",
       "      <td>56393.223332</td>\n",
       "      <td>0.0</td>\n",
       "      <td>44.25</td>\n",
       "      <td>156.0</td>\n",
       "      <td>1078.75</td>\n",
       "      <td>1032648.0</td>\n",
       "    </tr>\n",
       "    <tr>\n",
       "      <th>True</th>\n",
       "      <td>1905.0</td>\n",
       "      <td>2848.832546</td>\n",
       "      <td>22642.207117</td>\n",
       "      <td>0.0</td>\n",
       "      <td>29.00</td>\n",
       "      <td>73.0</td>\n",
       "      <td>237.00</td>\n",
       "      <td>429603.0</td>\n",
       "    </tr>\n",
       "  </tbody>\n",
       "</table>\n",
       "</div>"
      ],
      "text/plain": [
       "                 incident_acres_burned                                         \\\n",
       "                                 count         mean           std  min    25%   \n",
       "calfire_incident                                                                \n",
       "False                            770.0  8237.038961  56393.223332  0.0  44.25   \n",
       "True                            1905.0  2848.832546  22642.207117  0.0  29.00   \n",
       "\n",
       "                                             \n",
       "                    50%      75%        max  \n",
       "calfire_incident                             \n",
       "False             156.0  1078.75  1032648.0  \n",
       "True               73.0   237.00   429603.0  "
      ]
     },
     "execution_count": 367,
     "metadata": {},
     "output_type": "execute_result"
    }
   ],
   "source": [
    "my_columns = ['incident_acres_burned','calfire_incident']\n",
    "DF_acresburned = DF_raw[my_columns]\n",
    "DF_acresburned.groupby(by=['calfire_incident'])[my_columns].describe()\n",
    "\n"
   ]
  },
  {
   "cell_type": "code",
   "execution_count": 368,
   "id": "7df4bab6-0721-499f-8245-e5e1e96d29ab",
   "metadata": {},
   "outputs": [
    {
     "data": {
      "text/html": [
       "<div>\n",
       "<style scoped>\n",
       "    .dataframe tbody tr th:only-of-type {\n",
       "        vertical-align: middle;\n",
       "    }\n",
       "\n",
       "    .dataframe tbody tr th {\n",
       "        vertical-align: top;\n",
       "    }\n",
       "\n",
       "    .dataframe thead th {\n",
       "        text-align: right;\n",
       "    }\n",
       "</style>\n",
       "<table border=\"1\" class=\"dataframe\">\n",
       "  <thead>\n",
       "    <tr style=\"text-align: right;\">\n",
       "      <th></th>\n",
       "      <th>incident_acres_burned</th>\n",
       "      <th>calfire_incident</th>\n",
       "    </tr>\n",
       "  </thead>\n",
       "  <tbody>\n",
       "    <tr>\n",
       "      <th>5</th>\n",
       "      <td>6896.0</td>\n",
       "      <td>True</td>\n",
       "    </tr>\n",
       "    <tr>\n",
       "      <th>8</th>\n",
       "      <td>2956.0</td>\n",
       "      <td>True</td>\n",
       "    </tr>\n",
       "    <tr>\n",
       "      <th>13</th>\n",
       "      <td>4346.0</td>\n",
       "      <td>True</td>\n",
       "    </tr>\n",
       "    <tr>\n",
       "      <th>22</th>\n",
       "      <td>2650.0</td>\n",
       "      <td>True</td>\n",
       "    </tr>\n",
       "    <tr>\n",
       "      <th>25</th>\n",
       "      <td>2500.0</td>\n",
       "      <td>True</td>\n",
       "    </tr>\n",
       "    <tr>\n",
       "      <th>...</th>\n",
       "      <td>...</td>\n",
       "      <td>...</td>\n",
       "    </tr>\n",
       "    <tr>\n",
       "      <th>2682</th>\n",
       "      <td>17000.0</td>\n",
       "      <td>True</td>\n",
       "    </tr>\n",
       "    <tr>\n",
       "      <th>2688</th>\n",
       "      <td>44309.0</td>\n",
       "      <td>True</td>\n",
       "    </tr>\n",
       "    <tr>\n",
       "      <th>2698</th>\n",
       "      <td>54878.0</td>\n",
       "      <td>False</td>\n",
       "    </tr>\n",
       "    <tr>\n",
       "      <th>2699</th>\n",
       "      <td>1960.0</td>\n",
       "      <td>False</td>\n",
       "    </tr>\n",
       "    <tr>\n",
       "      <th>2702</th>\n",
       "      <td>23526.0</td>\n",
       "      <td>False</td>\n",
       "    </tr>\n",
       "  </tbody>\n",
       "</table>\n",
       "<p>425 rows × 2 columns</p>\n",
       "</div>"
      ],
      "text/plain": [
       "      incident_acres_burned  calfire_incident\n",
       "5                    6896.0              True\n",
       "8                    2956.0              True\n",
       "13                   4346.0              True\n",
       "22                   2650.0              True\n",
       "25                   2500.0              True\n",
       "...                     ...               ...\n",
       "2682                17000.0              True\n",
       "2688                44309.0              True\n",
       "2698                54878.0             False\n",
       "2699                 1960.0             False\n",
       "2702                23526.0             False\n",
       "\n",
       "[425 rows x 2 columns]"
      ]
     },
     "execution_count": 368,
     "metadata": {},
     "output_type": "execute_result"
    }
   ],
   "source": [
    "DF_acresburned.max()\n",
    "mask_fires = (DF_acresburned['incident_acres_burned']>1000.0) & (DF_acresburned['incident_acres_burned']<500000.0)\n",
    "DF_acresburned_mask = DF_acresburned[mask_fires]\n",
    "DF_acresburned_mask\n"
   ]
  },
  {
   "cell_type": "code",
   "execution_count": 369,
   "id": "aeb7df71-8d31-4ce9-897f-ce9a84c79e7b",
   "metadata": {},
   "outputs": [
    {
     "data": {
      "text/plain": [
       "incident_acres_burned    429603.0\n",
       "calfire_incident             True\n",
       "dtype: object"
      ]
     },
     "execution_count": 369,
     "metadata": {},
     "output_type": "execute_result"
    }
   ],
   "source": [
    "DF_acresburned_mask.max()"
   ]
  },
  {
   "cell_type": "code",
   "execution_count": 370,
   "id": "8230c86f-bc82-46d3-a21c-2a35ab4e0df2",
   "metadata": {},
   "outputs": [
    {
     "name": "stdout",
     "output_type": "stream",
     "text": [
      "20\n"
     ]
    }
   ],
   "source": [
    "mask_fires_2 = (DF_acresburned['incident_acres_burned']>100000.0)\n",
    "DF_acresburned_mask2 = DF_acresburned[mask_fires_2]\n",
    "fires_list = list(DF_acresburned_mask2['incident_acres_burned'].unique())\n",
    "print(len(fires_list))\n"
   ]
  },
  {
   "cell_type": "code",
   "execution_count": 371,
   "id": "ff4d616d-640f-4750-b540-a5a4cec349a7",
   "metadata": {},
   "outputs": [
    {
     "data": {
      "application/vnd.plotly.v1+json": {
       "config": {
        "plotlyServerURL": "https://plot.ly"
       },
       "data": [
        {
         "alignmentgroup": "True",
         "bingroup": "x",
         "hovertemplate": "calfire_incident=True<br>incident_acres_burned=%{x}<br>count=%{y}<extra></extra>",
         "legendgroup": "True",
         "marker": {
          "color": "#636efa",
          "pattern": {
           "shape": ""
          }
         },
         "name": "True",
         "nbinsx": 100,
         "offsetgroup": "True",
         "orientation": "v",
         "showlegend": true,
         "type": "histogram",
         "x": [
          6896,
          2956,
          4346,
          2650,
          2500,
          30274,
          1708,
          7055,
          27531,
          1383,
          20292,
          2264,
          8073,
          11429,
          3111,
          257314,
          3505,
          2143,
          1548,
          1995,
          4300,
          12661,
          6488,
          1469,
          4240,
          39736,
          13153,
          35302,
          32416,
          5503,
          1375,
          97717,
          1049,
          31359,
          4250,
          8051,
          2304,
          5702,
          69636,
          25118,
          2446,
          2850,
          70868,
          1040,
          1086,
          3876,
          2520,
          7609,
          7474,
          48019,
          1246,
          5645,
          1785,
          2944,
          2241,
          132127,
          5731,
          8110,
          7050,
          36274,
          46235,
          3929,
          2575,
          1080,
          1547,
          4474,
          4532,
          1350,
          1733,
          10000,
          2056,
          1417,
          6309,
          1626,
          1200,
          1562,
          1700,
          1626,
          28687,
          2940,
          6033,
          1816,
          48660,
          81826,
          1649,
          1083,
          2289,
          1268,
          1500,
          4016,
          1037,
          3800,
          2662,
          8500,
          51624,
          36807,
          44573,
          8283,
          6151,
          9989,
          36523,
          1660,
          2207,
          9217,
          17357,
          6049,
          281893,
          4088,
          2070,
          1261,
          1756,
          1065,
          1314,
          2956,
          2290,
          4563,
          3392,
          15180,
          1678,
          11789,
          90000,
          38008,
          229651,
          3156,
          410203,
          48920,
          18703,
          2225,
          1900,
          2490,
          2162,
          63311,
          3889,
          153336,
          4381,
          96949,
          1075,
          2220,
          1763,
          2420,
          2546,
          1010,
          1575,
          1507,
          1300,
          1926,
          8836,
          5563,
          1011,
          77758,
          2375,
          9999,
          2534,
          1837,
          1680,
          5042,
          1455,
          1050,
          2192,
          4000,
          5513,
          29667,
          1485,
          9564,
          22614,
          3222,
          2005,
          7760,
          2121,
          48088,
          86509,
          396624,
          6901,
          1783,
          363220,
          19609,
          2857,
          29570,
          1100,
          1311,
          67484,
          56338,
          12466,
          13964,
          1087,
          6686,
          1954,
          5366,
          1118,
          9656,
          2619,
          4470,
          19244,
          4456,
          3939,
          13440,
          8355,
          2323,
          1120,
          2487,
          2715,
          1300,
          1575,
          1088,
          1410,
          15563,
          1056,
          1207,
          19195,
          5285,
          10616,
          1595,
          3789,
          1295,
          15520,
          5646,
          9950,
          1025,
          7224,
          1710,
          1100,
          429603,
          5222,
          3815,
          3327,
          17000,
          44309
         ],
         "xaxis": "x",
         "yaxis": "y"
        },
        {
         "alignmentgroup": "True",
         "bingroup": "x",
         "hovertemplate": "calfire_incident=False<br>incident_acres_burned=%{x}<br>count=%{y}<extra></extra>",
         "legendgroup": "False",
         "marker": {
          "color": "#EF553B",
          "pattern": {
           "shape": ""
          }
         },
         "name": "False",
         "nbinsx": 100,
         "offsetgroup": "False",
         "orientation": "v",
         "showlegend": true,
         "type": "histogram",
         "x": [
          1984,
          22992,
          14754,
          1070,
          12503,
          27440,
          2060,
          2236,
          1952,
          5367,
          1457,
          3895,
          1651,
          1680,
          6258,
          4045,
          1542,
          6980,
          4863,
          10570,
          151623,
          1388,
          2860,
          1100,
          2304,
          1245,
          29322,
          33867,
          5443,
          2652,
          12518,
          2100,
          4824,
          4347,
          1522,
          1503,
          18430,
          27276,
          83733,
          2312,
          4310,
          1350,
          1020,
          4736,
          8094,
          7000,
          191125,
          78698,
          2295,
          3142,
          7697,
          36556,
          12407,
          6042,
          8925,
          21846,
          5247,
          1749,
          1319,
          7194,
          18618,
          2575,
          39715,
          13417,
          18900,
          1088,
          15619,
          1352,
          1202,
          1500,
          4064,
          1350,
          2100,
          96901,
          2883,
          3674,
          38134,
          36450,
          1200,
          23136,
          2995,
          46150,
          39387,
          1014,
          1120,
          1751,
          6974,
          3380,
          1500,
          2500,
          1350,
          1165,
          14217,
          1020,
          1301,
          2438,
          3380,
          54612,
          5332,
          4840,
          5737,
          1975,
          10296,
          1872,
          8799,
          3435,
          4615,
          3126,
          2060,
          5000,
          1395,
          1100,
          2975,
          1525,
          83261,
          33424,
          6882,
          31089,
          4237,
          47029,
          3000,
          4929,
          379895,
          22744,
          16390,
          1185,
          2188,
          6254,
          1202,
          1265,
          2877,
          26409,
          1984,
          10580,
          12660,
          105670,
          1011,
          2965,
          1320,
          68637,
          2098,
          122653,
          145632,
          223124,
          199359,
          221835,
          8777,
          94962,
          1427,
          2421,
          8578,
          16970,
          4136,
          5856,
          2500,
          4886,
          19244,
          60138,
          5208,
          28098,
          1079,
          76788,
          5843,
          1088,
          1400,
          1044,
          93078,
          1291,
          5228,
          4198,
          95107,
          21725,
          3929,
          5464,
          50198,
          1479,
          1383,
          2840,
          14168,
          3600,
          1078,
          14023,
          2160,
          1310,
          38664,
          2936,
          4685,
          12703,
          33026,
          4032,
          3007,
          59288,
          12967,
          9130,
          14104,
          54878,
          1960,
          23526
         ],
         "xaxis": "x",
         "yaxis": "y"
        }
       ],
       "layout": {
        "autosize": true,
        "bargap": 0.1,
        "barmode": "relative",
        "legend": {
         "title": {
          "text": "calfire_incident"
         },
         "tracegroupgap": 0
        },
        "margin": {
         "t": 60
        },
        "template": {
         "data": {
          "bar": [
           {
            "error_x": {
             "color": "#2a3f5f"
            },
            "error_y": {
             "color": "#2a3f5f"
            },
            "marker": {
             "line": {
              "color": "#E5ECF6",
              "width": 0.5
             },
             "pattern": {
              "fillmode": "overlay",
              "size": 10,
              "solidity": 0.2
             }
            },
            "type": "bar"
           }
          ],
          "barpolar": [
           {
            "marker": {
             "line": {
              "color": "#E5ECF6",
              "width": 0.5
             },
             "pattern": {
              "fillmode": "overlay",
              "size": 10,
              "solidity": 0.2
             }
            },
            "type": "barpolar"
           }
          ],
          "carpet": [
           {
            "aaxis": {
             "endlinecolor": "#2a3f5f",
             "gridcolor": "white",
             "linecolor": "white",
             "minorgridcolor": "white",
             "startlinecolor": "#2a3f5f"
            },
            "baxis": {
             "endlinecolor": "#2a3f5f",
             "gridcolor": "white",
             "linecolor": "white",
             "minorgridcolor": "white",
             "startlinecolor": "#2a3f5f"
            },
            "type": "carpet"
           }
          ],
          "choropleth": [
           {
            "colorbar": {
             "outlinewidth": 0,
             "ticks": ""
            },
            "type": "choropleth"
           }
          ],
          "contour": [
           {
            "colorbar": {
             "outlinewidth": 0,
             "ticks": ""
            },
            "colorscale": [
             [
              0,
              "#0d0887"
             ],
             [
              0.1111111111111111,
              "#46039f"
             ],
             [
              0.2222222222222222,
              "#7201a8"
             ],
             [
              0.3333333333333333,
              "#9c179e"
             ],
             [
              0.4444444444444444,
              "#bd3786"
             ],
             [
              0.5555555555555556,
              "#d8576b"
             ],
             [
              0.6666666666666666,
              "#ed7953"
             ],
             [
              0.7777777777777778,
              "#fb9f3a"
             ],
             [
              0.8888888888888888,
              "#fdca26"
             ],
             [
              1,
              "#f0f921"
             ]
            ],
            "type": "contour"
           }
          ],
          "contourcarpet": [
           {
            "colorbar": {
             "outlinewidth": 0,
             "ticks": ""
            },
            "type": "contourcarpet"
           }
          ],
          "heatmap": [
           {
            "colorbar": {
             "outlinewidth": 0,
             "ticks": ""
            },
            "colorscale": [
             [
              0,
              "#0d0887"
             ],
             [
              0.1111111111111111,
              "#46039f"
             ],
             [
              0.2222222222222222,
              "#7201a8"
             ],
             [
              0.3333333333333333,
              "#9c179e"
             ],
             [
              0.4444444444444444,
              "#bd3786"
             ],
             [
              0.5555555555555556,
              "#d8576b"
             ],
             [
              0.6666666666666666,
              "#ed7953"
             ],
             [
              0.7777777777777778,
              "#fb9f3a"
             ],
             [
              0.8888888888888888,
              "#fdca26"
             ],
             [
              1,
              "#f0f921"
             ]
            ],
            "type": "heatmap"
           }
          ],
          "heatmapgl": [
           {
            "colorbar": {
             "outlinewidth": 0,
             "ticks": ""
            },
            "colorscale": [
             [
              0,
              "#0d0887"
             ],
             [
              0.1111111111111111,
              "#46039f"
             ],
             [
              0.2222222222222222,
              "#7201a8"
             ],
             [
              0.3333333333333333,
              "#9c179e"
             ],
             [
              0.4444444444444444,
              "#bd3786"
             ],
             [
              0.5555555555555556,
              "#d8576b"
             ],
             [
              0.6666666666666666,
              "#ed7953"
             ],
             [
              0.7777777777777778,
              "#fb9f3a"
             ],
             [
              0.8888888888888888,
              "#fdca26"
             ],
             [
              1,
              "#f0f921"
             ]
            ],
            "type": "heatmapgl"
           }
          ],
          "histogram": [
           {
            "marker": {
             "pattern": {
              "fillmode": "overlay",
              "size": 10,
              "solidity": 0.2
             }
            },
            "type": "histogram"
           }
          ],
          "histogram2d": [
           {
            "colorbar": {
             "outlinewidth": 0,
             "ticks": ""
            },
            "colorscale": [
             [
              0,
              "#0d0887"
             ],
             [
              0.1111111111111111,
              "#46039f"
             ],
             [
              0.2222222222222222,
              "#7201a8"
             ],
             [
              0.3333333333333333,
              "#9c179e"
             ],
             [
              0.4444444444444444,
              "#bd3786"
             ],
             [
              0.5555555555555556,
              "#d8576b"
             ],
             [
              0.6666666666666666,
              "#ed7953"
             ],
             [
              0.7777777777777778,
              "#fb9f3a"
             ],
             [
              0.8888888888888888,
              "#fdca26"
             ],
             [
              1,
              "#f0f921"
             ]
            ],
            "type": "histogram2d"
           }
          ],
          "histogram2dcontour": [
           {
            "colorbar": {
             "outlinewidth": 0,
             "ticks": ""
            },
            "colorscale": [
             [
              0,
              "#0d0887"
             ],
             [
              0.1111111111111111,
              "#46039f"
             ],
             [
              0.2222222222222222,
              "#7201a8"
             ],
             [
              0.3333333333333333,
              "#9c179e"
             ],
             [
              0.4444444444444444,
              "#bd3786"
             ],
             [
              0.5555555555555556,
              "#d8576b"
             ],
             [
              0.6666666666666666,
              "#ed7953"
             ],
             [
              0.7777777777777778,
              "#fb9f3a"
             ],
             [
              0.8888888888888888,
              "#fdca26"
             ],
             [
              1,
              "#f0f921"
             ]
            ],
            "type": "histogram2dcontour"
           }
          ],
          "mesh3d": [
           {
            "colorbar": {
             "outlinewidth": 0,
             "ticks": ""
            },
            "type": "mesh3d"
           }
          ],
          "parcoords": [
           {
            "line": {
             "colorbar": {
              "outlinewidth": 0,
              "ticks": ""
             }
            },
            "type": "parcoords"
           }
          ],
          "pie": [
           {
            "automargin": true,
            "type": "pie"
           }
          ],
          "scatter": [
           {
            "fillpattern": {
             "fillmode": "overlay",
             "size": 10,
             "solidity": 0.2
            },
            "type": "scatter"
           }
          ],
          "scatter3d": [
           {
            "line": {
             "colorbar": {
              "outlinewidth": 0,
              "ticks": ""
             }
            },
            "marker": {
             "colorbar": {
              "outlinewidth": 0,
              "ticks": ""
             }
            },
            "type": "scatter3d"
           }
          ],
          "scattercarpet": [
           {
            "marker": {
             "colorbar": {
              "outlinewidth": 0,
              "ticks": ""
             }
            },
            "type": "scattercarpet"
           }
          ],
          "scattergeo": [
           {
            "marker": {
             "colorbar": {
              "outlinewidth": 0,
              "ticks": ""
             }
            },
            "type": "scattergeo"
           }
          ],
          "scattergl": [
           {
            "marker": {
             "colorbar": {
              "outlinewidth": 0,
              "ticks": ""
             }
            },
            "type": "scattergl"
           }
          ],
          "scattermapbox": [
           {
            "marker": {
             "colorbar": {
              "outlinewidth": 0,
              "ticks": ""
             }
            },
            "type": "scattermapbox"
           }
          ],
          "scatterpolar": [
           {
            "marker": {
             "colorbar": {
              "outlinewidth": 0,
              "ticks": ""
             }
            },
            "type": "scatterpolar"
           }
          ],
          "scatterpolargl": [
           {
            "marker": {
             "colorbar": {
              "outlinewidth": 0,
              "ticks": ""
             }
            },
            "type": "scatterpolargl"
           }
          ],
          "scatterternary": [
           {
            "marker": {
             "colorbar": {
              "outlinewidth": 0,
              "ticks": ""
             }
            },
            "type": "scatterternary"
           }
          ],
          "surface": [
           {
            "colorbar": {
             "outlinewidth": 0,
             "ticks": ""
            },
            "colorscale": [
             [
              0,
              "#0d0887"
             ],
             [
              0.1111111111111111,
              "#46039f"
             ],
             [
              0.2222222222222222,
              "#7201a8"
             ],
             [
              0.3333333333333333,
              "#9c179e"
             ],
             [
              0.4444444444444444,
              "#bd3786"
             ],
             [
              0.5555555555555556,
              "#d8576b"
             ],
             [
              0.6666666666666666,
              "#ed7953"
             ],
             [
              0.7777777777777778,
              "#fb9f3a"
             ],
             [
              0.8888888888888888,
              "#fdca26"
             ],
             [
              1,
              "#f0f921"
             ]
            ],
            "type": "surface"
           }
          ],
          "table": [
           {
            "cells": {
             "fill": {
              "color": "#EBF0F8"
             },
             "line": {
              "color": "white"
             }
            },
            "header": {
             "fill": {
              "color": "#C8D4E3"
             },
             "line": {
              "color": "white"
             }
            },
            "type": "table"
           }
          ]
         },
         "layout": {
          "annotationdefaults": {
           "arrowcolor": "#2a3f5f",
           "arrowhead": 0,
           "arrowwidth": 1
          },
          "autotypenumbers": "strict",
          "coloraxis": {
           "colorbar": {
            "outlinewidth": 0,
            "ticks": ""
           }
          },
          "colorscale": {
           "diverging": [
            [
             0,
             "#8e0152"
            ],
            [
             0.1,
             "#c51b7d"
            ],
            [
             0.2,
             "#de77ae"
            ],
            [
             0.3,
             "#f1b6da"
            ],
            [
             0.4,
             "#fde0ef"
            ],
            [
             0.5,
             "#f7f7f7"
            ],
            [
             0.6,
             "#e6f5d0"
            ],
            [
             0.7,
             "#b8e186"
            ],
            [
             0.8,
             "#7fbc41"
            ],
            [
             0.9,
             "#4d9221"
            ],
            [
             1,
             "#276419"
            ]
           ],
           "sequential": [
            [
             0,
             "#0d0887"
            ],
            [
             0.1111111111111111,
             "#46039f"
            ],
            [
             0.2222222222222222,
             "#7201a8"
            ],
            [
             0.3333333333333333,
             "#9c179e"
            ],
            [
             0.4444444444444444,
             "#bd3786"
            ],
            [
             0.5555555555555556,
             "#d8576b"
            ],
            [
             0.6666666666666666,
             "#ed7953"
            ],
            [
             0.7777777777777778,
             "#fb9f3a"
            ],
            [
             0.8888888888888888,
             "#fdca26"
            ],
            [
             1,
             "#f0f921"
            ]
           ],
           "sequentialminus": [
            [
             0,
             "#0d0887"
            ],
            [
             0.1111111111111111,
             "#46039f"
            ],
            [
             0.2222222222222222,
             "#7201a8"
            ],
            [
             0.3333333333333333,
             "#9c179e"
            ],
            [
             0.4444444444444444,
             "#bd3786"
            ],
            [
             0.5555555555555556,
             "#d8576b"
            ],
            [
             0.6666666666666666,
             "#ed7953"
            ],
            [
             0.7777777777777778,
             "#fb9f3a"
            ],
            [
             0.8888888888888888,
             "#fdca26"
            ],
            [
             1,
             "#f0f921"
            ]
           ]
          },
          "colorway": [
           "#636efa",
           "#EF553B",
           "#00cc96",
           "#ab63fa",
           "#FFA15A",
           "#19d3f3",
           "#FF6692",
           "#B6E880",
           "#FF97FF",
           "#FECB52"
          ],
          "font": {
           "color": "#2a3f5f"
          },
          "geo": {
           "bgcolor": "white",
           "lakecolor": "white",
           "landcolor": "#E5ECF6",
           "showlakes": true,
           "showland": true,
           "subunitcolor": "white"
          },
          "hoverlabel": {
           "align": "left"
          },
          "hovermode": "closest",
          "mapbox": {
           "style": "light"
          },
          "paper_bgcolor": "white",
          "plot_bgcolor": "#E5ECF6",
          "polar": {
           "angularaxis": {
            "gridcolor": "white",
            "linecolor": "white",
            "ticks": ""
           },
           "bgcolor": "#E5ECF6",
           "radialaxis": {
            "gridcolor": "white",
            "linecolor": "white",
            "ticks": ""
           }
          },
          "scene": {
           "xaxis": {
            "backgroundcolor": "#E5ECF6",
            "gridcolor": "white",
            "gridwidth": 2,
            "linecolor": "white",
            "showbackground": true,
            "ticks": "",
            "zerolinecolor": "white"
           },
           "yaxis": {
            "backgroundcolor": "#E5ECF6",
            "gridcolor": "white",
            "gridwidth": 2,
            "linecolor": "white",
            "showbackground": true,
            "ticks": "",
            "zerolinecolor": "white"
           },
           "zaxis": {
            "backgroundcolor": "#E5ECF6",
            "gridcolor": "white",
            "gridwidth": 2,
            "linecolor": "white",
            "showbackground": true,
            "ticks": "",
            "zerolinecolor": "white"
           }
          },
          "shapedefaults": {
           "line": {
            "color": "#2a3f5f"
           }
          },
          "ternary": {
           "aaxis": {
            "gridcolor": "white",
            "linecolor": "white",
            "ticks": ""
           },
           "baxis": {
            "gridcolor": "white",
            "linecolor": "white",
            "ticks": ""
           },
           "bgcolor": "#E5ECF6",
           "caxis": {
            "gridcolor": "white",
            "linecolor": "white",
            "ticks": ""
           }
          },
          "title": {
           "x": 0.05
          },
          "xaxis": {
           "automargin": true,
           "gridcolor": "white",
           "linecolor": "white",
           "ticks": "",
           "title": {
            "standoff": 15
           },
           "zerolinecolor": "white",
           "zerolinewidth": 2
          },
          "yaxis": {
           "automargin": true,
           "gridcolor": "white",
           "linecolor": "white",
           "ticks": "",
           "title": {
            "standoff": 15
           },
           "zerolinecolor": "white",
           "zerolinewidth": 2
          }
         }
        },
        "title": {
         "text": "Acres Burned",
         "x": 0.5
        },
        "xaxis": {
         "anchor": "y",
         "autorange": true,
         "domain": [
          0,
          1
         ],
         "range": [
          -0.5,
          429999.5
         ],
         "title": {
          "text": "incident_acres_burned"
         },
         "type": "linear"
        },
        "yaxis": {
         "anchor": "x",
         "autorange": true,
         "domain": [
          0,
          1
         ],
         "range": [
          0,
          243.1578947368421
         ],
         "title": {
          "text": "count"
         }
        }
       }
      },
      "image/png": "[encoded data removed]",
      "text/html": [
       "<div>                            <div id=\"551df93f-5704-4182-84a5-5ec6cf1b5e59\" class=\"plotly-graph-div\" style=\"height:525px; width:100%;\"></div>            <script type=\"text/javascript\">                require([\"plotly\"], function(Plotly) {                    window.PLOTLYENV=window.PLOTLYENV || {};                                    if (document.getElementById(\"551df93f-5704-4182-84a5-5ec6cf1b5e59\")) {                    Plotly.newPlot(                        \"551df93f-5704-4182-84a5-5ec6cf1b5e59\",                        [{\"alignmentgroup\":\"True\",\"bingroup\":\"x\",\"hovertemplate\":\"calfire_incident=True\\u003cbr\\u003eincident_acres_burned=%{x}\\u003cbr\\u003ecount=%{y}\\u003cextra\\u003e\\u003c\\u002fextra\\u003e\",\"legendgroup\":\"True\",\"marker\":{\"color\":\"#636efa\",\"pattern\":{\"shape\":\"\"}},\"name\":\"True\",\"nbinsx\":100,\"offsetgroup\":\"True\",\"orientation\":\"v\",\"showlegend\":true,\"x\":[6896.0,2956.0,4346.0,2650.0,2500.0,30274.0,1708.0,7055.0,27531.0,1383.0,20292.0,2264.0,8073.0,11429.0,3111.0,257314.0,3505.0,2143.0,1548.0,1995.0,4300.0,12661.0,6488.0,1469.0,4240.0,39736.0,13153.0,35302.0,32416.0,5503.0,1375.0,97717.0,1049.0,31359.0,4250.0,8051.0,2304.0,5702.0,69636.0,25118.0,2446.0,2850.0,70868.0,1040.0,1086.0,3876.0,2520.0,7609.0,7474.0,48019.0,1246.0,5645.0,1785.0,2944.0,2241.0,132127.0,5731.0,8110.0,7050.0,36274.0,46235.0,3929.0,2575.0,1080.0,1547.0,4474.0,4532.0,1350.0,1733.0,10000.0,2056.0,1417.0,6309.0,1626.0,1200.0,1562.0,1700.0,1626.0,28687.0,2940.0,6033.0,1816.0,48660.0,81826.0,1649.0,1083.0,2289.0,1268.0,1500.0,4016.0,1037.0,3800.0,2662.0,8500.0,51624.0,36807.0,44573.0,8283.0,6151.0,9989.0,36523.0,1660.0,2207.0,9217.0,17357.0,6049.0,281893.0,4088.0,2070.0,1261.0,1756.0,1065.0,1314.0,2956.0,2290.0,4563.0,3392.0,15180.0,1678.0,11789.0,90000.0,38008.0,229651.0,3156.0,410203.0,48920.0,18703.0,2225.0,1900.0,2490.0,2162.0,63311.0,3889.0,153336.0,4381.0,96949.0,1075.0,2220.0,1763.0,2420.0,2546.0,1010.0,1575.0,1507.0,1300.0,1926.0,8836.0,5563.0,1011.0,77758.0,2375.0,9999.0,2534.0,1837.0,1680.0,5042.0,1455.0,1050.0,2192.0,4000.0,5513.0,29667.0,1485.0,9564.0,22614.0,3222.0,2005.0,7760.0,2121.0,48088.0,86509.0,396624.0,6901.0,1783.0,363220.0,19609.0,2857.0,29570.0,1100.0,1311.0,67484.0,56338.0,12466.0,13964.0,1087.0,6686.0,1954.0,5366.0,1118.0,9656.0,2619.0,4470.0,19244.0,4456.0,3939.0,13440.0,8355.0,2323.0,1120.0,2487.0,2715.0,1300.0,1575.0,1088.0,1410.0,15563.0,1056.0,1207.0,19195.0,5285.0,10616.0,1595.0,3789.0,1295.0,15520.0,5646.0,9950.0,1025.0,7224.0,1710.0,1100.0,429603.0,5222.0,3815.0,3327.0,17000.0,44309.0],\"xaxis\":\"x\",\"yaxis\":\"y\",\"type\":\"histogram\"},{\"alignmentgroup\":\"True\",\"bingroup\":\"x\",\"hovertemplate\":\"calfire_incident=False\\u003cbr\\u003eincident_acres_burned=%{x}\\u003cbr\\u003ecount=%{y}\\u003cextra\\u003e\\u003c\\u002fextra\\u003e\",\"legendgroup\":\"False\",\"marker\":{\"color\":\"#EF553B\",\"pattern\":{\"shape\":\"\"}},\"name\":\"False\",\"nbinsx\":100,\"offsetgroup\":\"False\",\"orientation\":\"v\",\"showlegend\":true,\"x\":[1984.0,22992.0,14754.0,1070.0,12503.0,27440.0,2060.0,2236.0,1952.0,5367.0,1457.0,3895.0,1651.0,1680.0,6258.0,4045.0,1542.0,6980.0,4863.0,10570.0,151623.0,1388.0,2860.0,1100.0,2304.0,1245.0,29322.0,33867.0,5443.0,2652.0,12518.0,2100.0,4824.0,4347.0,1522.0,1503.0,18430.0,27276.0,83733.0,2312.0,4310.0,1350.0,1020.0,4736.0,8094.0,7000.0,191125.0,78698.0,2295.0,3142.0,7697.0,36556.0,12407.0,6042.0,8925.0,21846.0,5247.0,1749.0,1319.0,7194.0,18618.0,2575.0,39715.0,13417.0,18900.0,1088.0,15619.0,1352.0,1202.0,1500.0,4064.0,1350.0,2100.0,96901.0,2883.0,3674.0,38134.0,36450.0,1200.0,23136.0,2995.0,46150.0,39387.0,1014.0,1120.0,1751.0,6974.0,3380.0,1500.0,2500.0,1350.0,1165.0,14217.0,1020.0,1301.0,2438.0,3380.0,54612.0,5332.0,4840.0,5737.0,1975.0,10296.0,1872.0,8799.0,3435.0,4615.0,3126.0,2060.0,5000.0,1395.0,1100.0,2975.0,1525.0,83261.0,33424.0,6882.0,31089.0,4237.0,47029.0,3000.0,4929.0,379895.0,22744.0,16390.0,1185.0,2188.0,6254.0,1202.0,1265.0,2877.0,26409.0,1984.0,10580.0,12660.0,105670.0,1011.0,2965.0,1320.0,68637.0,2098.0,122653.0,145632.0,223124.0,199359.0,221835.0,8777.0,94962.0,1427.0,2421.0,8578.0,16970.0,4136.0,5856.0,2500.0,4886.0,19244.0,60138.0,5208.0,28098.0,1079.0,76788.0,5843.0,1088.0,1400.0,1044.0,93078.0,1291.0,5228.0,4198.0,95107.0,21725.0,3929.0,5464.0,50198.0,1479.0,1383.0,2840.0,14168.0,3600.0,1078.0,14023.0,2160.0,1310.0,38664.0,2936.0,4685.0,12703.0,33026.0,4032.0,3007.0,59288.0,12967.0,9130.0,14104.0,54878.0,1960.0,23526.0],\"xaxis\":\"x\",\"yaxis\":\"y\",\"type\":\"histogram\"}],                        {\"template\":{\"data\":{\"histogram2dcontour\":[{\"type\":\"histogram2dcontour\",\"colorbar\":{\"outlinewidth\":0,\"ticks\":\"\"},\"colorscale\":[[0.0,\"#0d0887\"],[0.1111111111111111,\"#46039f\"],[0.2222222222222222,\"#7201a8\"],[0.3333333333333333,\"#9c179e\"],[0.4444444444444444,\"#bd3786\"],[0.5555555555555556,\"#d8576b\"],[0.6666666666666666,\"#ed7953\"],[0.7777777777777778,\"#fb9f3a\"],[0.8888888888888888,\"#fdca26\"],[1.0,\"#f0f921\"]]}],\"choropleth\":[{\"type\":\"choropleth\",\"colorbar\":{\"outlinewidth\":0,\"ticks\":\"\"}}],\"histogram2d\":[{\"type\":\"histogram2d\",\"colorbar\":{\"outlinewidth\":0,\"ticks\":\"\"},\"colorscale\":[[0.0,\"#0d0887\"],[0.1111111111111111,\"#46039f\"],[0.2222222222222222,\"#7201a8\"],[0.3333333333333333,\"#9c179e\"],[0.4444444444444444,\"#bd3786\"],[0.5555555555555556,\"#d8576b\"],[0.6666666666666666,\"#ed7953\"],[0.7777777777777778,\"#fb9f3a\"],[0.8888888888888888,\"#fdca26\"],[1.0,\"#f0f921\"]]}],\"heatmap\":[{\"type\":\"heatmap\",\"colorbar\":{\"outlinewidth\":0,\"ticks\":\"\"},\"colorscale\":[[0.0,\"#0d0887\"],[0.1111111111111111,\"#46039f\"],[0.2222222222222222,\"#7201a8\"],[0.3333333333333333,\"#9c179e\"],[0.4444444444444444,\"#bd3786\"],[0.5555555555555556,\"#d8576b\"],[0.6666666666666666,\"#ed7953\"],[0.7777777777777778,\"#fb9f3a\"],[0.8888888888888888,\"#fdca26\"],[1.0,\"#f0f921\"]]}],\"heatmapgl\":[{\"type\":\"heatmapgl\",\"colorbar\":{\"outlinewidth\":0,\"ticks\":\"\"},\"colorscale\":[[0.0,\"#0d0887\"],[0.1111111111111111,\"#46039f\"],[0.2222222222222222,\"#7201a8\"],[0.3333333333333333,\"#9c179e\"],[0.4444444444444444,\"#bd3786\"],[0.5555555555555556,\"#d8576b\"],[0.6666666666666666,\"#ed7953\"],[0.7777777777777778,\"#fb9f3a\"],[0.8888888888888888,\"#fdca26\"],[1.0,\"#f0f921\"]]}],\"contourcarpet\":[{\"type\":\"contourcarpet\",\"colorbar\":{\"outlinewidth\":0,\"ticks\":\"\"}}],\"contour\":[{\"type\":\"contour\",\"colorbar\":{\"outlinewidth\":0,\"ticks\":\"\"},\"colorscale\":[[0.0,\"#0d0887\"],[0.1111111111111111,\"#46039f\"],[0.2222222222222222,\"#7201a8\"],[0.3333333333333333,\"#9c179e\"],[0.4444444444444444,\"#bd3786\"],[0.5555555555555556,\"#d8576b\"],[0.6666666666666666,\"#ed7953\"],[0.7777777777777778,\"#fb9f3a\"],[0.8888888888888888,\"#fdca26\"],[1.0,\"#f0f921\"]]}],\"surface\":[{\"type\":\"surface\",\"colorbar\":{\"outlinewidth\":0,\"ticks\":\"\"},\"colorscale\":[[0.0,\"#0d0887\"],[0.1111111111111111,\"#46039f\"],[0.2222222222222222,\"#7201a8\"],[0.3333333333333333,\"#9c179e\"],[0.4444444444444444,\"#bd3786\"],[0.5555555555555556,\"#d8576b\"],[0.6666666666666666,\"#ed7953\"],[0.7777777777777778,\"#fb9f3a\"],[0.8888888888888888,\"#fdca26\"],[1.0,\"#f0f921\"]]}],\"mesh3d\":[{\"type\":\"mesh3d\",\"colorbar\":{\"outlinewidth\":0,\"ticks\":\"\"}}],\"scatter\":[{\"fillpattern\":{\"fillmode\":\"overlay\",\"size\":10,\"solidity\":0.2},\"type\":\"scatter\"}],\"parcoords\":[{\"type\":\"parcoords\",\"line\":{\"colorbar\":{\"outlinewidth\":0,\"ticks\":\"\"}}}],\"scatterpolargl\":[{\"type\":\"scatterpolargl\",\"marker\":{\"colorbar\":{\"outlinewidth\":0,\"ticks\":\"\"}}}],\"bar\":[{\"error_x\":{\"color\":\"#2a3f5f\"},\"error_y\":{\"color\":\"#2a3f5f\"},\"marker\":{\"line\":{\"color\":\"#E5ECF6\",\"width\":0.5},\"pattern\":{\"fillmode\":\"overlay\",\"size\":10,\"solidity\":0.2}},\"type\":\"bar\"}],\"scattergeo\":[{\"type\":\"scattergeo\",\"marker\":{\"colorbar\":{\"outlinewidth\":0,\"ticks\":\"\"}}}],\"scatterpolar\":[{\"type\":\"scatterpolar\",\"marker\":{\"colorbar\":{\"outlinewidth\":0,\"ticks\":\"\"}}}],\"histogram\":[{\"marker\":{\"pattern\":{\"fillmode\":\"overlay\",\"size\":10,\"solidity\":0.2}},\"type\":\"histogram\"}],\"scattergl\":[{\"type\":\"scattergl\",\"marker\":{\"colorbar\":{\"outlinewidth\":0,\"ticks\":\"\"}}}],\"scatter3d\":[{\"type\":\"scatter3d\",\"line\":{\"colorbar\":{\"outlinewidth\":0,\"ticks\":\"\"}},\"marker\":{\"colorbar\":{\"outlinewidth\":0,\"ticks\":\"\"}}}],\"scattermapbox\":[{\"type\":\"scattermapbox\",\"marker\":{\"colorbar\":{\"outlinewidth\":0,\"ticks\":\"\"}}}],\"scatterternary\":[{\"type\":\"scatterternary\",\"marker\":{\"colorbar\":{\"outlinewidth\":0,\"ticks\":\"\"}}}],\"scattercarpet\":[{\"type\":\"scattercarpet\",\"marker\":{\"colorbar\":{\"outlinewidth\":0,\"ticks\":\"\"}}}],\"carpet\":[{\"aaxis\":{\"endlinecolor\":\"#2a3f5f\",\"gridcolor\":\"white\",\"linecolor\":\"white\",\"minorgridcolor\":\"white\",\"startlinecolor\":\"#2a3f5f\"},\"baxis\":{\"endlinecolor\":\"#2a3f5f\",\"gridcolor\":\"white\",\"linecolor\":\"white\",\"minorgridcolor\":\"white\",\"startlinecolor\":\"#2a3f5f\"},\"type\":\"carpet\"}],\"table\":[{\"cells\":{\"fill\":{\"color\":\"#EBF0F8\"},\"line\":{\"color\":\"white\"}},\"header\":{\"fill\":{\"color\":\"#C8D4E3\"},\"line\":{\"color\":\"white\"}},\"type\":\"table\"}],\"barpolar\":[{\"marker\":{\"line\":{\"color\":\"#E5ECF6\",\"width\":0.5},\"pattern\":{\"fillmode\":\"overlay\",\"size\":10,\"solidity\":0.2}},\"type\":\"barpolar\"}],\"pie\":[{\"automargin\":true,\"type\":\"pie\"}]},\"layout\":{\"autotypenumbers\":\"strict\",\"colorway\":[\"#636efa\",\"#EF553B\",\"#00cc96\",\"#ab63fa\",\"#FFA15A\",\"#19d3f3\",\"#FF6692\",\"#B6E880\",\"#FF97FF\",\"#FECB52\"],\"font\":{\"color\":\"#2a3f5f\"},\"hovermode\":\"closest\",\"hoverlabel\":{\"align\":\"left\"},\"paper_bgcolor\":\"white\",\"plot_bgcolor\":\"#E5ECF6\",\"polar\":{\"bgcolor\":\"#E5ECF6\",\"angularaxis\":{\"gridcolor\":\"white\",\"linecolor\":\"white\",\"ticks\":\"\"},\"radialaxis\":{\"gridcolor\":\"white\",\"linecolor\":\"white\",\"ticks\":\"\"}},\"ternary\":{\"bgcolor\":\"#E5ECF6\",\"aaxis\":{\"gridcolor\":\"white\",\"linecolor\":\"white\",\"ticks\":\"\"},\"baxis\":{\"gridcolor\":\"white\",\"linecolor\":\"white\",\"ticks\":\"\"},\"caxis\":{\"gridcolor\":\"white\",\"linecolor\":\"white\",\"ticks\":\"\"}},\"coloraxis\":{\"colorbar\":{\"outlinewidth\":0,\"ticks\":\"\"}},\"colorscale\":{\"sequential\":[[0.0,\"#0d0887\"],[0.1111111111111111,\"#46039f\"],[0.2222222222222222,\"#7201a8\"],[0.3333333333333333,\"#9c179e\"],[0.4444444444444444,\"#bd3786\"],[0.5555555555555556,\"#d8576b\"],[0.6666666666666666,\"#ed7953\"],[0.7777777777777778,\"#fb9f3a\"],[0.8888888888888888,\"#fdca26\"],[1.0,\"#f0f921\"]],\"sequentialminus\":[[0.0,\"#0d0887\"],[0.1111111111111111,\"#46039f\"],[0.2222222222222222,\"#7201a8\"],[0.3333333333333333,\"#9c179e\"],[0.4444444444444444,\"#bd3786\"],[0.5555555555555556,\"#d8576b\"],[0.6666666666666666,\"#ed7953\"],[0.7777777777777778,\"#fb9f3a\"],[0.8888888888888888,\"#fdca26\"],[1.0,\"#f0f921\"]],\"diverging\":[[0,\"#8e0152\"],[0.1,\"#c51b7d\"],[0.2,\"#de77ae\"],[0.3,\"#f1b6da\"],[0.4,\"#fde0ef\"],[0.5,\"#f7f7f7\"],[0.6,\"#e6f5d0\"],[0.7,\"#b8e186\"],[0.8,\"#7fbc41\"],[0.9,\"#4d9221\"],[1,\"#276419\"]]},\"xaxis\":{\"gridcolor\":\"white\",\"linecolor\":\"white\",\"ticks\":\"\",\"title\":{\"standoff\":15},\"zerolinecolor\":\"white\",\"automargin\":true,\"zerolinewidth\":2},\"yaxis\":{\"gridcolor\":\"white\",\"linecolor\":\"white\",\"ticks\":\"\",\"title\":{\"standoff\":15},\"zerolinecolor\":\"white\",\"automargin\":true,\"zerolinewidth\":2},\"scene\":{\"xaxis\":{\"backgroundcolor\":\"#E5ECF6\",\"gridcolor\":\"white\",\"linecolor\":\"white\",\"showbackground\":true,\"ticks\":\"\",\"zerolinecolor\":\"white\",\"gridwidth\":2},\"yaxis\":{\"backgroundcolor\":\"#E5ECF6\",\"gridcolor\":\"white\",\"linecolor\":\"white\",\"showbackground\":true,\"ticks\":\"\",\"zerolinecolor\":\"white\",\"gridwidth\":2},\"zaxis\":{\"backgroundcolor\":\"#E5ECF6\",\"gridcolor\":\"white\",\"linecolor\":\"white\",\"showbackground\":true,\"ticks\":\"\",\"zerolinecolor\":\"white\",\"gridwidth\":2}},\"shapedefaults\":{\"line\":{\"color\":\"#2a3f5f\"}},\"annotationdefaults\":{\"arrowcolor\":\"#2a3f5f\",\"arrowhead\":0,\"arrowwidth\":1},\"geo\":{\"bgcolor\":\"white\",\"landcolor\":\"#E5ECF6\",\"subunitcolor\":\"white\",\"showland\":true,\"showlakes\":true,\"lakecolor\":\"white\"},\"title\":{\"x\":0.05},\"mapbox\":{\"style\":\"light\"}}},\"xaxis\":{\"anchor\":\"y\",\"domain\":[0.0,1.0],\"title\":{\"text\":\"incident_acres_burned\"}},\"yaxis\":{\"anchor\":\"x\",\"domain\":[0.0,1.0],\"title\":{\"text\":\"count\"}},\"legend\":{\"title\":{\"text\":\"calfire_incident\"},\"tracegroupgap\":0},\"margin\":{\"t\":60},\"barmode\":\"relative\",\"title\":{\"text\":\"Acres Burned\",\"x\":0.5},\"bargap\":0.1},                        {\"responsive\": true}                    ).then(function(){\n",
       "                            \n",
       "var gd = document.getElementById('551df93f-5704-4182-84a5-5ec6cf1b5e59');\n",
       "var x = new MutationObserver(function (mutations, observer) {{\n",
       "        var display = window.getComputedStyle(gd).display;\n",
       "        if (!display || display === 'none') {{\n",
       "            console.log([gd, 'removed!']);\n",
       "            Plotly.purge(gd);\n",
       "            observer.disconnect();\n",
       "        }}\n",
       "}});\n",
       "\n",
       "// Listen for the removal of the full notebook cells\n",
       "var notebookContainer = gd.closest('#notebook-container');\n",
       "if (notebookContainer) {{\n",
       "    x.observe(notebookContainer, {childList: true});\n",
       "}}\n",
       "\n",
       "// Listen for the clearing of the current output cell\n",
       "var outputEl = gd.closest('.output');\n",
       "if (outputEl) {{\n",
       "    x.observe(outputEl, {childList: true});\n",
       "}}\n",
       "\n",
       "                        })                };                });            </script>        </div>"
      ]
     },
     "metadata": {},
     "output_type": "display_data"
    }
   ],
   "source": [
    "fig = px.histogram(DF_acresburned_mask,\n",
    "                   nbins=100,\n",
    "                   x='incident_acres_burned',\n",
    "                   color = 'calfire_incident')\n",
    "\n",
    "\n",
    "fig.update_layout(bargap=0.1,\n",
    "                  title='Acres Burned',\n",
    "                  title_x=0.5)\n",
    "fig.show()"
   ]
  },
  {
   "cell_type": "markdown",
   "id": "fa09683e-ac6a-4cb5-a47d-6cbf580524d2",
   "metadata": {},
   "source": [
    "## Try reading in some data from Wikipedia - html\n",
    "\n",
    "Here we will explore academy award winning films. Go to the [Wiki for the List of Academy Award Winning Films](https://en.wikipedia.org/wiki/List_of_Academy_Award%E2%80%93winning_films). Look at what type of data is there. How many tables? Any weird looking data?\n",
    "\n",
    "Now read the html data into Python and show the data in DF[0]"
   ]
  },
  {
   "cell_type": "code",
   "execution_count": 373,
   "id": "7822c202-f226-4a55-ae1f-eceacc81531f",
   "metadata": {},
   "outputs": [
    {
     "data": {
      "text/html": [
       "<div>\n",
       "<style scoped>\n",
       "    .dataframe tbody tr th:only-of-type {\n",
       "        vertical-align: middle;\n",
       "    }\n",
       "\n",
       "    .dataframe tbody tr th {\n",
       "        vertical-align: top;\n",
       "    }\n",
       "\n",
       "    .dataframe thead th {\n",
       "        text-align: right;\n",
       "    }\n",
       "</style>\n",
       "<table border=\"1\" class=\"dataframe\">\n",
       "  <thead>\n",
       "    <tr style=\"text-align: right;\">\n",
       "      <th></th>\n",
       "      <th>Film</th>\n",
       "      <th>Year</th>\n",
       "      <th>Awards</th>\n",
       "      <th>Nominations</th>\n",
       "    </tr>\n",
       "  </thead>\n",
       "  <tbody>\n",
       "    <tr>\n",
       "      <th>0</th>\n",
       "      <td>Oppenheimer</td>\n",
       "      <td>2023</td>\n",
       "      <td>7</td>\n",
       "      <td>13</td>\n",
       "    </tr>\n",
       "    <tr>\n",
       "      <th>1</th>\n",
       "      <td>Poor Things</td>\n",
       "      <td>2023</td>\n",
       "      <td>4</td>\n",
       "      <td>11</td>\n",
       "    </tr>\n",
       "    <tr>\n",
       "      <th>2</th>\n",
       "      <td>The Zone of Interest</td>\n",
       "      <td>2023</td>\n",
       "      <td>2</td>\n",
       "      <td>5</td>\n",
       "    </tr>\n",
       "    <tr>\n",
       "      <th>3</th>\n",
       "      <td>American Fiction</td>\n",
       "      <td>2023</td>\n",
       "      <td>1</td>\n",
       "      <td>5</td>\n",
       "    </tr>\n",
       "    <tr>\n",
       "      <th>4</th>\n",
       "      <td>Anatomy of a Fall</td>\n",
       "      <td>2023</td>\n",
       "      <td>1</td>\n",
       "      <td>5</td>\n",
       "    </tr>\n",
       "    <tr>\n",
       "      <th>...</th>\n",
       "      <td>...</td>\n",
       "      <td>...</td>\n",
       "      <td>...</td>\n",
       "      <td>...</td>\n",
       "    </tr>\n",
       "    <tr>\n",
       "      <th>1368</th>\n",
       "      <td>The Yankee Doodle Mouse</td>\n",
       "      <td>1943</td>\n",
       "      <td>1</td>\n",
       "      <td>1</td>\n",
       "    </tr>\n",
       "    <tr>\n",
       "      <th>1369</th>\n",
       "      <td>The Yearling</td>\n",
       "      <td>1946</td>\n",
       "      <td>2</td>\n",
       "      <td>7</td>\n",
       "    </tr>\n",
       "    <tr>\n",
       "      <th>1370</th>\n",
       "      <td>Yesterday, Today and Tomorrow (Ieri, oggi, dom...</td>\n",
       "      <td>1964</td>\n",
       "      <td>1</td>\n",
       "      <td>1</td>\n",
       "    </tr>\n",
       "    <tr>\n",
       "      <th>1371</th>\n",
       "      <td>You Can't Take It with You</td>\n",
       "      <td>1938</td>\n",
       "      <td>2</td>\n",
       "      <td>7</td>\n",
       "    </tr>\n",
       "    <tr>\n",
       "      <th>1372</th>\n",
       "      <td>Zorba the Greek (Alexis Zorbas)</td>\n",
       "      <td>1964</td>\n",
       "      <td>3</td>\n",
       "      <td>7</td>\n",
       "    </tr>\n",
       "  </tbody>\n",
       "</table>\n",
       "<p>1373 rows × 4 columns</p>\n",
       "</div>"
      ],
      "text/plain": [
       "                                                   Film  Year Awards  \\\n",
       "0                                           Oppenheimer  2023      7   \n",
       "1                                           Poor Things  2023      4   \n",
       "2                                  The Zone of Interest  2023      2   \n",
       "3                                      American Fiction  2023      1   \n",
       "4                                     Anatomy of a Fall  2023      1   \n",
       "...                                                 ...   ...    ...   \n",
       "1368                            The Yankee Doodle Mouse  1943      1   \n",
       "1369                                       The Yearling  1946      2   \n",
       "1370  Yesterday, Today and Tomorrow (Ieri, oggi, dom...  1964      1   \n",
       "1371                         You Can't Take It with You  1938      2   \n",
       "1372                    Zorba the Greek (Alexis Zorbas)  1964      3   \n",
       "\n",
       "     Nominations  \n",
       "0             13  \n",
       "1             11  \n",
       "2              5  \n",
       "3              5  \n",
       "4              5  \n",
       "...          ...  \n",
       "1368           1  \n",
       "1369           7  \n",
       "1370           1  \n",
       "1371           7  \n",
       "1372           7  \n",
       "\n",
       "[1373 rows x 4 columns]"
      ]
     },
     "execution_count": 373,
     "metadata": {},
     "output_type": "execute_result"
    }
   ],
   "source": [
    "# Your code here\n",
    "my_website = \"https://en.wikipedia.org/wiki/List_of_Academy_Award%E2%80%93winning_films\"\n",
    "DF = pd.read_html(my_website)\n",
    "DF[0]"
   ]
  },
  {
   "cell_type": "code",
   "execution_count": 374,
   "id": "ddd62d4d-675f-4706-9b79-993e5b5ad343",
   "metadata": {},
   "outputs": [
    {
     "data": {
      "text/html": [
       "<div>\n",
       "<style scoped>\n",
       "    .dataframe tbody tr th:only-of-type {\n",
       "        vertical-align: middle;\n",
       "    }\n",
       "\n",
       "    .dataframe tbody tr th {\n",
       "        vertical-align: top;\n",
       "    }\n",
       "\n",
       "    .dataframe thead th {\n",
       "        text-align: right;\n",
       "    }\n",
       "</style>\n",
       "<table border=\"1\" class=\"dataframe\">\n",
       "  <thead>\n",
       "    <tr style=\"text-align: right;\">\n",
       "      <th></th>\n",
       "      <th>Year</th>\n",
       "      <th>count</th>\n",
       "    </tr>\n",
       "  </thead>\n",
       "  <tbody>\n",
       "    <tr>\n",
       "      <th>0</th>\n",
       "      <td>1945</td>\n",
       "      <td>21</td>\n",
       "    </tr>\n",
       "    <tr>\n",
       "      <th>1</th>\n",
       "      <td>1949</td>\n",
       "      <td>20</td>\n",
       "    </tr>\n",
       "    <tr>\n",
       "      <th>2</th>\n",
       "      <td>1942</td>\n",
       "      <td>20</td>\n",
       "    </tr>\n",
       "    <tr>\n",
       "      <th>3</th>\n",
       "      <td>1950</td>\n",
       "      <td>19</td>\n",
       "    </tr>\n",
       "    <tr>\n",
       "      <th>4</th>\n",
       "      <td>1948</td>\n",
       "      <td>19</td>\n",
       "    </tr>\n",
       "    <tr>\n",
       "      <th>...</th>\n",
       "      <td>...</td>\n",
       "      <td>...</td>\n",
       "    </tr>\n",
       "    <tr>\n",
       "      <th>91</th>\n",
       "      <td>1931</td>\n",
       "      <td>10</td>\n",
       "    </tr>\n",
       "    <tr>\n",
       "      <th>92</th>\n",
       "      <td>1932</td>\n",
       "      <td>9</td>\n",
       "    </tr>\n",
       "    <tr>\n",
       "      <th>93</th>\n",
       "      <td>1928</td>\n",
       "      <td>7</td>\n",
       "    </tr>\n",
       "    <tr>\n",
       "      <th>94</th>\n",
       "      <td>1929</td>\n",
       "      <td>6</td>\n",
       "    </tr>\n",
       "    <tr>\n",
       "      <th>95</th>\n",
       "      <td>1930</td>\n",
       "      <td>6</td>\n",
       "    </tr>\n",
       "  </tbody>\n",
       "</table>\n",
       "<p>96 rows × 2 columns</p>\n",
       "</div>"
      ],
      "text/plain": [
       "    Year  count\n",
       "0   1945     21\n",
       "1   1949     20\n",
       "2   1942     20\n",
       "3   1950     19\n",
       "4   1948     19\n",
       "..   ...    ...\n",
       "91  1931     10\n",
       "92  1932      9\n",
       "93  1928      7\n",
       "94  1929      6\n",
       "95  1930      6\n",
       "\n",
       "[96 rows x 2 columns]"
      ]
     },
     "execution_count": 374,
     "metadata": {},
     "output_type": "execute_result"
    }
   ],
   "source": [
    "# Here is some helper code\n",
    "# This is code that will read in the data and then fix the Year column\n",
    "my_website = \"https://en.wikipedia.org/wiki/List_of_Academy_Award%E2%80%93winning_films\"\n",
    "DF = pd.read_html(my_website)\n",
    "DF_raw = DF[0]\n",
    "DF_raw['Year'] = DF_raw['Year'].apply(lambda x: int(x.split('/')[0]))\n",
    "DF_raw['Year'].value_counts().reset_index().rename(columns={\"index\": \"value\", 0: \"count\"})"
   ]
  },
  {
   "cell_type": "markdown",
   "id": "4c70b364-4c59-4631-87a4-552d7abaac2a",
   "metadata": {},
   "source": [
    "**Q4** Following along with the lecture notes or video, fix the data in the 'Awards' column."
   ]
  },
  {
   "cell_type": "code",
   "execution_count": 376,
   "id": "567aa108-3829-4461-bd88-d629432e0b41",
   "metadata": {},
   "outputs": [
    {
     "data": {
      "text/html": [
       "<div>\n",
       "<style scoped>\n",
       "    .dataframe tbody tr th:only-of-type {\n",
       "        vertical-align: middle;\n",
       "    }\n",
       "\n",
       "    .dataframe tbody tr th {\n",
       "        vertical-align: top;\n",
       "    }\n",
       "\n",
       "    .dataframe thead th {\n",
       "        text-align: right;\n",
       "    }\n",
       "</style>\n",
       "<table border=\"1\" class=\"dataframe\">\n",
       "  <thead>\n",
       "    <tr style=\"text-align: right;\">\n",
       "      <th></th>\n",
       "      <th>Awards</th>\n",
       "      <th>count</th>\n",
       "    </tr>\n",
       "  </thead>\n",
       "  <tbody>\n",
       "    <tr>\n",
       "      <th>0</th>\n",
       "      <td>1</td>\n",
       "      <td>979</td>\n",
       "    </tr>\n",
       "    <tr>\n",
       "      <th>1</th>\n",
       "      <td>2</td>\n",
       "      <td>156</td>\n",
       "    </tr>\n",
       "    <tr>\n",
       "      <th>2</th>\n",
       "      <td>3</td>\n",
       "      <td>77</td>\n",
       "    </tr>\n",
       "    <tr>\n",
       "      <th>3</th>\n",
       "      <td>4</td>\n",
       "      <td>47</td>\n",
       "    </tr>\n",
       "    <tr>\n",
       "      <th>4</th>\n",
       "      <td>0 (1)</td>\n",
       "      <td>32</td>\n",
       "    </tr>\n",
       "    <tr>\n",
       "      <th>5</th>\n",
       "      <td>5</td>\n",
       "      <td>25</td>\n",
       "    </tr>\n",
       "    <tr>\n",
       "      <th>6</th>\n",
       "      <td>7</td>\n",
       "      <td>12</td>\n",
       "    </tr>\n",
       "    <tr>\n",
       "      <th>7</th>\n",
       "      <td>6</td>\n",
       "      <td>12</td>\n",
       "    </tr>\n",
       "    <tr>\n",
       "      <th>8</th>\n",
       "      <td>1 (1)</td>\n",
       "      <td>8</td>\n",
       "    </tr>\n",
       "    <tr>\n",
       "      <th>9</th>\n",
       "      <td>8</td>\n",
       "      <td>7</td>\n",
       "    </tr>\n",
       "    <tr>\n",
       "      <th>10</th>\n",
       "      <td>11</td>\n",
       "      <td>3</td>\n",
       "    </tr>\n",
       "    <tr>\n",
       "      <th>11</th>\n",
       "      <td>9</td>\n",
       "      <td>3</td>\n",
       "    </tr>\n",
       "    <tr>\n",
       "      <th>12</th>\n",
       "      <td>0 (2)</td>\n",
       "      <td>3</td>\n",
       "    </tr>\n",
       "    <tr>\n",
       "      <th>13</th>\n",
       "      <td>0 (1)[1]</td>\n",
       "      <td>1</td>\n",
       "    </tr>\n",
       "    <tr>\n",
       "      <th>14</th>\n",
       "      <td>3 (1)</td>\n",
       "      <td>1</td>\n",
       "    </tr>\n",
       "    <tr>\n",
       "      <th>15</th>\n",
       "      <td>4 (1)</td>\n",
       "      <td>1</td>\n",
       "    </tr>\n",
       "    <tr>\n",
       "      <th>16</th>\n",
       "      <td>6 (1)</td>\n",
       "      <td>1</td>\n",
       "    </tr>\n",
       "    <tr>\n",
       "      <th>17</th>\n",
       "      <td>5 (1)</td>\n",
       "      <td>1</td>\n",
       "    </tr>\n",
       "    <tr>\n",
       "      <th>18</th>\n",
       "      <td>7 (1)</td>\n",
       "      <td>1</td>\n",
       "    </tr>\n",
       "    <tr>\n",
       "      <th>19</th>\n",
       "      <td>8 (2)</td>\n",
       "      <td>1</td>\n",
       "    </tr>\n",
       "    <tr>\n",
       "      <th>20</th>\n",
       "      <td>2 (1)</td>\n",
       "      <td>1</td>\n",
       "    </tr>\n",
       "    <tr>\n",
       "      <th>21</th>\n",
       "      <td>10</td>\n",
       "      <td>1</td>\n",
       "    </tr>\n",
       "  </tbody>\n",
       "</table>\n",
       "</div>"
      ],
      "text/plain": [
       "      Awards  count\n",
       "0          1    979\n",
       "1          2    156\n",
       "2          3     77\n",
       "3          4     47\n",
       "4      0 (1)     32\n",
       "5          5     25\n",
       "6          7     12\n",
       "7          6     12\n",
       "8      1 (1)      8\n",
       "9          8      7\n",
       "10        11      3\n",
       "11         9      3\n",
       "12     0 (2)      3\n",
       "13  0 (1)[1]      1\n",
       "14     3 (1)      1\n",
       "15     4 (1)      1\n",
       "16     6 (1)      1\n",
       "17     5 (1)      1\n",
       "18     7 (1)      1\n",
       "19     8 (2)      1\n",
       "20     2 (1)      1\n",
       "21        10      1"
      ]
     },
     "execution_count": 376,
     "metadata": {},
     "output_type": "execute_result"
    }
   ],
   "source": [
    "award_data = DF_raw['Awards'].value_counts()\n",
    "DF_award = award_data.reset_index().rename(columns={\"index\": \"value\", 0: \"count\"})\n",
    "DF_award"
   ]
  },
  {
   "cell_type": "code",
   "execution_count": 377,
   "id": "a295695b-fc54-484a-a3b0-5967b9738560",
   "metadata": {},
   "outputs": [
    {
     "data": {
      "text/html": [
       "<div>\n",
       "<style scoped>\n",
       "    .dataframe tbody tr th:only-of-type {\n",
       "        vertical-align: middle;\n",
       "    }\n",
       "\n",
       "    .dataframe tbody tr th {\n",
       "        vertical-align: top;\n",
       "    }\n",
       "\n",
       "    .dataframe thead th {\n",
       "        text-align: right;\n",
       "    }\n",
       "</style>\n",
       "<table border=\"1\" class=\"dataframe\">\n",
       "  <thead>\n",
       "    <tr style=\"text-align: right;\">\n",
       "      <th></th>\n",
       "      <th>Awards</th>\n",
       "      <th>count</th>\n",
       "    </tr>\n",
       "  </thead>\n",
       "  <tbody>\n",
       "    <tr>\n",
       "      <th>0</th>\n",
       "      <td>1</td>\n",
       "      <td>987</td>\n",
       "    </tr>\n",
       "    <tr>\n",
       "      <th>1</th>\n",
       "      <td>2</td>\n",
       "      <td>157</td>\n",
       "    </tr>\n",
       "    <tr>\n",
       "      <th>2</th>\n",
       "      <td>3</td>\n",
       "      <td>78</td>\n",
       "    </tr>\n",
       "    <tr>\n",
       "      <th>3</th>\n",
       "      <td>4</td>\n",
       "      <td>48</td>\n",
       "    </tr>\n",
       "    <tr>\n",
       "      <th>4</th>\n",
       "      <td>0</td>\n",
       "      <td>36</td>\n",
       "    </tr>\n",
       "    <tr>\n",
       "      <th>5</th>\n",
       "      <td>5</td>\n",
       "      <td>26</td>\n",
       "    </tr>\n",
       "    <tr>\n",
       "      <th>6</th>\n",
       "      <td>7</td>\n",
       "      <td>13</td>\n",
       "    </tr>\n",
       "    <tr>\n",
       "      <th>7</th>\n",
       "      <td>6</td>\n",
       "      <td>13</td>\n",
       "    </tr>\n",
       "    <tr>\n",
       "      <th>8</th>\n",
       "      <td>8</td>\n",
       "      <td>8</td>\n",
       "    </tr>\n",
       "    <tr>\n",
       "      <th>9</th>\n",
       "      <td>11</td>\n",
       "      <td>3</td>\n",
       "    </tr>\n",
       "    <tr>\n",
       "      <th>10</th>\n",
       "      <td>9</td>\n",
       "      <td>3</td>\n",
       "    </tr>\n",
       "    <tr>\n",
       "      <th>11</th>\n",
       "      <td>10</td>\n",
       "      <td>1</td>\n",
       "    </tr>\n",
       "  </tbody>\n",
       "</table>\n",
       "</div>"
      ],
      "text/plain": [
       "    Awards  count\n",
       "0        1    987\n",
       "1        2    157\n",
       "2        3     78\n",
       "3        4     48\n",
       "4        0     36\n",
       "5        5     26\n",
       "6        7     13\n",
       "7        6     13\n",
       "8        8      8\n",
       "9       11      3\n",
       "10       9      3\n",
       "11      10      1"
      ]
     },
     "execution_count": 377,
     "metadata": {},
     "output_type": "execute_result"
    }
   ],
   "source": [
    "DF_raw['Awards'] = DF_raw['Awards'].apply(lambda x: int(x.split('(')[0]))\n",
    "award_data = DF_raw['Awards'].value_counts()\n",
    "DF_award = award_data.reset_index().rename(columns={\"index\": \"value\", 0: \"count\"})\n",
    "DF_award"
   ]
  },
  {
   "cell_type": "code",
   "execution_count": 378,
   "id": "ee997531-9e46-4fa4-a787-232098fb4c50",
   "metadata": {},
   "outputs": [
    {
     "data": {
      "text/plain": [
       "Film           object\n",
       "Year            int64\n",
       "Awards          int64\n",
       "Nominations    object\n",
       "dtype: object"
      ]
     },
     "execution_count": 378,
     "metadata": {},
     "output_type": "execute_result"
    }
   ],
   "source": [
    "DF_raw.dtypes"
   ]
  },
  {
   "cell_type": "markdown",
   "id": "ada5ce86-e820-481b-a8c8-ab5f063b0ad5",
   "metadata": {},
   "source": [
    "**Q5** Now try to fix the data in the \"Nominations\" column - see if you can do it without looking at the answer."
   ]
  },
  {
   "cell_type": "code",
   "execution_count": 380,
   "id": "9d9f8fb4-4234-4f66-86e9-f70fe5203c89",
   "metadata": {},
   "outputs": [
    {
     "data": {
      "text/html": [
       "<div>\n",
       "<style scoped>\n",
       "    .dataframe tbody tr th:only-of-type {\n",
       "        vertical-align: middle;\n",
       "    }\n",
       "\n",
       "    .dataframe tbody tr th {\n",
       "        vertical-align: top;\n",
       "    }\n",
       "\n",
       "    .dataframe thead th {\n",
       "        text-align: right;\n",
       "    }\n",
       "</style>\n",
       "<table border=\"1\" class=\"dataframe\">\n",
       "  <thead>\n",
       "    <tr style=\"text-align: right;\">\n",
       "      <th></th>\n",
       "      <th>Nominations</th>\n",
       "      <th>count</th>\n",
       "    </tr>\n",
       "  </thead>\n",
       "  <tbody>\n",
       "    <tr>\n",
       "      <th>0</th>\n",
       "      <td>1</td>\n",
       "      <td>553</td>\n",
       "    </tr>\n",
       "    <tr>\n",
       "      <th>1</th>\n",
       "      <td>2</td>\n",
       "      <td>141</td>\n",
       "    </tr>\n",
       "    <tr>\n",
       "      <th>2</th>\n",
       "      <td>4</td>\n",
       "      <td>115</td>\n",
       "    </tr>\n",
       "    <tr>\n",
       "      <th>3</th>\n",
       "      <td>5</td>\n",
       "      <td>104</td>\n",
       "    </tr>\n",
       "    <tr>\n",
       "      <th>4</th>\n",
       "      <td>3</td>\n",
       "      <td>104</td>\n",
       "    </tr>\n",
       "    <tr>\n",
       "      <th>5</th>\n",
       "      <td>6</td>\n",
       "      <td>80</td>\n",
       "    </tr>\n",
       "    <tr>\n",
       "      <th>6</th>\n",
       "      <td>7</td>\n",
       "      <td>75</td>\n",
       "    </tr>\n",
       "    <tr>\n",
       "      <th>7</th>\n",
       "      <td>8</td>\n",
       "      <td>61</td>\n",
       "    </tr>\n",
       "    <tr>\n",
       "      <th>8</th>\n",
       "      <td>10</td>\n",
       "      <td>40</td>\n",
       "    </tr>\n",
       "    <tr>\n",
       "      <th>9</th>\n",
       "      <td>9</td>\n",
       "      <td>31</td>\n",
       "    </tr>\n",
       "    <tr>\n",
       "      <th>10</th>\n",
       "      <td>11</td>\n",
       "      <td>24</td>\n",
       "    </tr>\n",
       "    <tr>\n",
       "      <th>11</th>\n",
       "      <td>12</td>\n",
       "      <td>17</td>\n",
       "    </tr>\n",
       "    <tr>\n",
       "      <th>12</th>\n",
       "      <td>0</td>\n",
       "      <td>14</td>\n",
       "    </tr>\n",
       "    <tr>\n",
       "      <th>13</th>\n",
       "      <td>13</td>\n",
       "      <td>11</td>\n",
       "    </tr>\n",
       "    <tr>\n",
       "      <th>14</th>\n",
       "      <td>14</td>\n",
       "      <td>3</td>\n",
       "    </tr>\n",
       "  </tbody>\n",
       "</table>\n",
       "</div>"
      ],
      "text/plain": [
       "    Nominations  count\n",
       "0             1    553\n",
       "1             2    141\n",
       "2             4    115\n",
       "3             5    104\n",
       "4             3    104\n",
       "5             6     80\n",
       "6             7     75\n",
       "7             8     61\n",
       "8            10     40\n",
       "9             9     31\n",
       "10           11     24\n",
       "11           12     17\n",
       "12            0     14\n",
       "13           13     11\n",
       "14           14      3"
      ]
     },
     "execution_count": 380,
     "metadata": {},
     "output_type": "execute_result"
    }
   ],
   "source": [
    "DF_raw['Nominations'] = DF_raw['Nominations'].apply(lambda x: int(x.split('[')[0]))\n",
    "nominations_data = DF_raw['Nominations'].value_counts()\n",
    "DF_nominations = nominations_data.reset_index().rename(columns={\"index\": \"value\", 0: \"count\"})\n",
    "DF_nominations"
   ]
  },
  {
   "cell_type": "code",
   "execution_count": 381,
   "id": "6d697746-7bb9-4366-a151-882c4ebd417e",
   "metadata": {},
   "outputs": [
    {
     "data": {
      "text/html": [
       "<div>\n",
       "<style scoped>\n",
       "    .dataframe tbody tr th:only-of-type {\n",
       "        vertical-align: middle;\n",
       "    }\n",
       "\n",
       "    .dataframe tbody tr th {\n",
       "        vertical-align: top;\n",
       "    }\n",
       "\n",
       "    .dataframe thead th {\n",
       "        text-align: right;\n",
       "    }\n",
       "</style>\n",
       "<table border=\"1\" class=\"dataframe\">\n",
       "  <thead>\n",
       "    <tr style=\"text-align: right;\">\n",
       "      <th></th>\n",
       "      <th>Nominations</th>\n",
       "      <th>count</th>\n",
       "    </tr>\n",
       "  </thead>\n",
       "  <tbody>\n",
       "    <tr>\n",
       "      <th>0</th>\n",
       "      <td>1</td>\n",
       "      <td>553</td>\n",
       "    </tr>\n",
       "    <tr>\n",
       "      <th>1</th>\n",
       "      <td>2</td>\n",
       "      <td>141</td>\n",
       "    </tr>\n",
       "    <tr>\n",
       "      <th>2</th>\n",
       "      <td>4</td>\n",
       "      <td>115</td>\n",
       "    </tr>\n",
       "    <tr>\n",
       "      <th>3</th>\n",
       "      <td>5</td>\n",
       "      <td>104</td>\n",
       "    </tr>\n",
       "    <tr>\n",
       "      <th>4</th>\n",
       "      <td>3</td>\n",
       "      <td>104</td>\n",
       "    </tr>\n",
       "    <tr>\n",
       "      <th>5</th>\n",
       "      <td>6</td>\n",
       "      <td>80</td>\n",
       "    </tr>\n",
       "    <tr>\n",
       "      <th>6</th>\n",
       "      <td>7</td>\n",
       "      <td>75</td>\n",
       "    </tr>\n",
       "    <tr>\n",
       "      <th>7</th>\n",
       "      <td>8</td>\n",
       "      <td>61</td>\n",
       "    </tr>\n",
       "    <tr>\n",
       "      <th>8</th>\n",
       "      <td>10</td>\n",
       "      <td>40</td>\n",
       "    </tr>\n",
       "    <tr>\n",
       "      <th>9</th>\n",
       "      <td>9</td>\n",
       "      <td>31</td>\n",
       "    </tr>\n",
       "    <tr>\n",
       "      <th>10</th>\n",
       "      <td>11</td>\n",
       "      <td>24</td>\n",
       "    </tr>\n",
       "    <tr>\n",
       "      <th>11</th>\n",
       "      <td>12</td>\n",
       "      <td>17</td>\n",
       "    </tr>\n",
       "    <tr>\n",
       "      <th>12</th>\n",
       "      <td>0</td>\n",
       "      <td>14</td>\n",
       "    </tr>\n",
       "    <tr>\n",
       "      <th>13</th>\n",
       "      <td>13</td>\n",
       "      <td>11</td>\n",
       "    </tr>\n",
       "    <tr>\n",
       "      <th>14</th>\n",
       "      <td>14</td>\n",
       "      <td>3</td>\n",
       "    </tr>\n",
       "  </tbody>\n",
       "</table>\n",
       "</div>"
      ],
      "text/plain": [
       "    Nominations  count\n",
       "0             1    553\n",
       "1             2    141\n",
       "2             4    115\n",
       "3             5    104\n",
       "4             3    104\n",
       "5             6     80\n",
       "6             7     75\n",
       "7             8     61\n",
       "8            10     40\n",
       "9             9     31\n",
       "10           11     24\n",
       "11           12     17\n",
       "12            0     14\n",
       "13           13     11\n",
       "14           14      3"
      ]
     },
     "execution_count": 381,
     "metadata": {},
     "output_type": "execute_result"
    }
   ],
   "source": [
    "nominations_data = DF_raw['Nominations'].value_counts()\n",
    "DF_nominations = nominations_data.reset_index().rename(columns={\"index\": \"value\", 0: \"count\"})\n",
    "DF_nominations"
   ]
  },
  {
   "cell_type": "code",
   "execution_count": 382,
   "id": "9da7c035-3ae5-414b-89ca-549395344331",
   "metadata": {},
   "outputs": [
    {
     "data": {
      "text/plain": [
       "Film           object\n",
       "Year            int64\n",
       "Awards          int64\n",
       "Nominations     int64\n",
       "dtype: object"
      ]
     },
     "execution_count": 382,
     "metadata": {},
     "output_type": "execute_result"
    }
   ],
   "source": [
    "DF_raw.dtypes"
   ]
  },
  {
   "cell_type": "markdown",
   "id": "8f1c8227-7b3e-4067-9b49-bd9c58752402",
   "metadata": {},
   "source": [
    "## Problem 1\n",
    "\n",
    "Your homework today will be to see if you can find some data of your own. This can be the first steps you take toward your final project. \n",
    "\n",
    "You should:\n",
    "\n",
    "* Find some data online\n",
    "* Read that data into Python using the Pandas commands we learned\n",
    "* Look at the DataFrame - number of variables, number of observations, AND the dtypes. Comment on what you see.\n",
    "* Try to do summary statistics (.describe()). Does it work like expected?\n",
    "* Attempt to fix any data, or explain why the data does not need to be fixed.\n",
    "* Make some sort of graph using columns in your data."
   ]
  },
  {
   "cell_type": "markdown",
   "id": "5843cf26-bf49-4f86-852a-bb3c36ff665e",
   "metadata": {},
   "source": [
    "1647 observations, 107 variables\n",
    "There are a lot of variables so I narrowed the dataframe down into columns I care about.\n",
    "When I do dtypes on the more specific dataframe, the types of data are what I expected. All the categorical data are objects and the numerical latitude/longitude data are floats.\n",
    ".describe worked like I expected. It took the statistics of the numerical data only (latitude/longitude)\n",
    "The data does not need to be fixed. The types of data are correct. There are some variables where there is data missing like shipwrecks and tidepools, so maybe we would have to add NaN or No to these variables."
   ]
  },
  {
   "cell_type": "code",
   "execution_count": 385,
   "id": "578ad570-5dfa-46a0-86c8-f4610bacaf36",
   "metadata": {},
   "outputs": [
    {
     "data": {
      "text/html": [
       "<table id=\"itables_946de7ad_7968_492d_82e1_1fcbbe1b2da1\" class=\"display nowrap\" data-quarto-disable-processing=\"true\" style=\"table-layout:auto;width:auto;margin:auto;caption-side:bottom\">\n",
       "<thead>\n",
       "    <tr style=\"text-align: right;\">\n",
       "      \n",
       "      <th>X</th>\n",
       "      <th>Y</th>\n",
       "      <th>FID</th>\n",
       "      <th>Index_</th>\n",
       "      <th>DISTRICT</th>\n",
       "      <th>CountyNum</th>\n",
       "      <th>COUNTY</th>\n",
       "      <th>Name</th>\n",
       "      <th>Location</th>\n",
       "      <th>InMobileWe</th>\n",
       "      <th>PHONE_NMBR</th>\n",
       "      <th>FeatureTyp</th>\n",
       "      <th>AccessType</th>\n",
       "      <th>O_PUBLIC</th>\n",
       "      <th>FEE</th>\n",
       "      <th>PARKING</th>\n",
       "      <th>PUBTRANSP</th>\n",
       "      <th>RSTRCTNS</th>\n",
       "      <th>DSABLDACSS</th>\n",
       "      <th>RESTROOMS</th>\n",
       "      <th>VISTOR_CTR</th>\n",
       "      <th>DOG_FRIEND</th>\n",
       "      <th>EZ4STROLLE</th>\n",
       "      <th>LIFEGUARD</th>\n",
       "      <th>SHOWERS</th>\n",
       "      <th>FOOD</th>\n",
       "      <th>DRINKWTR</th>\n",
       "      <th>PCNC_AREA</th>\n",
       "      <th>FIREPITS</th>\n",
       "      <th>CAMPGROUND</th>\n",
       "      <th>NUM_REG_CP</th>\n",
       "      <th>NUM_PRM_CP</th>\n",
       "      <th>NUM_GRP_CP</th>\n",
       "      <th>RV_CMP</th>\n",
       "      <th>NUM_RV_STE</th>\n",
       "      <th>HOSTEL</th>\n",
       "      <th>NUM_HSL_BD</th>\n",
       "      <th>NUM_HTL_RM</th>\n",
       "      <th>BT_FACILIT</th>\n",
       "      <th>BT_FACIL_T</th>\n",
       "      <th>MRA_NM_SLP</th>\n",
       "      <th>MRA_NUM_MR</th>\n",
       "      <th>LIGHTHOUSE</th>\n",
       "      <th>LTHS_Y_CON</th>\n",
       "      <th>LTHS_HT</th>\n",
       "      <th>PTH_BEACH</th>\n",
       "      <th>BOARDWLK</th>\n",
       "      <th>BLFTP_TRLS</th>\n",
       "      <th>BLFTP_PRK</th>\n",
       "      <th>TRAIL_OR_P</th>\n",
       "      <th>CCT_LINK</th>\n",
       "      <th>CCTdesigna</th>\n",
       "      <th>BIKE_PATH</th>\n",
       "      <th>EQUEST_TRL</th>\n",
       "      <th>WLDLFE_VWG</th>\n",
       "      <th>SWM_POOL</th>\n",
       "      <th>SWIMMING</th>\n",
       "      <th>DIVING</th>\n",
       "      <th>SNORKLNG</th>\n",
       "      <th>TIDEPOOL</th>\n",
       "      <th>PLAYGROUND</th>\n",
       "      <th>SPORT_FLDS</th>\n",
       "      <th>VOLLEYBALL</th>\n",
       "      <th>WNDSRF_KIT</th>\n",
       "      <th>KAYAKING</th>\n",
       "      <th>SURFING</th>\n",
       "      <th>FISHING</th>\n",
       "      <th>BOATING</th>\n",
       "      <th>BOAT_TOURS</th>\n",
       "      <th>MBCH_SHORE</th>\n",
       "      <th>MBCH_OPEN</th>\n",
       "      <th>A_LND_AC</th>\n",
       "      <th>A_LND_OPEN</th>\n",
       "      <th>SQ_MILES</th>\n",
       "      <th>MILES_TRLS</th>\n",
       "      <th>PermitNum</th>\n",
       "      <th>DATE_OPN</th>\n",
       "      <th>Date_Closd</th>\n",
       "      <th>Archived</th>\n",
       "      <th>ClosureCom</th>\n",
       "      <th>SWAG_CRnmb</th>\n",
       "      <th>O_CLT_AREA</th>\n",
       "      <th>LATITUDE</th>\n",
       "      <th>LONGITUDE</th>\n",
       "      <th>Photo_1</th>\n",
       "      <th>Photo_2</th>\n",
       "      <th>Photo_3</th>\n",
       "      <th>Photo_4</th>\n",
       "      <th>Bch_whlchr</th>\n",
       "      <th>DataUpdate</th>\n",
       "    </tr>\n",
       "  </thead><tbody><tr>\n",
       "<td style=\"vertical-align:middle; text-align:left\">\n",
       "<div style=\"float:left; margin-right: 10px;\">\n",
       "<a href=https://mwouts.github.io/itables/><svg class=\"main-svg\" xmlns=\"http://www.w3.org/2000/svg\" xmlns:xlink=\"http://www.w3.org/1999/xlink\"\n",
       "width=\"64\" viewBox=\"0 0 500 400\" style=\"font-family: 'Droid Sans', sans-serif;\">\n",
       "    <g style=\"fill:#d9d7fc\">\n",
       "        <path d=\"M100,400H500V357H100Z\" />\n",
       "        <path d=\"M100,300H400V257H100Z\" />\n",
       "        <path d=\"M0,200H400V157H0Z\" />\n",
       "        <path d=\"M100,100H500V57H100Z\" />\n",
       "        <path d=\"M100,350H500V307H100Z\" />\n",
       "        <path d=\"M100,250H400V207H100Z\" />\n",
       "        <path d=\"M0,150H400V107H0Z\" />\n",
       "        <path d=\"M100,50H500V7H100Z\" />\n",
       "    </g>\n",
       "    <g style=\"fill:#1a1366;stroke:#1a1366;\">\n",
       "   <rect x=\"100\" y=\"7\" width=\"400\" height=\"43\">\n",
       "    <animate\n",
       "      attributeName=\"width\"\n",
       "      values=\"0;400;0\"\n",
       "      dur=\"5s\"\n",
       "      repeatCount=\"indefinite\" />\n",
       "      <animate\n",
       "      attributeName=\"x\"\n",
       "      values=\"100;100;500\"\n",
       "      dur=\"5s\"\n",
       "      repeatCount=\"indefinite\" />\n",
       "  </rect>\n",
       "        <rect x=\"0\" y=\"107\" width=\"400\" height=\"43\">\n",
       "    <animate\n",
       "      attributeName=\"width\"\n",
       "      values=\"0;400;0\"\n",
       "      dur=\"3.5s\"\n",
       "      repeatCount=\"indefinite\" />\n",
       "    <animate\n",
       "      attributeName=\"x\"\n",
       "      values=\"0;0;400\"\n",
       "      dur=\"3.5s\"\n",
       "      repeatCount=\"indefinite\" />\n",
       "  </rect>\n",
       "        <rect x=\"100\" y=\"207\" width=\"300\" height=\"43\">\n",
       "    <animate\n",
       "      attributeName=\"width\"\n",
       "      values=\"0;300;0\"\n",
       "      dur=\"3s\"\n",
       "      repeatCount=\"indefinite\" />\n",
       "    <animate\n",
       "      attributeName=\"x\"\n",
       "      values=\"100;100;400\"\n",
       "      dur=\"3s\"\n",
       "      repeatCount=\"indefinite\" />\n",
       "  </rect>\n",
       "        <rect x=\"100\" y=\"307\" width=\"400\" height=\"43\">\n",
       "    <animate\n",
       "      attributeName=\"width\"\n",
       "      values=\"0;400;0\"\n",
       "      dur=\"4s\"\n",
       "      repeatCount=\"indefinite\" />\n",
       "      <animate\n",
       "      attributeName=\"x\"\n",
       "      values=\"100;100;500\"\n",
       "      dur=\"4s\"\n",
       "      repeatCount=\"indefinite\" />\n",
       "  </rect>\n",
       "        <g style=\"fill:transparent;stroke-width:8; stroke-linejoin:round\" rx=\"5\">\n",
       "            <g transform=\"translate(45 50) rotate(-45)\">\n",
       "                <circle r=\"33\" cx=\"0\" cy=\"0\" />\n",
       "                <rect x=\"-8\" y=\"32\" width=\"16\" height=\"30\" />\n",
       "            </g>\n",
       "\n",
       "            <g transform=\"translate(450 152)\">\n",
       "                <polyline points=\"-15,-20 -35,-20 -35,40 25,40 25,20\" />\n",
       "                <rect x=\"-15\" y=\"-40\" width=\"60\" height=\"60\" />\n",
       "            </g>\n",
       "\n",
       "            <g transform=\"translate(50 352)\">\n",
       "                <polygon points=\"-35,-5 0,-40 35,-5\" />\n",
       "                <polygon points=\"-35,10 0,45 35,10\" />\n",
       "            </g>\n",
       "\n",
       "            <g transform=\"translate(75 250)\">\n",
       "                <polyline points=\"-30,30 -60,0 -30,-30\" />\n",
       "                <polyline points=\"0,30 -30,0 0,-30\" />\n",
       "            </g>\n",
       "\n",
       "            <g transform=\"translate(425 250) rotate(180)\">\n",
       "                <polyline points=\"-30,30 -60,0 -30,-30\" />\n",
       "                <polyline points=\"0,30 -30,0 0,-30\" />\n",
       "            </g>\n",
       "        </g>\n",
       "    </g>\n",
       "</svg>\n",
       "</a>\n",
       "</div>\n",
       "<div>\n",
       "Loading ITables v2.1.4 from the internet...\n",
       "(need <a href=https://mwouts.github.io/itables/troubleshooting.html>help</a>?)</td>\n",
       "</div>\n",
       "</tr></tbody>\n",
       "\n",
       "</table>\n",
       "<link href=\"https://www.unpkg.com/dt_for_itables@2.0.11/dt_bundle.css\" rel=\"stylesheet\">\n",
       "<script type=\"module\">\n",
       "    import {DataTable, jQuery as $} from 'https://www.unpkg.com/dt_for_itables@2.0.11/dt_bundle.js';\n",
       "\n",
       "    document.querySelectorAll(\"#itables_946de7ad_7968_492d_82e1_1fcbbe1b2da1:not(.dataTable)\").forEach(table => {\n",
       "        // Define the table data\n",
       "        const data = [[399877.3211, 4649689.4923, 1, 1, \"1_North Coast\", 1, \"Del Norte\", \"Pelican State Beach\", \"W of Hwy. 101, .5 mi. S. of Oregon border\", \"Yes\", \" \", \"Physical Access\", \"Beach Access\", \"Yes\", \"No\", \"Yes\", \" \", \" \", \"No\", \"No\", \"No\", \" \", \" \", \"No\", \"No\", \" \", \" \", \" \", \"No\", \"No\", \" \", \" \", \" \", \" \", \" \", \" \", \" \", \" \", \" \", \" \", \" \", \" \", \" \", \" \", \" \", \"Yes\", \" \", \" \", \" \", \"No\", \"Y/N\", \"LCPA xx\", \"No\", \"No\", \"Yes\", \" \", \" \", \" \", \" \", \" \", \" \", \" \", \" \", \" \", \" \", \" \", \"Yes\", \"No\", \" \", \" \", \" \", \" \", \" \", \" \", \" \", \" \", \" \", \" \", \" \", \" \", \"1\", \" \", 41.992854, -124.208809, \"https://www.coastal.ca.gov/access-photos/02_del_norte/02_northern_del_norte/Pelican_State_Beach_2013_07_01_4908.jpg\", \"https://www.coastal.ca.gov/access-photos/02_del_norte/02_northern_del_norte/Pelican_State_Beach_SFS_2013_07_01_4903.jpg\", \" \", \" \", \"707-465-7331\", \"6/13/2022\"], [400273.3582, 4647534.702, 2, 2, \"1_North Coast\", 1, \"Del Norte\", \"Clifford Kamph Memorial Park\", \"Hwy. 101 , 2 mi. S. of the Oregon border\", \"Yes\", \"707-464-7230\", \"City/County Park\", \"Beach Access\", \"Yes\", \"No\", \"Yes\", \" \", \" \", \"No\", \"Yes\", \"No\", \"Yes\", \" \", \"No\", \"No\", \" \", \"Yes\", \"Yes\", \"Yes\", \"Yes\", \" \", \"9\", \" \", \" \", \" \", \" \", \" \", \" \", \" \", \" \", \" \", \" \", \" \", \" \", \" \", \"Yes\", \" \", \"Yes\", \"Yes\", \"Yes\", \" \", \" \", \"No\", \"No\", \"No\", \" \", \" \", \" \", \" \", \" \", \" \", \" \", \" \", \" \", \" \", \" \", \"Yes\", \"No\", \" \", \" \", \" \", \" \", \" \", \" \", \" \", \" \", \" \", \" \", \" \", \" \", \"2\", \"Yes\", 41.973501, -124.203663, \"https://www.coastal.ca.gov/access-photos/02_del_norte/02_northern_del_norte/Clifford_Kamph_Memorial_Park_SFS_2013_07_01_4885_1.jpg\", \"https://www.coastal.ca.gov/access-photos//02_del_norte/02_northern_del_norte/Clifford_Kamph_Memorial_Park_SFS_2013_07_01_4886_2.jpg\", \" \", \" \", \" \", \"NaN\"], [400118.479, 4644671.498, 3, 3, \"1_North Coast\", 1, \"Del Norte\", \"Smith River County Park\", \"End, Mouth of Smith River Rd., Smith River\", \"Yes\", \" \", \"City/County Park\", \"Beach Access\", \"Yes\", \"No\", \"Yes\", \" \", \" \", \"No\", \"No\", \"No\", \" \", \" \", \"No\", \"No\", \" \", \" \", \" \", \"No\", \"No\", \" \", \" \", \" \", \" \", \" \", \" \", \" \", \" \", \" \", \" \", \" \", \" \", \" \", \" \", \" \", \"Yes\", \" \", \" \", \" \", \"No\", \" \", \" \", \"No\", \"No\", \"Yes\", \" \", \" \", \" \", \" \", \" \", \" \", \" \", \" \", \" \", \" \", \" \", \"Yes\", \"Yes\", \" \", \" \", \" \", \" \", \" \", \" \", \" \", \" \", \" \", \" \", \" \", \" \", \"3\", \" \", 41.947699, -124.205046, \"https://www.coastal.ca.gov/access-photos/02_del_norte/02_northern_del_norte/Smith_River_Co_Park_2004_06_04_0005b.jpg\", \"https://www.coastal.ca.gov/access-photos/02_del_norte/02_northern_del_norte/Smith_River_Co_Park_2013_07_01_4911.jpg\", \"https://www.coastal.ca.gov/access-photos/02_del_norte/02_northern_del_norte/Smith_River_Co_Park_SFS_2004_07_06_0012.JPG\", \" \", \" \", \"NaN\"], [404777.3493, 4638236.2674, 4, 4, \"1_North Coast\", 1, \"Del Norte\", \"Smith River Boating Access\", \"Fred Haight Dr., W. of Hwy. 101, 3 mi. S. of Town of Smith River\", \"Yes\", \" \", \"Physical Access\", \"Boat Access\", \"Yes\", \"Yes\", \"Yes\", \" \", \" \", \"Yes\", \"Yes\", \"No\", \" \", \" \", \"No\", \"No\", \" \", \" \", \"Yes\", \"No\", \"No\", \" \", \" \", \" \", \" \", \" \", \" \", \" \", \" \", \"Yes\", \"Boat Ramp\", \" \", \" \", \" \", \" \", \" \", \"No\", \" \", \" \", \" \", \"No\", \" \", \" \", \"No\", \"No\", \"Yes\", \" \", \" \", \" \", \" \", \" \", \" \", \" \", \" \", \" \", \" \", \" \", \"Yes\", \"Yes\", \" \", \" \", \" \", \" \", \" \", \" \", \" \", \" \", \" \", \" \", \" \", \" \", \"4\", \" \", 41.890326, -124.14781, \"https://www.coastal.ca.gov/access-photos/02_del_norte/02_northern_del_norte/Smith_River_Boating_Access_2013_07_01_4931.jpg\", \"https://www.coastal.ca.gov/access-photos/02_del_norte/02_northern_del_norte/Smith_River_Boating_Access_SFS_2013_07_01_4933.jpg\", \" \", \" \", \" \", \"NaN\"], [400637.8631, 4644244.2146, 5, 5, \"1_North Coast\", 1, \"Del Norte\", \"Xaa-wan'-k'wvt Village & Resort Boat Ramp\", \"200 N Salmon Harbor Rd, Smith River.\", \"Yes\", \"707-487-3141\", \"Physical Access\", \"Boat Access\", \"Yes\", \"No\", \"Yes\", \" \", \" \", \"No\", \"No\", \"No\", \" \", \" \", \"No\", \"No\", \" \", \" \", \"No\", \"No\", \"No\", \" \", \" \", \" \", \"Yes\", \" \", \" \", \" \", \" \", \"Yes\", \"Boat Ramp\", \" \", \" \", \" \", \" \", \" \", \"No\", \" \", \" \", \" \", \"No\", \" \", \" \", \"No\", \"No\", \"No\", \" \", \" \", \" \", \" \", \" \", \" \", \" \", \" \", \" \", \" \", \" \", \"Yes\", \"Yes\", \" \", \" \", \" \", \" \", \" \", \" \", \" \", \" \", \" \", \" \", \" \", \" \", \"4.5\", \" \", 41.943917, -124.198709, \" \", \" \", \" \", \" \", \" \", \"NaN\"], [399449.9808, 4635953.6866, 6, 6, \"1_North Coast\", 1, \"Del Norte\", \"Kellogg Beach Park\", \"W. end of Kellogg Rd., 9 mi. S. of Smith River\", \"Yes\", \" \", \"City/County Park\", \"Beach Access\", \"Yes\", \"No\", \"Yes\", \" \", \" \", \"No\", \"No\", \"No\", \" \", \" \", \"No\", \"No\", \" \", \" \", \"Yes\", \"No\", \"No\", \" \", \" \", \" \", \" \", \" \", \" \", \" \", \" \", \" \", \" \", \" \", \" \", \" \", \" \", \" \", \"No\", \" \", \" \", \" \", \"No\", \" \", \" \", \"No\", \"No\", \"No\", \" \", \" \", \" \", \" \", \" \", \" \", \" \", \" \", \" \", \" \", \" \", \"Yes\", \"No\", \" \", \" \", \" \", \" \", \" \", \" \", \" \", \" \", \" \", \" \", \" \", \" \", \"5\", \" \", 41.869112, -124.211624, \"https://www.coastal.ca.gov/access-photos/02_del_norte/03_smith_river_area/Kellogg_Beach_2004_07_06_022_B.jpg\", \"https://www.coastal.ca.gov/access-photos/02_del_norte/02_northern_del_norte/Kellogg_Beach_2013_07_01_4941.jpg\", \" \", \" \", \" \", \"NaN\"], [398973.1239, 4628051.18, 7, 7, \"1_North Coast\", 1, \"Del Norte\", \"Lake Earl Wildlife Area\", \"W. of Lake Earl Dr. and Lower Lake Rd., 2 mi. N. of Crescent City\", \"Yes\", \"707-445-6493\", \"GP - waterbody\", \"Beach Access\", \"Yes\", \"Yes\", \"Yes\", \" \", \" \", \"Yes\", \"Yes\", \"Yes\", \" \", \" \", \"No\", \"No\", \" \", \"No\", \"Yes\", \"Yes\", \"No\", \" \", \" \", \" \", \" \", \" \", \" \", \" \", \" \", \"Yes\", \"Boat Launch\", \" \", \" \", \" \", \" \", \" \", \"Yes\", \" \", \" \", \" \", \"Yes\", \" \", \" \", \"No\", \"No\", \"Yes\", \" \", \" \", \" \", \" \", \" \", \" \", \" \", \" \", \" \", \" \", \" \", \"Yes\", \"Yes\", \" \", \" \", \" \", \"5500\", \"5500\", \" \", \" \", \" \", \" \", \" \", \" \", \" \", \"6\", \" \", 41.79789, -124.216021, \"https://www.coastal.ca.gov/access-photos/02_del_norte/02_northern_del_norte/Lake_Earl_Lakeview_Dr_boat_ramp_2013_07_01_4875.jpg\", \"https://www.coastal.ca.gov/access-photos/02_del_norte/02_northern_del_norte/Lake_Earl_Wildlife_Area_2013_07_01_4874.jpg\", \" \", \" \", \" \", \"NaN\"], [401937.1591, 4629766.0962, 8, 8, \"1_North Coast\", 1, \"Del Norte\", \"Lakeview Drive Boat Launch\", \"End of Lakeview Dr. off Lake Earl Dr.\", \"Yes\", \" \", \"Waterfront Features\", \"Boat Access\", \"Yes\", \"No\", \"Yes\", \" \", \" \", \"No\", \"No\", \"No\", \" \", \"No\", \" \", \"No\", \"No\", \" \", \"No\", \"No\", \"No\", \" \", \" \", \" \", \" \", \" \", \" \", \" \", \" \", \"Yes\", \"Boat Launch\", \" \", \" \", \" \", \" \", \" \", \"No\", \"No\", \"No\", \"No\", \"No\", \" \", \" \", \"No\", \"No\", \"Yes\", \"No\", \"No\", \"No\", \"No\", \"No\", \"No\", \"No\", \"No\", \" \", \"Yes\", \"No\", \"Yes\", \"Yes\", \" \", \" \", \" \", \" \", \" \", \" \", \" \", \" \", \" \", \" \", \" \", \" \", \" \", \" \", 41.813705, -124.180635, \" \", \" \", \" \", \" \", \" \", \"NaN\"], [400377.0814, 4637342.8991, 9, 9, \"1_North Coast\", 1, \"Del Norte\", \"Tolowa Dunes State Park\", \"W. of Lake Earl Dr. and Lower Lake Rd., 2 mi. N. of Crescent City\", \"Yes\", \"707-464-6101\", \"National/State/Regional Park/Beach/Rec Area\", \"Beach Access\", \"Yes\", \"Yes\", \"Yes\", \" \", \" \", \"Yes\", \"Yes\", \"No\", \" \", \" \", \"No\", \"No\", \" \", \"No\", \"Yes\", \"Yes\", \"Yes\", \" \", \"6\", \" \", \" \", \" \", \" \", \" \", \" \", \" \", \" \", \" \", \" \", \" \", \" \", \" \", \"Yes\", \" \", \" \", \" \", \"Yes\", \" \", \" \", \"No\", \"No\", \"Yes\", \" \", \" \", \" \", \" \", \" \", \" \", \" \", \" \", \" \", \" \", \" \", \"Yes\", \"No\", \" \", \" \", \" \", \"5000\", \"5000\", \" \", \" \", \" \", \" \", \" \", \" \", \" \", \"6.1\", \" \", 41.881739, -124.200689, \" \", \" \", \" \", \" \", \"707-465-7331\", \"NaN\"], [395912.7966, 4626405.2639, 10, 10, \"1_North Coast\", 1, \"Del Norte\", \"Point St. George Heritage Area\", \"End of Radio Rd., Crescent City\", \"Yes\", \"707-464-7230\", \"Physical Access\", \"Beach Access\", \"Yes\", \"No\", \"Yes\", \" \", \" \", \"No\", \"No\", \"No\", \" \", \" \", \"No\", \"No\", \" \", \" \", \" \", \"No\", \"No\", \" \", \" \", \" \", \" \", \" \", \" \", \" \", \" \", \" \", \" \", \" \", \" \", \"Yes\", \" \", \" \", \"Yes\", \" \", \" \", \" \", \"Yes\", \" \", \" \", \"No\", \"No\", \"Yes\", \" \", \" \", \" \", \" \", \" \", \" \", \" \", \" \", \" \", \" \", \" \", \"Yes\", \"No\", \" \", \" \", \" \", \" \", \" \", \" \", \" \", \" \", \" \", \" \", \" \", \" \", \"7\", \"Yes\", 41.782673, -124.25256, \"https://www.coastal.ca.gov/access-photos/02_del_norte/03_smith_river_area/Pt_St_George_2004_07_06_0070b.jpg\", \"https://www.coastal.ca.gov/access-photos/02_del_norte/02_northern_del_norte/Point_St_George_Heritage_Area_2013_07_01_4862.jpg\", \" \", \"https://www.coastal.ca.gov/access-photos/02_del_norte/02_northern_del_norte/Point_St_George_SFS_2013_07_01_4863.jpg\", \" \", \"NaN\"], [406960.6839, 4633984.8063, 11, 11, \"1_North Coast\", 1, \"Del Norte\", \"Ruby Van Deventer County Park\", \"North Bank Rd. (Hwy. 197), 2.5 mi. E. of Hwy. 101\", \"Yes\", \"707-464-7230\", \"City/County Park\", \"Campground\", \"Yes\", \"Yes\", \"Yes\", \" \", \" \", \"No\", \"Yes\", \"No\", \"Yes\", \" \", \"No\", \"Yes\", \" \", \"Yes\", \"Yes\", \"Yes\", \"Yes\", \"18\", \" \", \" \", \" \", \" \", \" \", \" \", \" \", \" \", \" \", \" \", \" \", \" \", \" \", \" \", \"No\", \" \", \" \", \" \", \"No\", \" \", \" \", \"No\", \"No\", \"Yes\", \" \", \"Yes\", \" \", \" \", \" \", \" \", \" \", \" \", \" \", \"Yes\", \" \", \"Yes\", \"Yes\", \" \", \" \", \" \", \" \", \" \", \" \", \" \", \" \", \" \", \" \", \" \", \" \", \"8\", \" \", 41.852301, -124.120828, \" \", \" \", \" \", \" \", \" \", \"NaN\"], [404394.5252, 4628797.2896, 12, 12, \"1_North Coast\", 1, \"Del Norte\", \"Florence Keller County Park\", \"Cunningham Ln., off Elk Valley Cross Rd., W. of Hwy. 101, 3 mi. N. of Crescent City\", \"Yes\", \"707-464-7230\", \"City/County Park\", \"Campground\", \"Yes\", \"Yes\", \"Yes\", \" \", \" \", \"Yes\", \"Yes\", \"No\", \"Yes\", \"Yes\", \"No\", \"Yes\", \" \", \"Yes\", \"Yes\", \"Yes\", \"Yes\", \"50\", \" \", \" \", \"Yes\", \" \", \" \", \" \", \" \", \" \", \" \", \" \", \" \", \" \", \" \", \" \", \"No\", \" \", \" \", \" \", \"Yes\", \" \", \" \", \"No\", \"No\", \"No\", \" \", \" \", \" \", \" \", \" \", \" \", \" \", \" \", \" \", \" \", \" \", \"No\", \"No\", \" \", \" \", \" \", \" \", \" \", \" \", \" \", \" \", \" \", \" \", \" \", \" \", \"9\", \" \", 41.805281, -124.150899, \" \", \" \", \" \", \" \", \" \", \"NaN\"], [409849.0952, 4627648.4141, 13, 13, \"1_North Coast\", 1, \"Del Norte\", \"Jedediah Smith Redwoods State Park\", \"Hwy. 199, 5 mi. E. of Hwy. 101\", \"Yes\", \"707-465-7335\", \"National/State/Regional Park/Beach/Rec Area\", \"Boat Access\", \"Yes\", \"Yes\", \"Yes\", \" \", \"TRAILS CLOSED TO BICYCLES\", \"Yes\", \"Yes\", \"Yes\", \" \", \"Yes\", \"No\", \"Yes\", \" \", \"Yes\", \"Yes\", \"Yes\", \"Yes\", \"89\", \" \", \" \", \"Yes\", \" \", \" \", \" \", \" \", \" \", \" \", \" \", \" \", \" \", \" \", \" \", \"No\", \" \", \" \", \" \", \"Yes\", \" \", \" \", \"No\", \"No\", \"Yes\", \" \", \" \", \" \", \" \", \" \", \" \", \" \", \" \", \" \", \" \", \" \", \"Yes\", \"Yes\", \" \", \" \", \" \", \"100000\", \"100000\", \" \", \"20\", \" \", \" \", \" \", \" \", \" \", \"10\", \" \", 41.795574, -124.085074, \"https://www.coastal.ca.gov/access-photos/02_del_norte/03_smith_river_area/Jed_Smith_SP_2013_07_02_5011.jpg\", \"https://www.coastal.ca.gov/access-photos/02_del_norte/03_smith_river_area/Jedediah_Smith_Redwoods_State_Park_SFS_2013_07_02_5028.jpg\", \" \", \" \", \" \", \"NaN\"], [419527.4467, 4633161.1507, 14, 14, \"1_North Coast\", 1, \"Del Norte\", \"Smith River National Recreation Area\", \"Hwy. 199, 14 mi. E of Hwy. 101\", \"Yes\", \"707-457-3131\", \"National/State/Regional Park/Beach/Rec Area\", \"Boat Access\", \"Yes\", \"Yes\", \"Yes\", \" \", \" \", \"Yes\", \"Yes\", \"Yes\", \"Yes\", \" \", \"No\", \"Yes\", \" \", \" \", \" \", \"Yes\", \"Yes\", \" \", \" \", \" \", \" \", \" \", \" \", \" \", \" \", \" \", \" \", \" \", \" \", \" \", \" \", \" \", \"No\", \" \", \" \", \" \", \"Yes\", \" \", \" \", \"Yes\", \"?\", \"Yes\", \" \", \" \", \" \", \" \", \" \", \" \", \" \", \" \", \" \", \" \", \" \", \"Yes\", \"Yes\", \" \", \" \", \" \", \" \", \" \", \" \", \"65\", \" \", \" \", \" \", \" \", \" \", \"11\", \" \", 41.846261, -123.969349, \" \", \" \", \" \", \" \", \" \", \"NaN\"], [399960.3828, 4623281.271, 15, 15, \"1_North Coast\", 1, \"Del Norte\", \"Crescent City\", \"Hwy. 101, 79 mi. N. of Eureka\", \"No\", \" \", \"GP - Town/City\", \"CITY/TOWN\", \"Yes\", \"No\", \"Yes\", \" \", \" \", \"Yes\", \"Yes\", \"Yes\", \" \", \" \", \" \", \" \", \"Yes\", \"Yes\", \"Yes\", \"No\", \"No\", \" \", \" \", \" \", \" \", \" \", \" \", \" \", \" \", \" \", \" \", \" \", \" \", \" \", \" \", \" \", \" \", \" \", \" \", \" \", \"Yes\", \" \", \" \", \"Yes\", \" \", \"Yes\", \" \", \" \", \" \", \" \", \" \", \" \", \" \", \" \", \" \", \" \", \" \", \"Yes\", \"Yes\", \" \", \" \", \" \", \" \", \" \", \" \", \" \", \" \", \" \", \" \", \" \", \" \", \" \", \"Yes\", 41.755062, -124.203337, \" \", \" \", \" \", \" \", \" \", \"NaN\"], [396204.2986, 4624029.976, 16, 16, \"1_North Coast\", 1, \"Del Norte\", \"Castle Rock\", \"Offshore, W. of Pebble Beach Dr., N. of Pacific Avenue\", \"No\", \" \", \"GP - MPA\", \"Visual Access\", \"No\", \"No\", \"No\", \" \", \"300 ft closure zone around island\", \"No\", \"No\", \"No\", \" \", \" \", \"No\", \"No\", \" \", \" \", \" \", \"No\", \"No\", \" \", \" \", \" \", \" \", \" \", \" \", \" \", \" \", \" \", \" \", \" \", \" \", \" \", \" \", \" \", \"No\", \" \", \" \", \" \", \"No\", \" \", \" \", \"No\", \"No\", \"Yes\", \" \", \" \", \" \", \" \", \" \", \" \", \" \", \" \", \" \", \" \", \" \", \"No\", \"No\", \" \", \" \", \" \", \" \", \" \", \" \", \" \", \" \", \" \", \" \", \"Yes\", \"300 ft closure zone around island\", \"12.5\", \" \", 41.761322, -124.248638, \" \", \" \", \" \", \" \", \" \", \"NaN\"], [396651.8782, 4625260.9286, 17, 17, \"1_North Coast\", 1, \"Del Norte\", \"Garth's Beach\", \"Radio Rd., 0.3 mi. N.W. of Washington Blvd./Pebble Beach Dr. intersection, Crescent City\", \"Yes\", \" \", \"Physical Access\", \"Beach Access\", \"Yes\", \"No\", \"Yes\", \" \", \" \", \"No\", \"No\", \"No\", \"Yes\", \" \", \"No\", \"No\", \" \", \" \", \" \", \"No\", \"No\", \" \", \" \", \" \", \" \", \" \", \" \", \" \", \" \", \" \", \" \", \" \", \" \", \" \", \" \", \" \", \"Yes\", \" \", \"Yes\", \" \", \"Yes\", \" \", \" \", \"Yes\", \"No\", \"Yes\", \" \", \" \", \" \", \" \", \"Yes\", \" \", \" \", \" \", \" \", \" \", \" \", \"Yes\", \"No\", \" \", \" \", \" \", \" \", \" \", \" \", \" \", \" \", \" \", \" \", \" \", \" \", \"12\", \" \", 41.772465, -124.243469, \"https://www.coastal.ca.gov/access-photos/02_del_norte/04_crescent_city/Garths_Beach_SFS_2004_07_06_0052.JPG\", \" \", \" \", \" \", \" \", \"NaN\"], [398525.9051, 4623410.0873, 18, 18, \"1_North Coast\", 1, \"Del Norte\", \"Pebble Beach Access\", \"Pebble Beach Dr. near Pacific Ave., Crescent City\", \"Yes\", \" \", \"Physical Access\", \"Beach Access\", \"Yes\", \"No\", \"Yes\", \" \", \" \", \"No\", \"No\", \"No\", \"Yes\", \" \", \"No\", \"No\", \" \", \" \", \"Yes\", \"No\", \"No\", \" \", \" \", \" \", \" \", \" \", \" \", \" \", \" \", \" \", \" \", \" \", \" \", \" \", \" \", \" \", \"Yes\", \" \", \" \", \"Yes\", \"Yes\", \"Yes\", \" \", \"Yes\", \"No\", \"Yes\", \" \", \" \", \" \", \" \", \" \", \" \", \" \", \" \", \" \", \" \", \" \", \"Yes\", \"No\", \" \", \" \", \" \", \" \", \" \", \" \", \" \", \" \", \" \", \" \", \" \", \" \", \"13\", \"Yes\", 41.75604, -124.22061, \" \", \" \", \" \", \" \", \" \", \"NaN\"], [398902.0887, 4622863.2837, 19, 19, \"1_North Coast\", 1, \"Del Norte\", \"Preston Island\", \"Pebble Beach Dr. and Condor St., Crescent City\", \"Yes\", \" \", \"Physical Access\", \"Beach Access\", \"Yes\", \"No\", \"Yes\", \" \", \" \", \"No\", \"No\", \"No\", \"Yes\", \" \", \"No\", \"No\", \" \", \" \", \"Yes\", \"Yes\", \"No\", \" \", \" \", \" \", \" \", \" \", \" \", \" \", \" \", \" \", \" \", \" \", \" \", \" \", \" \", \" \", \"Yes\", \" \", \" \", \" \", \"No\", \" \", \" \", \"No\", \"No\", \"Yes\", \" \", \" \", \" \", \" \", \"Yes\", \" \", \" \", \" \", \" \", \" \", \" \", \"Yes\", \"No\", \" \", \" \", \" \", \" \", \" \", \" \", \" \", \" \", \" \", \" \", \" \", \" \", \"14\", \" \", 41.751164, -124.215993, \" \", \" \", \" \", \" \", \" \", \"NaN\"], [399262.0001, 4622810.3435, 20, 20, \"1_North Coast\", 1, \"Del Norte\", \"Brother Jonathan Park / Vista Point\", \"Pebble Beach Dr. and 9th St., Crescent City\", \"Yes\", \" \", \"City/County Park\", \"Park\", \"Yes\", \"No\", \"Yes\", \" \", \" \", \"Yes\", \"Yes\", \"No\", \"Yes\", \"Yes\", \"No\", \"No\", \" \", \" \", \"Yes\", \"No\", \"No\", \" \", \" \", \" \", \" \", \" \", \" \", \" \", \" \", \" \", \" \", \" \", \" \", \" \", \" \", \" \", \"No\", \" \", \" \", \"Yes\", \"Yes\", \" \", \" \", \"Yes\", \"No\", \"Yes\", \" \", \" \", \" \", \" \", \" \", \"Yes\", \"Yes\", \" \", \" \", \" \", \" \", \"No\", \"No\", \" \", \" \", \" \", \" \", \" \", \" \", \" \", \" \", \" \", \" \", \" \", \" \", \"15\", \"Yes\", 41.750733, -124.211656, \"https://www.coastal.ca.gov/access-photos/02_del_norte/04_crescent_city/Brother_Jonathan_Vista_Pt_2004_07_06_0003b.jpg\", \" \", \" \", \" \", \" \", \"NaN\"], [399545.9427, 4622682.8639, 21, 21, \"1_North Coast\", 1, \"Del Norte\", \"Sixth Street Accessway\", \"W. end of 6th St., Crescent City\", \"Yes\", \" \", \"Physical Access\", \"Beach Access\", \"Yes\", \"No\", \"No\", \" \", \" \", \"No\", \"No\", \"No\", \"Yes\", \" \", \"No\", \"No\", \" \", \" \", \" \", \"No\", \"No\", \" \", \" \", \" \", \" \", \" \", \" \", \" \", \" \", \" \", \" \", \" \", \" \", \" \", \" \", \" \", \"Yes\", \" \", \" \", \" \", \"No\", \" \", \" \", \"No\", \"No\", \"Yes\", \" \", \" \", \" \", \" \", \" \", \" \", \" \", \" \", \" \", \" \", \" \", \"Yes\", \"No\", \" \", \" \", \" \", \" \", \" \", \" \", \" \", \" \", \" \", \" \", \" \", \" \", \"16.1\", \" \", 41.749621, -124.20822, \" \", \" \", \" \", \" \", \" \", \"NaN\"], [399610.6787, 4622632.2052, 22, 22, \"1_North Coast\", 1, \"Del Norte\", \"Fifth Street Accessway\", \"W. end of 5th St., Crescent City\", \"Yes\", \" \", \"Path/Trail/Drive\", \"Beach Access\", \"Yes\", \"No\", \"Yes\", \" \", \" \", \"No\", \"No\", \"No\", \"Yes\", \" \", \"No\", \"No\", \" \", \" \", \" \", \"No\", \"No\", \" \", \" \", \" \", \" \", \" \", \" \", \" \", \" \", \" \", \" \", \" \", \" \", \" \", \" \", \" \", \"Yes\", \" \", \" \", \" \", \"No\", \" \", \" \", \"No\", \"No\", \"Yes\", \" \", \" \", \" \", \" \", \" \", \" \", \" \", \" \", \" \", \" \", \" \", \"Yes\", \"No\", \" \", \" \", \" \", \" \", \" \", \" \", \" \", \" \", \" \", \" \", \" \", \" \", \"16.2\", \" \", 41.749173, -124.207433, \" \", \" \", \" \", \" \", \" \", \"NaN\"], [399773.2424, 4622500.554, 23, 23, \"1_North Coast\", 1, \"Del Norte\", \"Third Street Accessway\", \"W. end of 3rd St., Crescent City\", \"Yes\", \" \", \"Path/Trail/Drive\", \"Beach Access\", \"Yes\", \"No\", \"Yes\", \" \", \" \", \"No\", \"No\", \"No\", \"Yes\", \" \", \"No\", \"No\", \" \", \" \", \" \", \"No\", \"No\", \" \", \" \", \" \", \" \", \" \", \" \", \" \", \" \", \" \", \" \", \" \", \" \", \" \", \" \", \" \", \"Yes\", \" \", \" \", \" \", \"No\", \" \", \" \", \"No\", \"No\", \"Yes\", \" \", \" \", \" \", \" \", \" \", \" \", \" \", \" \", \" \", \" \", \" \", \"Yes\", \"No\", \" \", \" \", \" \", \" \", \" \", \" \", \" \", \" \", \" \", \" \", \" \", \" \", \"16.3\", \" \", 41.748008, -124.205456, \" \", \" \", \" \", \" \", \" \", \"NaN\"], [399971.3434, 4622406.055, 24, 24, \"1_North Coast\", 1, \"Del Norte\", \"Path at Oceanfront Lodge\", \"Front and \\\"A\\\" Streets, Crescent City\", \"Yes\", \" \", \"Physical Access\", \"Beach Access\", \"Yes\", \"No\", \"Yes\", \" \", \" \", \"No\", \"No\", \"No\", \"Yes\", \" \", \"No\", \"No\", \" \", \" \", \" \", \"No\", \"No\", \" \", \" \", \" \", \" \", \" \", \" \", \" \", \" \", \" \", \" \", \" \", \" \", \" \", \" \", \" \", \"Yes\", \" \", \" \", \" \", \"Yes\", \" \", \" \", \"No\", \"No\", \"Yes\", \" \", \" \", \" \", \" \", \" \", \" \", \" \", \" \", \" \", \" \", \" \", \"No\", \"No\", \" \", \" \", \" \", \" \", \" \", \" \", \" \", \"A-1-CRC-00-033\", \" \", \" \", \" \", \" \", \"17\", \" \", 41.747182, -124.203058, \"https://www.coastal.ca.gov/access-photos/02_del_norte/04_crescent_city/Oceanfront_Lodge_path_2004_07_06_0002.jpg\", \"https://www.coastal.ca.gov/access-photos/02_del_norte/04_crescent_city/Path_at_Oceanfront_Lodge_SFS_2013_07_01_4953.jpg\", \" \", \" \", \" \", \"NaN\"], [399963.6742, 4622059.8022, 25, 25, \"1_North Coast\", 1, \"Del Norte\", \"Crescent Lighthouse at Battery Point\", \"S. end of \\\"A\\\" St., Crescent City\", \"Yes\", \"707-464-3089\", \"Architectural Feature\", \"Lighthouse\", \"Yes\", \"Yes\", \"Yes\", \" \", \" \", \"No\", \"Yes\", \"Yes\", \" \", \" \", \"No\", \"No\", \" \", \" \", \"Yes\", \"No\", \"No\", \" \", \" \", \" \", \" \", \" \", \" \", \" \", \" \", \" \", \" \", \" \", \" \", \"Yes\", \"1856\", \" \", \"Yes\", \" \", \" \", \"Yes\", \"No\", \" \", \" \", \"No\", \"No\", \"Yes\", \" \", \" \", \" \", \" \", \" \", \" \", \" \", \" \", \" \", \" \", \" \", \"Yes\", \"No\", \" \", \" \", \" \", \" \", \" \", \" \", \" \", \" \", \" \", \" \", \" \", \" \", \"18\", \"Yes\", 41.744063, -124.203092, \"https://www.coastal.ca.gov/access-photos/02_del_norte/05_crescent_city_harbor/Crescent_Lighthouse_2013_07_01_4853.jpg\", \"https://www.coastal.ca.gov/access-photos/02_del_norte/05_crescent_city_harbor/Crescent_Lighthouse_2013_07_01_4977.jpg\", \"https://www.coastal.ca.gov/access-photos/02_del_norte/05_crescent_city_harbor/Crescent_Lighthouse_info_2013_07_02_4993.jpg\", \" \", \" \", \"NaN\"], [400319.0461, 4622471.6062, 26, 26, \"1_North Coast\", 1, \"Del Norte\", \"Northcoast Marine Mammal Center\", \"424 Howe Dr., Beach Front Park, Crescent City\", \"Yes\", \"707-465-6265\", \"Facility\", \"Historic/Cultural Site\", \"Yes\", \"No\", \"Yes\", \" \", \" \", \"No\", \"Yes\", \"Yes\", \" \", \" \", \"No\", \"No\", \" \", \" \", \" \", \"No\", \"No\", \" \", \" \", \" \", \" \", \" \", \" \", \" \", \" \", \" \", \" \", \" \", \" \", \" \", \" \", \" \", \"No\", \" \", \" \", \" \", \"No\", \" \", \" \", \"No\", \"No\", \"Yes\", \" \", \" \", \" \", \" \", \" \", \" \", \" \", \" \", \" \", \" \", \" \", \"No\", \"No\", \" \", \" \", \" \", \" \", \" \", \" \", \" \", \" \", \" \", \" \", \" \", \" \", \"19\", \"Yes\", 41.747816, -124.198888, \" \", \" \", \" \", \" \", \" \", \"NaN\"], [400420.2622, 4622012.1225, 27, 27, \"1_North Coast\", 1, \"Del Norte\", \"B Street Pier\", \"Foot of B St., Crescent City\", \"Yes\", \" \", \"Physical Access\", \"Pier\", \"Yes\", \"No\", \"Yes\", \" \", \" \", \"Yes\", \"Yes\", \"No\", \" \", \"Yes\", \"No\", \"No\", \" \", \" \", \" \", \"No\", \"No\", \" \", \" \", \" \", \" \", \" \", \" \", \" \", \" \", \" \", \" \", \" \", \" \", \" \", \" \", \" \", \"No\", \" \", \" \", \" \", \"No\", \" \", \" \", \"No\", \"No\", \"Yes\", \" \", \" \", \" \", \" \", \" \", \" \", \" \", \" \", \" \", \" \", \" \", \"Yes\", \"No\", \" \", \" \", \" \", \" \", \" \", \" \", \" \", \" \", \" \", \" \", \" \", \" \", \"20\", \"Yes\", 41.743691, -124.197594, \" \", \" \", \" \", \" \", \" \", \"NaN\"], [400511.9477, 4622546.8766, 28, 28, \"1_North Coast\", 1, \"Del Norte\", \"Beach Front Park\", \"Between Front St. and Howe Dr., Crescent City\", \"Yes\", \" \", \"City/County Park\", \"Park\", \"Yes\", \"No\", \"Yes\", \" \", \" \", \"Yes\", \"Yes\", \"No\", \"Yes\", \"Yes\", \"No\", \"No\", \" \", \" \", \"Yes\", \"Yes\", \"No\", \" \", \" \", \" \", \" \", \" \", \" \", \" \", \" \", \" \", \" \", \" \", \" \", \" \", \" \", \" \", \"Yes\", \" \", \" \", \" \", \"Yes\", \" \", \" \", \"Yes\", \"No\", \"Yes\", \"Yes\", \"Yes\", \" \", \" \", \" \", \"Yes\", \"Yes\", \" \", \" \", \" \", \" \", \"Yes\", \"No\", \" \", \" \", \" \", \" \", \" \", \" \", \" \", \" \", \" \", \" \", \" \", \" \", \"21\", \"Yes\", 41.748518, -124.196581, \" \", \" \", \" \", \" \", \" \", \"NaN\"], [400928.0621, 4622911.4467, 29, 29, \"1_North Coast\", 1, \"Del Norte\", \"Shoreline Campground\", \"W. of Sunset Circle Dr., Crescent City\", \"Yes\", \"707-464-2473\", \"Recreational Facility\", \"Campground\", \"Yes\", \"Yes\", \"Yes\", \" \", \" \", \"Yes\", \"Yes\", \"No\", \" \", \" \", \"No\", \"Yes\", \" \", \" \", \"Yes\", \"Yes\", \"Yes\", \" \", \" \", \" \", \"Yes\", \"189\", \" \", \" \", \" \", \" \", \" \", \" \", \" \", \" \", \" \", \" \", \"Yes\", \" \", \" \", \" \", \"Yes\", \" \", \" \", \"No\", \"No\", \"No\", \" \", \" \", \" \", \" \", \" \", \" \", \" \", \" \", \" \", \" \", \" \", \"Yes\", \"No\", \" \", \" \", \" \", \" \", \" \", \" \", \" \", \" \", \" \", \" \", \" \", \" \", \"23.1\", \" \", 41.751853, -124.191638, \" \", \" \", \" \", \" \", \" \", \"NaN\"], [400926.9083, 4622948.2196, 30, 30, \"1_North Coast\", 1, \"Del Norte\", \"Crescent City Coastal Trail\", \"Pt. St. George to Crescent City Harbor, Crescent City\", \"Yes\", \" \", \"Path/Trail/Drive\", \"Natural Resource\", \"Yes\", \"No\", \"Yes\", \" \", \" \", \"Yes\", \"Yes\", \" \", \" \", \"Yes\", \" \", \" \", \" \", \" \", \" \", \" \", \" \", \" \", \" \", \" \", \" \", \" \", \" \", \" \", \" \", \" \", \" \", \" \", \" \", \" \", \" \", \" \", \" \", \" \", \" \", \" \", \"Yes\", \"Yes\", \" \", \"Yes\", \" \", \" \", \" \", \" \", \" \", \" \", \" \", \" \", \" \", \" \", \" \", \" \", \" \", \"No\", \"No\", \" \", \" \", \" \", \" \", \" \", \" \", \"6\", \" \", \" \", \" \", \" \", \" \", \"23\", \" \", 41.752184, -124.191658, \" \", \" \", \" \", \" \", \" \", \"NaN\"], [401246.9739, 4622128.8128, 31, 31, \"1_North Coast\", 1, \"Del Norte\", \"Crescent City Harbor\", \"W. of Hwy. 101 and Citizens Dock Rd., Crescent City\", \"Yes\", \"707-464-6174\", \"Waterfront Features\", \"Boat Access\", \"Yes\", \"No\", \"Yes\", \" \", \" \", \"Yes\", \"Yes\", \"No\", \" \", \" \", \"No\", \"Yes\", \"Yes\", \"Yes\", \"Yes\", \"No\", \"Yes\", \" \", \" \", \" \", \"Yes\", \" \", \" \", \" \", \" \", \"Yes\", \"Marina, Moorings, Boat Ramp, Hoist\", \"Yes\", \"Yes\", \" \", \" \", \" \", \"Yes\", \" \", \" \", \" \", \"Yes\", \" \", \" \", \"Yes\", \"No\", \"Yes\", \" \", \" \", \" \", \" \", \" \", \" \", \" \", \" \", \" \", \" \", \" \", \"Yes\", \"Yes\", \"Yes\", \" \", \" \", \" \", \" \", \" \", \" \", \" \", \" \", \" \", \" \", \" \", \"24\", \" \", 41.744845, -124.187673, \" \", \" \", \" \", \" \", \" \", \"NaN\"], [401669.7117, 4621814.722, 32, 32, \"1_North Coast\", 1, \"Del Norte\", \"Crescent City Harbor Boat Launch\", \"Anchor Way, Crescent City Harbor\", \"Yes\", \"707-464-6174\", \"Waterfront Features\", \"Boat Access\", \"Yes\", \"Yes\", \"Yes\", \" \", \" \", \" \", \" \", \"No\", \" \", \" \", \" \", \" \", \" \", \" \", \" \", \"No\", \"No\", \" \", \" \", \" \", \" \", \" \", \" \", \" \", \" \", \"Yes\", \" \", \" \", \" \", \"No\", \" \", \" \", \"No\", \"No\", \"No\", \"No\", \"No\", \" \", \" \", \"No\", \"No\", \"No\", \"No\", \"No\", \"No\", \"No\", \"No\", \"No\", \"No\", \"No\", \"No\", \" \", \"No\", \" \", \"Yes\", \" \", \" \", \" \", \" \", \" \", \" \", \" \", \" \", \" \", \" \", \" \", \" \", \" \", \" \", 41.742069, -124.182538, \" \", \" \", \" \", \" \", \" \", \"NaN\"], [410933.7972, 4597036.0667, 33, 33, \"1_North Coast\", 1, \"Del Norte\", \"Redwood National Park (Del Norte)\", \"Off Hwy. 101, N. of Orick\", \"Yes\", \"707-465-7335\", \"GP - National/State/Regional Park/Beach/Rec area\", \"Natural Resource\", \"Yes\", \"No\", \"Yes\", \" \", \" \", \"Yes\", \"Yes\", \"Yes\", \" \", \" \", \"No\", \"No\", \" \", \" \", \"Yes\", \"Yes\", \"Yes\", \" \", \" \", \" \", \" \", \" \", \" \", \" \", \" \", \" \", \" \", \" \", \" \", \" \", \" \", \" \", \"Yes\", \" \", \" \", \" \", \"Yes\", \" \", \" \", \"No\", \"Yes\", \"No\", \" \", \" \", \" \", \" \", \" \", \" \", \" \", \" \", \" \", \" \", \" \", \"Yes\", \"No\", \" \", \" \", \" \", \" \", \" \", \" \", \" \", \" \", \" \", \" \", \" \", \" \", \"22.1\", \" \", 41.520013, -124.067458, \"https://www.coastal.ca.gov/access-photos/03_humboldt/02_northern_humboldt_co/Redwood_Natl_Park_Humboldt_SFS_2013_07_01_4761.jpg\", \"https://www.coastal.ca.gov/access-photos/03_humboldt/02_northern_humboldt_co/Redwood_Natl_Park_Humboldt_SFS_2013_07_02_5091.jpg\", \" \", \" \", \" \", \"NaN\"], [400697.7968, 4623036.904, 34, 34, \"1_North Coast\", 1, \"Del Norte\", \"Redwood National & State Parks Information Center\", \"1111 2nd St., Crescent City\", \"Yes\", \"707-465-7306\", \"Facility\", \"Natural Resource\", \"Yes\", \"No\", \"Yes\", \" \", \" \", \"Yes\", \"Yes\", \"Yes\", \" \", \"Yes\", \"No\", \"No\", \"No\", \" \", \"No\", \"No\", \"No\", \" \", \" \", \" \", \" \", \" \", \" \", \" \", \" \", \" \", \" \", \" \", \" \", \" \", \" \", \" \", \" \", \" \", \" \", \" \", \" \", \" \", \" \", \" \", \" \", \" \", \" \", \" \", \" \", \" \", \" \", \" \", \" \", \" \", \" \", \" \", \" \", \"No\", \"No\", \" \", \" \", \" \", \" \", \" \", \" \", \" \", \" \", \" \", \" \", \" \", \" \", \"22\", \" \", 41.752954, -124.194428, \" \", \" \", \" \", \" \", \" \", \"NaN\"], [402783.8169, 4621904.8811, 35, 35, \"1_North Coast\", 1, \"Del Norte\", \"Crescent Beach (Crescent City)\", \"W. of Hwy. 101, 1 mi. S. of Crescent City\", \"Yes\", \" \", \"Physical Access\", \"Beach Access\", \"Yes\", \"No\", \"Yes\", \" \", \" \", \"Yes\", \"Yes\", \"No\", \"Yes\", \" \", \"No\", \"No\", \" \", \" \", \"Yes\", \"Yes\", \"No\", \" \", \" \", \" \", \" \", \" \", \" \", \" \", \" \", \" \", \" \", \" \", \" \", \" \", \" \", \" \", \"No\", \" \", \" \", \" \", \"No\", \" \", \" \", \"No\", \"Yes\", \"No\", \" \", \" \", \" \", \" \", \" \", \" \", \" \", \" \", \" \", \" \", \"Yes\", \"Yes\", \"No\", \" \", \" \", \" \", \" \", \" \", \" \", \" \", \" \", \" \", \" \", \" \", \" \", \"25\", \" \", 41.743018, -124.169157, \"https://www.coastal.ca.gov/access-photos/02_del_norte/06_crescent_beach_to_lagoon_creek/Crescent_Beach_2013_07_02_5062.jpg\", \"https://www.coastal.ca.gov/access-photos/02_del_norte/06_crescent_beach_to_lagoon_creek/Crescent_Beach_Overlook_trailhead_for_Last_Chance_section_of_Cal_Coastal_Trail_2013_07_02_5065.jpg\", \" \", \" \", \" \", \"NaN\"], [404188.9216, 4620152.7176, 36, 36, \"1_North Coast\", 1, \"Del Norte\", \"Crescent Beach Picnic Areas\", \"Enderts Beach Rd., .5 mi. S. of Hwy. 101\", \"Yes\", \" \", \"Physical Access\", \"Beach Access\", \"Yes\", \"No\", \"Yes\", \" \", \" \", \"Yes\", \"Yes\", \"No\", \"Yes\", \"Yes\", \"No\", \"No\", \"Yes\", \"Yes\", \"Yes\", \"Yes\", \"No\", \" \", \" \", \" \", \" \", \" \", \" \", \" \", \" \", \" \", \" \", \" \", \" \", \" \", \" \", \" \", \"Yes\", \" \", \" \", \" \", \"Yes\", \" \", \" \", \"No\", \"No\", \"No\", \" \", \" \", \" \", \" \", \" \", \" \", \" \", \" \", \" \", \" \", \" \", \"Yes\", \"No\", \" \", \" \", \" \", \" \", \" \", \" \", \" \", \" \", \" \", \" \", \" \", \" \", \"26\", \" \", 41.72741, -124.15198, \" \", \" \", \" \", \" \", \" \", \"NaN\"], [404927.8938, 4617747.9471, 37, 37, \"1_North Coast\", 1, \"Del Norte\", \"Crescent Beach Overlook\", \"S. end of Enderts Beach Rd., S. of Crescent City\", \"Yes\", \" \", \"Visual Access\", \"Visual Access\", \"Yes\", \"No\", \"Yes\", \" \", \" \", \" \", \" \", \"No\", \" \", \" \", \" \", \"No\", \"No\", \" \", \" \", \"No\", \"No\", \" \", \" \", \" \", \" \", \" \", \" \", \" \", \" \", \" \", \" \", \" \", \" \", \" \", \" \", \" \", \" \", \" \", \"Yes\", \" \", \"Yes\", \" \", \" \", \"No\", \" \", \" \", \"No\", \"No\", \"No\", \"No\", \" \", \"No\", \"No\", \" \", \"No\", \"No\", \" \", \"No\", \"No\", \" \", \" \", \" \", \" \", \" \", \" \", \" \", \" \", \" \", \" \", \" \", \" \", \" \", \" \", 41.705843, -124.142713, \" \", \" \", \" \", \" \", \" \", \"NaN\"], [405072.6136, 4617189.6918, 38, 38, \"1_North Coast\", 1, \"Del Norte\", \"Nickel Creek Campground\", \".5 mi. S. of end of Enderts Beach Rd.\", \"Yes\", \"707-465-7335\", \"Recreational Facility\", \"Campground\", \"Yes\", \"No\", \"Yes\", \" \", \" \", \"No\", \"Yes\", \"No\", \" \", \" \", \"No\", \"No\", \" \", \" \", \"Yes\", \"Yes\", \"Yes\", \" \", \"5\", \" \", \" \", \" \", \" \", \" \", \" \", \" \", \" \", \" \", \" \", \" \", \" \", \" \", \"No\", \" \", \" \", \" \", \"Yes\", \" \", \" \", \"No\", \"No\", \"No\", \" \", \" \", \" \", \" \", \" \", \" \", \" \", \" \", \" \", \" \", \" \", \"No\", \"No\", \" \", \" \", \" \", \" \", \" \", \" \", \" \", \" \", \" \", \" \", \" \", \" \", \"27\", \" \", 41.700833, -124.140885, \" \", \" \", \" \", \" \", \" \", \"NaN\"], [405029.9368, 4616807.818, 39, 39, \"1_North Coast\", 1, \"Del Norte\", \"Enderts Beach\", \".5 mi. S. of end of Enderts Beach Rd., S. of Crescent City\", \"Yes\", \"707-465-7335\", \"Physical Access\", \"Beach Access\", \"Yes\", \"No\", \"Yes\", \" \", \" \", \"No\", \"No\", \"No\", \" \", \" \", \"No\", \"No\", \" \", \" \", \" \", \"Yes\", \"No\", \" \", \" \", \" \", \" \", \" \", \" \", \" \", \" \", \" \", \" \", \" \", \" \", \" \", \" \", \" \", \"Yes\", \" \", \" \", \" \", \"Yes\", \" \", \" \", \"No\", \"No\", \"No\", \" \", \" \", \" \", \" \", \"Yes\", \" \", \" \", \" \", \" \", \" \", \" \", \"Yes\", \"No\", \" \", \" \", \" \", \" \", \" \", \" \", \" \", \" \", \" \", \" \", \" \", \" \", \"28\", \" \", 41.697389, -124.141337, \" \", \" \", \" \", \" \", \" \", \"NaN\"], [408643.6414, 4617318.0547, 40, 40, \"1_North Coast\", 1, \"Del Norte\", \"Mill Creek Campground\", \"2.5 mi. E. of Hwy. 101, 7 mi. S. of Crescent City\", \"Yes\", \"707-465-7335\", \"Recreational Facility\", \"Campground\", \"Yes\", \"Yes\", \"Yes\", \" \", \" \", \"Yes\", \"Yes\", \"No\", \"Yes\", \"Yes\", \"No\", \"Yes\", \" \", \" \", \"Yes\", \"Yes\", \"Yes\", \"143\", \" \", \" \", \"Yes\", \" \", \" \", \" \", \" \", \" \", \" \", \" \", \" \", \" \", \" \", \" \", \"No\", \" \", \" \", \" \", \"Yes\", \" \", \" \", \"Yes\", \"No\", \"Yes\", \" \", \" \", \" \", \" \", \" \", \" \", \" \", \" \", \" \", \" \", \" \", \"Yes\", \"No\", \" \", \" \", \" \", \" \", \" \", \" \", \" \", \" \", \" \", \" \", \" \", \" \", \"29\", \" \", 41.702407, -124.097994, \" \", \" \", \" \", \" \", \" \", \"NaN\"], [406227.471, 4612893.5095, 41, 41, \"1_North Coast\", 1, \"Del Norte\", \"Del Norte Coast Redwoods State Park\", \"E. and W. of Hwy. 101, 7 mi. S. of Crescent City\", \"Yes\", \"707-465-7335\", \"GP - National/State/Regional Park/Beach/Rec area\", \"Beach Access\", \"Yes\", \"Yes\", \"Yes\", \" \", \" \", \"Yes\", \"Yes\", \"No\", \" \", \" \", \"No\", \"No\", \" \", \" \", \" \", \"Yes\", \"No\", \" \", \" \", \" \", \" \", \" \", \" \", \" \", \" \", \" \", \" \", \" \", \" \", \" \", \" \", \" \", \"Yes\", \" \", \" \", \" \", \"Yes\", \" \", \" \", \"No\", \"No\", \"Yes\", \" \", \" \", \" \", \" \", \" \", \" \", \" \", \" \", \" \", \" \", \" \", \"Yes\", \"No\", \" \", \"8\", \"8\", \"6400\", \"6400\", \" \", \" \", \" \", \" \", \" \", \" \", \" \", \"30\", \" \", 41.662281, -124.126333, \"https://www.coastal.ca.gov/access-photos/02_del_norte/06_crescent_beach_to_lagoon_creek/Del_Norte_Coast_Redwoods_State_Park_SFS_2013_07_02_5072.jpg\", \" \", \" \", \" \", \" \", \"NaN\"], [408352.8878, 4606315.6644, 42, 42, \"1_North Coast\", 1, \"Del Norte\", \"Redwood National Park Hostel\", \"14480 Hwy. 101 at Wilson Creek Rd., 7 mi. N. of Klamath\", \"No\", \" \", \"Facility\", \"LCOA\", \"No\", \"Yes\", \"Yes\", \" \", \" \", \"Yes\", \"Yes\", \"No\", \" \", \" \", \"No\", \"Yes\", \" \", \" \", \" \", \"No\", \"No\", \" \", \" \", \" \", \" \", \" \", \"Y\", \"30\", \" \", \" \", \" \", \" \", \" \", \" \", \" \", \" \", \"No\", \" \", \" \", \" \", \"No\", \" \", \" \", \"No\", \"No\", \"Yes\", \" \", \" \", \" \", \" \", \" \", \" \", \" \", \" \", \" \", \" \", \" \", \"Yes\", \"No\", \" \", \" \", \" \", \" \", \" \", \" \", \" \", \" \", \" \", \" \", \"Yes\", \"SS says hostel is closed\", \"30.5\", \"Yes\", 41.603291, -124.099801, \" \", \" \", \" \", \" \", \" \", \"NaN\"], [408272.3156, 4606232.5222, 43, 43, \"1_North Coast\", 1, \"Del Norte\", \"Wilson Creek  Beach\", \"W. of Hwy. 101, 5.5 mi. N. of Klamath\", \"Yes\", \" \", \"Physical Access\", \"Beach Access\", \"Yes\", \"No\", \"Yes\", \" \", \" \", \"Yes\", \"Yes\", \"No\", \"Yes\", \" \", \"No\", \"No\", \" \", \" \", \"Yes\", \"Yes\", \"No\", \" \", \" \", \" \", \" \", \" \", \" \", \" \", \" \", \" \", \" \", \" \", \" \", \" \", \" \", \" \", \"No\", \" \", \" \", \" \", \"Yes\", \" \", \" \", \"No\", \"No\", \"Yes\", \" \", \" \", \" \", \" \", \"Yes\", \" \", \" \", \" \", \" \", \" \", \" \", \"Yes\", \"No\", \" \", \" \", \" \", \" \", \" \", \" \", \" \", \" \", \" \", \" \", \" \", \" \", \"31\", \" \", 41.602533, -124.100755, \"https://www.coastal.ca.gov/access-photos/02_del_norte/06_crescent_beach_to_lagoon_creek/Wilson_Creek_Beach_SFS_2013_07_01_4845.jpg\", \" \", \" \", \" \", \" \", \"NaN\"], [408432.9358, 4605264.6358, 44, 44, \"1_North Coast\", 1, \"Del Norte\", \"Lagoon Creek Access\", \"W. of Hwy. 101, 5 mi. N. of Klamath\", \"Yes\", \" \", \"Physical Access\", \"Natural Resource\", \"Yes\", \"No\", \"Yes\", \" \", \" \", \"Yes\", \"Yes\", \"No\", \" \", \"Yes\", \"No\", \"No\", \" \", \" \", \"Yes\", \"Yes\", \"No\", \" \", \" \", \" \", \" \", \" \", \" \", \" \", \" \", \" \", \" \", \" \", \" \", \" \", \" \", \" \", \"No\", \" \", \"Yes\", \" \", \"Yes\", \"Yes\", \" \", \"No\", \"No\", \"Yes\", \" \", \" \", \" \", \" \", \" \", \" \", \" \", \" \", \" \", \" \", \" \", \"Yes\", \"No\", \" \", \" \", \" \", \" \", \" \", \" \", \"5.5\", \" \", \" \", \" \", \" \", \" \", \"32\", \" \", 41.593835, -124.09868, \"https://www.coastal.ca.gov/access-photos/02_del_norte/06_crescent_beach_to_lagoon_creek/Lagoon_Creek_Access_2004_07_04_0026.jpg\", \" \", \" \", \" \", \" \", \"NaN\"], [409399.49, 4600875.0634, 45, 45, \"1_North Coast\", 1, \"Del Norte\", \"Klamath Overlook (Requa Overlook)\", \"2.5 mi. W. of Hwy 101 on Requa Rd./Patrick Murphy Memorial Dr.\", \"Yes\", \" \", \"Visual Access\", \"Visual Access\", \"Yes\", \"No\", \"Yes\", \" \", \" \", \"Yes\", \"Yes\", \"No\", \" \", \"Yes\", \"No\", \"No\", \" \", \" \", \"Yes\", \"No\", \"No\", \" \", \" \", \" \", \" \", \" \", \" \", \" \", \" \", \" \", \" \", \" \", \" \", \" \", \" \", \" \", \"No\", \" \", \" \", \"Yes\", \"Yes\", \"Yes\", \" \", \"No\", \"No\", \"Yes\", \" \", \" \", \" \", \" \", \" \", \" \", \" \", \" \", \" \", \" \", \" \", \"No\", \"No\", \" \", \" \", \" \", \" \", \" \", \" \", \" \", \" \", \" \", \" \", \" \", \" \", \"33\", \" \", 41.554414, -124.086422, \" \", \" \", \" \", \" \", \" \", \"NaN\"], [1048725.9177, 3632753.4702, 1603, 1604, \"6_San Diego\", 15, \"San Diego\", \"Cesar Chavez Park\", \"Foot of Cesar E. Chavez Parkway, San Diego\", \"Yes\", \"619-686-6200\", \"City/County Park\", \"Visual Access\", \"Yes\", \"No\", \"Yes\", \" \", \" \", \"Yes\", \"Yes\", \" \", \" \", \"Yes\", \" \", \" \", \" \", \" \", \"Yes\", \" \", \"No\", \" \", \" \", \" \", \" \", \" \", \" \", \" \", \" \", \" \", \" \", \" \", \" \", \" \", \" \", \" \", \"No\", \" \", \" \", \" \", \"Yes\", \" \", \" \", \" \", \" \", \" \", \" \", \" \", \" \", \" \", \" \", \"Yes\", \" \", \" \", \" \", \" \", \" \", \"No\", \"No\", \" \", \" \", \" \", \" \", \" \", \" \", \" \", \" \", \" \", \" \", \" \", \" \", \"1140\", \" \", 32.696032, -117.150237, \" \", \" \", \" \", \" \", \" \", \"NaN\"], [1045982.396, 3633222.236, 1604, 1605, \"6_San Diego\", 15, \"San Diego\", \"Bay View Park\", \"\\\"I\\\" Ave. and 1st St., Coronado\", \"Yes\", \"619-522-7300\", \"City/County Park\", \"Visual Access\", \"Yes\", \"No\", \"Yes\", \" \", \" \", \"Yes\", \"No\", \" \", \" \", \"Yes\", \"No\", \"No\", \" \", \" \", \" \", \"No\", \"No\", \" \", \" \", \" \", \" \", \" \", \" \", \" \", \" \", \" \", \" \", \" \", \" \", \" \", \" \", \" \", \"No\", \" \", \" \", \" \", \"No\", \" \", \" \", \"No\", \"No\", \"Yes\", \" \", \" \", \" \", \" \", \" \", \" \", \" \", \" \", \" \", \" \", \" \", \"No\", \"No\", \" \", \" \", \" \", \" \", \" \", \" \", \" \", \" \", \" \", \" \", \" \", \" \", \"1141\", \" \", 32.701598, -117.17908, \" \", \" \", \" \", \" \", \" \", \"NaN\"], [1046425.4481, 3633086.4094, 1605, 1606, \"6_San Diego\", 15, \"San Diego\", \"Harbor View Park\", \"1st St. and \\\"E\\\" Ave., Coronado\", \"Yes\", \" \", \"City/County Park\", \"Visual Access\", \"Yes\", \"No\", \"Yes\", \" \", \" \", \"No\", \"No\", \" \", \" \", \"Yes\", \"No\", \"No\", \" \", \" \", \" \", \"No\", \"No\", \" \", \" \", \" \", \" \", \" \", \" \", \" \", \" \", \" \", \" \", \" \", \" \", \" \", \" \", \" \", \"No\", \" \", \" \", \" \", \"Yes\", \" \", \" \", \"No\", \"No\", \"Yes\", \" \", \" \", \" \", \" \", \" \", \" \", \" \", \" \", \" \", \" \", \" \", \"No\", \"No\", \" \", \" \", \" \", \" \", \" \", \" \", \" \", \" \", \" \", \" \", \" \", \" \", \"1142\", \" \", 32.70016, -117.174457, \" \", \" \", \" \", \" \", \" \", \"NaN\"], [1046643.931, 3632965.2928, 1606, 1607, \"6_San Diego\", 15, \"San Diego\", \"Centennial Park\", \"1st St. and Orange Ave., Coronado\", \"Yes\", \"619-522-7300\", \"City/County Park\", \"Beach Access\", \"Yes\", \"No\", \"Yes\", \" \", \" \", \"Yes\", \"No\", \" \", \"Yes\", \"Yes\", \"No\", \"No\", \" \", \" \", \" \", \"No\", \"No\", \" \", \" \", \" \", \" \", \" \", \" \", \" \", \" \", \" \", \" \", \" \", \" \", \" \", \" \", \" \", \"No\", \" \", \" \", \" \", \"Yes\", \" \", \" \", \"Yes\", \"No\", \" \", \" \", \" \", \" \", \" \", \" \", \" \", \" \", \" \", \" \", \" \", \" \", \"Yes\", \"No\", \" \", \" \", \" \", \" \", \" \", \" \", \" \", \"A-114-81\", \" \", \" \", \" \", \" \", \"1143\", \"Yes\", 32.698965, -117.172209, \"https://www.coastal.ca.gov/access-photos/16_san_diego/17_Coronado/Centennial_Park_2013_09_28_8092.jpg\", \"https://www.coastal.ca.gov/access-photos/16_san_diego/17_Coronado/Centennial_Park_view_from_2013_09_28_8093.jpg\", \" \", \" \", \" \", \"NaN\"], [1046862.8829, 3633078.3268, 1607, 1608, \"6_San Diego\", 15, \"San Diego\", \"Ferry Landing\", \"End of B Ave. at 1st St., Coronado\", \"Yes\", \" \", \"Physical Access\", \"Pier\", \"Yes\", \"No\", \"Yes\", \" \", \" \", \"Yes\", \"Yes\", \" \", \" \", \"Yes\", \" \", \" \", \"Yes\", \"Yes\", \" \", \" \", \"No\", \" \", \" \", \" \", \" \", \" \", \" \", \" \", \" \", \" \", \" \", \" \", \" \", \" \", \" \", \" \", \"No\", \" \", \" \", \" \", \"Yes\", \" \", \" \", \"Yes\", \" \", \" \", \" \", \" \", \" \", \" \", \" \", \" \", \" \", \" \", \" \", \" \", \" \", \"Yes\", \"Yes\", \"Yes\", \" \", \" \", \" \", \" \", \" \", \" \", \" \", \" \", \" \", \" \", \" \", \"1144\", \"Yes\", 32.699871, -117.169819, \" \", \" \", \" \", \" \", \" \", \"NaN\"], [1047323.8193, 3632137.6326, 1608, 1609, \"6_San Diego\", 15, \"San Diego\", \"Coronado Tidelands Regional Park\", \"End of Mullinix Dr. off Glorietta Blvd., Coronado\", \"Yes\", \" \", \"National/State/Regional Park/Beach/Rec Area\", \"Beach Access\", \"Yes\", \"No\", \"Yes\", \" \", \" \", \"Yes\", \"Yes\", \" \", \"Yes\", \"Yes\", \"No\", \"No\", \" \", \" \", \"Yes\", \"No\", \"No\", \" \", \" \", \" \", \" \", \" \", \" \", \" \", \" \", \" \", \" \", \" \", \" \", \" \", \" \", \" \", \"No\", \" \", \" \", \" \", \"Yes\", \" \", \" \", \"Yes\", \"No\", \"Yes\", \" \", \" \", \" \", \" \", \" \", \"Yes\", \"Yes\", \" \", \" \", \"Yes\", \" \", \"No\", \"Yes\", \" \", \" \", \" \", \" \", \" \", \" \", \" \", \" \", \" \", \" \", \" \", \" \", \"1145\", \" \", 32.691201, -117.165478, \"https://www.coastal.ca.gov/access-photos/16_san_diego/17_Coronado/Coronado_Tidelands_Regional_Park_2008_03_21_0103.jpg\", \" \", \" \", \" \", \" \", \"NaN\"], [1047199.8628, 3631439.9043, 1609, 1610, \"6_San Diego\", 15, \"San Diego\", \"Coronado Municipal Golf Course\", \"2000 Visalia Row, off Glorietta Blvd., Coronado\", \"Yes\", \"619-435-3121\", \"Recreational Facility\", \"Natural Resource\", \"Yes\", \"Yes\", \"Yes\", \" \", \" \", \"No\", \"Yes\", \" \", \" \", \" \", \"No\", \"No\", \"Yes\", \"Yes\", \" \", \"No\", \"No\", \" \", \" \", \" \", \" \", \" \", \" \", \" \", \" \", \" \", \" \", \" \", \" \", \" \", \" \", \" \", \"Yes\", \" \", \" \", \" \", \"No\", \" \", \" \", \"Yes\", \"No\", \" \", \" \", \" \", \" \", \" \", \" \", \" \", \" \", \" \", \" \", \" \", \" \", \"No\", \"No\", \" \", \" \", \" \", \" \", \" \", \" \", \" \", \" \", \" \", \" \", \" \", \" \", \"1146\", \" \", 32.685001, -117.167202, \" \", \" \", \" \", \" \", \" \", \"NaN\"], [1044734.1797, 3631479.0176, 1610, 1611, \"6_San Diego\", 15, \"San Diego\", \"Coronado Dog Beach\", \"Near intersection of Ocean Blvd. and Ocean Drive, Coronado\", \"Yes\", \" \", \"Physical Access\", \"Beach Access\", \"Yes\", \"No\", \"Yes\", \" \", \" \", \"No\", \"Yes\", \"No\", \"Yes\", \" \", \" \", \" \", \" \", \" \", \" \", \"Yes\", \"No\", \" \", \" \", \" \", \" \", \" \", \" \", \" \", \" \", \" \", \" \", \" \", \" \", \" \", \" \", \" \", \"No\", \" \", \" \", \" \", \"No\", \" \", \" \", \"No\", \"No\", \"No\", \"No\", \" \", \" \", \" \", \" \", \" \", \"No\", \" \", \" \", \" \", \" \", \"Yes\", \"No\", \" \", \" \", \" \", \" \", \" \", \" \", \" \", \" \", \" \", \" \", \" \", \" \", \" \", \" \", 32.68657, -117.193345, \" \", \" \", \" \", \" \", \" \", \"NaN\"], [1045651.4167, 3631109.1214, 1611, 1612, \"6_San Diego\", 15, \"San Diego\", \"Coronado City Beach\", \"W. of Ocean Blvd., Coronado\", \"Yes\", \"619-522-7346\", \"Physical Access\", \"Beach Access\", \"Yes\", \"No\", \"No\", \" \", \" \", \"Yes\", \"Yes\", \" \", \" \", \" \", \"Yes\", \"Yes\", \" \", \" \", \"Yes\", \"Yes\", \"No\", \" \", \" \", \" \", \" \", \" \", \" \", \" \", \" \", \" \", \" \", \" \", \" \", \" \", \" \", \" \", \"No\", \" \", \" \", \" \", \"Yes\", \" \", \" \", \"No\", \"No\", \" \", \" \", \"Yes\", \" \", \" \", \" \", \" \", \" \", \"Yes\", \" \", \" \", \"Yes\", \"Yes\", \"No\", \" \", \" \", \" \", \" \", \" \", \" \", \" \", \" \", \" \", \" \", \" \", \" \", \"1147\", \" \", 32.682798, -117.183827, \"https://www.coastal.ca.gov/access-photos/16_san_diego/17_Coronado/Coronado_City_Beach_2013_09_28_8078.jpg\", \"https://www.coastal.ca.gov/access-photos/16_san_diego/17_Coronado/Coronado_City_Beach_2013_09_28_8081.jpg\", \"https://www.coastal.ca.gov/access-photos/16_san_diego/17_Coronado/Coronado_City_Beach_SFS_2013_09_28_8085.jpg\", \" \", \"619-522-7346; motorized and manual chairs\", \"NaN\"], [1046494.5623, 3630419.4175, 1612, 1613, \"6_San Diego\", 15, \"San Diego\", \"Coronado Shores Beach\", \"Seaward of Coronado Shores Condominiums on Hwy. 75, Coronado\", \"Yes\", \" \", \"Physical Access\", \"Beach Access\", \"Yes\", \"No\", \"Yes\", \" \", \" \", \"Yes\", \"No\", \" \", \" \", \"Yes\", \"Yes\", \"No\", \" \", \" \", \" \", \"No\", \"No\", \" \", \" \", \" \", \" \", \" \", \" \", \" \", \" \", \" \", \" \", \" \", \" \", \" \", \" \", \" \", \"No\", \" \", \" \", \" \", \"Yes\", \" \", \" \", \"No\", \"No\", \" \", \" \", \" \", \" \", \" \", \" \", \" \", \" \", \" \", \" \", \" \", \" \", \"Yes\", \"No\", \" \", \" \", \" \", \" \", \" \", \" \", \" \", \" \", \" \", \" \", \" \", \" \", \"1148\", \" \", 32.676192, -117.175283, \" \", \" \", \" \", \" \", \" \", \"NaN\"], [1046554.9484, 3630729.5153, 1613, 1614, \"6_San Diego\", 15, \"San Diego\", \"Glorietta Bay Marina\", \"1715 Strand Way, Coronado\", \"Yes\", \"619-435-5203\", \"Waterfront Features\", \"Boat Access\", \"Yes\", \"Yes\", \"Yes\", \" \", \" \", \"No\", \"No\", \" \", \" \", \" \", \"No\", \"No\", \"Yes\", \"Yes\", \" \", \"No\", \"No\", \" \", \" \", \" \", \" \", \" \", \" \", \" \", \" \", \"Yes\", \"Marina\", \"100\", \" \", \" \", \" \", \" \", \"No\", \" \", \" \", \" \", \"Yes\", \" \", \" \", \"No\", \"No\", \" \", \" \", \" \", \" \", \" \", \" \", \" \", \" \", \" \", \" \", \" \", \" \", \"Yes\", \"Yes\", \" \", \" \", \" \", \" \", \" \", \" \", \" \", \" \", \" \", \" \", \" \", \" \", \"1149\", \" \", 32.678945, -117.174461, \" \", \" \", \" \", \" \", \" \", \"NaN\"], [1046946.6806, 3630449.6781, 1614, 1615, \"6_San Diego\", 15, \"San Diego\", \"Coronado Aquatics Center\", \"1845 Strand Way, Coronado\", \"Yes\", \"619-522-2464\", \"Recreational Facility\", \"Historic/Cultural Site\", \"Yes\", \"Yes\", \"Yes\", \" \", \" \", \"Yes\", \"Yes\", \" \", \" \", \" \", \"Yes\", \"Yes\", \"Yes\", \"Yes\", \" \", \" \", \"No\", \" \", \" \", \" \", \" \", \" \", \" \", \" \", \" \", \" \", \" \", \" \", \" \", \" \", \" \", \" \", \"No\", \" \", \" \", \" \", \"Yes\", \" \", \" \", \" \", \" \", \" \", \"Yes\", \"Yes\", \" \", \" \", \" \", \" \", \"Yes\", \" \", \" \", \" \", \" \", \"No\", \"No\", \" \", \" \", \" \", \" \", \" \", \" \", \" \", \" \", \" \", \" \", \" \", \" \", \"1150\", \"Yes\", 32.67624, -117.170468, \" \", \" \", \" \", \" \", \" \", \"NaN\"], [1047086.3709, 3630345.055, 1615, 1616, \"6_San Diego\", 15, \"San Diego\", \"Glorietta Bay Park\", \"1975 Strand Way, Coronado\", \"Yes\", \"619-686-6272\", \"City/County Park\", \"Beach Access\", \"Yes\", \"No\", \"Yes\", \" \", \" \", \"Yes\", \"Yes\", \" \", \" \", \"Yes\", \"No\", \"No\", \" \", \" \", \"Yes\", \"Yes\", \"No\", \" \", \" \", \" \", \" \", \" \", \" \", \" \", \" \", \"Yes\", \"Boat Ramp\", \" \", \" \", \" \", \" \", \" \", \"No\", \" \", \" \", \" \", \"Yes\", \" \", \" \", \"No\", \"No\", \" \", \" \", \" \", \" \", \" \", \" \", \"Yes\", \" \", \" \", \" \", \" \", \" \", \"No\", \"Yes\", \" \", \" \", \" \", \" \", \" \", \" \", \" \", \" \", \" \", \" \", \" \", \" \", \"1151\", \" \", 32.675232, -117.169047, \"https://www.coastal.ca.gov/access-photos/16_san_diego/17_Coronado/Glorietta_Bay_Park_2013_09_28_8055.jpg\", \"https://www.coastal.ca.gov/access-photos/16_san_diego/17_Coronado/Glorietta_Bay_Park_2013_09_28_8060.jpg\", \"https://www.coastal.ca.gov/access-photos/16_san_diego/17_Coronado/Glorietta_Bay_Park_view_from_2013_09_28_8061.jpg\", \"https://www.coastal.ca.gov/access-photos/16_san_diego/17_Coronado/Glorietta_Bay_Park_view_from_2013_09_28_8064.jpg\", \" \", \"NaN\"], [1052615.7982, 3627826.3594, 1616, 1617, \"6_San Diego\", 15, \"San Diego\", \"Pepper Park\", \"S. end of Tidelands Ave., National City\", \"Yes\", \"619-686-6200\", \"City/County Park\", \"Beach Access\", \"Yes\", \"No\", \"Yes\", \" \", \" \", \"Yes\", \"Yes\", \" \", \" \", \"Yes\", \"No\", \"No\", \"Yes\", \"Yes\", \" \", \"Yes\", \"No\", \" \", \" \", \" \", \" \", \" \", \" \", \" \", \" \", \"Yes\", \"Boat Ramp\", \" \", \" \", \" \", \" \", \" \", \"No\", \" \", \" \", \" \", \"Yes\", \" \", \" \", \"No\", \"No\", \" \", \" \", \" \", \" \", \" \", \" \", \"Yes\", \" \", \" \", \" \", \" \", \" \", \"Yes\", \"Yes\", \" \", \" \", \" \", \" \", \" \", \" \", \" \", \" \", \" \", \" \", \" \", \" \", \"1152\", \" \", 32.649882, -117.111868, \"https://www.coastal.ca.gov/access-photos/16_san_diego/18_South_San_Diego_Bay/Pepper_Park_2008_03_21_0060.jpg\", \"https://www.coastal.ca.gov/access-photos/16_san_diego/18_South_San_Diego_Bay/Pepper_Park_2008_03_21_0062.jpg\", \"https://www.coastal.ca.gov/access-photos/16_san_diego/18_South_San_Diego_Bay/Pepper_Park_2008_03_21_0071.jpg\", \" \", \" \", \"NaN\"], [1052757.1228, 3626714.8805, 1617, 1618, \"6_San Diego\", 15, \"San Diego\", \"Living Coast Discovery Center\", \"Foot of E St., within Sweetwater Marsh, Chula Vista\", \"Yes\", \"619-409-5900\", \"Facility\", \"Natural Resource\", \"Yes\", \"Yes\", \"Yes\", \" \", \" \", \"Yes\", \"Yes\", \"Yes\", \" \", \"Yes\", \" \", \" \", \"Yes\", \" \", \"Yes\", \" \", \"No\", \" \", \" \", \" \", \" \", \" \", \" \", \" \", \" \", \" \", \" \", \" \", \" \", \" \", \" \", \" \", \"No\", \" \", \" \", \" \", \"Yes\", \" \", \" \", \" \", \" \", \"Yes\", \" \", \" \", \" \", \" \", \" \", \" \", \" \", \" \", \" \", \" \", \" \", \"No\", \"No\", \" \", \" \", \" \", \" \", \" \", \" \", \" \", \" \", \" \", \" \", \" \", \" \", \"1153\", \" \", 32.639838, -117.111025, \"https://www.coastal.ca.gov/access-photos/16_san_diego/18_South_San_Diego_Bay/Living_Coast_Discovery_Center_2008_03_21_0070.jpg\", \" \", \" \", \" \", \" \", \"NaN\"], [1053172.8177, 3625448.4912, 1618, 1619, \"6_San Diego\", 15, \"San Diego\", \"Chula Vista Bayside Park\", \"End of Marina Parkway, Chula Vista\", \"Yes\", \"619-686-6200\", \"City/County Park\", \"Boat Access\", \"Yes\", \"No\", \"Yes\", \" \", \" \", \"Yes\", \"Yes\", \" \", \" \", \"Yes\", \" \", \" \", \"Yes\", \" \", \"Yes\", \" \", \"Yes\", \" \", \" \", \" \", \"Yes\", \"237\", \" \", \" \", \" \", \"Yes\", \"Marina\", \"553\", \" \", \" \", \" \", \" \", \"No\", \" \", \" \", \" \", \"Yes\", \" \", \" \", \"Yes\", \" \", \"Yes\", \" \", \" \", \" \", \" \", \" \", \" \", \" \", \" \", \" \", \" \", \" \", \"No\", \"Yes\", \" \", \" \", \" \", \" \", \" \", \" \", \" \", \" \", \" \", \" \", \" \", \" \", \"1154\", \" \", 32.628267, -117.107364, \"https://www.coastal.ca.gov/access-photos/16_san_diego/18_South_San_Diego_Bay/Chula_Vista_Bayside_Park_2013_09_28_7922.jpg\", \" \", \" \", \" \", \" \", \"NaN\"], [1053588.5866, 3624703.781, 1619, 1620, \"6_San Diego\", 15, \"San Diego\", \"Chula Vista Launch Ramp\", \"W. end of Marina Way, off Marina Parkway, Chula Vista\", \"Yes\", \"619-686-6200\", \"Waterfront Features\", \"Boat Access\", \"Yes\", \"No\", \"Yes\", \" \", \" \", \"Yes\", \"Yes\", \" \", \" \", \"Yes\", \"No\", \"No\", \" \", \" \", \"Yes\", \"Yes\", \"No\", \" \", \" \", \" \", \" \", \" \", \" \", \" \", \" \", \"Yes\", \"Boat Ramp\", \" \", \" \", \" \", \" \", \" \", \"No\", \" \", \" \", \" \", \"Yes\", \" \", \" \", \"Yes\", \"No\", \" \", \" \", \"Yes\", \" \", \" \", \" \", \"Yes\", \" \", \" \", \" \", \" \", \" \", \"Yes\", \"Yes\", \" \", \" \", \" \", \" \", \" \", \" \", \" \", \" \", \" \", \" \", \" \", \" \", \"1155\", \" \", 32.621377, -117.103395, \"https://www.coastal.ca.gov/access-photos/16_san_diego/18_South_San_Diego_Bay/Chula_Vista_Launch_Ramp_2013_09_28_7912.jpg\", \"https://www.coastal.ca.gov/access-photos/16_san_diego/18_South_San_Diego_Bay/Chula_Vista_Launch_Ramp_2013_09_28_7915.jpg\", \" \", \" \", \" \", \"NaN\"], [1051120.2141, 3624873.5584, 1620, 1621, \"6_San Diego\", 15, \"San Diego\", \"Grand Caribe Shoreline Park\", \"End of Grand Caribe Causeway, off Coronado Cays Blvd., Coronado\", \"Yes\", \" \", \"City/County Park\", \"Beach Access\", \"Yes\", \"No\", \"Yes\", \" \", \" \", \"No\", \"No\", \" \", \"Yes\", \"Yes\", \" \", \" \", \" \", \" \", \"Yes\", \" \", \"No\", \" \", \" \", \" \", \" \", \" \", \" \", \" \", \" \", \" \", \" \", \" \", \" \", \" \", \" \", \" \", \"No\", \" \", \" \", \" \", \"Yes\", \" \", \" \", \" \", \" \", \"Yes\", \" \", \" \", \" \", \" \", \" \", \" \", \" \", \" \", \" \", \" \", \" \", \"No\", \"Yes\", \" \", \" \", \" \", \" \", \" \", \" \", \" \", \" \", \" \", \" \", \" \", \" \", \"1156\", \" \", 32.624131, -117.129468, \" \", \" \", \" \", \" \", \" \", \"NaN\"], [1050585.35, 3624631.0748, 1621, 1622, \"6_San Diego\", 15, \"San Diego\", \"Cays Parks\", \"Off Hwy. 75 (Silver Strand Blvd.), along Coronado Cays Blvd., Coronado\", \"Yes\", \" \", \"City/County Park\", \"Beach Access\", \"Yes\", \"No\", \"Yes\", \" \", \" \", \"No\", \"Yes\", \" \", \" \", \" \", \"No\", \"No\", \" \", \" \", \"Yes\", \"No\", \"No\", \" \", \" \", \" \", \" \", \" \", \" \", \" \", \" \", \" \", \" \", \" \", \" \", \" \", \" \", \" \", \"No\", \" \", \" \", \" \", \"Yes\", \" \", \" \", \"No\", \"No\", \" \", \" \", \" \", \" \", \" \", \" \", \" \", \"Yes\", \"Yes\", \" \", \" \", \" \", \"No\", \"No\", \" \", \" \", \" \", \" \", \" \", \" \", \" \", \" \", \" \", \" \", \" \", \" \", \" \", \" \", 32.622221, -117.135282, \" \", \" \", \" \", \" \", \" \", \"NaN\"], [1049999.4421, 3625578.4053, 1622, 1623, \"6_San Diego\", 15, \"San Diego\", \"Silver Strand State Beach\", \"5000 Hwy. 75, Coronado\", \"Yes\", \"619-435-5184\", \"Physical Access\", \"Beach Access\", \"Yes\", \"Yes\", \"Yes\", \" \", \"MAY HAVE USE RESTRICTIONS FOR SNOWY PLOVERS\", \"Yes\", \"Yes\", \" \", \" \", \"Yes\", \"Yes\", \"Yes\", \" \", \" \", \"Yes\", \"Yes\", \"Yes\", \"0\", \" \", \" \", \"Yes\", \"134\", \" \", \" \", \" \", \" \", \" \", \" \", \" \", \" \", \" \", \" \", \"No\", \" \", \" \", \" \", \"Yes\", \" \", \" \", \"Yes\", \"No\", \"Yes\", \" \", \"Yes\", \" \", \" \", \" \", \" \", \" \", \" \", \"Yes\", \"Yes\", \"Yes\", \"Yes\", \"Yes\", \"Yes\", \" \", \" \", \" \", \" \", \" \", \" \", \" \", \" \", \" \", \" \", \" \", \"1157\", \" \", 32.631013, -117.140939, \"https://www.coastal.ca.gov/access-photos/16_san_diego/18_South_San_Diego_Bay/Silver_Strand_State_Beach_2013_09_28_8022.jpg\", \"https://www.coastal.ca.gov/access-photos/16_san_diego/18_South_San_Diego_Bay/Silver_Strand_State_Beach_SFS_2013_09_28_8024.jpg\", \" \", \" \", \"619-435-0126\", \"NaN\"], [1049966.2957, 3626110.9149, 1623, 1624, \"6_San Diego\", 15, \"San Diego\", \"Crown Cove\", \"E. of Hwy. 75, Coronado\", \"Yes\", \"619-435-5184\", \"Physical Access\", \"Boat Access\", \"Yes\", \"Yes\", \"Yes\", \" \", \" \", \"Yes\", \"Yes\", \"No\", \" \", \"Yes\", \" \", \" \", \" \", \" \", \" \", \" \", \"No\", \" \", \" \", \" \", \" \", \" \", \" \", \" \", \" \", \"Yes\", \"Hand Launch\", \" \", \" \", \" \", \" \", \" \", \"No\", \" \", \"No\", \"No\", \"Yes\", \" \", \" \", \" \", \"No\", \"Yes\", \"No\", \" \", \" \", \" \", \" \", \" \", \" \", \" \", \" \", \"Yes\", \"No\", \" \", \"Yes\", \" \", \" \", \" \", \" \", \" \", \" \", \" \", \" \", \" \", \" \", \" \", \" \", \" \", \" \", 32.635808, -117.140978, \" \", \" \", \" \", \" \", \" \", \"NaN\"], [1052267.0063, 3621592.6049, 1624, 1625, \"6_San Diego\", 15, \"San Diego\", \"San Diego Bay National Wildlife Refuge\", \"S. end of San Diego Bay\", \"Yes\", \"619-476-9150\", \"Reserve/Visual Access\", \"Natural Resource\", \"Yes\", \"No\", \"No\", \" \", \" \", \"No\", \"No\", \"No\", \" \", \" \", \" \", \"No\", \" \", \" \", \" \", \"No\", \"No\", \" \", \" \", \" \", \" \", \" \", \" \", \" \", \" \", \" \", \" \", \" \", \" \", \" \", \" \", \" \", \"No\", \"Yes\", \" \", \" \", \"No\", \" \", \" \", \"No\", \"No\", \"Yes\", \" \", \" \", \" \", \" \", \" \", \" \", \" \", \" \", \" \", \" \", \" \", \"Yes\", \"Yes\", \" \", \" \", \" \", \" \", \" \", \" \", \" \", \" \", \" \", \" \", \" \", \" \", \"1158.1\", \" \", 32.594119, -117.119239, \"https://www.coastal.ca.gov/access-photos/16_san_diego/19_Imperial_Beach_to_Mexico/San_Diego_Bay_Natl_Wildlife_Refuge_2013_09_28_7929.jpg\", \" \", \" \", \" \", \" \", \"NaN\"], [1052537.9868, 3626625.0154, 1625, 1626, \"6_San Diego\", 15, \"San Diego\", \"San Diego Bay NWR - Sweetwater Marsh\", \"E. shore of San Diego Bay, National City and Chula Vista\", \"Yes\", \" \", \"Nature Preserve/Reserve\", \"Natural Resource\", \"Yes\", \"No\", \"No\", \" \", \" \", \"No\", \"No\", \" \", \" \", \" \", \"No\", \"No\", \" \", \" \", \" \", \"No\", \"No\", \" \", \" \", \" \", \" \", \" \", \" \", \" \", \" \", \" \", \" \", \" \", \" \", \" \", \" \", \" \", \"No\", \" \", \" \", \" \", \"No\", \" \", \" \", \"No\", \"No\", \"Yes\", \" \", \" \", \" \", \" \", \" \", \" \", \" \", \" \", \" \", \" \", \" \", \"Yes\", \"Yes\", \" \", \" \", \" \", \"316\", \" \", \" \", \" \", \" \", \" \", \" \", \" \", \" \", \"1158.2\", \" \", 32.639141, -117.113402, \" \", \" \", \" \", \" \", \" \", \"NaN\"], [1051834.3605, 3622642.3384, 1626, 1627, \"6_San Diego\", 15, \"San Diego\", \"South Bay Marine Biological Study Area\", \"E. of Hwy. 75, 1 mi. N. of Imperial Beach city limits, Coronado\", \"Yes\", \" \", \"Nature Preserve/Reserve\", \"Natural Resource\", \"Yes\", \"No\", \"Yes\", \" \", \" \", \"No\", \"No\", \" \", \" \", \" \", \"No\", \"No\", \" \", \" \", \" \", \"No\", \"No\", \" \", \" \", \" \", \" \", \" \", \" \", \" \", \" \", \" \", \" \", \" \", \" \", \" \", \" \", \" \", \"No\", \"?\", \" \", \" \", \"Yes\", \" \", \" \", \"Yes\", \"No\", \"Yes\", \" \", \" \", \" \", \" \", \" \", \" \", \" \", \" \", \" \", \" \", \" \", \"No\", \"No\", \" \", \" \", \" \", \" \", \" \", \" \", \" \", \" \", \" \", \" \", \" \", \" \", \" \", \" \", 32.603754, -117.123208, \" \", \" \", \" \", \" \", \" \", \"NaN\"], [1053580.4665, 3620938.622, 1627, 1628, \"6_San Diego\", 15, \"San Diego\", \"Bayshore Bikeway\", \"Around San Diego Bay, from downtown San Diego to Imperial Beach\", \"Yes\", \" \", \"Path/Trail/Drive\", \"Natural Resource\", \"Yes\", \"No\", \"Yes\", \" \", \" \", \"No\", \"No\", \" \", \" \", \"Yes\", \"No\", \"No\", \" \", \" \", \" \", \"No\", \"No\", \" \", \" \", \" \", \" \", \" \", \" \", \" \", \" \", \" \", \" \", \" \", \" \", \" \", \" \", \" \", \"No\", \" \", \" \", \" \", \"Yes\", \" \", \" \", \"Yes\", \"No\", \"Yes\", \" \", \" \", \" \", \" \", \" \", \" \", \" \", \" \", \" \", \" \", \" \", \"No\", \"No\", \" \", \" \", \" \", \" \", \" \", \" \", \" \", \" \", \" \", \" \", \" \", \" \", \"1159\", \" \", 32.587596, -117.105702, \"https://www.coastal.ca.gov/access-photos/16_san_diego/19_Imperial_Beach_to_Mexico/Bayshore_Bikeway_at_13th_St_Imperial_Beach_2013_09_28_7923.jpg\", \"https://www.coastal.ca.gov/access-photos/16_san_diego/19_Imperial_Beach_to_Mexico/Bayshore_Bikeway_no_of_Imperial_Beach_2013_09_28_7939.jpg\", \" \", \" \", \" \", \"NaN\"], [1051067.2556, 3620040.8535, 1628, 1629, \"6_San Diego\", 15, \"San Diego\", \"Imperial Beach\", \"W. of Seacoast Dr., from Carnation to S. end of Seacoast Dr., Imperial Beach\", \"Yes\", \"619-685-7972\", \"Physical Access\", \"Beach Access\", \"Yes\", \"No\", \"Yes\", \" \", \" \", \"Yes\", \"Yes\", \" \", \" \", \"Yes\", \"Yes\", \"Yes\", \"Yes\", \"Yes\", \"Yes\", \"No\", \"No\", \" \", \" \", \" \", \" \", \" \", \" \", \" \", \" \", \" \", \" \", \" \", \" \", \" \", \" \", \" \", \"No\", \" \", \" \", \" \", \"No\", \" \", \" \", \"No\", \"No\", \" \", \" \", \"Yes\", \" \", \" \", \" \", \"Yes\", \" \", \" \", \" \", \" \", \"Yes\", \"Yes\", \"No\", \" \", \" \", \" \", \" \", \" \", \" \", \" \", \"F-2213\", \" \", \" \", \" \", \" \", \"1160\", \"Yes\", 32.580791, -117.132867, \"https://www.coastal.ca.gov/access-photos/16_san_diego/19_Imperial_Beach_to_Mexico/Imperial_Beach_SFS_2013_09_28_7957.jpg\", \" \", \" \", \" \", \"619-685-7972; motorized chair\", \"NaN\"], [1051102.2719, 3619905.9448, 1629, 1630, \"6_San Diego\", 15, \"San Diego\", \"Imperial Beach Pier\", \"Foot of Evergreen Ave., Imperial Beach\", \"Yes\", \" \", \"Physical Access\", \"Pier\", \"Yes\", \"No\", \"Yes\", \" \", \" \", \"Yes\", \"Yes\", \" \", \" \", \"Yes\", \" \", \"No\", \"Yes\", \"Yes\", \" \", \" \", \"No\", \" \", \" \", \" \", \" \", \" \", \" \", \" \", \" \", \" \", \" \", \" \", \" \", \" \", \" \", \" \", \"No\", \" \", \" \", \" \", \"No\", \" \", \" \", \"No\", \"No\", \" \", \" \", \" \", \" \", \" \", \" \", \"Yes\", \" \", \" \", \" \", \" \", \" \", \"Yes\", \"No\", \" \", \" \", \" \", \" \", \" \", \" \", \" \", \" \", \" \", \" \", \" \", \" \", \"1161\", \"Yes\", 32.579563, -117.132575, \"https://www.coastal.ca.gov/access-photos/16_san_diego/19_Imperial_Beach_to_Mexico/Imperial_Beach_Pier_2013_09_28_7951.jpg\", \"https://www.coastal.ca.gov/access-photos/16_san_diego/19_Imperial_Beach_to_Mexico/Imperial_Beach_Pier_2013_09_28_7953.jpg\", \"https://www.coastal.ca.gov/access-photos/16_san_diego/19_Imperial_Beach_to_Mexico/Imperial_Beach_Pier_2013_09_28_7955.jpg\", \"https://www.coastal.ca.gov/access-photos/16_san_diego/19_Imperial_Beach_to_Mexico/Imperial_Beach_Pier_2013_09_28_7959.jpg\", \" \", \"NaN\"], [1051690.3079, 3617403.7037, 1630, 1631, \"6_San Diego\", 15, \"San Diego\", \"Tijuana River Estuary\", \"W. of Hwy. I-5, between Imperial Beach and the International Border\", \"Yes\", \" \", \"Water Feature/Nature Preserve/Reserve\", \"Beach Access\", \"Yes\", \"No\", \"Yes\", \" \", \" \", \"Yes\", \"Yes\", \"Yes\", \" \", \" \", \" \", \" \", \" \", \" \", \" \", \" \", \"No\", \" \", \" \", \" \", \" \", \" \", \" \", \" \", \" \", \" \", \" \", \" \", \" \", \" \", \" \", \" \", \" \", \" \", \" \", \" \", \"Yes\", \" \", \" \", \"Yes\", \" \", \"Yes\", \" \", \" \", \" \", \" \", \" \", \" \", \" \", \" \", \" \", \" \", \" \", \"No\", \"No\", \" \", \" \", \" \", \" \", \" \", \" \", \" \", \" \", \" \", \" \", \" \", \" \", \"1162\", \"Yes\", 32.556817, -117.127811, \"https://www.coastal.ca.gov/access-photos/16_san_diego/19_Imperial_Beach_to_Mexico/Tijuana_Estuary_Visitor_Center_2013_09_28_7944.jpg\", \"https://www.coastal.ca.gov/access-photos/16_san_diego/19_Imperial_Beach_to_Mexico/Tijuana_River_Estuary_SFS_2013_09_28_7948.jpg\", \" \", \" \", \" \", \"NaN\"], [1051707.6136, 3619400.5396, 1631, 1632, \"6_San Diego\", 15, \"San Diego\", \"Tijuana River National Estuarine Research Reserve\", \"301 Caspian Way, Imperial Beach\", \"No\", \"619-575-3613\", \"Nature Preserve/Reserve\", \"Beach Access\", \"Yes\", \"No\", \"Yes\", \" \", \"SEASONAL USE RESTICTIONS FOR BIRD NESTING - EG SNOWY PLOVER;\", \"Yes\", \"Yes\", \" \", \" \", \" \", \"No\", \"No\", \" \", \" \", \"No\", \"No\", \"No\", \" \", \" \", \" \", \" \", \" \", \" \", \" \", \" \", \" \", \" \", \" \", \" \", \" \", \" \", \" \", \"Yes\", \" \", \" \", \" \", \"Yes\", \" \", \" \", \"No\", \"No\", \" \", \" \", \" \", \" \", \" \", \" \", \" \", \" \", \" \", \" \", \" \", \" \", \"No\", \"No\", \" \", \" \", \" \", \"2531\", \" \", \" \", \"TRAILS\", \" \", \" \", \" \", \" \", \" \", \" \", \"Yes\", 32.574727, -117.126456, \" \", \" \", \" \", \" \", \" \", \"NaN\"], [1051855.7995, 3619457.6706, 1632, 1633, \"6_San Diego\", 15, \"San Diego\", \"Tijuana Estuary Visitor Center\", \"3rd St., and Caspian Way, Imperial Beach\", \"Yes\", \"619-575-3613\", \"Facility\", \"Historic/Cultural Site\", \"Yes\", \"No\", \"Yes\", \" \", \" \", \"Yes\", \"Yes\", \"Yes\", \"Yes\", \"Yes\", \" \", \"No\", \" \", \" \", \" \", \"No\", \"No\", \" \", \" \", \" \", \" \", \" \", \" \", \" \", \" \", \" \", \" \", \" \", \" \", \" \", \" \", \" \", \"No\", \" \", \" \", \" \", \"Yes\", \" \", \" \", \"No\", \"No\", \"Yes\", \" \", \" \", \" \", \" \", \" \", \" \", \" \", \" \", \" \", \" \", \" \", \"No\", \"No\", \" \", \" \", \" \", \" \", \" \", \" \", \" \", \" \", \" \", \" \", \" \", \" \", \"1162\", \"Yes\", 32.575166, -117.124852, \"https://www.coastal.ca.gov/access-photos/16_san_diego/19_Imperial_Beach_to_Mexico/Tijuana_Estuary_Visitor_Center_2013_09_28_7944.jpg\", \" \", \" \", \" \", \" \", \"NaN\"], [1057822.165, 3617464.3558, 1633, 1634, \"6_San Diego\", 15, \"San Diego\", \"Dairy Mart Ponds\", \"S. of Hwy. I-5, both sides of Dairy Mart Rd., San Diego\", \"Yes\", \"619-428-2946\", \"Water Feature\", \"Natural Resource\", \"Yes\", \"No\", \"Yes\", \" \", \" \", \"No\", \"No\", \" \", \" \", \" \", \"No\", \"No\", \" \", \" \", \"No\", \"No\", \"No\", \" \", \" \", \" \", \" \", \" \", \" \", \" \", \" \", \" \", \" \", \" \", \" \", \" \", \" \", \" \", \"No\", \" \", \" \", \" \", \"Yes\", \" \", \" \", \"No\", \"Yes\", \"Yes\", \" \", \" \", \" \", \" \", \" \", \" \", \" \", \" \", \" \", \" \", \" \", \"No\", \"No\", \" \", \" \", \" \", \" \", \" \", \" \", \"HIKING AND EQ TRAILS\", \" \", \" \", \" \", \" \", \" \", \"1163\", \" \", 32.554299, -117.062808, \" \", \" \", \" \", \" \", \" \", \"NaN\"], [1056812.2459, 3616317.5771, 1634, 1635, \"6_San Diego\", 15, \"San Diego\", \"Tijuana River Valley Regional Park\", \"2721 Monument Rd., San Diego\", \"Yes\", \"619-428-2946\", \"National/State/Regional Park/Beach/Rec Area\", \"Natural Resource\", \"Yes\", \"No\", \"Yes\", \" \", \" \", \"Yes\", \"Yes\", \"Yes\", \" \", \" \", \" \", \"No\", \" \", \" \", \"Yes\", \" \", \"No\", \" \", \" \", \" \", \" \", \" \", \" \", \" \", \" \", \" \", \" \", \" \", \" \", \" \", \" \", \" \", \"No\", \" \", \" \", \" \", \"Yes\", \" \", \" \", \"No\", \"Yes\", \"Yes\", \" \", \" \", \" \", \" \", \" \", \" \", \" \", \" \", \" \", \" \", \" \", \"No\", \"No\", \" \", \" \", \" \", \" \", \" \", \" \", \" \", \" \", \" \", \" \", \" \", \" \", \"1164\", \" \", 32.544516, -117.074186, \" \", \" \", \" \", \" \", \" \", \"NaN\"], [1052318.9023, 3616094.5474, 1635, 1636, \"6_San Diego\", 15, \"San Diego\", \"Border Field State Park\", \"W. end of Monument Rd., San Diego\", \"Yes\", \"619-575-3613\", \"National/State/Regional Park/Beach/Rec Area\", \"Beach Access\", \"Yes\", \"Yes\", \"Yes\", \" \", \"SEASONAL USE RESTRICTIONS FOR PLOVER\", \"No\", \"Yes\", \" \", \" \", \" \", \"No\", \"No\", \" \", \" \", \"Yes\", \"Yes\", \"No\", \" \", \" \", \" \", \" \", \" \", \" \", \" \", \" \", \" \", \" \", \" \", \" \", \" \", \" \", \" \", \"No\", \" \", \" \", \" \", \"Yes\", \" \", \" \", \"No\", \"Yes\", \"Yes\", \" \", \"Yes\", \" \", \" \", \" \", \" \", \" \", \" \", \" \", \" \", \" \", \"Yes\", \"No\", \" \", \"2\", \"2\", \" \", \" \", \" \", \"HIKING AND EQ TRAILS\", \" \", \" \", \" \", \" \", \" \", \"1165\", \"Yes\", 32.544757, -117.121919, \" \", \" \", \" \", \" \", \" \", \"NaN\"], [408090.0245, 4523588.0046, 1636, 1637, \"1_North Coast\", 2, \"Humboldt\", \"Humboldt Bay Trail - North\", \"W. of Hwy. 101, from State Route 255 to Bayside Cutoff, Arcata\", \"Yes\", \" \", \"Path/Trail/Drive\", \"Natural Resource\", \"Yes\", \"No\", \"No\", \" \", \" \", \"Yes\", \"No\", \" \", \" \", \"Yes\", \" \", \" \", \" \", \" \", \" \", \" \", \" \", \" \", \" \", \" \", \" \", \" \", \" \", \" \", \" \", \" \", \" \", \" \", \" \", \" \", \" \", \" \", \" \", \" \", \" \", \" \", \"Yes\", \"Yes\", \"Yes\", \"Yes\", \" \", \"Yes\", \" \", \" \", \" \", \" \", \" \", \" \", \" \", \" \", \" \", \" \", \" \", \" \", \"No\", \" \", \" \", \" \", \" \", \" \", \" \", \"3-mile trail\", \"1-16-122\", \"43058\", \" \", \" \", \" \", \" \", \" \", 40.858197, -124.090502, \" \", \" \", \" \", \" \", \" \", \"NaN\"], [405449.3032, 4544739.8171, 1637, 1638, \"1_North Coast\", 2, \"Humboldt\", \"Baker Beach (Trinidad)\", \"Scenic Drive N. of Kidder Road, Trinidad\", \"Yes\", \"707-677-2501\", \"Physical Access\", \"Beach Access\", \"Yes\", \"No\", \"No\", \"No\", \"No\", \"No\", \"No\", \" \", \" \", \" \", \" \", \" \", \" \", \" \", \" \", \" \", \" \", \" \", \" \", \" \", \" \", \" \", \" \", \" \", \" \", \" \", \" \", \" \", \" \", \" \", \" \", \" \", \"Yes\", \" \", \" \", \" \", \" \", \" \", \" \", \" \", \" \", \" \", \" \", \" \", \" \", \" \", \" \", \" \", \" \", \" \", \" \", \" \", \" \", \" \", \" \", \" \", \" \", \" \", \" \", \" \", \" \", \" \", \" \", \" \", \" \", \" \", \" \", \" \", \" \", 41.048402, -124.125058, \" \", \" \", \" \", \" \", \"No\", \"NaN\"], [403643.7329, 4517788.2985, 1638, 1639, \"1_North Coast\", 2, \"Humboldt\", \"Eureka Waterfront Trail\", \"along Humboldt Bay from Truesdale Street to Tydd Street, Eureka\", \"Yes\", \" \", \"Path/Trail/Drive\", \"Natural Resource\", \"Yes\", \"No\", \"Yes\", \"No\", \"No\", \"Yes\", \"No\", \" \", \" \", \"Yes\", \" \", \" \", \" \", \" \", \" \", \" \", \" \", \" \", \" \", \" \", \" \", \" \", \" \", \" \", \" \", \" \", \" \", \" \", \" \", \" \", \" \", \" \", \" \", \" \", \" \", \" \", \"Yes\", \"Yes\", \" \", \"Yes\", \" \", \"Yes\", \" \", \" \", \" \", \" \", \" \", \" \", \" \", \" \", \" \", \" \", \" \", \" \", \" \", \" \", \" \", \" \", \" \", \" \", \" \", \" \", \" \", \" \", \" \", \" \", \" \", \" \", \" \", 40.80545, -124.14235, \" \", \" \", \" \", \" \", \" \", \"NaN\"], [430089.9642, 4365018.1109, 1639, 1640, \"1_North Coast\", 3, \"Mendocino\", \"Noyo Headlands Park - South\", \"W. end of W. Cypress St.\", \"Yes\", \" \", \"Path/Trail/Drive\", \"Natural Resource\", \"Yes\", \"No\", \"Yes\", \" \", \" \", \"Yes\", \"Yes\", \"No\", \"Yes\", \"Yes\", \" \", \" \", \" \", \" \", \"Yes\", \" \", \"No\", \" \", \" \", \" \", \" \", \" \", \" \", \" \", \" \", \" \", \" \", \" \", \" \", \" \", \" \", \" \", \" \", \" \", \"Yes\", \" \", \"Yes\", \"Yes\", \"Yes\", \"Yes\", \" \", \" \", \" \", \" \", \" \", \" \", \" \", \" \", \" \", \" \", \" \", \" \", \" \", \"No\", \"No\", \" \", \" \", \" \", \" \", \" \", \" \", \"3.5\", \" \", \"Jan 2015\", \" \", \" \", \" \", \" \", \" \", 39.431869, -123.812308, \" \", \" \", \" \", \" \", \"No\", \"NaN\"], [430388.3571, 4364622.6345, 1640, 1641, \"1_North Coast\", 3, \"Mendocino\", \"Noyo Beach Off-Leash Dog Area\", \"W. end of Harbor Drive, Noyo Harbor, Ft Bragg\", \"Yes\", \" \", \"Physical Access\", \"Beach Access\", \"Yes\", \"No\", \"No\", \"No\", \"No\", \"No\", \" \", \" \", \"Yes\", \" \", \" \", \" \", \" \", \" \", \" \", \" \", \" \", \" \", \" \", \" \", \" \", \" \", \" \", \" \", \" \", \" \", \" \", \" \", \" \", \" \", \" \", \" \", \" \", \" \", \" \", \" \", \" \", \" \", \" \", \" \", \" \", \" \", \" \", \" \", \" \", \" \", \" \", \" \", \" \", \" \", \" \", \" \", \" \", \" \", \" \", \" \", \" \", \" \", \" \", \" \", \" \", \" \", \" \", \" \", \" \", \" \", \" \", \" \", \" \", 39.42833, -123.8088, \" \", \" \", \" \", \" \", \"No\", \"NaN\"], [494184.8089, 4244675.3586, 1641, 1642, \"2_North Central\", 4, \"Sonoma\", \"South Salmon Creek Beach\", \"W. end of Bean Avenue, Bodega Bay\", \"Yes\", \"707-875-3483\", \"Physical Access\", \"Beach Access\", \"Yes\", \"No\", \"Yes\", \"No\", \" \", \"No\", \"Yes\", \" \", \"No\", \"No\", \"No\", \" \", \" \", \" \", \" \", \" \", \" \", \" \", \" \", \" \", \" \", \" \", \" \", \" \", \" \", \" \", \" \", \" \", \" \", \" \", \" \", \" \", \"Yes\", \" \", \" \", \" \", \" \", \" \", \" \", \" \", \" \", \" \", \" \", \" \", \" \", \" \", \" \", \" \", \" \", \" \", \" \", \" \", \"Yes\", \" \", \" \", \" \", \" \", \" \", \" \", \" \", \" \", \" \", \" \", \" \", \" \", \" \", \" \", \" \", \" \", 38.350215, -123.066552, \" \", \" \", \" \", \" \", \" \", \"NaN\"], [710231.1572, 3893935.7369, 1642, 1643, \"3_Central Coast\", 3, \"San Luis Obispo\", \"Ebb Tide Park and Beach Stairway\", \"W. end Ebb Tide Lane, Pismo Beach\", \"Yes\", \" \", \"Physical Access\", \"Beach Access\", \"Yes\", \"No\", \"Yes\", \"No\", \"No\", \"Yes\", \"No\", \" \", \" \", \"Yes\", \"No\", \" \", \" \", \" \", \" \", \" \", \" \", \" \", \" \", \" \", \" \", \" \", \" \", \" \", \" \", \" \", \" \", \" \", \" \", \" \", \" \", \" \", \" \", \" \", \"Yes\", \"Yes\", \" \", \"Yes\", \" \", \" \", \" \", \" \", \" \", \" \", \" \", \" \", \" \", \" \", \" \", \" \", \" \", \" \", \" \", \" \", \" \", \" \", \" \", \" \", \" \", \" \", \" \", \" \", \" \", \" \", \" \", \" \", \" \", \" \", \" \", 35.166395, -120.691668, \" \", \" \", \" \", \" \", \" \", \"NaN\"], [904346.1166, 3775012.015, 1643, 1644, \"4_South Central Coast\", 13, \"Los Angeles\", \"Maritime Rocks Beach Stairway\", \"between 20516-20466 Pacific Coast Hwy, Malibu\", \"Yes\", \"310-589-3230\", \"Physical Access\", \"Beach Access\", \"Yes\", \"No\", \"Yes\", \"No\", \" \", \"No\", \"No\", \"No\", \"No\", \"No\", \"No\", \"No\", \"No\", \"No\", \"No\", \"No\", \"No\", \" \", \" \", \" \", \" \", \" \", \" \", \" \", \" \", \" \", \" \", \" \", \" \", \" \", \" \", \" \", \" \", \" \", \" \", \" \", \" \", \" \", \" \", \" \", \" \", \" \", \" \", \" \", \" \", \" \", \" \", \" \", \" \", \" \", \" \", \" \", \" \", \" \", \" \", \" \", \" \", \" \", \" \", \" \", \" \", \" \", \" \", \" \", \" \", \" \", \" \", \" \", \" \", 34.037855, -118.621147, \" \", \" \", \" \", \" \", \"No\", \"NaN\"], [905986.5794, 3775241.054, 1644, 1645, \"4_South Central Coast\", 13, \"Los Angeles\", \"Miramar Coastal Overlook\", \"between 19620-19562 Pacific Coast Hwy, Malibu\", \"Yes\", \"310-589-3230\", \"Visual Access\", \"Visual Access\", \"Yes\", \"No\", \"No\", \"No\", \" \", \"No\", \"No\", \"No\", \"No\", \"No\", \"No\", \"No\", \"No\", \"No\", \"No\", \"No\", \"No\", \" \", \" \", \" \", \" \", \" \", \" \", \" \", \" \", \" \", \" \", \" \", \" \", \" \", \" \", \" \", \" \", \" \", \" \", \" \", \" \", \" \", \" \", \" \", \" \", \" \", \" \", \" \", \" \", \" \", \" \", \" \", \" \", \" \", \" \", \" \", \" \", \" \", \" \", \" \", \" \", \" \", \" \", \" \", \" \", \" \", \" \", \" \", \" \", \" \", \" \", \" \", \" \", 34.039281, -118.603321, \" \", \" \", \" \", \" \", \"No\", \"NaN\"], [905685.241, 3775116.1044, 1645, 1646, \"4_South Central Coast\", 13, \"Los Angeles\", \"Dolphin View Coastal Overlook\", \"between 19812-19768 Pacific Coast Hwy, Malibu\", \"Yes\", \"310-589-3230\", \"Visual Access\", \"Visual Access\", \"Yes\", \"No\", \"No\", \"No\", \" \", \"No\", \"No\", \"No\", \"No\", \"No\", \"No\", \"No\", \"No\", \"No\", \"No\", \"No\", \"No\", \" \", \" \", \" \", \" \", \" \", \" \", \" \", \" \", \" \", \" \", \" \", \" \", \" \", \" \", \" \", \" \", \" \", \" \", \" \", \" \", \" \", \" \", \" \", \" \", \" \", \" \", \" \", \" \", \" \", \" \", \" \", \" \", \" \", \" \", \" \", \" \", \" \", \" \", \" \", \" \", \" \", \" \", \" \", \" \", \" \", \" \", \" \", \" \", \" \", \" \", \" \", \" \", 34.038274, -118.606634, \" \", \" \", \" \", \" \", \"No\", \"NaN\"], [891062.8218, 3773138.6325, 1646, 1647, \"4_South Central Coast\", 13, \"Los Angeles\", \"Escondido Creek Beach - PCH Underpass\", \"Via Escondido Drive and Pacific Coast Hwy, Malibu\", \"Yes\", \"310-589-3230\", \"Physical Access\", \"Beach Access\", \"Yes\", \"No\", \"No\", \"No\", \"No\", \"No\", \"No\", \"No\", \"No\", \"No\", \"No\", \"No\", \"No\", \"No\", \"No\", \"No\", \"No\", \" \", \" \", \" \", \" \", \" \", \" \", \" \", \" \", \" \", \" \", \" \", \" \", \" \", \" \", \" \", \" \", \" \", \" \", \" \", \"Yes\", \" \", \" \", \" \", \" \", \" \", \" \", \" \", \" \", \" \", \" \", \" \", \" \", \" \", \" \", \" \", \" \", \" \", \" \", \" \", \" \", \" \", \" \", \" \", \" \", \" \", \" \", \" \", \" \", \" \", \" \", \" \", \" \", 34.026042, -118.765486, \" \", \" \", \" \", \" \", \"No\", \"NaN\"], [897164.3901, 3774033.4236, 1647, 1648, \"4_South Central Coast\", 13, \"Los Angeles\", \"Malibu Road East Stairway\", \"24033 Malibu Road, Malibu\", \"Yes\", \"310-589-3230\", \"Physical Access\", \"Beach Access\", \"Yes\", \"No\", \"Yes\", \"No\", \" \", \"Yes\", \"No\", \"No\", \"No\", \"No\", \"No\", \"No\", \" \", \" \", \" \", \" \", \" \", \" \", \" \", \" \", \" \", \" \", \" \", \" \", \" \", \" \", \" \", \" \", \" \", \" \", \" \", \" \", \" \", \" \", \" \", \" \", \" \", \" \", \" \", \" \", \" \", \" \", \" \", \" \", \" \", \" \", \" \", \" \", \" \", \" \", \" \", \" \", \" \", \" \", \" \", \" \", \" \", \" \", \" \", \" \", \" \", \" \", \" \", \" \", \" \", \" \", \" \", \" \", \" \", 34.031798, -118.699172, \" \", \" \", \" \", \" \", \"No\", \"NaN\"]];\n",
       "\n",
       "        // Define the dt_args\n",
       "        let dt_args = {\"layout\": {\"topStart\": \"pageLength\", \"topEnd\": \"search\", \"bottomStart\": \"info\", \"bottomEnd\": \"paging\"}, \"order\": [], \"fnInfoCallback\": function (oSettings, iStart, iEnd, iMax, iTotal, sPre) { return sPre + ' (<a href=\"https://mwouts.github.io/itables/downsampling.html\">downsampled</a> from 1,647x107 to 90x90 as maxBytes=64KB)'; }};\n",
       "        dt_args[\"data\"] = data;\n",
       "\n",
       "        \n",
       "        new DataTable(table, dt_args);\n",
       "    });\n",
       "</script>\n"
      ],
      "text/plain": [
       "<IPython.core.display.HTML object>"
      ]
     },
     "metadata": {},
     "output_type": "display_data"
    }
   ],
   "source": [
    "DF_beaches = pd.read_csv('Public_Access_Points.csv')\n",
    "show(DF_beaches)"
   ]
  },
  {
   "cell_type": "code",
   "execution_count": 386,
   "id": "13a138f8-1d0d-402b-bc4f-71afa2c4f7f5",
   "metadata": {},
   "outputs": [
    {
     "data": {
      "text/plain": [
       "(1647, 107)"
      ]
     },
     "execution_count": 386,
     "metadata": {},
     "output_type": "execute_result"
    }
   ],
   "source": [
    "DF_beaches.shape"
   ]
  },
  {
   "cell_type": "code",
   "execution_count": 387,
   "id": "79331a9d-844a-4d0d-9320-07b5f38cf1ee",
   "metadata": {},
   "outputs": [
    {
     "name": "stdout",
     "output_type": "stream",
     "text": [
      "X\n",
      "Y\n",
      "FID\n",
      "Index_\n",
      "DISTRICT\n",
      "CountyNum\n",
      "COUNTY\n",
      "Name\n",
      "Location\n",
      "InMobileWe\n",
      "PHONE_NMBR\n",
      "FeatureTyp\n",
      "AccessType\n",
      "O_PUBLIC\n",
      "FEE\n",
      "PARKING\n",
      "PUBTRANSP\n",
      "RSTRCTNS\n",
      "DSABLDACSS\n",
      "RESTROOMS\n",
      "VISTOR_CTR\n",
      "DOG_FRIEND\n",
      "EZ4STROLLE\n",
      "LIFEGUARD\n",
      "SHOWERS\n",
      "FOOD\n",
      "DRINKWTR\n",
      "PCNC_AREA\n",
      "FIREPITS\n",
      "CAMPGROUND\n",
      "NUM_REG_CP\n",
      "NUM_PRM_CP\n",
      "NUM_GRP_CP\n",
      "RV_CMP\n",
      "NUM_RV_STE\n",
      "HOSTEL\n",
      "NUM_HSL_BD\n",
      "NUM_HTL_RM\n",
      "BT_FACILIT\n",
      "BT_FACIL_T\n",
      "MRA_NM_SLP\n",
      "MRA_NUM_MR\n",
      "LIGHTHOUSE\n",
      "LTHS_Y_CON\n",
      "LTHS_HT\n",
      "PIER\n",
      "PIER_Y_CON\n",
      "PIER_LNGTH\n",
      "HSTRC_STR\n",
      "SHPWRECKS\n",
      "SNDY_BEACH\n",
      "DUNES\n",
      "RKY_SHORE\n",
      "UPLAND_BCH\n",
      "STRM_CRDOR\n",
      "WETLAND\n",
      "BLUFF\n",
      "BAY_LGN_LK\n",
      "URBN_WFRNT\n",
      "OFFSHR_RFG\n",
      "INLND_AREA\n",
      "STRS_BEACH\n",
      "PTH_BEACH\n",
      "BOARDWLK\n",
      "BLFTP_TRLS\n",
      "BLFTP_PRK\n",
      "TRAIL_OR_P\n",
      "CCT_LINK\n",
      "CCTdesigna\n",
      "BIKE_PATH\n",
      "EQUEST_TRL\n",
      "WLDLFE_VWG\n",
      "SWM_POOL\n",
      "SWIMMING\n",
      "DIVING\n",
      "SNORKLNG\n",
      "TIDEPOOL\n",
      "PLAYGROUND\n",
      "SPORT_FLDS\n",
      "VOLLEYBALL\n",
      "WNDSRF_KIT\n",
      "KAYAKING\n",
      "SURFING\n",
      "FISHING\n",
      "BOATING\n",
      "BOAT_TOURS\n",
      "MBCH_SHORE\n",
      "MBCH_OPEN\n",
      "A_LND_AC\n",
      "A_LND_OPEN\n",
      "SQ_MILES\n",
      "MILES_TRLS\n",
      "PermitNum\n",
      "DATE_OPN\n",
      "Date_Closd\n",
      "Archived\n",
      "ClosureCom\n",
      "SWAG_CRnmb\n",
      "O_CLT_AREA\n",
      "LATITUDE\n",
      "LONGITUDE\n",
      "Photo_1\n",
      "Photo_2\n",
      "Photo_3\n",
      "Photo_4\n",
      "Bch_whlchr\n",
      "DataUpdate\n"
     ]
    }
   ],
   "source": [
    "for i in DF_beaches.keys():\n",
    "    print(i)"
   ]
  },
  {
   "cell_type": "code",
   "execution_count": 440,
   "id": "4a33d100-e648-4d26-898f-2f5b84ddac9f",
   "metadata": {},
   "outputs": [
    {
     "data": {
      "text/html": [
       "<table id=\"itables_69902d5f_f538_4dc9_91f7_1fdda329b80a\" class=\"display nowrap\" data-quarto-disable-processing=\"true\" style=\"table-layout:auto;width:auto;margin:auto;caption-side:bottom\">\n",
       "<thead>\n",
       "    <tr style=\"text-align: right;\">\n",
       "      \n",
       "      <th>COUNTY</th>\n",
       "      <th>AccessType</th>\n",
       "      <th>Name</th>\n",
       "      <th>Location</th>\n",
       "      <th>SNDY_BEACH</th>\n",
       "      <th>SHPWRECKS</th>\n",
       "      <th>RKY_SHORE</th>\n",
       "      <th>TIDEPOOL</th>\n",
       "      <th>LATITUDE</th>\n",
       "      <th>LONGITUDE</th>\n",
       "    </tr>\n",
       "  </thead><tbody><tr>\n",
       "<td style=\"vertical-align:middle; text-align:left\">\n",
       "<div style=\"float:left; margin-right: 10px;\">\n",
       "<a href=https://mwouts.github.io/itables/><svg class=\"main-svg\" xmlns=\"http://www.w3.org/2000/svg\" xmlns:xlink=\"http://www.w3.org/1999/xlink\"\n",
       "width=\"64\" viewBox=\"0 0 500 400\" style=\"font-family: 'Droid Sans', sans-serif;\">\n",
       "    <g style=\"fill:#d9d7fc\">\n",
       "        <path d=\"M100,400H500V357H100Z\" />\n",
       "        <path d=\"M100,300H400V257H100Z\" />\n",
       "        <path d=\"M0,200H400V157H0Z\" />\n",
       "        <path d=\"M100,100H500V57H100Z\" />\n",
       "        <path d=\"M100,350H500V307H100Z\" />\n",
       "        <path d=\"M100,250H400V207H100Z\" />\n",
       "        <path d=\"M0,150H400V107H0Z\" />\n",
       "        <path d=\"M100,50H500V7H100Z\" />\n",
       "    </g>\n",
       "    <g style=\"fill:#1a1366;stroke:#1a1366;\">\n",
       "   <rect x=\"100\" y=\"7\" width=\"400\" height=\"43\">\n",
       "    <animate\n",
       "      attributeName=\"width\"\n",
       "      values=\"0;400;0\"\n",
       "      dur=\"5s\"\n",
       "      repeatCount=\"indefinite\" />\n",
       "      <animate\n",
       "      attributeName=\"x\"\n",
       "      values=\"100;100;500\"\n",
       "      dur=\"5s\"\n",
       "      repeatCount=\"indefinite\" />\n",
       "  </rect>\n",
       "        <rect x=\"0\" y=\"107\" width=\"400\" height=\"43\">\n",
       "    <animate\n",
       "      attributeName=\"width\"\n",
       "      values=\"0;400;0\"\n",
       "      dur=\"3.5s\"\n",
       "      repeatCount=\"indefinite\" />\n",
       "    <animate\n",
       "      attributeName=\"x\"\n",
       "      values=\"0;0;400\"\n",
       "      dur=\"3.5s\"\n",
       "      repeatCount=\"indefinite\" />\n",
       "  </rect>\n",
       "        <rect x=\"100\" y=\"207\" width=\"300\" height=\"43\">\n",
       "    <animate\n",
       "      attributeName=\"width\"\n",
       "      values=\"0;300;0\"\n",
       "      dur=\"3s\"\n",
       "      repeatCount=\"indefinite\" />\n",
       "    <animate\n",
       "      attributeName=\"x\"\n",
       "      values=\"100;100;400\"\n",
       "      dur=\"3s\"\n",
       "      repeatCount=\"indefinite\" />\n",
       "  </rect>\n",
       "        <rect x=\"100\" y=\"307\" width=\"400\" height=\"43\">\n",
       "    <animate\n",
       "      attributeName=\"width\"\n",
       "      values=\"0;400;0\"\n",
       "      dur=\"4s\"\n",
       "      repeatCount=\"indefinite\" />\n",
       "      <animate\n",
       "      attributeName=\"x\"\n",
       "      values=\"100;100;500\"\n",
       "      dur=\"4s\"\n",
       "      repeatCount=\"indefinite\" />\n",
       "  </rect>\n",
       "        <g style=\"fill:transparent;stroke-width:8; stroke-linejoin:round\" rx=\"5\">\n",
       "            <g transform=\"translate(45 50) rotate(-45)\">\n",
       "                <circle r=\"33\" cx=\"0\" cy=\"0\" />\n",
       "                <rect x=\"-8\" y=\"32\" width=\"16\" height=\"30\" />\n",
       "            </g>\n",
       "\n",
       "            <g transform=\"translate(450 152)\">\n",
       "                <polyline points=\"-15,-20 -35,-20 -35,40 25,40 25,20\" />\n",
       "                <rect x=\"-15\" y=\"-40\" width=\"60\" height=\"60\" />\n",
       "            </g>\n",
       "\n",
       "            <g transform=\"translate(50 352)\">\n",
       "                <polygon points=\"-35,-5 0,-40 35,-5\" />\n",
       "                <polygon points=\"-35,10 0,45 35,10\" />\n",
       "            </g>\n",
       "\n",
       "            <g transform=\"translate(75 250)\">\n",
       "                <polyline points=\"-30,30 -60,0 -30,-30\" />\n",
       "                <polyline points=\"0,30 -30,0 0,-30\" />\n",
       "            </g>\n",
       "\n",
       "            <g transform=\"translate(425 250) rotate(180)\">\n",
       "                <polyline points=\"-30,30 -60,0 -30,-30\" />\n",
       "                <polyline points=\"0,30 -30,0 0,-30\" />\n",
       "            </g>\n",
       "        </g>\n",
       "    </g>\n",
       "</svg>\n",
       "</a>\n",
       "</div>\n",
       "<div>\n",
       "Loading ITables v2.1.4 from the internet...\n",
       "(need <a href=https://mwouts.github.io/itables/troubleshooting.html>help</a>?)</td>\n",
       "</div>\n",
       "</tr></tbody>\n",
       "\n",
       "</table>\n",
       "<link href=\"https://www.unpkg.com/dt_for_itables@2.0.11/dt_bundle.css\" rel=\"stylesheet\">\n",
       "<script type=\"module\">\n",
       "    import {DataTable, jQuery as $} from 'https://www.unpkg.com/dt_for_itables@2.0.11/dt_bundle.js';\n",
       "\n",
       "    document.querySelectorAll(\"#itables_69902d5f_f538_4dc9_91f7_1fdda329b80a:not(.dataTable)\").forEach(table => {\n",
       "        // Define the table data\n",
       "        const data = [[\"Del Norte\", \"Beach Access\", \"Pelican State Beach\", \"W of Hwy. 101, .5 mi. S. of Oregon border\", \"Yes\", \" \", \"No\", \" \", 41.992854, -124.208809], [\"Del Norte\", \"Beach Access\", \"Clifford Kamph Memorial Park\", \"Hwy. 101 , 2 mi. S. of the Oregon border\", \"Yes\", \" \", \"No\", \" \", 41.973501, -124.203663], [\"Del Norte\", \"Beach Access\", \"Smith River County Park\", \"End, Mouth of Smith River Rd., Smith River\", \"No\", \" \", \"Yes\", \" \", 41.947699, -124.205046], [\"Del Norte\", \"Boat Access\", \"Smith River Boating Access\", \"Fred Haight Dr., W. of Hwy. 101, 3 mi. S. of Town of Smith River\", \"No\", \" \", \"No\", \" \", 41.890326, -124.14781], [\"Del Norte\", \"Boat Access\", \"Xaa-wan'-k'wvt Village & Resort Boat Ramp\", \"200 N Salmon Harbor Rd, Smith River.\", \"Yes\", \" \", \"Yes\", \" \", 41.943917, -124.198709], [\"Del Norte\", \"Beach Access\", \"Kellogg Beach Park\", \"W. end of Kellogg Rd., 9 mi. S. of Smith River\", \"Yes\", \" \", \"Yes\", \" \", 41.869112, -124.211624], [\"Del Norte\", \"Beach Access\", \"Lake Earl Wildlife Area\", \"W. of Lake Earl Dr. and Lower Lake Rd., 2 mi. N. of Crescent City\", \"Yes\", \" \", \"No\", \" \", 41.79789, -124.216021], [\"Del Norte\", \"Boat Access\", \"Lakeview Drive Boat Launch\", \"End of Lakeview Dr. off Lake Earl Dr.\", \"No\", \" \", \"No\", \"No\", 41.813705, -124.180635], [\"Del Norte\", \"Beach Access\", \"Tolowa Dunes State Park\", \"W. of Lake Earl Dr. and Lower Lake Rd., 2 mi. N. of Crescent City\", \"Yes\", \" \", \"No\", \" \", 41.881739, -124.200689], [\"Del Norte\", \"Beach Access\", \"Point St. George Heritage Area\", \"End of Radio Rd., Crescent City\", \"Yes\", \" \", \"Yes\", \" \", 41.782673, -124.25256], [\"Del Norte\", \"Campground\", \"Ruby Van Deventer County Park\", \"North Bank Rd. (Hwy. 197), 2.5 mi. E. of Hwy. 101\", \"No\", \" \", \"No\", \" \", 41.852301, -124.120828], [\"Del Norte\", \"Campground\", \"Florence Keller County Park\", \"Cunningham Ln., off Elk Valley Cross Rd., W. of Hwy. 101, 3 mi. N. of Crescent City\", \"No\", \" \", \"No\", \" \", 41.805281, -124.150899], [\"Del Norte\", \"Boat Access\", \"Jedediah Smith Redwoods State Park\", \"Hwy. 199, 5 mi. E. of Hwy. 101\", \"No\", \" \", \"No\", \" \", 41.795574, -124.085074], [\"Del Norte\", \"Boat Access\", \"Smith River National Recreation Area\", \"Hwy. 199, 14 mi. E of Hwy. 101\", \"No\", \" \", \"No\", \" \", 41.846261, -123.969349], [\"Del Norte\", \"CITY/TOWN\", \"Crescent City\", \"Hwy. 101, 79 mi. N. of Eureka\", \"Yes\", \" \", \"Yes\", \" \", 41.755062, -124.203337], [\"Del Norte\", \"Visual Access\", \"Castle Rock\", \"Offshore, W. of Pebble Beach Dr., N. of Pacific Avenue\", \"No\", \" \", \"Yes\", \" \", 41.761322, -124.248638], [\"Del Norte\", \"Beach Access\", \"Garth's Beach\", \"Radio Rd., 0.3 mi. N.W. of Washington Blvd./Pebble Beach Dr. intersection, Crescent City\", \"Yes\", \" \", \"Yes\", \"Yes\", 41.772465, -124.243469], [\"Del Norte\", \"Beach Access\", \"Pebble Beach Access\", \"Pebble Beach Dr. near Pacific Ave., Crescent City\", \"Yes\", \" \", \"Yes\", \" \", 41.75604, -124.22061], [\"Del Norte\", \"Beach Access\", \"Preston Island\", \"Pebble Beach Dr. and Condor St., Crescent City\", \"No\", \" \", \"Yes\", \"Yes\", 41.751164, -124.215993], [\"Del Norte\", \"Park\", \"Brother Jonathan Park / Vista Point\", \"Pebble Beach Dr. and 9th St., Crescent City\", \"No\", \"Yes\", \"Yes\", \" \", 41.750733, -124.211656], [\"Del Norte\", \"Beach Access\", \"Sixth Street Accessway\", \"W. end of 6th St., Crescent City\", \"No\", \" \", \"Yes\", \" \", 41.749621, -124.20822], [\"Del Norte\", \"Beach Access\", \"Fifth Street Accessway\", \"W. end of 5th St., Crescent City\", \"No\", \" \", \"Yes\", \" \", 41.749173, -124.207433], [\"Del Norte\", \"Beach Access\", \"Third Street Accessway\", \"W. end of 3rd St., Crescent City\", \"No\", \" \", \"Yes\", \" \", 41.748008, -124.205456], [\"Del Norte\", \"Beach Access\", \"Path at Oceanfront Lodge\", \"Front and \\\"A\\\" Streets, Crescent City\", \"No\", \" \", \"Yes\", \" \", 41.747182, -124.203058], [\"Del Norte\", \"Lighthouse\", \"Crescent Lighthouse at Battery Point\", \"S. end of \\\"A\\\" St., Crescent City\", \"No\", \" \", \"Yes\", \" \", 41.744063, -124.203092], [\"Del Norte\", \"Historic/Cultural Site\", \"Northcoast Marine Mammal Center\", \"424 Howe Dr., Beach Front Park, Crescent City\", \"No\", \" \", \"No\", \" \", 41.747816, -124.198888], [\"Del Norte\", \"Pier\", \"B Street Pier\", \"Foot of B St., Crescent City\", \"No\", \" \", \"No\", \" \", 41.743691, -124.197594], [\"Del Norte\", \"Park\", \"Beach Front Park\", \"Between Front St. and Howe Dr., Crescent City\", \"Yes\", \"Yes\", \"No\", \" \", 41.748518, -124.196581], [\"Del Norte\", \"Campground\", \"Shoreline Campground\", \"W. of Sunset Circle Dr., Crescent City\", \"Yes\", \" \", \"No\", \" \", 41.751853, -124.191638], [\"Del Norte\", \"Natural Resource\", \"Crescent City Coastal Trail\", \"Pt. St. George to Crescent City Harbor, Crescent City\", \" \", \" \", \" \", \" \", 41.752184, -124.191658], [\"Del Norte\", \"Boat Access\", \"Crescent City Harbor\", \"W. of Hwy. 101 and Citizens Dock Rd., Crescent City\", \"No\", \" \", \"No\", \" \", 41.744845, -124.187673], [\"Del Norte\", \"Boat Access\", \"Crescent City Harbor Boat Launch\", \"Anchor Way, Crescent City Harbor\", \"No\", \" \", \"No\", \"No\", 41.742069, -124.182538], [\"Del Norte\", \"Natural Resource\", \"Redwood National Park (Del Norte)\", \"Off Hwy. 101, N. of Orick\", \"Yes\", \" \", \"Yes\", \" \", 41.520013, -124.067458], [\"Del Norte\", \"Natural Resource\", \"Redwood National & State Parks Information Center\", \"1111 2nd St., Crescent City\", \" \", \" \", \" \", \" \", 41.752954, -124.194428], [\"Del Norte\", \"Beach Access\", \"Crescent Beach (Crescent City)\", \"W. of Hwy. 101, 1 mi. S. of Crescent City\", \"Yes\", \" \", \"No\", \" \", 41.743018, -124.169157], [\"Del Norte\", \"Beach Access\", \"Crescent Beach Picnic Areas\", \"Enderts Beach Rd., .5 mi. S. of Hwy. 101\", \"Yes\", \" \", \"No\", \" \", 41.72741, -124.15198], [\"Del Norte\", \"Visual Access\", \"Crescent Beach Overlook\", \"S. end of Enderts Beach Rd., S. of Crescent City\", \"No\", \" \", \"No\", \" \", 41.705843, -124.142713], [\"Del Norte\", \"Campground\", \"Nickel Creek Campground\", \".5 mi. S. of end of Enderts Beach Rd.\", \"No\", \" \", \"No\", \" \", 41.700833, -124.140885], [\"Del Norte\", \"Beach Access\", \"Enderts Beach\", \".5 mi. S. of end of Enderts Beach Rd., S. of Crescent City\", \"Yes\", \" \", \"Yes\", \"Yes\", 41.697389, -124.141337], [\"Del Norte\", \"Campground\", \"Mill Creek Campground\", \"2.5 mi. E. of Hwy. 101, 7 mi. S. of Crescent City\", \"No\", \" \", \"No\", \" \", 41.702407, -124.097994], [\"Del Norte\", \"Beach Access\", \"Del Norte Coast Redwoods State Park\", \"E. and W. of Hwy. 101, 7 mi. S. of Crescent City\", \"Yes\", \" \", \"Yes\", \" \", 41.662281, -124.126333], [\"Del Norte\", \"LCOA\", \"Redwood National Park Hostel\", \"14480 Hwy. 101 at Wilson Creek Rd., 7 mi. N. of Klamath\", \"Yes\", \" \", \"Yes\", \" \", 41.603291, -124.099801], [\"Del Norte\", \"Beach Access\", \"Wilson Creek  Beach\", \"W. of Hwy. 101, 5.5 mi. N. of Klamath\", \"Yes\", \" \", \"Yes\", \"Yes\", 41.602533, -124.100755], [\"Del Norte\", \"Natural Resource\", \"Lagoon Creek Access\", \"W. of Hwy. 101, 5 mi. N. of Klamath\", \"No\", \" \", \"No\", \" \", 41.593835, -124.09868], [\"Del Norte\", \"Visual Access\", \"Klamath Overlook (Requa Overlook)\", \"2.5 mi. W. of Hwy 101 on Requa Rd./Patrick Murphy Memorial Dr.\", \"No\", \" \", \"No\", \" \", 41.554414, -124.086422], [\"Del Norte\", \"CITY/TOWN\", \"Requa\", \"Off Hwy. 101, 18.5 mi. S. of Crescent City\", \"No\", \" \", \" \", \" \", 41.548172, -124.066624], [\"Del Norte\", \"Beach Access\", \"Klamath River\", \"Hwy. 101, 19 mi. S. of Crescent City\", \"Yes\", \" \", \"No\", \" \", 41.535765, -124.075277], [\"Del Norte\", \"CITY/TOWN\", \"Town of Klamath\", \" Hwy. 101, 19 mi. S. of Crescent City\", \" \", \" \", \" \", \" \", 41.527155, -124.038651], [\"Del Norte\", \"Campground\", \"Flint Ridge Campground\", \"1 mi. S. of Klamath River mouth off Coastal Drive\", \"No\", \" \", \"No\", \" \", 41.525757, -124.07585], [\"Del Norte\", \"Visual Access\", \"Coastal Trail (Del Norte)\", \"S. of Klamath River mouth to Newton B. Drury Parkway\", \"No\", \" \", \"No\", \" \", 41.495061, -124.069343], [\"Humboldt\", \"Beach Access\", \"Redwood National Park (Humboldt)\", \"Along the coast from Crescent Beach in Del Norte Co. to Freshwater Lagoon in Humboldt Co. and inland along Redwood Creek\", \"Yes\", \" \", \"Yes\", \" \", 41.323143, -124.045315], [\"Humboldt\", \"Beach Access\", \"Carruthers Cove Trail\", \"Off Newton B. Drury Scenic Parkway, N. of Orick\", \" \", \" \", \" \", \" \", 41.465888, -124.055697], [\"Humboldt\", \"Beach Access\", \"Coastal Trail (Humboldt)\", \"Off Newton B. Drury Scenic Parkway, 10 mi. N. of Orick\", \"No\", \" \", \"No\", \" \", 41.456815, -124.046309], [\"Humboldt\", \"Natural Resource\", \"Butler Creek Backpack Camp\", \"Off West Ridge Rd., 9 mi. N. of Orick\", \"No\", \" \", \"No\", \" \", 41.43362, -124.044426], [\"Humboldt\", \"Campground\", \"Ossagon Creek Hike-in Campground\", \"On the Coastal Trail, W. of Newton B. Drury Scenic Parkway\", \"No\", \" \", \"No\", \" \", 41.440215, -124.056931], [\"Humboldt\", \"Beach Access\", \"Prairie Creek Redwoods State Park\", \"W. of Hwy. 101, 5.5 mi. N. of Orick\", \"Yes\", \" \", \"Yes\", \" \", 41.405656, -124.043198], [\"Humboldt\", \"Natural Resource\", \"Fern Canyon\", \"End of Davison Rd., 8 mi. W. of Hwy. 101\", \"No\", \" \", \"No\", \" \", 41.404069, -124.065661], [\"Humboldt\", \"Beach Access\", \"Gold Bluffs Beach\", \"Off Davison Rd., 6 mi. W. of Hwy. 101\", \"Yes\", \" \", \"No\", \" \", 41.396659, -124.067361], [\"Humboldt\", \"Campground\", \"Gold Bluffs Campground\", \"Off Davison Rd., 5 mi. W. of Hwy. 101\", \"Yes\", \" \", \"No\", \" \", 41.383733, -124.069186], [\"Humboldt\", \"Campground\", \"Miners Ridge Campground\", \"Along Miners Ridge Trail, 4.5 Miles from Elk Prairie Campground\", \"No\", \" \", \"No\", \" \", 41.397283, -124.060816], [\"Humboldt\", \"Campground\", \"Elk Prairie Campground\", \"Off Newton B. Drury Scenic Parkway, 5.5 mi. N. of Orick\", \"No\", \" \", \"No\", \" \", 41.358993, -124.029908], [\"Humboldt\", \"Natural Resource\", \"Lost Man Creek\", \"1 mi. E. of Hwy. 101\", \"No\", \" \", \"No\", \" \", 41.327076, -124.015982], [\"Humboldt\", \"Natural Resource\", \"Elk Meadow\", \"Davison Rd., W. of Hwy. 101\", \"No\", \" \", \"No\", \" \", 41.321711, -124.040988], [\"Humboldt\", \"Natural Resource\", \"Lady Bird Johnson Grove\", \"2.5 mi E. of Hwy. 101, N. of Orick\", \"No\", \" \", \"No\", \" \", 41.303882, -124.01875], [\"Humboldt\", \"Beach Access\", \"Orick Beach Access\", \"End of Hufford Rd. off Hwy. 101, 1.5 mi. N.W. of Orick\", \"Yes\", \" \", \"No\", \" \", 41.292668, -124.088969], [\"Humboldt\", \"Beach Access\", \"Thomas H. Kuchel Visitor Center\", \"W. of Hwy. 101, 2 mi. S.W. of Orick\", \"Yes\", \" \", \"No\", \" \", 41.286727, -124.090668], [\"Humboldt\", \"Beach Access\", \"Redwood Creek Beach Picnic Area\", \"W. of Hwy. 101, 2 mi. S.W. of Orick\", \"Yes\", \" \", \"No\", \" \", 41.283549, -124.091275], [\"Humboldt\", \"Beach Access\", \"Freshwater Lagoon\", \"E. of Hwy. 101, 3 mi. S. of Orick\", \"Yes\", \" \", \"No\", \" \", 41.26812, -124.095032], [\"Humboldt\", \"Beach Access\", \"Stone Lagoon\", \"Off Hwy. 101, 5 mi. S. of Orick\", \"Yes\", \" \", \"No\", \" \", 41.258273, -124.098256], [\"Humboldt\", \"Boat Access\", \"Stone Lagoon Visitor Center\", \"Off Hwy. 101, 5.5 mi. S. of Orick\", \"No\", \" \", \"No\", \"No\", 41.232611, -124.083498], [\"Humboldt\", \"Beach Access\", \"Dry Lagoon\", \"Off Hwy. 101, 6.5 mi. S. of Orick\", \"Yes\", \" \", \"Yes\", \" \", 41.224744, -124.106093], [\"Humboldt\", \"Beach Access\", \"Harry A. Merlo State Recreation Area\", \"East Shore of Big Lagoon, off Hwy. 101\", \"No\", \" \", \"No\", \" \", 41.190843, -124.105966], [\"Humboldt\", \"Boat Access\", \"Big Lagoon\", \"East Shore of Big Lagoon, off Hwy. 101\", \"No\", \" \", \"No\", \" \", 41.190843, -124.105966], [\"Humboldt\", \"Beach Access\", \"Big Lagoon County Park\", \"Off Hwy. 101, 8 mi. N. of Trinidad\", \"Yes\", \" \", \"No\", \" \", 41.164537, -124.130981], [\"Humboldt\", \"Beach Access\", \"Sue-meg State Park\", \"Patrick's Point Dr. off Hwy 101, 5.3 mi. N. of Trinidad\", \"Yes\", \" \", \"Yes\", \" \", 41.134846, -124.151694], [\"Humboldt\", \"Natural Resource\", \"Trinidad Roadside Rest Northbound\", \"Hwy. 101, 4  mi. N. of Trinidad\", \"No\", \" \", \"No\", \" \", 41.123095, -124.150333], [\"Humboldt\", \"Natural Resource\", \"Trinidad Roadside Rest Southbound\", \"Hwy. 101, 2 mi. N. of Trinidad\", \"No\", \" \", \"No\", \" \", 41.092164, -124.150545], [\"Humboldt\", \"Beach Access\", \"Trinidad State Beach\", \"Off Stagecoach Rd., N. of Main St., Trinidad\", \"Yes\", \" \", \"Yes\", \" \", 41.061046, -124.146323], [\"Humboldt\", \"Beach Access\", \"College Cove\", \"Stagecoach Rd., 1 mi. N. of Trinidad State Beach main entrance\", \"Yes\", \" \", \"Yes\", \" \", 41.06822, -124.148884], [\"Humboldt\", \"CITY/TOWN\", \"Town of Trinidad\", \"Off Hwy. 101, 14 mi. N. of Arcata\", \"Yes\", \" \", \"Yes\", \" \", 41.059368, -124.143179], [\"Humboldt\", \"Natural Resource\", \"Trinidad Head\", \"S.W. of town of Trinidad\", \"Yes\", \" \", \"No\", \" \", 41.05426, -124.150686], [\"Humboldt\", \"Beach Access\", \"Trinidad Harbor\", \"W. end of Edwards St., Trinidad\", \"Yes\", \" \", \"Yes\", \" \", 41.055277, -124.147742], [\"Humboldt\", \"Beach Access\", \"Axel Lindgren Memorial Stairs\", \"Foot of Trinity St. at Edwards St., Trinidad\", \"Yes\", \" \", \"Yes\", \" \", 41.058259, -124.143088], [\"Humboldt\", \"Beach Access\", \"Luffenholtz Beach and County Park\", \"Scenic Dr., 2 mi. S. of Trinidad\", \"Yes\", \" \", \"Yes\", \"Yes\", 41.039687, -124.1206], [\"Humboldt\", \"Beach Access\", \"Houda Point Access\", \"Scenic Dr., 2.3 mi. S of Trinidad\", \"Yes\", \" \", \"Yes\", \" \", 41.036249, -124.118724], [\"Humboldt\", \"Beach Access\", \"Moonstone County Park\", \"Off Scenic Drive., 3 mi. S. of Trinidad\", \"Yes\", \" \", \"No\", \" \", 41.029205, -124.111552], [\"Humboldt\", \"Beach Access\", \"Little River State Beach\", \"W. of Hwy. 101, at Crannell Rd. exit, 8.5 mi. N. of Arcata\", \"Yes\", \" \", \"No\", \" \", 41.012445, -124.112822], [\"Humboldt\", \"Beach Access\", \"Clam Beach County Park\", \"W. of Hwy. 101, 7.5 mi. N. of Arcata\", \"Yes\", \" \", \"No\", \" \", 40.995553, -124.114274], [\"Humboldt\", \"Visual Access\", \"McKinleyville Vista Point\", \"Hwy. 101, 6.5 mi. S. of Trinidad, southbound only\", \"No\", \" \", \"No\", \" \", 40.974686, -124.117523], [\"Humboldt\", \"Natural Resource\", \"Mad River Bluffs Park\", \"End of Hiller Rd., W. of Hwy. 101\", \"No\", \" \", \"No\", \" \", 40.941756, -124.127073], [\"Humboldt\", \"Natural Resource\", \"Hammond Trail\", \"W. of Hwy. 101, from Clam Beach S. to the Mad River, McKinleyville\", \"No\", \" \", \"No\", \" \", 40.922856, -124.120327], [\"Humboldt\", \"Beach Access\", \"Mad River Beach County Park\", \"End of Mad River Rd., W. of Hwy. 101\", \"Yes\", \" \", \"No\", \" \", 40.929264, -124.132859], [\"Humboldt\", \"Natural Resource\", \"Azalea State Reserve\", \"E. of Hwy. 101 on North Bank Rd., McKinleyville\", \"No\", \" \", \"No\", \" \", 40.918439, -124.080289], [\"Humboldt\", \"CITY/TOWN\", \"Arcata\", \"Hwy. 101, 7 mi. N. of Eureka\", \"No\", \" \", \" \", \" \", 40.869033, -124.08573], [\"Humboldt\", \"LCOA\", \"Arcata Hostel\", \"1390 \\\"I\\\" St., Arcata\", \"No\", \" \", \"No\", \" \", 40.872843, -124.086397], [\"Humboldt\", \"Beach Access\", \"Humboldt Bay\", \"S. and W. of Eureka\", \"No\", \" \", \"No\", \" \", 40.750811, -124.213551], [\"Humboldt\", \"Boat Access\", \"Arcata Marsh and Wildlife Sanctuary\", \"569 South \\\"G\\\" St., Arcata\", \"No\", \" \", \"No\", \" \", 40.856411, -124.093447], [\"Humboldt\", \"Boat Access\", \"Arcata Bay\", \"Northern part of Humboldt Bay\", \"No\", \" \", \"No\", \" \", 40.848267, -124.139879], [\"Humboldt\", \"Campground\", \"Eureka KOA\", \"4050 N. Hwy. 101, 2 mi. S. of Arcata\", \"No\", \" \", \"No\", \" \", 40.825929, -124.082465], [\"Humboldt\", \"Beach Access\", \"Ebb Tide R.V. Park\", \"2600 6th St., Eureka\", \"No\", \" \", \"No\", \" \", 40.803177, -124.14688], [\"Humboldt\", \"Beach Access\", \"Ma-Le'l Dunes South\", \"Young Ln. off Hwy. 255, Manila\", \"Yes\", \" \", \"No\", \" \", 40.860899, -124.159217], [\"Humboldt\", \"Beach Access\", \"Ma-Le'l Dunes North\", \"Young Ln. off Hwy. 255, Manila\", \"Yes\", \" \", \" \", \" \", 40.872635, -124.152304], [\"Humboldt\", \"Natural Resource\", \"Humboldt Coastal Nature Center\", \"Stamps Ln., off Hwy 255, Manila\", \" \", \" \", \" \", \" \", 40.857153, -124.162816], [\"Humboldt\", \"Park\", \"Manila Community Park\", \"N. end of Victor Blvd. Manila\", \"Yes\", \" \", \"No\", \" \", 40.851847, -124.162429], [\"Humboldt\", \"Beach Access\", \"Manila Dunes Recreation Area\", \"1611 Peninsula Dr., W. of Hwy. 255, Manilla\", \"Yes\", \" \", \"No\", \" \", 40.845038, -124.173252], [\"Humboldt\", \"Beach Access\", \"North Spit\", \"Off Hwy. 255, S.W. of Arcata\", \"Yes\", \" \", \"No\", \" \", 40.833647, -124.177426], [\"Humboldt\", \"Beach Access\", \"Accessways to Ocean Beach\", \"New Navy Base Rd., S. of Hwy. 255 intersection\", \"Yes\", \"Yes\", \"No\", \" \", 40.799267, -124.204891], [\"Humboldt\", \"Beach Access\", \"Samoa Dunes Recreation Area\", \"S. end of New Navy Base Rd., North Spit\", \"Yes\", \" \", \"No\", \" \", 40.766158, -124.223251], [\"Humboldt\", \"Boat Access\", \"Samoa Boat Ramp County Park\", \"New Navy Base Rd., 4.4 mi. S. of Hwy. 255 intersection\", \"No\", \" \", \"No\", \" \", 40.77229, -124.213353], [\"Humboldt\", \"Boat Access\", \"Eureka Slough Boat Ramp\", \"E. end of 3rd St. off Hwy. 101, Eureka\", \"No\", \" \", \"No\", \" \", 40.80538, -124.142686], [\"Humboldt\", \"Boat Access\", \"Samoa Bridge Launching Facility\", \"Waterfront Dr., under the Samoa Bridge, Eureka\", \"No\", \" \", \"No\", \" \", 40.807891, -124.15442], [\"Humboldt\", \"Boat Access\", \"Woodley Island Marina\", \"Off Hwy 255, Eureka\", \"No\", \" \", \"No\", \" \", 40.807648, -124.162268], [\"Humboldt\", \"CITY/TOWN\", \"Eureka\", \"Hwy. 101, on Humboldt Bay\", \"No\", \" \", \" \", \" \", 40.802647, -124.163709], [\"Humboldt\", \"Historic/Cultural Site\", \"Humboldt Bay Maritime Museum\", \"Adjacent to Samoa Cookhouse, Cookhouse Rd., Samoa\", \"No\", \" \", \"No\", \" \", 40.82009, -124.181618], [\"Humboldt\", \"Beach Access\", \"Samoa Beach\", \"New Navy Base Rd., .9 mi. S. of Hwy. 255, Samoa\", \"Yes\", \" \", \"No\", \"No\", 40.820688, -124.190059], [\"Humboldt\", \"Natural Resource\", \"Eureka Boardwalk\", \"Waterfront from C St. to F St., Eureka\", \"No\", \" \", \"No\", \" \", 40.805931, -124.167472], [\"Humboldt\", \"Natural Resource\", \"Eureka Slough / Dead Mouse Marsh\", \"E. end of Park St., Eureka\", \"No\", \" \", \"No\", \" \", 40.79516, -124.120706], [\"Humboldt\", \"Boat Access\", \"Eureka Public Marina and Wharfinger Building\", \"Waterfront Dr., Eureka\", \"No\", \" \", \"No\", \" \", 40.802742, -124.178152], [\"Humboldt\", \"Boat Access\", \"Eureka Mooring Basin\", \"Commercial St. and 1st St., Eureka\", \"No\", \" \", \"No\", \" \", 40.804653, -124.174404], [\"Humboldt\", \"Pier\", \"Del Norte Street Pier\", \"Foot of Del Norte St., off Hwy. 101, Eureka\", \"No\", \" \", \"No\", \" \", 40.790727, -124.188564], [\"Humboldt\", \"Historic/Cultural Site\", \"Fort Humboldt State Historic Park\", \"3431 Fort Ave., off Hwy. 101, Eureka\", \"No\", \" \", \"No\", \" \", 40.776685, -124.188128], [\"Humboldt\", \"Natural Resource\", \"Elk River Access Area\", \"From W. end of Truesdale St. to Pound Rd., W. of Hwy. 101, Eureka\", \"No\", \" \", \"No\", \" \", 40.776216, -124.193834], [\"Humboldt\", \"Natural Resource\", \"Hikshari' Trail\", \"W. end of Hilfiker Ln., Eureka\", \"No\", \" \", \"No\", \"No\", 40.772446, -124.195404], [\"Humboldt\", \"Beach Access\", \"Mike Thompson Wildlife Area / South Spit\", \"End of Table Bluff Rd. off Hookton Rd., 5 mi. W. of Hwy. 101, Loleta\", \"Yes\", \" \", \"Yes\", \" \", 40.733874, -124.247045], [\"Humboldt\", \"Boat Access\", \"King Salmon\", \"Off Buhne Dr., W. of Hwy. 101, 1 mi. N. of Fields Landing\", \"Yes\", \" \", \"Yes\", \" \", 40.739786, -124.218798], [\"Humboldt\", \"Natural Resource\", \"King Salmon Shoreline Access\", \"W. of Buhne Dr., King Salmon\", \"Yes\", \" \", \"No\", \"No\", 40.741984, -124.216989], [\"Humboldt\", \"Boat Access\", \"Fields Landing County Park\", \"Foot of Railroad Ave., Fields Landing\", \"No\", \" \", \"No\", \" \", 40.726405, -124.220585], [\"Humboldt\", \"Boat Access\", \"Humboldt Bay National Wildlife Refuge\", \"Humboldt South Bay, W. of Hwy. 101\", \"No\", \" \", \"No\", \" \", 40.693757, -124.213622], [\"Humboldt\", \"Boat Access\", \"Hookton Slough\", \"Off Hookton Rd., 2 mi. W. of Hwy. 101\", \"No\", \" \", \"No\", \"No\", 40.677125, -124.22216], [\"Humboldt\", \"Natural Resource\", \"Table Bluff County Park\", \"End of Table Bluff Rd. off Hookton Rd., 5 mi. W. of Hwy. 101, Loleta\", \"No\", \" \", \"No\", \" \", 40.696998, -124.273978], [\"Humboldt\", \"Natural Resource\", \"Eel River Wildlife Area/Ocean Ranch Unit\", \"Table Bluff Rd. off Hookton Rd., W. of Hwy. 101, Loleta\", \"Yes\", \" \", \"No\", \" \", 40.687805, -124.277938], [\"Humboldt\", \"Natural Resource\", \"Headwaters Forest Reserve - North access\", \"At the end of Elk River Rd., 6.7 mi. S. of Eureka\", \"No\", \" \", \"No\", \" \", 40.635515, -124.050493], [\"Humboldt\", \"Natural Resource\", \"Eel River Wildlife Area/Cannibal Island Unit\", \"W. End of Cannibal Island Rd., 4 mi. from Loleta\", \"No\", \" \", \"No\", \" \", 40.649499, -124.287448], [\"Humboldt\", \"Beach Access\", \"Eel River and Delta\", \"W. of Hwy. 101 at Fernbridge\", \"Yes\", \" \", \"No\", \" \", 40.64008, -124.310919], [\"Humboldt\", \"Beach Access\", \"Crab County Park\", \"W. end of Cannibal Island Rd., 4 mi. from Loleta\", \"Yes\", \" \", \"No\", \" \", 40.642593, -124.303366], [\"Humboldt\", \"Boat Access\", \"Pedrazzini Boat Ramp\", \"Off Cock Robin Island Rd., .3 mi. S. of Cannibal Island Rd.\", \"No\", \" \", \"No\", \"No\", 40.638098, -124.282832], [\"Humboldt\", \"CITY/TOWN\", \"Ferndale\", \"Hwy. 211, 5 mi. S.W. of Hwy. 101\", \"No\", \" \", \"No\", \" \", 40.575993, -124.261441], [\"Humboldt\", \"Campground\", \"Humboldt County Fairgrounds Campground\", \"5th St. between Van Ness and Arlington avenues, Ferndale\", \"No\", \" \", \"No\", \" \", 40.586154, -124.265565], [\"Humboldt\", \"Beach Access\", \"Sounding Seas/Eel River Estuary Preserve\", \"Shoreline N. of Centerville Beach County Park\", \"Yes\", \" \", \" \", \" \", 40.597904, -124.327088], [\"Humboldt\", \"Beach Access\", \"Centerville Beach County Park\", \"Centerville Rd., 5 mi. W. of Ferndale\", \"Yes\", \" \", \"No\", \" \", 40.57352, -124.350095], [\"Humboldt\", \"Beach Access\", \"Fleener Creek Beach Trail\", \"Centerville Rd., 6 mi. S.W. of Ferndale\", \"Yes\", \" \", \"No\", \" \", 40.561357, -124.353363], [\"Humboldt\", \"Beach Access\", \"Guthrie Creek Beach Trail\", \"Centerville Rd., 8 mi. S.W. of Ferndale\", \"Yes\", \" \", \"No\", \" \", 40.543604, -124.357396], [\"Humboldt\", \"Beach Access\", \"Mattole Road\", \"Singley Creek to McNutt Gulch\", \"Yes\", \" \", \"Yes\", \" \", 40.407186, -124.390964], [\"Humboldt\", \"Beach Access\", \"Mattole River and Beach\", \"W. end of Lighthouse Rd., 5 mi. W. of Petrolia\", \"Yes\", \" \", \"No\", \"Yes\", 40.292685, -124.355704], [\"Humboldt\", \"Lighthouse\", \"Punta Gorda Lighthouse\", \"3 mi. S. of Mattole River Beach on Lost Coast Trail\", \"Yes\", \" \", \"Yes\", \" \", 40.249453, -124.350265], [\"Humboldt\", \"Natural Resource\", \"A.W. Way County Park\", \"Mattole Road, 6 mi. S.E. of Petrolia\", \"No\", \" \", \"No\", \" \", 40.266619, -124.2302], [\"Humboldt\", \"Natural Resource\", \"Humboldt Redwoods State Park\", \"Hwy. 101, 20 mi. N. of Garberville\", \"No\", \" \", \"No\", \" \", 40.327309, -123.925953], [\"Humboldt\", \"Historic/Cultural Site\", \"King Range Visitor Center\", \"Off Shelter Cove Rd., 1 mi. W. of Thorn Junction\", \"No\", \" \", \"No\", \"No\", 40.056779, -123.975849], [\"Humboldt\", \"Beach Access\", \"King Range National Conservation Area (Humboldt)\", \"Mattole River Beach to S. of Shelter Cove\", \"Yes\", \" \", \"Yes\", \" \", 40.166016, -124.214507], [\"Humboldt\", \"Beach Access\", \"Lost Coast Trail\", \"From Mattole River Beach to Black Sands Beach, Shelter Cove\", \"Yes\", \" \", \"Yes\", \"Yes\", 40.167341, -124.223636], [\"Humboldt\", \"Campground\", \"Honeydew Creek\", \"Wilder Ridge Rd., 1.1 mi. S. of Honeydew\", \"No\", \" \", \"No\", \" \", 40.23132, -124.111015], [\"Humboldt\", \"Campground\", \"Horse Mountain Creek Campground\", \"King Peak Rd., 6.5 mi. N. of Shelter Cove Road\", \"No\", \" \", \"No\", \" \", 40.105785, -124.065282], [\"Humboldt\", \"Campground\", \"Tolkan Campground\", \"King Peak Rd., 3.6 mi N. of Shelter Cove Road\", \"No\", \" \", \"No\", \" \", 40.083249, -124.056994], [\"Humboldt\", \"Beach Access\", \"Black Sands Beach\", \"N. end of Beach Rd., Shelter Cove\", \"Yes\", \" \", \"No\", \" \", 40.047708, -124.079655], [\"Humboldt\", \"Visual Access\", \"Little Black Sands Beach\", \"W. end of Dolphin Dr., Shelter Cove\", \"Yes\", \" \", \"Yes\", \" \", 40.039156, -124.079252], [\"Humboldt\", \"Visual Access\", \"Abalone Point\", \"Lower Pacific Dr., Shelter Cove\", \"No\", \" \", \"Yes\", \"Yes\", 40.02999, -124.080505], [\"Humboldt\", \"Visual Access\", \"Seal Rock\", \"Lower Pacific Dr., Shelter Cove\", \"No\", \" \", \"Yes\", \"Yes\", 40.028341, -124.076646], [\"Humboldt\", \"Beach Access\", \"Mal Coombs Park\", \"Lower Pacific Dr., Shelter Cove\", \"Yes\", \" \", \"Yes\", \"Yes\", 40.022657, -124.069245], [\"Humboldt\", \"Beach Access\", \"Shelter Cove\", \"W. end of Shelter Cove Rd., 21.1. mi. from old Hwy. 101 (Business Route) in Redway\", \"Yes\", \" \", \"Yes\", \" \", 40.025262, -124.06464], [\"Mendocino\", \"Natural Resource\", \"King Range National Conservation Area (Mendocino)\", \"Mattole River Beach (Humboldt Co.) to Four Corners (Mendocino Co.)\", \"Yes\", \" \", \"Yes\", \" \", 39.998883, -124.011019], [\"Mendocino\", \"Natural Resource\", \"Needle Rock\", \"Briceland Rd./Mendocino Co. Route 435, 7 mi. S.W. of Four Corners\", \"No\", \" \", \"Yes\", \" \", 39.94266, -123.964804], [\"Mendocino\", \"Beach Access\", \"Sinkyone Wilderness State Park\", \"Between Four Corners and Usal Beach Camp\", \"Yes\", \" \", \"Yes\", \" \", 39.920781, -123.940972], [\"Mendocino\", \"Beach Access\", \"Bear Harbor\", \"Near S. end of Briceland Rd./ Route 435\", \"Yes\", \" \", \"Yes\", \" \", 39.913664, -123.938579], [\"Mendocino\", \"Natural Resource\", \"Lost Coast Trail\", \"Paralleling the shoreline between Orchard Creek and Usal Beach Camp, Sinkyone Wilderness State Park\", \"No\", \" \", \" \", \" \", 39.873475, -123.910838], [\"Mendocino\", \"Natural Resource\", \"Wheeler Camp\", \"Lost Coast Trail, 12 mi. N. of Usal Camp, 4.7 mi. S. of Orchard Creek\", \"No\", \" \", \"No\", \" \", 39.884775, -123.911039], [\"Mendocino\", \"Natural Resource\", \"Little Jackass Creek\", \"Lost Creek Trail, 7.5 mi. N. of Usal Camp, 9.2 mi. s. of Orchard\", \"No\", \" \", \"No\", \" \", 39.861199, -123.90072], [\"Mendocino\", \"Natural Resource\", \"Anderson Gulch\", \"Lost Coast Trail. 5 mi. N. of Usal Camp\", \"Yes\", \" \", \"No\", \" \", 39.853115, -123.886136], [\"Mendocino\", \"Campground\", \"Usal Beach Campground\", \"Usal Rd., 6 mi. N. of Hwy. One turnoff at milepost 90.88\", \"Yes\", \" \", \"Yes\", \" \", 39.831365, -123.844782], [\"Mendocino\", \"Natural Resource\", \"InterTribal Sinkyone Wilderness\", \"E. of Sinkyone Wilderness State Park\", \"No\", \" \", \"No\", \" \", 39.892854, -123.88262], [\"Mendocino\", \"Visual Access\", \"Overlooks (Hardy and Juan Creeks)\", \"Hwy. One at Hardy and Juan Creeks, 6.3 and 5.8 mi. N. of Westport\", \"No\", \" \", \"Yes\", \" \", 39.709496, -123.806653], [\"Mendocino\", \"Beach Access\", \"Westport-Union Landing State Beach\", \"W. of Hwy. One, 3 mi. N. of Westport\", \"Yes\", \" \", \"Yes\", \"Yes\", 39.682169, -123.791354], [\"Mendocino\", \"Campground\", \"Westport Beach RV Park and Campground (aka Wages Creek Beach)\", \"Hwy. One, .5 mi. N. of Westport\", \"Yes\", \" \", \"Yes\", \" \", 39.649366, -123.784856], [\"Mendocino\", \"Beach Access\", \"Pete's Beach\", \"Hwy. One, .3 mi. N. of Westport\", \"Yes\", \" \", \"Yes\", \" \", 39.642884, -123.785073], [\"Mendocino\", \"Visual Access\", \"Westport Headlands - Viewpoint\", \"Omega Dr., off Hwy. One, Westport\", \"No\", \" \", \"No\", \"No\", 39.638303, -123.785648], [\"Mendocino\", \"Visual Access\", \"Westport Headlands\", \"Hwy. One, 7.5 mi. N. of Ten Mile River\", \"Yes\", \" \", \"Yes\", \" \", 39.636968, -123.786147], [\"Mendocino\", \"Beach Access\", \"Chadbourne Gulch\", \"Hwy. One, 5.8 mi. N. of Ten Mile River\", \"Yes\", \" \", \"Yes\", \" \", 39.613345, -123.78167], [\"Mendocino\", \"Beach Access\", \"Vista Point (Bruhel Point Bluff)\", \"W. of Hwy. One, 4.5 mi. N. of Ten Mile River\", \"No\", \" \", \"Yes\", \"Yes\", 39.599261, -123.784704], [\"Mendocino\", \"Natural Resource\", \"Newport Trail and Viewpoint\", \"W. of Hwy One, 1.9 mi. N. of Ten Mile River\", \" \", \" \", \" \", \" \", 39.58197, -123.772093], [\"Mendocino\", \"Visual Access\", \"South Kibesillah Gulch View Area\", \"W. of Hwy. One, 2.1 mi. N. of Ten Mile River\", \"No\", \" \", \"Yes\", \" \", 39.570899, -123.772215], [\"Mendocino\", \"Beach Access\", \"Seaside Creek Beach\", \"W. of Hwy. One, 1 mi. N. of Ten Mile River\", \"Yes\", \" \", \"Yes\", \" \", 39.559011, -123.766093], [\"Mendocino\", \"Visual Access\", \"Ten Mile River View Area\", \"S. side of Ten Mile River Bridge\", \"Yes\", \" \", \"No\", \" \", 39.545039, -123.760729], [\"Mendocino\", \"Beach Access\", \"Ten Mile Beach and Dunes\", \"S. of Ten Mile River\", \"Yes\", \" \", \"No\", \" \", 39.523192, -123.776148], [\"Mendocino\", \"Beach Access\", \"MacKerricher State Park\", \"From Ten Mile River S. to Glass Beach in Fort Bragg\", \"Yes\", \" \", \"Yes\", \" \", 39.489109, -123.789546], [\"Mendocino\", \"Beach Access\", \"Ward Avenue\", \"Just N. of MacKerricher State Park main entrance\", \"Yes\", \" \", \"Yes\", \" \", 39.502079, -123.786988], [\"Mendocino\", \"Natural Resource\", \"Lake Cleone\", \"Off Mill Creek Dr., MacKerricher State Park\", \"No\", \" \", \"No\", \" \", 39.48937, -123.795284], [\"Mendocino\", \"Visual Access\", \"Laguna Point\", \"End of Mill Creek Dr., MacKerricher State Park\", \"Yes\", \" \", \"Yes\", \"?\", 39.489515, -123.804149], [\"Mendocino\", \"Beach Access\", \"Haul Road Access\", \"From Ward Ave. to Glass Beach Dr., Fort Bragg\", \"Yes\", \" \", \"Yes\", \" \", 39.461549, -123.806965], [\"Mendocino\", \"Beach Access\", \"Pudding Creek Beach\", \"Hwy. One at Pudding Creek, Fort Bragg\", \"Yes\", \" \", \"No\", \" \", 39.458811, -123.808548], [\"Mendocino\", \"Beach Access\", \"Glass Beach\", \"W. end of Elm St., Fort Bragg\", \"Yes\", \" \", \"Yes\", \" \", 39.452017, -123.812705], [\"Mendocino\", \"CITY/TOWN\", \"Fort Bragg\", \"Hwy. One, 10 mi. N. of Mendocino\", \"No\", \" \", \" \", \" \", 39.437622, -123.805316], [\"Mendocino\", \"Natural Resource\", \"Noyo Headlands Park - North\", \"W. end of W. Elm St.\", \"No\", \" \", \"Yes\", \" \", 39.450761, -123.812533], [\"Mendocino\", \"Natural Resource\", \"Fort Bragg Coastal Parkland\", \"Hwy. One, 10 mi. N. of Mendocino\", \" \", \" \", \" \", \" \", 39.441619, -123.806875], [\"Mendocino\", \"Boat Access\", \"Noyo Harbor\", \"Off Hwy. One, 1.8 mi. S. of Fort Bragg\", \"Yes\", \" \", \"Yes\", \" \", 39.424008, -123.803192], [\"Mendocino\", \"Visual Access\", \"Noyo Harbor Public Viewing Area\", \"S. end, Noyo Harbor Dr.\", \"No\", \" \", \"No\", \"No\", 39.423879, -123.803874], [\"Mendocino\", \"Visual Access\", \"Pomo Bluffs Park\", \"Cliff Way, off Ocean View Dr., .2 mi. S. of Noyo River Bridge, Fort Bragg\", \"No\", \" \", \"Yes\", \" \", 39.425557, -123.816406], [\"Mendocino\", \"Beach Access\", \"Hare Creek Public Access\", \"S. of Bay View Ave., Fort Bragg\", \"Yes\", \" \", \"Yes\", \" \", 39.419269, -123.811196], [\"Mendocino\", \"Natural Resource\", \"Mendocino Coast Botanical Gardens\", \"18220 N. Hwy. One, Fort Bragg\", \"Yes\", \" \", \"Yes\", \" \", 39.409725, -123.813722], [\"Mendocino\", \"Beach Access\", \"Belinda Point\", \"17410 Ocean Dr., S. of Fort Bragg\", \"Yes\", \" \", \"Yes\", \" \", 39.397362, -123.819866], [\"Mendocino\", \"Natural Resource\", \"Jackson State Forest\", \"E. of Hwy. One, off Hwy. 20, Noyo to Big River\", \"No\", \" \", \"No\", \" \", 39.407019, -123.744593], [\"Mendocino\", \"Beach Access\", \"Path to Beach (Ocean Dr.)\", \"Ocean Dr. near Hwy. One, 2 mi. N. of Caspar Creek\", \"Yes\", \" \", \"Yes\", \" \", 39.388751, -123.812713], [\"Mendocino\", \"Beach Access\", \"Jefferson Way\", \"W. of Hwy. One, 1.8 mi. N. of Caspar Creek\", \"Yes\", \" \", \"Yes\", \" \", 39.386431, -123.816959], [\"Mendocino\", \"Beach Access\", \"Jug Handle State Natural Reserve\", \"E. and W. of Hwy. One, 1 mi. N. of Caspar Creek\", \"Yes\", \" \", \"Yes\", \" \", 39.37546, -123.816546], [\"Mendocino\", \"Historic/Cultural Site\", \"Jughandle Creek Farm and Nature Center\", \"E. of Hwy. One, .9 mi. N. of Caspar Creek\", \"No\", \" \", \"No\", \" \", 39.373193, -123.814967], [\"Mendocino\", \"Visual Access\", \"Cantus Cove\", \".1 mi. from Pacifica Dr. and Caspar Rd., Caspar\", \"No\", \" \", \"Yes\", \" \", 39.369756, -123.822227], [\"Mendocino\", \"Beach Access\", \"Caspar Headlands State Beach - North\", \"Seaward of S. end of Caspar Rd., Caspar\", \"Yes\", \" \", \"Yes\", \"No\", 39.362959, -123.817321], [\"Mendocino\", \"Visual Access\", \"Caspar Creek Vista Point\", \"W. side of Hwy. One at Caspar Creek\", \"No\", \" \", \"No\", \" \", 39.361174, -123.808858], [\"Mendocino\", \"Beach Access\", \"Caspar Headlands State Beach\", \"At Doyle Creek, off Pt. Cabrillo Dr., S. of Caspar\", \"Yes\", \" \", \"Yes\", \" \", 39.360366, -123.817925], [\"Mendocino\", \"Natural Resource\", \"Caspar Uplands Trail\", \"From Point Cabrillo Dr. near Point Cabrillo Light Station to Caspar Beach\", \"No\", \" \", \"No\", \"No\", 39.354161, -123.81369], [\"Mendocino\", \"Beach Access\", \"Caspar Headlands State Natural Reserve\", \"End of Headlands Dr. off S. Caspar Dr., S. of Caspar\", \"No\", \" \", \"Yes\", \"Yes\", 39.360662, -123.824353], [\"Mendocino\", \"Lighthouse\", \"Point Cabrillo Light Station and Preserve\", \"Pt. Cabrillo Dr., 2 mi. N. of Mendocino\", \"No\", \"Yes\", \"Yes\", \" \", 39.348803, -123.827283], [\"Mendocino\", \"Beach Access\", \"Russian Gulch State Park\", \"E. and W. of Hwy. One, 2 mi. N. of Mendocino\", \"Yes\", \" \", \"Yes\", \" \", 39.332405, -123.80614], [\"Mendocino\", \"Visual Access\", \"Viewpoint (Lansing St.)\", \"W. of Hwy. One at Lansing St., Mendocino\", \"No\", \" \", \"No\", \" \", 39.312892, -123.803647], [\"Mendocino\", \"Visual Access\", \"Goat Island Overlook\", \"Off Little Lake St. at Heeser Dr., Mendocino\", \"No\", \" \", \"Yes\", \" \", 39.305171, -123.809557], [\"Mendocino\", \"Natural Resource\", \"Mendocino Headlands State Park\", \"Seaward of Mendocino, from Lansing St. and Heeser Dr. to Big River\", \"Yes\", \" \", \"Yes\", \" \", 39.30481, -123.799652], [\"Mendocino\", \"CITY/TOWN\", \"Town of Mendocino\", \"Off Hwy. One, 10 mi. S. of Fort Bragg\", \"Yes\", \" \", \"Yes\", \" \", 39.305769, -123.801462], [\"Mendocino\", \"Beach Access\", \"Big River Beach\", \"S. of Mendocino\", \"Yes\", \" \", \"No\", \" \", 39.302444, -123.79317], [\"Mendocino\", \"Visual Access\", \"Mendocino Bay Viewpoint\", \"N. end Brewery Gulch Rd., W of Hwy. One\", \"No\", \" \", \"Yes\", \" \", 39.299454, -123.794798], [\"Mendocino\", \"Campground\", \"Mendocino Campground\", \"Comptche-Ukiah Rd. and Hwy. One\", \"No\", \" \", \"No\", \" \", 39.299241, -123.793831], [\"Mendocino\", \"Natural Resource\", \"Mendocino Woodlands State Park\", \"E. of Hwy. One, off Little Lake Rd., S. of Fort Bragg\", \"No\", \" \", \"No\", \" \", 39.318454, -123.741041], [\"Mendocino\", \"Beach Access\", \"Paths to Shoreline / Van Damme State Park\", \"Hwy. One at Gordon Lane, 1.5 mi. S. of Mendocino\", \"No\", \" \", \"Yes\", \" \", 39.285225, -123.793619], [\"Mendocino\", \"Beach Access\", \"Path to Shoreline (Peterson-Headlands Lane)\", \"200 ft. N. of Peterson-Headlands Ln. off Hwy. One\", \"No\", \" \", \"Yes\", \"No\", 39.277062, -123.791672], [\"Mendocino\", \"Beach Access\", \"Van Damme State Park\", \"E. and W. of Hwy. One at Little River, 3 mi. S. of Mendocino\", \"Yes\", \" \", \"Yes\", \" \", 39.274325, -123.790525], [\"Mendocino\", \"Natural Resource\", \"Little River Blowhole Trail\", \"W. of Hwy. One, N. of Little River cemetery\", \" \", \" \", \"Yes\", \" \", 39.267902, -123.787743], [\"Mendocino\", \"Beach Access\", \"Dark Gulch Beach\", \"Hwy. One, Dark Gulch\", \"Yes\", \" \", \"Yes\", \"Yes\", 39.239915, -123.774086], [\"Mendocino\", \"Beach Access\", \"Albion River Beach\", \"Albion flats, W. of Albion River Campground\", \"Yes\", \" \", \"No\", \" \", 39.227308, -123.769374], [\"Mendocino\", \"Campground\", \"Albion River Campground\", \"Hwy. One, N. side of Albion River\", \"Yes\", \" \", \"No\", \" \", 39.226342, -123.768292], [\"Mendocino\", \"Natural Resource\", \"Navarro Blufflands Trail\", \"Off Hwy. One, N. of Navarro Ridge Road\", \"No\", \" \", \"No\", \" \", 39.207157, -123.768949], [\"Mendocino\", \"Natural Resource\", \"Navarro Point Preserve\", \"Off Hwy. One, 1.7 mi. N. of the junction of Hwy. 128\", \"No\", \" \", \"Yes\", \" \", 39.198286, -123.771364], [\"Mendocino\", \"Campground\", \"Schooner's Landing Campground\", \"Hwy. One, N. side of Albion River\", \"No\", \" \", \"No\", \" \", 39.227353, -123.765183], [\"Mendocino\", \"Visual Access\", \"Mendocino Bay Overlook\", \"W. of Hwy. One, S. of Brewery Gulch Rd.\", \"No\", \" \", \"Yes\", \" \", 39.299476, -123.795046], [\"Mendocino\", \"Beach Access\", \"Navarro Beach\", \"W. end of Navarro Bluff Rd., Navarro River Redwoods State Park\", \"Yes\", \" \", \"No\", \" \", 39.191738, -123.758245], [\"Mendocino\", \"Beach Access\", \"Navarro River Redwoods State Park\", \"Hwy. 128, 2 mi. E. of the junction of Hwy. One\", \"Yes\", \" \", \"No\", \" \", 39.17233, -123.67349], [\"Mendocino\", \"Campground\", \"Paul Dimmick Campground\", \"8 mi. E. of Hwy. 1 on Hwy 128 (Navarro Rd.)\", \"No\", \" \", \"No\", \" \", 39.157959, -123.638237], [\"Mendocino\", \"Natural Resource\", \"Peg and John Frankel Trail\", \"W. of Hwy. One, 3 mi. N. of Elk\", \"No\", \" \", \" \", \"No\", 39.163296, -123.736535], [\"Mendocino\", \"CITY/TOWN\", \"Elk\", \"Hwy. One, 6.2 mi. S. of Hwy. 128 Junction\", \"Yes\", \" \", \"Yes\", \" \", 39.130412, -123.717304], [\"Mendocino\", \"Beach Access\", \"Greenwood State Beach\", \"Hwy. One at Greenwood Creek, Elk\", \"Yes\", \" \", \"Yes\", \" \", 39.129266, -123.717421], [\"Mendocino\", \"Historic/Cultural Site\", \"Greenwood Beach Visitor Center and Museum\", \"Hwy. One, 0.25 mi. N. of Greenwood Creek, Elk\", \"No\", \" \", \"No\", \" \", 39.13061, -123.717738], [\"Mendocino\", \"Visual Access\", \"Mallo Pass Creek Vista Point\", \"W. of Hwy. One, 2 mi. N. of Irish Beach subdivision\", \"No\", \" \", \"Yes\", \" \", 39.033311, -123.688202], [\"Mendocino\", \"Beach Access\", \"Alder Creek Beach (Mendocino)\", \"End of Alder Creek Rd., W. of Hwy One, 7 mi. N. of Point Arena\", \"Yes\", \" \", \"No\", \" \", 39.003783, -123.695768], [\"Mendocino\", \"Beach Access\", \"Manchester State Park\", \"W. of Hwy. One, from Alder Creek to just N. of Point Arena\", \"Yes\", \" \", \"No\", \" \", 38.982795, -123.705561], [\"Mendocino\", \"Campground\", \"Kinney Road\", \"End of Kinney Rd., W. of Hwy. One, 6 mi. N. of Point Arena\", \"Yes\", \" \", \"No\", \" \", 38.980577, -123.688198], [\"Mendocino\", \"Campground\", \"Manchester Beach KOA\", \"Off Kinney Rd., E. of Manchester State Park\", \"No\", \" \", \"No\", \" \", 38.981907, -123.69329], [\"Mendocino\", \"Beach Access\", \"Stoneboro Road\", \"End of Stoneboro Rd., W. of Hwy One, 4.5 mi. N. of Point Arena\", \"Yes\", \" \", \"No\", \" \", 38.95563, -123.687467], [\"Mendocino\", \"Historic/Cultural Site\", \"Point Arena Lighthouse\", \"End of Lighthouse Rd., W. of Hwy One.\", \"No\", \" \", \"Yes\", \" \", 38.954687, -123.740574], [\"Mendocino\", \"Beach Access\", \"Point Arena Headland/Stornetta Public Lands\", \"2 mi. N. of Point Arena, W. of Hwy. One\", \"No\", \" \", \"Yes\", \" \", 38.945281, -123.730488], [\"Mendocino\", \"Natural Resource\", \"Point Arena Headland (Lighthouse Road)\", \"Lighthouse Rd., .8 mi. from Hwy. One\", \"No\", \" \", \"Yes\", \" \", 38.940357, -123.729838], [\"Mendocino\", \"Natural Resource\", \"Garcia River Access\", \"2.4 mi. N. of Point Arena, W. of Hwy. One\", \"No\", \" \", \"No\", \" \", 38.945255, -123.723434], [\"Mendocino\", \"lost access\", \"Rollerville Junction Campground\", \"Hwy. One at Lighthouse Rd.\", \"No\", \" \", \"No\", \" \", 38.930527, -123.709447], [\"Mendocino\", \"Beach Access\", \"Point Arena-Stornetta Unit (South Entrance)\", \"From Point Arena City Hall to Point Arena Lighthouse\", \"No\", \" \", \"Yes\", \"No\", 38.916708, -123.703799], [\"Mendocino\", \"Beach Access\", \"Arena Cove\", \"End of Iverson Ave./Port Rd., 1 mi. W. of Hwy. One, Point Arena\", \"No\", \" \", \"Yes\", \" \", 38.91455, -123.710188], [\"Mendocino\", \"Visual Access\", \"Overlooks (Schooner Gulch)\", \"Along W. side of Hwy. One, from Schooner Gulch to .75 mi. S.\", \"No\", \" \", \"No\", \" \", 38.869063, -123.653513], [\"Mendocino\", \"Natural Resource\", \"Pelican Bluffs Preserve\", \"Along W. side of Hwy. One, approximately 600ft south of Curly Lane\", \"No\", \" \", \"No\", \" \", 38.894727, -123.683501], [\"Mendocino\", \"No Access\", \"Mendocino Coastal Preserve\", \"W. of Hwy. 1, 1 mi. S. of town of Pt. Arena\", \"No\", \" \", \"Yes\", \" \", 38.899121, -123.688502], [\"Mendocino\", \"Beach Access\", \"Moat Creek Beach\", \"W. of Hwy. One, 2 mi. S. of Point Arena\", \"No\", \" \", \"Yes\", \"Yes\", 38.881296, -123.675202], [\"Mendocino\", \"Beach Access\", \"Ross Creek Beach Access\", \"W. of Hwy. One, 2.5 mi. S. of Point Arena\", \"Yes\", \" \", \"Yes\", \"Yes\", 38.878683, -123.667041], [\"Mendocino\", \"Beach Access\", \"Bowling Ball Beach\", \"W. of Hwy. One, 3.7 mi. S. of Point Arena\", \"Yes\", \" \", \"Yes\", \"Yes\", 38.872933, -123.66064], [\"Mendocino\", \"Beach Access\", \"Schooner Gulch State Beach\", \"W. of Hwy. One at  Schooner Gulch Rd., 3.8 mi. S. of Point Arena\", \"Yes\", \" \", \"Yes\", \"Yes\", 38.867901, -123.653698], [\"Mendocino\", \"Visual Access\", \"Overlook (Hwy. One milepost 10.52)\", \"W. of Hwy One, milepost 10.52\", \"No\", \" \", \"No\", \" \", 38.854298, -123.650887], [\"Mendocino\", \"Beach Access\", \"Hearn Gulch\", \"W. of Hwy. One, N. of Iversen Rd., 5.5 mi. N. of Anchor Bay\", \"Yes\", \" \", \"Yes\", \" \", 38.85198, -123.648289], [\"Mendocino\", \"Beach Access\", \"Fish Rock Beach\", \"At Anchor Bay Campground, .2 mi. N. of the town of Anchor Bay\", \"Yes\", \" \", \"Yes\", \"Yes\", 38.80312, -123.580074], [\"Mendocino\", \"Beach Access\", \"Collins Landing\", \"At Serenisea Lodge, 1.7 mi. S. of town of Anchor Bay\", \"No\", \" \", \"Yes\", \"Yes\", 38.794501, -123.568718], [\"Mendocino\", \"Beach Access\", \"St. Orres Creek\", \"Hwy. One, 2.5 mi. N. of Gualala\", \"Yes\", \" \", \"Yes\", \" \", 38.792663, -123.56341], [\"Mendocino\", \"Beach Access\", \"Bonham Trail to Cook's Beach\", \"Hwy. One, milepost 3.10, 2.3 mi. N. of Gualala\", \"Yes\", \" \", \"No\", \" \", 38.789859, -123.560463], [\"Mendocino\", \"CITY/TOWN\", \"Gualala\", \"Hwy. One, N. side of Gualala River mouth\", \" \", \" \", \" \", \" \", 38.769414, -123.531095], [\"Mendocino\", \"Beach Access\", \"Gualala River\", \"W. of Hwy. One at Gualala\", \"No\", \" \", \"No\", \" \", 38.758495, -123.519974], [\"Mendocino\", \"Visual Access\", \"Gualala Bluff Trail\", \"W. of Hwy. One at Gualala\", \"No\", \" \", \"No\", \" \", 38.7673, -123.530319], [\"Sonoma\", \"Beach Access\", \"Gualala Point Regional Park\", \"Hwy. One, 1 mi. S. of Gualala\", \"Yes\", \" \", \"Yes\", \" \", 38.75877, -123.522985], [\"Sonoma\", \"Beach Access\", \"Salal Trail\", \"Hwy. One, .2 mi. S. of Gualala Point Regional Park entrance\", \"No\", \" \", \"Yes\", \" \", 38.752895, -123.51454], [\"Sonoma\", \"Beach Access\", \"Del Mar Landing State Marine Reserve\", \"Ocean W. of Sea Ranch, 2 mi. S. of Gualala\", \"No\", \" \", \"Yes\", \" \", 38.740929, -123.509138], [\"Sonoma\", \"Visual Access\", \"Sea Ranch Blufftop Trail\", \"W. of Hwy. One starting at Gualala Point Regional Park\", \"No\", \" \", \"Yes\", \" \", 38.757053, -123.526218], [\"Sonoma\", \"Beach Access\", \"Walk-on Beach Trail\", \"Hwy. One, 2.5 mi. S. of Gualala\", \"Yes\", \" \", \"Yes\", \" \", 38.740233, -123.491998], [\"Sonoma\", \"Beach Access\", \"Shell Beach (Sea Ranch)\", \"Hwy. One, 3.7 mi. S. of Gualala\", \"Yes\", \" \", \"Yes\", \" \", 38.729322, -123.472418], [\"Sonoma\", \"Beach Access\", \"Stengel Beach\", \"Hwy. One, 5 mi. S. of Gualala\", \"Yes\", \" \", \"Yes\", \" \", 38.716532, -123.45677], [\"Sonoma\", \"Beach Access\", \"Pebble Beach (Sonoma County)\", \"Hwy. One, 6.7 mi. S. of Gualala\", \"Yes\", \" \", \"Yes\", \"Yes\", 38.699628, -123.436037], [\"Sonoma\", \"Beach Access\", \"Black Point Beach\", \"Hwy. One, 8.1 mi. S. of Gualala\", \"Yes\", \" \", \"No\", \" \", 38.682034, -123.428478], [\"Sonoma\", \"Historic/Cultural Site\", \"Stewarts Point\", \"Hwy. One, 11 mi. S. of Gualala\", \"No\", \" \", \"Yes\", \" \", 38.656054, -123.404089], [\"Sonoma\", \"Beach Access\", \"Kruse Ranch (Salt Point State Park)\", \"Hwy. 1, 2 mi. S. of Rocky Point\", \"No\", \" \", \"Yes\", \" \", 38.604725, -123.358956], [\"Sonoma\", \"Beach Access\", \"Salt Point State Park\", \"Hwy. One, 18 mi. N. of Jenner\", \"Yes\", \" \", \"Yes\", \"Yes\", 38.570436, -123.325667], [\"Sonoma\", \"Beach Access\", \"Horseshoe Point\", \"Hwy. One, .5 to 1.5 mi. N. of Fisk Mill Cove park entrance\", \"No\", \" \", \"Yes\", \" \", 38.607383, -123.370103], [\"Sonoma\", \"Beach Access\", \"North Horseshoe Cove\", \"Hwy. One, 1.5 mi. N. of Fisk Mill Cove park entrance\", \"No\", \" \", \"Yes\", \" \", 38.614165, -123.365864], [\"Sonoma\", \"Beach Access\", \"Fisk Mill Cove\", \"Hwy. One, 2.7 mi. N. of Gerstle Cove park entrance\", \"No\", \" \", \"Yes\", \" \", 38.593942, -123.344686], [\"Sonoma\", \"Natural Resource\", \"Kruse Rhododendron State Reserve\", \"E. of Hwy. One, off Kruse Ranch Road\", \"No\", \" \", \"No\", \" \", 38.594207, -123.32863], [\"Sonoma\", \"Beach Access\", \"Stump Beach Cove\", \"Hwy. One, 1.2 mi. N. of Gerstle Cove Park entrance\", \"Yes\", \" \", \"Yes\", \" \", 38.579878, -123.333625], [\"Sonoma\", \"Beach Access\", \"Gerstle Cove\", \"Hwy. One, 7 mi. N. of Fort Ross\", \"No\", \" \", \"Yes\", \" \", 38.564261, -123.324474], [\"Sonoma\", \"Campground\", \"Ocean Cove\", \"Hwy. One, 5 mi. N. of Fort Ross\", \"Yes\", \" \", \"Yes\", \" \", 38.555701, -123.303309], [\"Sonoma\", \"Beach Access\", \"Stillwater Cove Bluffs\", \"One-quarter mile N. of Stillwater Cove Regional Park entrance\", \"no\", \" \", \"Yes\", \"no\", 38.548594, -123.301173], [\"Sonoma\", \"Beach Access\", \"Stillwater Cove Regional Park\", \"Hwy. One, 4 mi. N. of Fort Ross\", \"Yes\", \" \", \"Yes\", \" \", 38.548165, -123.295441], [\"Sonoma\", \"Campground\", \"Timber Cove Campground and Boat Landing\", \"Hwy. One, 1 mi. N. of Fort Ross\", \"Yes\", \" \", \"Yes\", \" \", 38.532788, -123.273707], [\"Sonoma\", \"Visual Access\", \"Windemere Point\", \"Off Hwy. One, .1 mi. W. of Ft. Ross Store\", \" \", \" \", \"Yes\", \" \", 38.524733, -123.268423], [\"Sonoma\", \"Beach Access\", \"Fort Ross State Historic Park\", \"Hwy. One, 11 mi. N. of Jenner\", \"Yes\", \"Yes\", \"Yes\", \" \", 38.515948, -123.247111], [\"Sonoma\", \"Campground\", \"Fort Ross Reef Campground and Beach\", \"Hwy. One, 10 mi. N. of Jenner\", \"Yes\", \" \", \"Yes\", \" \", 38.509937, -123.235917], [\"Sonoma\", \"Visual Access\", \"Vista Trail\", \"Hwy. One, 4.5 mi. N. of Jenner\", \"No\", \" \", \"No\", \" \", 38.477765, -123.162725], [\"Sonoma\", \"Beach Access\", \"Russian Gulch (Sonoma)\", \"Hwy. One, 3 mi. N. of Jenner\", \"Yes\", \" \", \"Yes\", \" \", 38.466802, -123.15578], [\"Sonoma\", \"Natural Resource\", \"Jenner Headlands Preserve\", \"E. side of Hwy. One, N. of Jenner\", \"No\", \" \", \"No\", \" \", 38.473863, -123.134863], [\"Sonoma\", \"Beach Access\", \"North Jenner Beaches\", \"W. side of Hwy. One, N. of Jenner\", \"Yes\", \" \", \"Yes\", \" \", 38.454648, -123.134155], [\"Sonoma\", \"Beach Access\", \"Russian River\", \"Hwy. One at Hwy 116\", \"Yes\", \" \", \"No\", \" \", 38.450408, -123.128357], [\"Sonoma\", \"lost access\", \"Rivers End\", \"Hwy. One, Jenner\", \"Yes\", \" \", \"No\", \" \", 38.450665, -123.124847], [\"Sonoma\", \"CITY/TOWN\", \"Jenner\", \"Hwy One at mouth of Russian River\", \" \", \" \", \" \", \" \", 38.450068, -123.11487], [\"Sonoma\", \"Visual Access\", \"Jenner Visitor Center\", \"Hwy. One, at mouth of Russian River\", \"No\", \" \", \"No\", \" \", 38.449434, -123.115283], [\"Sonoma\", \"Visual Access\", \"Vista Points (Jenner to Bridgehaven)\", \"Hwy. One, Jenner to Bridgehaven\", \"No\", \" \", \"No\", \" \", 38.441057, -123.108814], [\"Sonoma\", \"Beach Access\", \"Duncans Mills Camping Club\", \"Hwy. 116, Duncans Mills\", \"Yes\", \" \", \"No\", \" \", 38.450703, -123.055101], [\"Sonoma\", \"Beach Access\", \"Casini Ranch Family Campground\", \"Moscow Rd., .75 mi. E. of Hwy. 116, Duncans Mills\", \"Yes\", \" \", \"No\", \" \", 38.46031, -123.045073], [\"Sonoma\", \"Campground\", \"Willow Creek Campground\", \"Willow Creek Rd., off Hwy. One\", \"No\", \" \", \"No\", \" \", 38.447072, -123.092387], [\"Sonoma\", \"Campground\", \"Pomo Canyon Campground\", \"Willow Creek Rd., E. of Hwy. One, Sonoma Coast State Park\", \"No\", \" \", \"No\", \" \", 38.429728, -123.073009], [\"Sonoma\", \"Natural Resource\", \"Red Hill\", \"E. of Hwy. One, 3.5 mi. S. of Jenner\", \"No\", \" \", \"No\", \" \", 38.42555, -123.092365], [\"Sonoma\", \"Beach Access\", \"Goat Rock\", \"Goat Rock Rd., off Hwy. One, Sonoma Coast State Park\", \"Yes\", \" \", \"No\", \" \", 38.440756, -123.126035], [\"Sonoma\", \"Beach Access\", \"Sonoma Coast State Park\", \"Off Hwy. One, from north of Jenner to Bodega Head\", \"Yes\", \" \", \"Yes\", \" \", 38.402301, -123.095155], [\"Sonoma\", \"Beach Access\", \"Shell Beach (Sonoma)\", \"Hwy. One, 3.5 mi. S. of Jenner, Sonoma Coast State Park\", \"Yes\", \" \", \"Yes\", \"Yes\", 38.417267, -123.105583], [\"Sonoma\", \"Beach Access\", \"Wright's Beach\", \"Along Hwy. One, 6 mi. N. of  Bodega Bay, Sonoma Coast State Park\", \"Yes\", \" \", \"No\", \" \", 38.400206, -123.095112], [\"Sonoma\", \"Beach Access\", \"Duncans Landing\", \"Along Hwy. One, 5 mi. N. of  Bodega Bay, Sonoma Coast State Park\", \"Yes\", \" \", \"Yes\", \" \", 38.395619, -123.092705], [\"Sonoma\", \"Visual Access\", \"Gleason Beach\", \"Along Hwy. One, 4.5 mi N. of Bodega Bay, Sonoma Coast State Park\", \"No\", \" \", \"Yes\", \" \", 38.390012, -123.085223], [\"Sonoma\", \"Beach Access\", \"Portuguese Beach\", \"Off Hwy. One, .3 mi. N. of Carmet, Sonoma Coast State Park\", \"Yes\", \" \", \"Yes\", \"Yes\", 38.377769, -123.080137], [\"Sonoma\", \"Beach Access\", \"Schoolhouse Beach\", \"Off Hwy. One opposite Carmet, Sonoma Coast State Park\", \"Yes\", \" \", \"Yes\", \"Yes\", 38.375137, -123.077916], [\"Sonoma\", \"Beach Access\", \"Carmet Beach\", \"Off Hwy. One opposite Carmet, Sonoma Coast State Park\", \"Yes\", \" \", \"Yes\", \"Yes\", 38.371881, -123.076008], [\"Sonoma\", \"Beach Access\", \"Marshall Gulch\", \"Off Hwy. One, .4 mi. N. of Coleman Valley Rd., Sonoma Coast State Park\", \"Yes\", \" \", \"Yes\", \"Yes\", 38.37014, -123.074199], [\"Sonoma\", \"Beach Access\", \"Coleman Beach\", \"Off Hwy. One, 100 yds. S. of Coleman Valley Rd., Sonoma Coast State Park\", \"Yes\", \" \", \"Yes\", \"Yes\", 38.363601, -123.070119], [\"Sonoma\", \"Natural Resource\", \"Carrington Coast Ranch\", \"Coleman Valley Rd., .3 mi. E. of Hwy One\", \"No\", \" \", \"No\", \" \", 38.368264, -123.064879], [\"Sonoma\", \"Beach Access\", \"North Salmon Creek Beach\", \"Hwy. One, 2.5 mi. N. of Bodega Bay, Sonoma Coast State Park\", \"Yes\", \" \", \"No\", \" \", 38.356071, -123.066815], [\"Sonoma\", \"Beach Access\", \"Bodega Dunes Day-Use Area\", \"Hwy. One, .5 mi N. of Bodega Bay, Sonoma Coast State Park\", \"Yes\", \" \", \"No\", \" \", 38.337679, -123.067194], [\"Sonoma\", \"Campground\", \"Bodega Dunes Campground\", \"Hwy. One, .5 mi N. of Bodega Bay, Sonoma Coast State Park\", \"Yes\", \" \", \"No\", \" \", 38.337533, -123.055907], [\"Sonoma\", \"Natural Resource\", \"Coastal Prairie Trail\", \"Off Hwy. One, .3 mi. N. of Bodega Bay\", \"No\", \" \", \"No\", \"No\", 38.340814, -123.050065], [\"Sonoma\", \"Beach Access\", \"Bodega Harbor\", \"Off Hwy. One and Bay Flat Rd., Bodega Bay\", \"Yes\", \" \", \"Yes\", \" \", 38.327327, -123.049217], [\"Sonoma\", \"CITY/TOWN\", \"Town of Bodega Bay\", \"Hwy. One ajdacent to Bodega Harbor\", \"No\", \" \", \"No\", \" \", 38.334681, -123.048233], [\"Sonoma\", \"Boat Access\", \"Mason's Marina\", \"1820 Westshore Rd., Bodega Bay\", \"No\", \" \", \"No\", \" \", 38.331652, -123.059383], [\"Sonoma\", \"Boat Access\", \"Spud Point Marina\", \"1818 Westshore Rd., Bodega Bay\", \"No\", \" \", \"Yes\", \" \", 38.327938, -123.05776], [\"Sonoma\", \"Beach Access\", \"Westside Regional Park\", \"Off Westshore Rd., Bodega Bay\", \"Yes\", \" \", \"No\", \" \", 38.323139, -123.055743], [\"Sonoma\", \"No Access\", \"UC Davis Bodega Marine Laboratory\", \"Off Westshore Rd., Bodega Bay\", \"No\", \" \", \"Yes\", \" \", 38.317854, -123.071871], [\"Sonoma\", \"Beach Access\", \"Bodega Head State Marine Reserve\", \"Offshore, UC Davis Bodega Marine Laboratory\", \"No\", \" \", \"Yes\", \"Yes\", 38.318851, -123.076947], [\"Sonoma\", \"Beach Access\", \"Campbell Cove\", \"End of Westshore Rd., Bodega Bay\", \"Yes\", \" \", \"No\", \" \", 38.305436, -123.056745], [\"Sonoma\", \"Visual Access\", \"Bodega Head Trail / Overlook Trail\", \"N. end of main Bodega Head parking area\", \"No\", \" \", \"No\", \"No\", 38.304567, -123.063824], [\"Sonoma\", \"Beach Access\", \"Bodega Head\", \"End of Westshore Rd., Bodega Bay\", \"Yes\", \" \", \"Yes\", \" \", 38.30014, -123.05976], [\"Sonoma\", \"Boat Access\", \"Porto Bodega\", \"1500 Bay Flat Rd., Bodega Bay\", \"No\", \" \", \"No\", \" \", 38.334201, -123.051142], [\"Sonoma\", \"Visual Access\", \"Lucas Wharf\", \"599 Coast Hwy. One, Bodega Bay\", \"No\", \" \", \"No\", \" \", 38.326039, -123.04055], [\"Sonoma\", \"Visual Access\", \"Bird Walk Coastal Access\", \"W. of Hwy. One opposite N. Harbour Way, Bodega Bay\", \"No\", \" \", \"No\", \" \", 38.321043, -123.035607], [\"Sonoma\", \"Beach Access\", \"Doran Beach Regional Park\", \"Doran Beach Rd., Bodega Bay\", \"Yes\", \" \", \"No\", \" \", 38.314023, -123.044516], [\"Sonoma\", \"Beach Access\", \"Pinnacle Gulch Trail\", \"Mockingbird Dr., Bodega Harbour subdivision\", \"Yes\", \" \", \"No\", \" \", 38.307082, -123.018401], [\"Sonoma\", \"Beach Access\", \"Short Tail Gulch\", \"Mockingbird Dr., Bodega Harbour subdivision\", \"Yes\", \" \", \"No\", \" \", 38.304405, -123.012028], [\"Marin\", \"No Access\", \"Estero Americano\", \"Off Hwy. One, 9 mi. N.W. of Tomales\", \"Yes\", \" \", \"No\", \" \", 38.295776, -123.002314], [\"Marin\", \"No Access\", \"Estero de San Antonio\", \"Off Hwy. One, 5 mi. N.W. of Tomales\", \"Yes\", \" \", \"No\", \" \", 38.270019, -122.977772], [\"Marin\", \"Beach Access\", \"Dillon Beach\", \"End of Dillon Beach Rd., 4.1 mi. W. of Tomales\", \"Yes\", \" \", \"Yes\", \"Yes\", 38.249859, -122.967449], [\"Marin\", \"Beach Access\", \"Lawson's Landing\", \"5 mi. W. of Tomales, off Hwy. One, S. W. of Dillon Beach\", \"Yes\", \" \", \"No\", \" \", 38.231865, -122.969553], [\"Marin\", \"CITY/TOWN\", \"Town of Tomales\", \"Hwy. One, 4.5 mi. S. of the Sonoma County line\", \"No\", \" \", \"No\", \" \", 38.246302, -122.904827], [\"Marin\", \"Beach Access\", \"Keys Creek Fishing Access\", \"Milepost 44.07 on Hwy. One, 1.6 mi. S.W. of Tomales\", \"No\", \" \", \"No\", \" \", 38.226306, -122.916284], [\"Marin\", \"Beach Access\", \"Walker Creek Delta\", \"2 mi. S. of Tomales, W. of Hwy. One\", \"No\", \" \", \"No\", \" \", 38.218578, -122.924174], [\"Marin\", \"Boat Access\", \"Tomales Bay\", \"N.W. of Point Reyes Station\", \" \", \" \", \" \", \" \", 38.157696, -122.902618], [\"Marin\", \"Boat Access\", \"Miller Park Launching Facility\", \"Hwy. One, 3.6 mi. N. of Marshall\", \"Yes\", \" \", \"Yes\", \" \", 38.199878, -122.921562], [\"Marin\", \"Beach Access\", \"Nick's Cove\", \"Hwy. One, 3.6 mi. N. of Marshall\", \"No\", \" \", \"No\", \" \", 38.19953, -122.920921], [\"Marin\", \"Natural Resource\", \"Livermore Marsh / Cypress Grove\", \"Marshall - Petaluma Rd., Hwy. One intersection\", \"No\", \" \", \"No\", \" \", 38.167924, -122.90134], [\"Marin\", \"Natural Resource\", \"Tomales Bay State Park - Marshall\", \"Hwy. One, 1.25 mi. N. of Marshall\", \"No\", \" \", \"Yes\", \" \", 38.176324, -122.904073], [\"Marin\", \"CITY/TOWN\", \"Village of Marshall\", \"Hwy. One, 10 mi. N. of Point Reyes Station\", \"No\", \" \", \"No\", \" \", 38.161812, -122.893121], [\"Marin\", \"Historic/Cultural Site\", \"Marconi Conference Center\", \"E. of Hwy. One, 1 mi. S. of Marshall\", \"No\", \" \", \"No\", \" \", 38.143894, -122.878509], [\"Marin\", \"Natural Resource\", \"Tomales Bay State Park - Tomasini Point\", \"Hwy. One, 6.6 mi. N. of Point Reyes Station\", \"No\", \" \", \"No\", \"No\", 38.121697, -122.856134], [\"Marin\", \"Beach Access\", \"Tomales Bay State Park - Millerton Point\", \"Hwy. One, 5.4 mi. N. of Point Reyes Station\", \"Yes\", \" \", \"Yes\", \" \", 38.108689, -122.844944], [\"Marin\", \"Visual Access\", \"Bivalve Overlook\", \"Milepost 31.50 on Hwy. One, 3.2 mi. N. of Point Reyes Station\", \"No\", \" \", \"No\", \" \", 38.092578, -122.827174], [\"Marin\", \"Natural Resource\", \"Tomales Bay Trailhead\", \"Edge of Tomales Bay Ecological Reserve, 2.2 mi. N. of Point Reyes Station\", \"No\", \" \", \"No\", \" \", 38.087317, -122.813072], [\"Marin\", \"Natural Resource\", \"Lagunitas Creek\", \"Hwy. One at Pt. Reyes Station\", \"No\", \" \", \"No\", \" \", 38.064987, -122.805176], [\"Marin\", \"Historic/Cultural Site\", \"Point Reyes Station\", \"Hwy. One at Pt. Reyes-Petaluma Rd\", \"No\", \" \", \"No\", \" \", 38.068798, -122.806773], [\"Marin\", \"Natural Resource\", \"Giacomini Wetlands\", \"W. of Point Reyes Station\", \"No\", \" \", \"No\", \" \", 38.067085, -122.807804], [\"Marin\", \"Natural Resource\", \"Olema Marsh\", \"Sir Francis Drake Blvd. and Bear Valley Rd. intersection, S.E. corner\", \"No\", \" \", \"No\", \" \", 38.058907, -122.809742], [\"Marin\", \"Beach Access\", \"Point Reyes National Seashore\", \"Headquarters on Bear Valley Rd., .25 mi. N.W. of Olema\", \"Yes\", \" \", \"Yes\", \" \", 38.043905, -122.798014], [\"Marin\", \"Natural Resource\", \"White House Pool\", \"Sir Francis Drake Blvd. and Bear Valley Rd. intersection, N.E. corner\", \"No\", \" \", \"No\", \" \", 38.062229, -122.816487], [\"Marin\", \"Natural Resource\", \"Tomales Bay Ecological Reserve\", \"Southern portion of Tomales Bay\", \"No\", \" \", \"No\", \" \", 38.081281, -122.83082], [\"Marin\", \"Natural Resource\", \"Shields Saltmarsh\", \"Sir Francis Drake Blvd., 3 mi. N. of Point Reyes Station\", \"No\", \" \", \"No\", \" \", 38.08817, -122.841707], [\"Marin\", \"Beach Access\", \"Martinelli Park\", \"Sir Francis Drake Blvd., Inverness\", \"Yes\", \" \", \"No\", \" \", 38.096641, -122.851298], [\"Marin\", \"CITY/TOWN\", \"Inverness\", \"Sir Francis Drake Blvd., 3.1 mi. N. of Bear Valley Rd.\", \"No\", \" \", \" \", \" \", 38.09685, -122.851833], [\"Marin\", \"Boat Access\", \"Tomales Bay Resort\", \"12938 Sir Francis Drake Blvd., .3 mi. N. of Inverness\", \" \", \" \", \" \", \" \", 38.107081, -122.862716], [\"Marin\", \"Beach Access\", \"Dana Marsh\", \"Sir Francis Drake Blvd., .25 mi. N. of Inverness.\", \"Yes\", \" \", \"No\", \" \", 38.106481, -122.861951], [\"Marin\", \"Beach Access\", \"Chicken Ranch Beach\", \"Sir Francis Drake Blvd., .5 mi. N. of Inverness\", \"Yes\", \" \", \"No\", \" \", 38.110024, -122.865141], [\"Marin\", \"Natural Resource\", \"Inverness Ridge\", \"W. of Tomales Bay\", \"No\", \" \", \"No\", \" \", 38.079954, -122.867196], [\"Marin\", \"Beach Access\", \"Shell Beach (Tomales Bay State Park)\", \"End of Camino del Mar, off Sir Francis Drake Blvd., 1 mi. N. of Inverness\", \"Yes\", \" \", \"No\", \" \", 38.116495, -122.87354], [\"Marin\", \"Beach Access\", \"Heart's Desire Beach (Tomales Bay State Park)\", \"Pierce Point Rd., 2 mi. N. of Inverness\", \"Yes\", \" \", \"No\", \" \", 38.132438, -122.893227], [\"Marin\", \"Beach Access\", \"Pebble Beach (Tomales Bay State Park)\", \"Pierce Point Rd., 2 mi. N. of Inverness\", \"Yes\", \" \", \"No\", \" \", 38.129222, -122.886958], [\"Marin\", \"Beach Access\", \"Indian Beach (Tomales Bay State Park)\", \"2 mi. N. of Inverness on Pierce Point Rd.\", \"Yes\", \" \", \"No\", \" \", 38.137463, -122.896596], [\"Marin\", \"Beach Access\", \"Marshall Beach\", \"L Ranch Rd. to Marshall Beach Rd., off Pierce Point Rd., 1.3 mi. N. of Sir Francis Drake Blvd. junction\", \"Yes\", \" \", \"No\", \" \", 38.163935, -122.915243], [\"Marin\", \"Historic/Cultural Site\", \"Pierce Point Ranch\", \"End of Pierce Point Rd., 7 mi. N. of Inverness\", \"No\", \" \", \"Yes\", \" \", 38.189119, -122.954038], [\"Marin\", \"Natural Resource\", \"Tomales Point\", \"3 mi. N.W. of end of Pierce Point Rd., 10 mi. N. of Inverness\", \"No\", \" \", \"Yes\", \" \", 38.240611, -122.994833], [\"Marin\", \"Beach Access\", \"McClures Beach\", \"End of Pierce Point Rd., 9 mi. N. of Inverness\", \"Yes\", \" \", \"Yes\", \"Yes\", 38.187905, -122.96422], [\"Marin\", \"Beach Access\", \"Kehoe Beach\", \"Trail off Pierce Point Rd., S. of McClures Beach\", \"Yes\", \" \", \"No\", \" \", 38.155478, -122.948846], [\"Marin\", \"Beach Access\", \"Abbotts Lagoon\", \"Off Pierce Point Rd., 3.4 mi. N.W. of Sir Francis Drake Boulevard\", \"Yes\", \" \", \"No\", \" \", 38.118805, -122.950903], [\"Marin\", \"Beach Access\", \"Drakes Estero\", \"Estero Trail off Sir Francis Drake Blvd., .4 mi. W. of Inverness\", \"No\", \" \", \"No\", \"Yes\", 38.06729, -122.918594], [\"Marin\", \"Beach Access\", \"North Beach\", \"Off Sir Francis Drake Blvd., Point Reyes\", \"Yes\", \" \", \"No\", \" \", 38.077791, -122.974713], [\"Marin\", \"Beach Access\", \"South Beach\", \"Off Sir Francis Drake Blvd., Point Reyes\", \"Yes\", \" \", \"No\", \" \", 38.047854, -122.987909], [\"Marin\", \"Historic/Cultural Site\", \"Point Reyes Headlands\", \"End of Sir Francis Drake Blvd.\", \"No\", \" \", \"Yes\", \" \", 37.997718, -123.011695], [\"Marin\", \"Lighthouse\", \"Point Reyes Lighthouse\", \"End of Sir Francis Drake Blvd., 15 mi. S.W. of Inverness\", \"No\", \"Yes\", \"Yes\", \" \", 37.995822, -123.023097], [\"Marin\", \"Natural Resource\", \"Chimney Rock Trailhead\", \"Off Sir Francis Drake Blvd., Pt. Reyes Headlands\", \" \", \" \", \"Yes\", \" \", 37.995564, -122.979062], [\"Marin\", \"Beach Access\", \"Drakes Beach\", \"Drakes Beach Rd., off Sir Francis Drake Boulevard\", \"Yes\", \" \", \"No\", \" \", 38.027754, -122.961775], [\"Marin\", \"Natural Resource\", \"Estero de Limantour\", \"End of Limantour Road\", \"No\", \" \", \"No\", \" \", 38.028548, -122.88467], [\"Marin\", \"LCOA\", \"Point Reyes Hostel\", \"Off Limantour Rd., 7 mi. from Bear Valley Road\", \"No\", \" \", \"No\", \" \", 38.044052, -122.861845], [\"Marin\", \"Beach Access\", \"Limantour Beach\", \"End of Limantour Road\", \"Yes\", \" \", \"No\", \" \", 38.026019, -122.886565], [\"Marin\", \"Beach Access\", \"Sculptured Beach\", \"6 mi. from Bear Valley via trail\", \"Yes\", \" \", \"Yes\", \" \", 38.010003, -122.845309], [\"Marin\", \"CITY/TOWN\", \"Olema\", \"Hwy. One at Sir Francis Drake Blvd.\", \"No\", \" \", \"No\", \" \", 38.040522, -122.787778], [\"Marin\", \"Campground\", \"Olema Ranch Campground\", \"10155 Hwy. One, Olema\", \"No\", \" \", \"No\", \" \", 38.043925, -122.790622], [\"Marin\", \"Historic/Cultural Site\", \"Point Reyes National Seashore Visitor Center\", \"Bear Valley Rd., .5 mi N.W. of Olema\", \"No\", \" \", \"No\", \" \", 38.041247, -122.800208], [\"Marin\", \"Historic/Cultural Site\", \"Samuel P. Taylor State Park\", \"Sir Francis Drake Blvd., 5.2 mi. E. of Olema\", \"No\", \" \", \"No\", \" \", 38.019555, -122.729591], [\"Marin\", \"Natural Resource\", \"Five Brooks Trailhead\", \"Hwy. One , 3 mi. S. of Olema\", \"No\", \" \", \"No\", \" \", 37.998264, -122.755437], [\"Marin\", \"Natural Resource\", \"Palomarin Trailhead\", \"End of Mesa Rd., 5 mi. N.W. of Bolinas\", \"No\", \" \", \"No\", \" \", 37.933777, -122.746523], [\"Marin\", \"Natural Resource\", \"Point Blue Visitor Center\", \"Mesa Rd., 4.5 mi. N.W. of Bolinas\", \"No\", \" \", \"No\", \" \", 37.930033, -122.736104], [\"Marin\", \"Beach Access\", \"Path to Shore 1 (Mesa Road)\", \"Mile marker 2.68, Mesa Rd., N.W. of Bolinas\", \"No\", \" \", \"Yes\", \" \", 37.920708, -122.723352], [\"Marin\", \"Beach Access\", \"Path to Shore 2 (Mesa Road)\", \"451 Mesa Rd., N.W. of Bolinas\", \"Yes\", \" \", \"Yes\", \" \", 37.918229, -122.720148], [\"Marin\", \"Beach Access\", \"Agate Beach\", \"End of Elm Rd., Bolinas\", \"Yes\", \" \", \"Yes\", \"Yes\", 37.897285, -122.710617], [\"Marin\", \"Beach Access\", \"Duxbury Reef\", \"S.W. perimeter of Bolinas Mesa\", \"No\", \" \", \"Yes\", \"Yes\", 37.889118, -122.699391], [\"Marin\", \"CITY/TOWN\", \"Town of Bolinas\", \"End of Bolinas-Olema Rd., off Hwy. One\", \"Yes\", \" \", \" \", \" \", 37.9095, -122.686558], [\"Marin\", \"Visual Access\", \"Bolinas Overlook\", \"End of Overlook Dr., Bolinas\", \"No\", \" \", \"Yes\", \" \", 37.902429, -122.693923], [\"Marin\", \"Beach Access\", \"Bolinas Beach\", \"Ends of Brighton and Wharf Aves., Bolinas\", \"Yes\", \" \", \"Yes\", \" \", 37.905149, -122.684557], [\"Marin\", \"Natural Resource\", \"Bolinas Lagoon Nature Preserve\", \"Along Hwy. One and Olema-Bolinas Road\", \"No\", \" \", \"No\", \" \", 37.921996, -122.68983], [\"Marin\", \"Historic/Cultural Site\", \"Audubon Canyon Ranch\", \"Hwy. One, 3 mi. N. of Stinson Beach\", \"No\", \" \", \"No\", \" \", 37.929978, -122.682518], [\"Marin\", \"Beach Access\", \"Seadrift Beach\", \"N.W. of Stinson Beach\", \"Yes\", \" \", \"No\", \" \", 37.905214, -122.664035], [\"Marin\", \"Beach Access\", \"Walla Vista Walkway\", \"Calle del Arroyo, off Hwy. One, Stinson Beach\", \"Yes\", \" \", \"No\", \" \", 37.903252, -122.653172], [\"Marin\", \"CITY/TOWN\", \"Town of Stinson Beach\", \"Hwy. One, .3 mi. N. of Panoramic Hightway\", \"Yes\", \" \", \" \", \" \", 37.898356, -122.640318], [\"Marin\", \"Beach Access\", \"Stinson Beach\", \"W. of Hwy. One, N. of Panoramic Highway, Stinson Beach\", \"Yes\", \" \", \"Yes\", \" \", 37.897682, -122.642956], [\"Los Angeles\", \"Historic/Cultural Site\", \"Los Angeles Maritime Museum\", \"Berth 84, foot of 6th St., San Pedro\", \"No\", \" \", \" \", \" \", 33.738866, -118.279], [\"Los Angeles\", \"Park\", \"John S. Gibson Jr. Park\", \"6th St. and Sampson Way, San Pedro\", \"No\", \" \", \" \", \" \", 33.738884, -118.27957], [\"Los Angeles\", \"Historic/Cultural Site\", \"U.S.S. Iowa\", \"Foot of 1st St., San Pedro\", \"No\", \" \", \" \", \" \", 33.743207, -118.276916], [\"Los Angeles\", \"Historic/Cultural Site\", \"Cruise Ship Promenade\", \"Berth 93, Los Angeles Harbor\", \"No\", \" \", \" \", \" \", 33.749302, -118.276849], [\"Los Angeles\", \"Boat Access\", \"Catalina Terminal (San Pedro)\", \"Berths 94 and 95, L.A. Harbor, San Pedro\", \"No\", \" \", \" \", \" \", 33.750521, -118.274426], [\"Los Angeles\", \"Historic/Cultural Site\", \"Vincent Thomas Bridge\", \"Hwy. 47 between San Pedro and Terminal Island, Port of Los Angeles\", \"No\", \" \", \" \", \" \", 33.749878, -118.27306], [\"Los Angeles\", \"Visual Access\", \"Fishing Access\", \"Harbor Scenic Dr. South, Long Beach Harbor\", \"No\", \" \", \"No\", \" \", 33.746185, -118.189004], [\"Los Angeles\", \"Boat Access\", \"Long Beach Harbor\", \"E. end of San Pedro Bay, Long Beach\", \"No\", \" \", \" \", \" \", 33.73865, -118.218776], [\"Los Angeles\", \"Historic/Cultural Site\", \"Queen Mary\", \"Pier J, Long Beach Harbor\", \"No\", \" \", \" \", \" \", 33.752982, -118.189931], [\"Los Angeles\", \"Boat Access\", \"Queensway Bay\", \"Mouth of Los Angeles River, Long Beach\", \"No\", \" \", \" \", \" \", 33.756601, -118.193903], [\"Los Angeles\", \"Boat Access\", \"Catalina Landing\", \"320 Golden Shore St., Long Beach\", \"No\", \" \", \" \", \" \", 33.76255, -118.198889], [\"Los Angeles\", \"Boat Access\", \"South Shore Launch Ramp\", \"Queensway Dr., W. of Queensway Bay Bridge, Long Beach\", \"No\", \" \", \" \", \" \", 33.759196, -118.201747], [\"Los Angeles\", \"Historic/Cultural Site\", \"Aquarium of the Pacific\", \"100 Aquarium Way at Shoreline Park, Long Beach\", \"No\", \" \", \" \", \" \", 33.762514, -118.19654], [\"Los Angeles\", \"Natural Resource\", \"Golden Shore Marine Biological Reserve\", \"Adjacent to Golden Shore RV Resort, Golden Shore St., Long Beach\", \"No\", \" \", \" \", \" \", 33.763989, -118.203446], [\"Los Angeles\", \"LCOA\", \"Golden Shore RV Resort\", \"101 Golden Shore St., Long Beach\", \"No\", \" \", \" \", \" \", 33.764497, -118.202182], [\"Los Angeles\", \"Boat Access\", \"Rainbow Harbor\", \"Foot of Pine Ave., S. of Shoreline Dr., Long Beach\", \"No\", \" \", \" \", \" \", 33.762242, -118.193418], [\"Los Angeles\", \"Park\", \"Shoreline Park (Long Beach)\", \"Shoreline Dr. and Pine Ave., Long Beach\", \"No\", \" \", \" \", \" \", 33.760581, -118.195915], [\"Los Angeles\", \"Historic/Cultural Site\", \"Shoreline Village\", \"Shoreline Village Dr., Long Beach\", \"No\", \" \", \"No\", \" \", 33.760256, -118.191965], [\"Los Angeles\", \"Boat Access\", \"Long Beach Shoreline Marina\", \"450 E. Shoreline Dr., E. of Rainbow Harbor, Long Beach\", \"No\", \" \", \" \", \" \", 33.759628, -118.184488], [\"Los Angeles\", \"Beach Access\", \"Long Beach City Beach\", \"Seaward of Ocean Blvd., Long Beach\", \"Yes\", \" \", \"No\", \" \", 33.763737, -118.176066], [\"Los Angeles\", \"Park\", \"Bixby Park\", \"Ocean Blvd. between Cherry and Junipero avenues, Long Beach\", \"No\", \" \", \" \", \" \", 33.765548, -118.167177], [\"Los Angeles\", \"Beach Access\", \"Long Beach City Beach (Junipero Avenue)\", \"Foot of Junipero Ave., Long Beach\", \"Yes\", \" \", \"No\", \" \", 33.762552, -118.164788], [\"Los Angeles\", \"Park\", \"Bluff Park\", \"Seaward of Ocean Blvd., from Lindero Ave. to E. of Redondo Ave., Long Beach\", \"Yes\", \" \", \" \", \" \", 33.761927, -118.158132], [\"Los Angeles\", \"Pier\", \"Belmont Veterans Memorial Pier\", \"Foot of 39th Place, Long Beach\", \"No\", \" \", \"No\", \" \", 33.758807, -118.147848], [\"Los Angeles\", \"Recreational Facility\", \"Belmont Plaza Olympic Pool\", \"E. of Belmont Veterans Memorial Pier, Long Beach\", \"No\", \" \", \" \", \" \", 33.757657, -118.144756], [\"Los Angeles\", \"Beach Access\", \"Belmont Shore (Granada Avenue)\", \"Off E. Ocean Blvd. at foot of Granada Ave., Long Beach\", \"Yes\", \" \", \"No\", \" \", 33.756032, -118.139028], [\"Los Angeles\", \"Beach Access\", \"Belmont Shore\", \"Seaward of E. Ocean Blvd., between 39th Place and 54th Place, Long Beach\", \"Yes\", \" \", \" \", \" \", 33.754287, -118.137766], [\"Los Angeles\", \"Beach Access\", \"Alamitos Peninsula\", \"Off E. Ocean Blvd., 54th Place to 72nd Place, Long Beach\", \"Yes\", \" \", \" \", \" \", 33.749232, -118.126456], [\"Los Angeles\", \"Beach Access\", \"Bay Shore Walk\", \"Off E. Ocean Blvd., 55th Place to 69th Place, Long Beach\", \"Yes\", \" \", \"No\", \"No\", 33.751775, -118.128389], [\"Los Angeles\", \"Beach Access\", \"Alamitos Bay\", \"W. of the San Gabriel River mouth, Long Beach\", \"No\", \" \", \" \", \" \", 33.748845, -118.116372], [\"Los Angeles\", \"Beach Access\", \"Naples\", \"Along E. 2nd St., in Alamitos Bay, Long Beach\", \"No\", \" \", \" \", \" \", 33.752998, -118.124061], [\"Los Angeles\", \"Beach Access\", \"Marine Park\", \"E. Appian Way at E. 2nd St. overcrossing, Long Beach\", \"Yes\", \" \", \" \", \" \", 33.758259, -118.120552], [\"Los Angeles\", \"Beach Access\", \"Marine Stadium\", \"N. of E. 2nd St. and E. of Appian Way, Long Beach\", \"No\", \" \", \" \", \" \", 33.765591, -118.125133], [\"Los Angeles\", \"Natural Resource\", \"Jack Dunster Marine Biological Reserve\", \"End of Boathouse Ln. off E. Eliot St., Long Beach\", \"No\", \" \", \"No\", \"No\", 33.761784, -118.120548], [\"Los Angeles\", \"Park\", \"Jack Nichol Park\", \"End of Costa del Sol Way, Long Beach\", \"No\", \" \", \"No\", \"No\", 33.76343, -118.116186], [\"Los Angeles\", \"Beach Access\", \"Colorado Lagoon\", \"5119 E. Colorado St. at E. Appian Way, Long Beach\", \"Yes\", \" \", \" \", \" \", 33.772904, -118.132804], [\"Los Angeles\", \"Boat Access\", \"Alamitos Bay Marina\", \"205 Marina Dr., Long Beach\", \"No\", \" \", \" \", \" \", 33.751913, -118.110715], [\"Los Angeles\", \"Beach Access\", \"Hamilton Cove\", \"1 mi. N. of Avalon Bay\", \"Yes\", \" \", \"Yes\", \" \", 33.354485, -118.33058], [\"Los Angeles\", \"Beach Access\", \"Descanso Beach\", \"N. end of Avalon Casino, Avalon\", \"Yes\", \" \", \" \", \" \", 33.350676, -118.328505], [\"Los Angeles\", \"Beach Access\", \"Casino Point Marine Park\", \"Offshore from the Casino, Avalon\", \"No\", \"Yes\", \"Yes\", \" \", 33.348894, -118.324643], [\"Los Angeles\", \"Pier\", \"Pleasure Pier\", \"Foot of Catalina Ave., Avalon\", \"No\", \" \", \" \", \" \", 33.3436, -118.325093], [\"Los Angeles\", \"Boat Access\", \"Avalon Bay\", \"E. end of Santa Catalina Island, on the leeward side\", \"Yes\", \" \", \" \", \" \", 33.34508, -118.322807], [\"Los Angeles\", \"Beach Access\", \"Crescent Beach (Santa Catalina Island)\", \"N. and S. of the Pleasure Pier, Avalon\", \"Yes\", \" \", \" \", \" \", 33.343692, -118.325254], [\"Los Angeles\", \"Natural Resource\", \"Nature Center at Avalon Canyon\", \"1202 Avalon Canyon Rd., Avalon\", \"No\", \" \", \" \", \" \", 33.329894, -118.337432], [\"Los Angeles\", \"Campground\", \"Hermit Gulch Campground\", \"Avalon Canyon Rd., 1.5 mi. from Pleasure Pier, Avalon\", \"No\", \" \", \" \", \" \", 33.329473, -118.338254], [\"Los Angeles\", \"Historic/Cultural Site\", \"Wrigley Memorial and Botanical Garden\", \"Avalon Canyon Rd., 1.7 mi. from Pleasure Pier, Avalon\", \"No\", \" \", \" \", \" \", 33.326739, -118.340135], [\"Los Angeles\", \"Campground\", \"Parson's Landing Campground\", \"Parson's Landing, N.W. end of Santa Catalina Island\", \"Yes\", \" \", \"Yes\", \" \", 33.47301, -118.54939], [\"Los Angeles\", \"Campground\", \"Two Harbors Campground\", \"Little Fisherman's Cove, Two Harbors, Santa Catalina Island\", \"Yes\", \" \", \"Yes\", \" \", 33.441423, -118.492083], [\"Los Angeles\", \"Beach Access\", \"Two Harbors Isthmus\", \"N.W. part of Santa Catalina Island, on the leeward side\", \"Yes\", \" \", \"Yes\", \" \", 33.43933, -118.500027], [\"Los Angeles\", \"Campground\", \"Little Harbor Campground\", \"Little Harbor, on the windward side of Santa Catalina Island\", \"Yes\", \" \", \"Yes\", \" \", 33.385555, -118.472952], [\"Los Angeles\", \"Beach Access\", \"Ben Weston Beach\", \"Off Middle Ranch Rd., windward side of Santa Catalina Island\", \"Yes\", \" \", \"Yes\", \" \", 33.368066, -118.481028], [\"Los Angeles\", \"Historic/Cultural Site\", \"Airport-In-The-Sky\", \"On Airport Rd., 10 mi. N.W. of Avalon\", \"No\", \" \", \" \", \" \", 33.404176, -118.41625], [\"Los Angeles\", \"Campground\", \"Black Jack Campground\", \"9.4 mi. N.W. of Avalon, Santa Catalina Island\", \"No\", \" \", \" \", \" \", 33.385653, -118.406291], [\"Los Angeles\", \"Natural Resource\", \"Haypress Picnic Area\", \"On Airport Rd., 3.9 mi. from Avalon, Santa Catalina Island\", \"No\", \" \", \" \", \" \", 33.355005, -118.360702], [\"Orange\", \"Beach Access\", \"Seal Beach\", \"Seaward of Ocean Ave., Seal Beach\", \"Yes\", \" \", \" \", \" \", 33.740726, -118.109428], [\"Orange\", \"Pier\", \"Seal Beach Pier\", \"Foot of Main St., Seal Beach\", \"No\", \" \", \" \", \" \", 33.739218, -118.106377], [\"Orange (and LA)\", \"Natural Resource\", \"San Gabriel River Trail\", \"E. bank of the San Gabriel River\", \"No\", \" \", \" \", \" \", 33.749188, -118.10969], [\"Orange\", \"Beach Access\", \"Surfside Beach\", \"Anderson St. and Pacific Coast Hwy., Surfside\", \"Yes\", \" \", \" \", \" \", 33.723568, -118.079678], [\"Orange\", \"Natural Resource\", \"Boardwalk and viewpoint (Huntington Harbour North)\", \"Bayward of Simple Green Bldg., N. end of Huntington Harbour\", \"No\", \" \", \"No\", \"No\", 33.728119, -118.082319], [\"Orange\", \"Visual Access\", \"Waterfront Walkway (Peter's Landing)\", \"N. and S. of Peter's Landing, Huntington Harbour\", \"No\", \" \", \"No\", \"No\", 33.724983, -118.077265], [\"Orange\", \"Beach Access\", \"Sunset Beach\", \"W. of Pacific Ave., Huntington Beach\", \"Yes\", \" \", \" \", \" \", 33.717868, -118.073476], [\"Orange\", \"Boat Access\", \"Huntington Harbour\", \"E. of Pacific Coast Hwy., Huntington Beach\", \"No\", \" \", \" \", \" \", 33.72001, -118.063674], [\"Orange\", \"Boat Access\", \"Warner Avenue Access\", \"N. side of Warner Ave., E. of Pacific Coast Hwy., Huntington Beach\", \"No\", \" \", \" \", \" \", 33.712124, -118.055463], [\"Orange\", \"Beach Access\", \"French Park\", \"Along Venture Dr., Trinidad Island, Huntington Beach\", \"No\", \" \", \" \", \" \", 33.723633, -118.067752], [\"Orange\", \"Beach Access\", \"Trinidad Park\", \"Sagamore Dr. near Trinidad Ln., Trinidad Island, Huntington Beach\", \"Yes\", \" \", \"No\", \" \", 33.726517, -118.065777], [\"Orange\", \"Beach Access\", \"Seabridge Park\", \"End of Countess Dr., off Edinger Ave., Huntington Beach\", \"Yes\", \" \", \" \", \" \", 33.726678, -118.071837], [\"Orange\", \"Boat Access\", \"Sunset Aquatic Marina\", \"2901 Edinger Ave., Huntington Beach\", \"No\", \" \", \" \", \" \", 33.729638, -118.072491], [\"Orange\", \"Natural Resource\", \"Bolsa Chica Interpretive Center\", \"3842 Warner Ave. at Pacific Coast Hwy., Huntington Beach\", \"No\", \" \", \"No\", \" \", 33.711348, -118.06149], [\"Orange\", \"Beach Access\", \"Bolsa Chica State Beach\", \"W. of Pacific Coast Hwy., S. of Warner Ave., Huntington Beach\", \"Yes\", \" \", \" \", \" \", 33.707662, -118.060734], [\"Orange\", \"Natural Resource\", \"Bolsa Chica Ecological Reserve\", \"E. of Pacific Coast Hwy., S. of Warner Ave., Huntington Beach\", \"No\", \" \", \" \", \" \", 33.695575, -118.046719], [\"Orange\", \"Campground\", \"Bolsa Chica State Beach Campground\", \"W. of Pacific Coast Hwy., S. of entrance to Bolsa Chica State Beach\", \"Yes\", \" \", \" \", \" \", 33.692133, -118.044305], [\"Orange\", \"Beach Access\", \"Dog Beach (Huntington Beach)\", \"W. of Pacific Coast Hwy. from Seapoint Ave. to Golden West St., Huntington Beach\", \"Yes\", \" \", \" \", \" \", 33.675997, -118.028063], [\"Orange\", \"LCOA\", \"Colonial Inn Hostel\", \"421 8th St., Huntington Beach\", \"No\", \" \", \" \", \" \", 33.661544, -118.001344], [\"Orange\", \"Beach Access\", \"Huntington City Beach (6th Street)\", \"W. of Pacific Coast Hwy. at foot of 6th St., Huntington Beach\", \"Yes\", \" \", \"No\", \" \", 33.657853, -118.00409], [\"Orange\", \"Historic/Cultural Site\", \"Huntington Beach International Surfing Museum\", \"411 Olive Ave., Huntington Beach\", \"No\", \" \", \" \", \" \", 33.659175, -118.000741], [\"Orange\", \"Pier\", \"Huntington Beach Pier\", \"Main St. and Pacific Coast Hwy., Huntington Beach\", \"No\", \" \", \" \", \" \", 33.656809, -118.002388], [\"Orange\", \"Beach Access\", \"Huntington City Beach\", \"W. of Pacific Coast Hwy., from Goldenwest St. to Beach Blvd., Huntington Beach\", \"Yes\", \" \", \" \", \" \", 33.649946, -117.992591], [\"Orange\", \"Historic/Cultural Site\", \"Wetlands and Wildlife Care Center\", \"Newland St. at Pacific Coast Hwy., Huntington Beach\", \"No\", \" \", \" \", \" \", 33.64376, -117.979774], [\"Orange\", \"Natural Resource\", \"Huntington Beach Wetlands\", \"Inland of Pacific Coast Hwy. from Beach Blvd. to Santa Ana River mouth, Huntington Beach\", \"No\", \" \", \" \", \" \", 33.642267, -117.974084], [\"Orange\", \"Natural Resource\", \"Huntington Beach Wetlands / Talbert Marsh\", \"Pacific Coast Hwy. and Brookhurst St., Huntington Beach\", \"No\", \" \", \" \", \" \", 33.636579, -117.962506], [\"Orange\", \"Beach Access\", \"Huntington State Beach\", \"Seaward of Pacific Coast Hwy., from Beach Blvd. to Santa Ana River, Huntington Beach\", \"Yes\", \" \", \" \", \" \", 33.639216, -117.974031], [\"Orange\", \"Natural Resource\", \"Santa Ana River Trail\", \"Both sides of Santa Ana River, starting at Pacific Coast Hwy., Newport Beach\", \"No\", \" \", \"No\", \" \", 33.632934, -117.957308], [\"Orange\", \"Beach Access\", \"Santa Ana River Mouth Beach\", \"Both sides of Santa Ana River, seaward of Pacific Coast Hwy. Newport Beach\", \"Yes\", \" \", \" \", \" \", 33.628985, -117.956851], [\"Orange\", \"Beach Access\", \"West Newport Beach\", \"Santa Ana River mouth to Newport Pier, Newport Beach\", \"Yes\", \" \", \" \", \" \", 33.619853, -117.939854], [\"Orange\", \"Beach Access\", \"Channel Place Park\", \"Channel Pl. at 44th St., Newport Beach\", \"Yes\", \" \", \"No\", \" \", 33.621044, -117.936942], [\"Orange\", \"Beach Access\", \"Newport Island Park\", \"Marcus Ave. at 39th St., Newport Beach\", \"Yes\", \" \", \"No\", \" \", 33.618917, -117.934237], [\"Orange\", \"Beach Access\", \"Lido Park\", \"Via Lido at 32nd St., Newport Beach\", \"Yes\", \" \", \"No\", \" \", 33.616505, -117.926474], [\"Orange\", \"Beach Access\", \"Oceanfront Walk\", \"From 36th St. to E St., on ocean side of Balboa Peninsula, Newport Beach\", \"Yes\", \" \", \"No\", \"No\", 33.616085, -117.935613], [\"Orange\", \"Pier\", \"Newport Pier\", \"Near W. end of 21st St., Newport Beach\", \"No\", \" \", \" \", \" \", 33.607705, -117.928825], [\"Orange\", \"Beach Access\", \"Balboa Beach\", \"From Newport Pier to Balboa Pier, Newport Beach\", \"Yes\", \" \", \" \", \" \", 33.603904, -117.915307], [\"Orange\", \"Pier\", \"Balboa Pier\", \"W. of Balboa Blvd. at Main St., Balboa Peninsula, Newport Beach\", \"No\", \" \", \" \", \" \", 33.600712, -117.900076], [\"Orange\", \"Beach Access\", \"Harbor Beaches\", \"Bay side of Balboa Peninsula, Newport Beach.\", \"Yes\", \" \", \" \", \" \", 33.618183, -117.933732], [\"Orange\", \"Beach Access\", \"Las Arenas Beach\", \"End of 18th St., harbor side, Balboa Peninsula\", \"Yes\", \" \", \" \", \" \", 33.608704, -117.924821], [\"Orange\", \"Beach Access\", \"10th Street Beach\", \"End of 10th St., harbor side, Balboa Peninsula, Newport Beach\", \"Yes\", \" \", \"No\", \" \", 33.606266, -117.912996], [\"Orange\", \"Beach Access\", \"Montero Beach\", \"End of Montero Ave., harbor side, Balboa Peninsula, Newport Beach\", \"Yes\", \" \", \"No\", \" \", 33.605799, -117.904588], [\"Orange\", \"Boat Access\", \"Newport Harbor\", \"N.E. of Balboa Peninsula, Newport Beach\", \"No\", \" \", \" \", \" \", 33.609704, -117.921133], [\"Orange\", \"Beach Access\", \"Beacon Bay Beach\", \"Beacon Bay, off Harbor Island Rd., Newport Beach\", \"Yes\", \" \", \"No\", \"No\", 33.610068, -117.899456], [\"Orange\", \"Beach Access\", \"Balboa Island\", \"Marine Ave., Newport Beach\", \"Yes\", \" \", \" \", \" \", 33.606879, -117.88982], [\"Orange\", \"Historic/Cultural Site\", \"ExplorOcean\", \"600 E. Bay Ave., Newport Beach\", \"No\", \" \", \"No\", \" \", 33.60307, -117.90052], [\"Orange\", \"Historic/Cultural Site\", \"Balboa Pavilion\", \"400 Main St., Balboa Peninsula, Newport Beach\", \"No\", \" \", \" \", \" \", 33.602577, -117.899047], [\"Orange\", \"Beach Access\", \"Peninsula Park (Newport Beach)\", \"Main St. at E. Oceanfront, Balboa Peninsula, Newport Beach\", \"No\", \" \", \" \", \" \", 33.600823, -117.899483], [\"Orange\", \"Beach Access\", \"Bay Beaches\", \"Harbor side, Balboa Peninsula, Newport Beach\", \"Yes\", \" \", \" \", \" \", 33.599767, -117.886896], [\"Orange\", \"Beach Access\", \"Bayfront Walkway\", \"From Main St. extending to the northwest, Balboa Peninsula\", \"Yes\", \" \", \"No\", \" \", 33.602842, -117.899322], [\"Orange\", \"Beach Access\", \"West Jetty View Park\", \"End of  Channel Rd., Balboa Peninsula, Newport Beach\", \"Yes\", \" \", \"Yes\", \" \", 33.595579, -117.882025], [\"Orange\", \"Beach Access\", \"Bayside Drive County Beach\", \"1901 Bayside Dr., Corona del Mar\", \"Yes\", \" \", \" \", \" \", 33.602561, -117.882999], [\"Orange\", \"Beach Access\", \"China Cove Beach\", \"Along Harbor Channel, W. of Fernleaf Ave., Corona del Mar\", \"Yes\", \" \", \" \", \" \", 33.596891, -117.879167], [\"Orange\", \"Beach Access\", \"Pirates Cove\", \"Along Harbor Channel, S. of China Cove Beach, Corona del Mar\", \"Yes\", \" \", \"Yes\", \" \", 33.595166, -117.878073], [\"Orange\", \"Beach Access\", \"Corona del Mar State Beach\", \"Ocean Blvd. opposite end of Jasmine Ave., Corona del Mar\", \"Yes\", \" \", \"Yes\", \"Yes\", 33.594004, -117.876799], [\"Orange\", \"Beach Access\", \"Inspiration Point\", \"Ocean Blvd. and Poppy Ave., Corona del Mar\", \"No\", \" \", \" \", \" \", 33.592329, -117.871383], [\"Orange\", \"Beach Access\", \"Little Corona del Mar Beach\", \"Ocean Blvd. and Poppy Ave., Corona del Mar\", \"Yes\", \" \", \"Yes\", \" \", 33.590144, -117.869376], [\"Orange\", \"Natural Resource\", \"Castaways Park\", \"Castaways Ln. at Dover Dr., Newport Beach\", \"No\", \" \", \" \", \" \", 33.619042, -117.905907], [\"Orange\", \"Natural Resource\", \"Environmental Nature Center\", \"1601 16th St., Newport Beach\", \"No\", \" \", \"No\", \" \", 33.623089, -117.908213], [\"Orange\", \"Visual Access\", \"Westcliff Park\", \"Polaris Dr. off Westcliff Dr., Newport Beach\", \"No\", \" \", \"No\", \" \", 33.621942, -117.898741], [\"Orange\", \"Boat Access\", \"Newport Aquatic Center at North Star Beach\", \"1 Whitecliffs Dr., off Polaris Dr., Newport Beach\", \"Yes\", \" \", \" \", \" \", 33.625315, -117.893525], [\"Orange\", \"Visual Access\", \"Galaxy Park\", \"1400 block of Galaxy Dr., Newport Beach\", \"No\", \" \", \"No\", \" \", 33.627776, -117.89073], [\"Orange\", \"Natural Resource\", \"Upper Newport Bay Ecological Reserve\", \"W. of Backbay Dr., Newport Beach\", \"Yes\", \" \", \" \", \" \", 33.642359, -117.887284], [\"Orange\", \"Natural Resource\", \"Peter and Mary Muth Interpretive Center\", \"2301 University Dr., Newport Beach\", \"No\", \" \", \"No\", \" \", 33.653338, -117.885033], [\"Orange\", \"Visual Access\", \"Vista Point (Upper Newport Bay)\", \"Backbay Dr. and Eastbluff Dr., Newport Beach\", \"No\", \" \", \"No\", \" \", 33.645175, -117.870764], [\"Orange\", \"Beach Access\", \"Newport Dunes Waterfront Resort and Marina\", \"1131 Backbay Dr., Newport Beach\", \"Yes\", \" \", \" \", \" \", 33.615432, -117.892569], [\"Orange\", \"Visual Access\", \"Back Bay View Park\", \"Corner of Jamboree Rd. and Coast Hwy., Newport Beach\", \"No\", \" \", \"No\", \" \", 33.613656, -117.891411], [\"Orange\", \"Natural Resource\", \"Back Bay Science Center\", \"Shellmaker Rd., off Backbay Dr., Newport Beach\", \"No\", \" \", \"No\", \" \", 33.620978, -117.891341], [\"Orange\", \"Beach Access\", \"Crystal Cove State Park (Pelican Point)\", \"W. of Coast Hwy. opposite Newport Coast Dr.\", \"Yes\", \" \", \"Yes\", \" \", 33.582703, -117.849215], [\"Orange\", \"Beach Access\", \"Crystal Cove State Park\", \"W. of Pacific Coast Hwy., between Corona del Mar and Laguna Beach\", \"Yes\", \" \", \"Yes\", \" \", 33.573673, -117.839919], [\"Orange\", \"Beach Access\", \"Crystal Cove Historic District\", \"Seaward of Coast Hwy. at the mouth of Los Trancos Canyon\", \"Yes\", \" \", \"Yes\", \"Yes\", 33.574948, -117.840356], [\"Orange\", \"Beach Access\", \"Crystal Cove State Park (Reef Point)\", \"W. of Coast Hwy. opposite Reef Point Dr.\", \"Yes\", \" \", \"Yes\", \" \", 33.566602, -117.830338], [\"Orange\", \"Natural Resource\", \"El Moro Visitor Center\", \"Inland of Coast Hwy., 1 mi. S. of Los Trancos Canyon\", \"No\", \" \", \"No\", \" \", 33.56647, -117.822281], [\"Orange\", \"Campground\", \"Moro Canyon\", \"Inland of Coast Hwy. at the mouth of El Moro Canyon\", \"No\", \" \", \"No\", \" \", 33.561231, -117.821762], [\"Orange\", \"Natural Resource\", \"Laguna Coast Wilderness Park\", \"W side of Laguna Canyon Rd., 3 mi. inland from Coast Hwy., Laguna Beach\", \"No\", \" \", \"No\", \" \", 33.566501, -117.764854], [\"Orange\", \"Park\", \"Smithcliffs View Park\", \"S. side of Smithcliffs Rd., off Coast Hwy., Laguna Beach\", \"No\", \" \", \"Yes\", \"No\", 33.54976, -117.803866], [\"Orange\", \"Beach Access\", \"Crescent Bay (Laguna Beach)\", \"Off Cliff Dr. at Circle Way, Laguna Beach\", \"Yes\", \" \", \"Yes\", \" \", 33.547255, -117.802013], [\"Orange\", \"Visual Access\", \"Crescent Bay Point Park\", \"W. end of Crescent Bay Dr., Laguna Beach\", \"No\", \" \", \" \", \" \", 33.546791, -117.803819], [\"Orange\", \"Beach Access\", \"Shaw's Cove\", \"Off Cliff Dr. opposite Fairview St., Laguna Beach\", \"Yes\", \" \", \"Yes\", \"Yes\", 33.546491, -117.798236], [\"Orange\", \"Beach Access\", \"Fisherman's Cove\", \"600 block of Cliff Dr., Laguna Beach\", \"Yes\", \" \", \"Yes\", \" \", 33.545359, -117.794874], [\"Orange\", \"Beach Access\", \"Divers Cove\", \"600 block of Cliff Dr., Laguna Beach\", \"Yes\", \" \", \"Yes\", \" \", 33.545162, -117.79476], [\"Orange\", \"Beach Access\", \"Picnic Beach\", \"Off Cliff Dr., opposite Myrtle St., Laguna Beach\", \"Yes\", \" \", \"Yes\", \"Yes\", 33.544608, -117.793419], [\"Orange\", \"Beach Access\", \"Heisler Park\", \"400 block of Cliff Dr., Laguna Beach\", \"No\", \" \", \"No\", \" \", 33.543819, -117.791029], [\"Orange\", \"Beach Access\", \"Rockpile Beach\", \"Off Cliff Dr., opposite Jasmine St., Laguna Beach\", \"Yes\", \" \", \"Yes\", \"Yes\", 33.543416, -117.790514], [\"Orange\", \"Beach Access\", \"Main Beach (Laguna Beach)\", \"W. end of Broadway St., Laguna Beach\", \"Yes\", \" \", \" \", \" \", 33.542156, -117.785489], [\"Orange\", \"Natural Resource\", \"Pacific Marine Mammal Center\", \"20612 Laguna Canyon Rd., Laguna Beach\", \"No\", \" \", \" \", \" \", 33.57309, -117.76247], [\"Orange\", \"Beach Access\", \"Central Laguna Beaches (Sleepy Hollow Ln. to Thalia St.)\", \"S. of Main Beach, Laguna Beach\", \"Yes\", \" \", \"Yes\", \"Yes\", 33.537125, -117.780594], [\"Orange\", \"Beach Access\", \"Central Laguna Beaches (Anita St. to Pearl St.)\", \"S. of Main Beach, Laguna Beach\", \"Yes\", \" \", \"Yes\", \"No\", 33.534528, -117.778499], [\"Orange\", \"Beach Access\", \"Wood's Cove\", \"W. of Coast Hwy. between Pearl St. and Diamond St., Laguna Beach\", \"Yes\", \" \", \"Yes\", \" \", 33.526588, -117.770485], [\"Orange\", \"Visual Access\", \"Ruby Street Park\", \"W. end of Ruby St., Laguna Beach\", \"No\", \" \", \"Yes\", \" \", 33.52605, -117.769543], [\"Orange\", \"Beach Access\", \"Moss Point\", \"W. of Coast Hwy., end of Moss St., Laguna Beach\", \"Yes\", \" \", \"Yes\", \" \", 33.525413, -117.768686], [\"Orange\", \"Beach Access\", \"Beach Access (Coast Hwy.)\", \"611 Coast Hwy., Laguna Beach\", \"Yes\", \" \", \"Yes\", \"No\", 33.539553, -117.78129], [\"Orange\", \"Beach Access\", \"Victoria Beach\", \"S. of Victoria Dr., Laguna Beach\", \"Yes\", \" \", \"Yes\", \" \", 33.52054, -117.763609], [\"Orange\", \"Beach Access\", \"Treasure Island Park\", \"Seaward of Montage Resort, Laguna Beach\", \"No\", \" \", \"No\", \" \", 33.51344, -117.755711], [\"Orange\", \"Beach Access\", \"Treasure Island Beach\", \"Seaward of Montage Resort, Laguna Beach\", \"Yes\", \" \", \"Yes\", \"Yes\", 33.513577, -117.756834], [\"Orange\", \"Beach Access\", \"Aliso Beach Park\", \"31000 block of S. Coast Hwy., South Laguna\", \"Yes\", \" \", \"Yes\", \"Yes\", 33.509368, -117.751923], [\"Orange\", \"Beach Access\", \"Camel Point Beach\", \"End of Camel Pt. Dr., South Laguna\", \"Yes\", \" \", \"Yes\", \" \", 33.507008, -117.750605], [\"Orange\", \"Beach Access\", \"Camel Point Beach Access #2\", \"Adjacent to 31321 Coast Hwy., South Laguna\", \"Yes\", \" \", \"Yes\", \"No\", 33.507783, -117.749597], [\"Orange\", \"Beach Access\", \"Camel Point Beach Access #3\", \"Adjacent to 31351 Coast Hwy., South Laguna\", \"Yes\", \" \", \"Yes\", \"No\", 33.507397, -117.749052], [\"Orange\", \"Beach Access\", \"West Street Beach\", \"Opposite end of West St., South Laguna\", \"Yes\", \" \", \"Yes\", \" \", 33.504423, -117.747944], [\"Orange\", \"Beach Access\", \"Table Rock Beach\", \"Off Table Rock Dr., South Laguna\", \"Yes\", \" \", \"Yes\", \" \", 33.502285, -117.74656], [\"Orange\", \"Beach Access\", \"Thousand Steps Beach\", \"Opposite 9th Ave., South Laguna\", \"Yes\", \" \", \" \", \" \", 33.498261, -117.74027], [\"Orange\", \"Natural Resource\", \"Aliso and Wood Canyons Wilderness Park\", \"28373 Alicia Parkway, Laguna Niguel\", \"No\", \" \", \"No\", \" \", 33.552135, -117.718174], [\"Orange\", \"Beach Access\", \"Salt Creek Beach Park\", \"Off Ritz-Carlton Dr., Dana Point\", \"Yes\", \" \", \" \", \" \", 33.476079, -117.721919], [\"Orange\", \"Visual Access\", \"Blufftop Path (Ritz-Carlton Hotel)\", \"Ritz-Carlton Dr., Dana Point\", \"No\", \" \", \"No\", \"No\", 33.475583, -117.718125], [\"Orange\", \"Beach Access\", \"Three Arch Cove Beach\", \"W. of Pacific Coast Hwy., N. of Salt Creek Beach Park, South Laguna\", \"Yes\", \" \", \" \", \"Yes\", 33.48477, -117.734118], [\"Orange\", \"Beach Access\", \"Strand Beach\", \"Off Selva Rd., Dana Point\", \"Yes\", \" \", \" \", \" \", 33.466384, -117.716273], [\"Orange\", \"Visual Access\", \"Dana Point Headlands\", \"End of Street of the Green Lantern, off southbound Pacific Coast Hwy., Dana Point\", \"No\", \" \", \"Yes\", \" \", 33.460868, -117.714647], [\"Orange\", \"Historic/Cultural Site\", \"Nature Interpretive Center\", \"34558 Scenic Dr., Dana Point\", \"No\", \" \", \" \", \" \", 33.461608, -117.711364], [\"Orange\", \"Visual Access\", \"Ken Sampson Lookout\", \"S. end of Street of the Blue Lantern, Dana Point\", \"No\", \" \", \" \", \" \", 33.463719, -117.706587], [\"Orange\", \"Beach Access\", \"Baby Beach\", \"Off Dana Point Harbor Dr. at W. end of harbor\", \"Yes\", \" \", \"No\", \"No\", 33.46269, -117.70433], [\"Orange\", \"Park\", \"Heritage Park\", \"End of Street of the Old Golden Lantern, off del Prado Ave. (eastbound Pacific Coast Hwy.), Dana Point\", \"No\", \" \", \" \", \" \", 33.462911, -117.697063], [\"Orange\", \"Park\", \"Lantern Bay Park\", \"End of Street of the Golden Lantern, Dana Point\", \"No\", \" \", \"No\", \" \", 33.463198, -117.692986], [\"Orange\", \"Boat Access\", \"Dana Point Harbor\", \"S. of Dana Point Harbor Dr., Dana Point\", \"No\", \" \", \" \", \" \", 33.460714, -117.692512], [\"Orange\", \"Boat Access\", \"Catalina Express Terminal\", \"34675 Street of the Golden Lantern, Dana Point\", \"No\", \" \", \" \", \" \", 33.460124, -117.692016], [\"Orange\", \"Park\", \"Dana Point Harbor Linear Park\", \"S. end of Island Way, Dana Point Harbor\", \"No\", \" \", \" \", \"No\", 33.458415, -117.700003], [\"Orange\", \"Beach Access\", \"Ocean Institute\", \"24200 Dana Point Harbor Dr., Dana Point\", \"Yes\", \" \", \" \", \" \", 33.461342, -117.706747], [\"Orange\", \"Beach Access\", \"Doheny State Beach\", \"Shoreline E. of Dana Point Harbor, Dana Point\", \"Yes\", \" \", \" \", \" \", 33.462436, -117.686164], [\"Orange\", \"Visual Access\", \"Louise Leyden Park\", \"End of Via Verde, off Camino Capistrano, Capistrano Beach\", \"No\", \" \", \" \", \" \", 33.462018, -117.677306], [\"Orange\", \"Beach Access\", \"Capistrano Beach Park\", \"Pacific Coast Hwy. and Palisades Dr., Capistrano Beach\", \"Yes\", \" \", \"Yes\", \" \", 33.455112, -117.668552], [\"Orange\", \"Beach Access\", \"Poche Beach\", \"Foot of Camino Capistrano at Pacific Coast Hwy., Capistrano Beach\", \"Yes\", \" \", \"Yes\", \" \", 33.440618, -117.64511], [\"Orange\", \"Beach Access\", \"Ole Hanson Beach Club\", \"105 W. Avenida Pico, San Clemente\", \"No\", \" \", \" \", \" \", 33.431793, -117.63127], [\"Orange\", \"Beach Access\", \"San Clemente City Beach\", \"Beach area from Avenida Estacion to San Clemente State Beach, San Clemente\", \"Yes\", \" \", \" \", \" \", 33.430503, -117.631455], [\"Orange\", \"Beach Access\", \"San Clemente Beach Trail Access (Dije Ct.)\", \"W. of Buena Vista, S. of Dije Ct.\", \"No\", \" \", \"No\", \"No\", 33.429053, -117.628404], [\"Orange\", \"Beach Access\", \"San Clemente City Beach (W. El Portal)\", \"End of W. El Portal, aka Calle Oso\", \"Yes\", \" \", \"No\", \"No\", 33.427381, -117.627339], [\"Orange\", \"Beach Access\", \"San Clemente Beach Trail Access (W. Mariposa)\", \"End of W. Mariposa\", \"No\", \" \", \"No\", \"No\", 33.425143, -117.624508], [\"Orange\", \"Park\", \"Leslie Park\", \"Calle de Los Alamos and Calle Roca Vista, San Clemente\", \"No\", \" \", \" \", \" \", 33.411689, -117.611668], [\"Orange\", \"Natural Resource\", \"San Clemente Beach Trail\", \"Shoreline from North Beach to Calafia Beach Park, San Clemente\", \"No\", \" \", \" \", \" \", 33.42306, -117.623371], [\"Orange\", \"Park\", \"Linda Lane City Park\", \"End of Linda Lane, San Clemente\", \"No\", \" \", \" \", \" \", 33.423262, -117.622536], [\"Orange\", \"Visual Access\", \"Linda Lane Blufftop View Area\", \"Blufftop S. of Linda Lane City Park, San Clemente\", \"No\", \" \", \"No\", \"No\", 33.42358, -117.621717], [\"Orange\", \"Beach Access\", \"San Clemente City Beach (Corto Ln.)\", \"End of Corto Ln.\", \"Yes\", \" \", \"No\", \"No\", 33.422553, -117.620987], [\"Orange\", \"Pier\", \"San Clemente Municipal Pier\", \"W. end of Avenida del Mar, San Clemente\", \"No\", \" \", \" \", \" \", 33.419557, -117.620202], [\"Orange\", \"Beach Access\", \"San Clemente City Beach (Avenida Esplanade)\", \"Foot of Avenida Esplanade\", \"Yes\", \" \", \"No\", \"No\", 33.416551, -117.61696], [\"Orange\", \"Beach Access\", \"San Clemente Beach Trail Access (Calle Los Alamos)\", \"2006 1/2 Calle Los Alamos\", \"No\", \" \", \"No\", \"No\", 33.411222, -117.6102], [\"Orange\", \"Beach Access\", \"San Clemente City Beach (Plaza a la Playa)\", \"N. end of Plaza a la Playa\", \"Yes\", \" \", \"No\", \"No\", 33.408706, -117.608946], [\"Orange\", \"Beach Access\", \"Calafia Beach Park\", \"Foot of Avenida Calafia, San Clemente\", \"Yes\", \" \", \" \", \" \", 33.405504, -117.606237], [\"Orange\", \"Beach Access\", \"San Clemente State Beach\", \"Off Avenida Calafia, San Clemente\", \"Yes\", \" \", \" \", \" \", 33.402724, -117.602689], [\"San Diego\", \"Campground\", \"San Mateo Campground\", \"Off Cristianitos Rd. 1 mi. inland of Hwy. I-5, San Onofre\", \"No\", \" \", \"No\", \" \", 33.406524, -117.58599], [\"San Diego\", \"Beach Access\", \"Trestles Beach\", \"Near mouth of San Mateo Creek, San Onofre State Beach\", \"Yes\", \" \", \" \", \" \", 33.387082, -117.59594], [\"San Diego\", \"Beach Access\", \"San Onofre Surf Beach\", \"Off Basilone Rd., part of San Onofre State Beach\", \"Yes\", \" \", \" \", \" \", 33.374222, -117.567193], [\"San Diego\", \"Beach Access\", \"Bluffs Beach\", \"Seaward of Hwy. I-5, from San Clemente through San Onofre State Beach\", \"Yes\", \" \", \" \", \" \", 33.343835, -117.518998], [\"San Diego\", \"Natural Resource\", \"Bicycle Route\", \"Seaward of Hwy. I-5\", \"No\", \" \", \" \", \" \", 33.354427, -117.529628], [\"San Diego\", \"Visual Access\", \"Las Flores Viewpoint\", \"W. of Hwy. I-5, 5 mi. S. of San Onofre\", \"No\", \" \", \" \", \" \", 33.313925, -117.482386], [\"San Diego\", \"Beach Access\", \"Camp Pendleton Beach Access\", \"W. of I-5 at Las Pulgas Rd., Camp Pendleton\", \"No\", \" \", \" \", \" \", 33.298233, -117.465594], [\"San Diego\", \"Natural Resource\", \"Aliso Creek Roadside Rest\", \"W. of I-5, 6 mi. N. of Oceanside\", \"No\", \" \", \" \", \" \", 33.272785, -117.44366], [\"San Diego\", \"Boat Access\", \"Oceanside Harbor\", \"Along Harbor Dr., Oceanside\", \"No\", \" \", \" \", \" \", 33.207833, -117.395222], [\"San Diego\", \"Beach Access\", \"Harbor Beach (Oceanside)\", \"N. end of N. Pacific St., Oceanside\", \"Yes\", \" \", \" \", \" \", 33.205538, -117.394544], [\"San Diego\", \"Natural Resource\", \"San Luis Rey River\", \"Harbor Dr. South and N. Pacific St., Oceanside.\", \"No\", \" \", \" \", \" \", 33.202607, -117.392297], [\"San Diego\", \"Natural Resource\", \"San Luis Rey River Trail\", \"South bank of the San Luis Rey River, Oceanside\", \"No\", \" \", \" \", \" \", 33.203576, -117.387199], [\"San Diego\", \"Beach Access\", \"Oceanside City Beach (Surfrider Way)\", \"Foot of Surfrider Way, Oceanside\", \"Yes\", \" \", \"No\", \"No\", 33.196821, -117.386494], [\"San Diego\", \"Beach Access\", \"Oceanside City Beach\", \"Along the Strand and S. Pacific St., between San Luis Rey River and Buccaneer Beach, Oceanside\", \"Yes\", \" \", \" \", \" \", 33.195272, -117.385178], [\"San Diego\", \"Park\", \"Linear Park and Tyson St. Park\", \"Seaward of Pacific St. near Oceanside Pier, Oceanside\", \"Yes\", \" \", \" \", \" \", 33.192713, -117.382404], [\"San Diego\", \"Pier\", \"Oceanside Pier\", \"W. end of Pier View Way, Oceanside\", \"No\", \" \", \" \", \" \", 33.194107, -117.384698], [\"San Diego\", \"Historic/Cultural Site\", \"California Surf Museum\", \"312 Pier View Way, Oceanside\", \"No\", \" \", \" \", \" \", 33.19619, -117.381446], [\"San Diego\", \"Beach Access\", \"Oceanside City Beach (Wisconsin Avenue)\", \"Foot of Wisconsin Ave., Oceanside\", \"Yes\", \" \", \" \", \" \", 33.186021, -117.377323], [\"San Diego\", \"Park\", \"Buccaneer Park\", \"1500 block of S. Pacific St., Oceanside\", \"No\", \" \", \" \", \" \", 33.17742, -117.367965], [\"San Diego\", \"Beach Access\", \"South Oceanside Beach\", \"W. of Pacific St., between Buccaneer Park and Eaton St., Oceanside\", \"Yes\", \" \", \"Yes\", \" \", 33.172914, -117.365967], [\"San Diego\", \"Historic/Cultural Site\", \"Buena Vista Audubon Nature Center\", \"2202 S. Coast Hwy., Oceanside\", \"No\", \" \", \"No\", \" \", 33.169317, -117.356526], [\"San Diego\", \"Natural Resource\", \"Buena Vista Lagoon Ecological Reserve\", \"E. and W. of Hwy. I-5, 2.5 mi. S. of downtown Oceanside\", \"No\", \" \", \" \", \" \", 33.169998, -117.35125], [\"San Diego\", \"Park\", \"Maxton Brown Park\", \"Laguna Dr. at State St., Carlsbad\", \"No\", \" \", \" \", \" \", 33.165368, -117.353289], [\"San Diego\", \"Beach Access\", \"Carlsbad City Beach (Cypress Ave.)\", \"Ocean St., opposite Cypress Ave.\", \"Yes\", \" \", \"No\", \"No\", 33.161558, -117.356031], [\"San Diego\", \"Beach Access\", \"Carlsbad City Beach (Beech Ave.)\", \"Ocean St., opposite Beech Ave.\", \"Yes\", \" \", \"No\", \"No\", 33.159968, -117.354744], [\"San Diego\", \"Beach Access\", \"Carlsbad City Beach (Christiansen Way)\", \"Ocean St., opposite Christiansen Way\", \"Yes\", \" \", \"No\", \"No\", 33.159167, -117.354105], [\"San Diego\", \"Beach Access\", \"Carlsbad City Beach (Grand Ave.)\", \"Ocean St., opposite Grand Ave.\", \"Yes\", \" \", \"No\", \"No\", 33.158505, -117.353487], [\"San Diego\", \"Beach Access\", \"Carlsbad City Beach\", \"W. of Ocean St., between Pacific Ave. and Carlsbad Village Dr., Carlsbad\", \"Yes\", \" \", \" \", \" \", 33.158471, -117.354261], [\"San Diego\", \"Beach Access\", \"Carlsbad City Beach (Carlsbad Village Dr.)\", \"Ocean St., opposite Carlsbad Village Dr. and one-half block S.\", \"Yes\", \" \", \"No\", \"No\", 33.15736, -117.352602], [\"San Diego\", \"Beach Access\", \"Carlsbad State Beach\", \"W. of Carlsbad Blvd., from Pine Ave. S. past Agua Hedionda Lagoon opening, Carlsbad\", \"Yes\", \" \", \"Yes\", \" \", 33.147743, -117.346371], [\"San Diego\", \"Boat Access\", \"Agua Hedionda Lagoon\", \"E. and W. of Hwy. I-5, 1.4 mi. S. of Carlsbad Civic Center, Carlsbad\", \"No\", \" \", \" \", \" \", 33.141691, -117.326612], [\"San Diego\", \"Natural Resource\", \"Agua Hedionda Lagoon (Garfield Street)\", \"N. shoreline of Agua Hedionda Lagoon - West Basin\", \"No\", \" \", \"No\", \"No\", 33.146109, -117.342109], [\"San Diego\", \"Visual Access\", \"San Pacifico Overlook\", \"S. end of Harbor Dr., Carlsbad\", \"No\", \" \", \"No\", \"No\", 33.147075, -117.337013], [\"San Diego\", \"Natural Resource\", \"Agua Hedionda Lagoon (Hoover Street)\", \"S. end of Hoover St., Carlsbad\", \"No\", \" \", \"No\", \"No\", 33.148009, -117.330377], [\"San Diego\", \"Natural Resource\", \"Agua Hedionda Lagoon (Cove Drive)\", \"End of Cove Dr., Carlsbad\", \"No\", \" \", \"No\", \"No\", 33.144245, -117.324052], [\"San Diego\", \"Visual Access\", \"Sunnyhill Drive Overlook\", \"Sunnyhill Dr. and Horizon Dr., Carlsbad\", \"No\", \" \", \"No\", \"No\", 33.145521, -117.321107], [\"San Diego\", \"Natural Resource\", \"Agua Hedionda Lagoon (Marina Drive)\", \"End of Marina Dr,. Carlsbad\", \"No\", \" \", \"No\", \"No\", 33.143904, -117.319171], [\"San Diego\", \"Natural Resource\", \"Agua Hedionda Lagoon (Bayshore Drive)\", \"End of Bayshore Dr., Carlsbad\", \"No\", \" \", \"No\", \"No\", 33.142614, -117.321133], [\"San Diego\", \"Natural Resource\", \"Agua Hedionda Lagoon (Neblina Drive)\", \"S. of Park Dr., opposite Neblina Dr., Carlsbad\", \"No\", \" \", \"No\", \"No\", 33.143888, -117.319214], [\"San Diego\", \"Beach Access\", \"Encina Fishing Area\", \"E. side of Carlsbad Blvd., at the mouth of Agua Hedionda Lagoon\", \"No\", \" \", \" \", \" \", 33.144771, -117.343514], [\"San Diego\", \"Historic/Cultural Site\", \"Agua Hedionda Discovery Center\", \"1580 Cannon Rd., Carlsbad\", \"No\", \" \", \"No\", \" \", 33.139678, -117.307382], [\"San Diego\", \"Natural Resource\", \"Agua Hedionda Lagoon Ecological Reserve\", \"S. end of Kelly Dr. at Park Dr., Carlsbad\", \"No\", \" \", \"No\", \"No\", 33.146387, -117.310652], [\"San Diego\", \"Beach Access\", \"Stairway to Beach (Cerezo Dr.)\", \"Carlsbad Blvd. opposite end of Cerezo Dr., Carlsbad\", \"Yes\", \" \", \" \", \" \", 33.128751, -117.333344], [\"San Diego\", \"Beach Access\", \"South Carlsbad State Beach\", \"W. of Carlsbad Blvd. opposite Poinsettia Ln., Carlsbad\", \"Yes\", \" \", \"Yes\", \" \", 33.100857, -117.31879], [\"San Diego\", \"Visual Access\", \"Batiquitos Lagoon Viewpoint\", \"S. of Windrose Circle, Carlsbad\", \"No\", \" \", \"No\", \"No\", 33.092284, -117.308506], [\"San Diego\", \"Natural Resource\", \"Batiquitos Lagoon\", \"E. and W. of Hwy. I-5, N. of La Costa Ave., Carlsbad\", \"No\", \" \", \"No\", \" \", 33.093181, -117.300766], [\"San Diego\", \"Natural Resource\", \"Batiquitos Lagoon Shoreline Trail\", \"N. shore of Batiquitos Lagoon\", \"No\", \" \", \"No\", \"No\", 33.093192, -117.290922], [\"San Diego\", \"Beach Access\", \"South Ponto Beach\", \"W. of Carlsbad Blvd., at mouth of Batiquitos Lagoon, Carlsbad\", \"Yes\", \" \", \" \", \" \", 33.086492, -117.312963], [\"San Diego\", \"Beach Access\", \"Grandview Beach\", \"1700 Neptune Ave., Encinitas\", \"Yes\", \" \", \" \", \" \", 33.076512, -117.309632], [\"San Diego\", \"Beach Access\", \"Beacon's Beach (San Diego)\", \"Neptune Ave. at W. Leucadia Blvd., Leucadia\", \"Yes\", \" \", \" \", \" \", 33.065089, -117.305322], [\"San Diego\", \"Beach Access\", \"Encinitas Beach\", \"Between Beacon's Beach and Stone Steps Beach, Leucadia\", \"Yes\", \" \", \" \", \" \", 33.05897, -117.302908], [\"San Diego\", \"Beach Access\", \"Stone Steps Beach\", \"W. end of S. El Portal off Neptune Ave., Encinitas\", \"Yes\", \" \", \"Yes\", \" \", 33.05464, -117.301028], [\"San Diego\", \"Beach Access\", \"Moonlight Beach\", \"W. ends of B and C streets, Encinitas\", \"Yes\", \" \", \" \", \" \", 33.047779, -117.297985], [\"San Diego\", \"Beach Access\", \"D Street Beach\", \"W. end of D. St., Encinitas\", \"Yes\", \" \", \"Yes\", \" \", 33.0456, -117.29786], [\"San Diego\", \"Visual Access\", \"Viewpoint Park (H Street)\", \"W. end of H St., Encinitas\", \"No\", \" \", \" \", \" \", 33.040463, -117.296116], [\"San Diego\", \"Visual Access\", \"Viewpoint Park (I Street)\", \"W. end of I St., Encinitas\", \"No\", \" \", \" \", \" \", 33.039157, -117.296032], [\"San Diego\", \"Visual Access\", \"Viewpoint Park (J Street)\", \"W. end of J St., Encinitas\", \"No\", \" \", \" \", \" \", 33.037913, -117.295401], [\"San Diego\", \"Historic/Cultural Site\", \"Self-Realization Fellowship Meditation Garden\", \"215 K St., Encinitas\", \"No\", \" \", \" \", \" \", 33.036758, -117.294636], [\"San Diego\", \"Beach Access\", \"Swami's\", \"W. of Coast Hwy. 101, S. of K St., Encinitas\", \"Yes\", \" \", \"Yes\", \"Yes\", 33.034849, -117.291838], [\"San Diego\", \"Beach Access\", \"San Elijo State Beach\", \"Coast Hwy. 101, .2 mi. N. of Chesterfield Dr., Cardiff-by-the-Sea\", \"Yes\", \" \", \"Yes\", \" \", 33.021634, -117.284289], [\"San Diego\", \"Historic/Cultural Site\", \"San Elijo Lagoon Nature Center\", \"2710 Manchester Ave., .7 mi. W. of Hwy. I-5, Encinitas\", \"No\", \" \", \"No\", \" \", 33.013381, -117.274007], [\"San Diego\", \"Visual Access\", \"Vista Point (Cardiff-by-the-Sea)\", \"San Diego Fwy. (Hwy. 1-5), S. of Birmingham Dr., Cardiff-by-the-Sea\", \"No\", \" \", \" \", \" \", 33.015961, -117.2714], [\"San Diego\", \"Natural Resource\", \"San Elijo Lagoon\", \"E. and W. of Hwy. I-5, S. of Manchester Ave., Encinitas\", \"No\", \" \", \" \", \" \", 33.008591, -117.27382], [\"San Diego\", \"Beach Access\", \"Cardiff State Beach\", \"Coast Hwy. 101, W. of San Elijo Lagoon, Cardiff-by-the-Sea\", \"Yes\", \" \", \"Yes\", \" \", 33.002893, -117.278454], [\"San Diego\", \"Beach Access\", \"Tide Beach Park\", \"Pacific Ave. at Solana Vista Dr., Solana Beach\", \"Yes\", \" \", \" \", \"Yes\", 32.997647, -117.275729], [\"San Diego\", \"Beach Access\", \"Fletcher Cove Park\", \"End of W. Plaza St. (west extension of Lomas Santa Fe Dr.), Solana Beach\", \"Yes\", \" \", \" \", \" \", 32.991246, -117.273769], [\"San Diego\", \"Visual Access\", \"Overlook (Solana Beach)\", \"S. of Fletcher Cove parking lot, Solana Beach\", \"No\", \" \", \" \", \" \", 32.990868, -117.274077], [\"San Diego\", \"Beach Access\", \"Seascape Sur Stairway\", \"501 S. Sierra Ave., Solana Beach\", \"Yes\", \" \", \" \", \" \", 32.985567, -117.273232], [\"San Diego\", \"Beach Access\", \"Del Mar Shores Terrace Stairway\", \"180 Del Mar Shores Terrace, Solana Beach\", \"Yes\", \" \", \" \", \" \", 32.982084, -117.273045], [\"San Diego\", \"Visual Access\", \"Overlook (Del Mar)\", \"End of Border Ave., Del Mar\", \"No\", \" \", \" \", \" \", 32.980237, -117.270369], [\"San Diego\", \"Beach Access\", \"Del Mar Bluffs City Park\", \"W. of Camino Del Mar, N. of San Dieguito River mouth, Del Mar\", \"Yes\", \" \", \" \", \" \", 32.976851, -117.269564], [\"San Diego\", \"Natural Resource\", \"San Dieguito River Trail\", \"E. side of Camino del Mar, S. side of San Dieguito River\", \"No\", \" \", \"No\", \"No\", 32.973953, -117.268623], [\"San Diego\", \"Natural Resource\", \"San Dieguito Lagoon\", \"E. of Camino del Mar at the San Dieguito River mouth, Del Mar\", \"No\", \" \", \" \", \" \", 32.970911, -117.261394], [\"San Diego\", \"Beach Access\", \"Del Mar City Beach\", \"W. of Camino Del Mar, from 29th St. to Torrey Pines State Beach, Del Mar\", \"Yes\", \" \", \"No\", \"No\", 32.969451, -117.269303], [\"San Diego\", \"Beach Access\", \"Del Mar City Beach (17th Street)\", \"W. of Camino Del Mar at 17th St., Del Mar\", \"Yes\", \" \", \" \", \" \", 32.962258, -117.268372], [\"San Diego\", \"Beach Access\", \"Powerhouse Park\", \"Coast Blvd. between 17th and 15th streets, Del Mar\", \"Yes\", \" \", \" \", \" \", 32.96061, -117.267821], [\"San Diego\", \"Visual Access\", \"Seagrove Park\", \"Ocean Ave. at 15th St., Del Mar\", \"No\", \" \", \" \", \" \", 32.958895, -117.267273], [\"San Diego\", \"Beach Access\", \"Torrey Pines State Beach\", \"McGonigle Rd., off Carmel Valley Rd., San Diego\", \"Yes\", \" \", \" \", \" \", 32.936163, -117.261389], [\"San Diego\", \"Natural Resource\", \"Torrey Pines State Reserve Extension\", \"E. of Camino del Mar, off Del Mar Heights Rd., San Diego\", \"No\", \" \", \" \", \" \", 32.941017, -117.252049], [\"San Diego\", \"Natural Resource\", \"Los Pe\\u00f1asquitos Lagoon\", \"Between N. Torrey Pines Rd. and Hwy. I-5, S. of Carmel Valley Rd., San Diego\", \"No\", \" \", \"No\", \" \", 32.931, -117.252622], [\"San Diego\", \"Natural Resource\", \"Torrey Pines State Natural Reserve\", \"W. of N. Torrey Pines Rd., 1.5 mi. S. of Del Mar Heights Rd., San Diego\", \"No\", \" \", \" \", \" \", 32.920406, -117.253009], [\"San Diego\", \"Historic/Cultural Site\", \"Torrey Pines Gliderport\", \"W. of Torrey Pines Rd. at the end of Torrey Pines Scenic Dr., San Diego\", \"No\", \" \", \"No\", \" \", 32.889996, -117.249383], [\"San Diego\", \"Beach Access\", \"Torrey Pines City Beach\", \"W. of La Jolla Farms Rd., San Diego\", \"Yes\", \" \", \" \", \" \", 32.877414, -117.250941], [\"San Diego\", \"Visual Access\", \"Overlook (La Jolla)\", \"N. end of La Jolla Shores Ln., La Jolla\", \"No\", \" \", \" \", \" \", 32.872539, -117.251102], [\"San Diego\", \"Historic/Cultural Site\", \"Birch Aquarium at Scripps\", \"2300 Expedition Way, off N. Torrey Pines Rd., La Jolla\", \"No\", \" \", \"No\", \"Yes\", 32.866167, -117.25004], [\"San Diego\", \"Beach Access\", \"Scripps Beach\", \"W. of La Jolla Shores Dr. at the Scripps Institution of Oceanography, La Jolla\", \"Yes\", \" \", \"Yes\", \" \", 32.865768, -117.254399], [\"San Diego\", \"Pier\", \"Scripps Institution of Oceanography\", \"8602 La Jolla Shores Dr., La Jolla\", \"No\", \" \", \" \", \" \", 32.867315, -117.252204], [\"San Diego\", \"Beach Access\", \"La Jolla Shores Beach Park\", \"Camino Del Oro at Calle Frescota, La Jolla\", \"Yes\", \" \", \" \", \"No\", 32.857615, -117.257105], [\"San Diego\", \"Beach Access\", \"San Diego-Scripps State Marine Conservation Area\", \"Offshore N. of La Jolla\", \"No\", \" \", \"Yes\", \"Yes\", 32.868016, -117.25749], [\"San Diego\", \"Beach Access\", \"Walkway to Beach (La Jolla)\", \"W. of Spindrift Dr., near Roseland Dr., La Jolla\", \"Yes\", \" \", \" \", \" \", 32.852007, -117.260744], [\"San Diego\", \"Visual Access\", \"Coast Walk\", \"Seaward of Prospect Pl. and Torrey Pines Rd., La Jolla\", \"No\", \" \", \"Yes\", \" \", 32.849241, -117.268918], [\"San Diego\", \"Boat Access\", \"La Jolla Caves\", \"Along the shoreline near Coast Walk, La Jolla\", \"No\", \" \", \"Yes\", \" \", 32.849719, -117.26976], [\"San Diego\", \"Beach Access\", \"La Jolla Cove\", \"E. of Point La Jolla and N. of Coast Blvd., La Jolla\", \"Yes\", \" \", \"Yes\", \" \", 32.850307, -117.272371], [\"San Diego\", \"Park\", \"Ellen Browning Scripps Park\", \"Coast Blvd. at Girard Ave., La Jolla\", \"No\", \" \", \"Yes\", \" \", 32.849914, -117.27418], [\"San Diego\", \"Beach Access\", \"Children's Pool Beach\", \"Coast Blvd. at Jenner St., La Jolla\", \"Yes\", \" \", \"Yes\", \" \", 32.847549, -117.278884], [\"San Diego\", \"Beach Access\", \"Coast Boulevard Park\", \"W. of Coast Blvd. at Cuvier St., La Jolla\", \"Yes\", \" \", \"Yes\", \" \", 32.844153, -117.279012], [\"San Diego\", \"Beach Access\", \"Nicholson Point Park\", \"S. end of Coast Blvd., La Jolla\", \"Yes\", \" \", \"Yes\", \" \", 32.839369, -117.28084], [\"San Diego\", \"Beach Access\", \"Marine Street Beach\", \"W. of La Jolla Blvd., at the end of Marine St., La Jolla\", \"Yes\", \" \", \"Yes\", \" \", 32.836688, -117.281411], [\"San Diego\", \"Beach Access\", \"Sea Lane Accessway\", \"End of Sea Lane, La Jolla\", \"Yes\", \" \", \"Yes\", \" \", 32.835744, -117.281343], [\"San Diego\", \"Beach Access\", \"Windansea Beach\", \"W. of Neptune Pl., from Vista de la Playa to Palomar Ave., La Jolla\", \"Yes\", \" \", \"Yes\", \" \", 32.830669, -117.281024], [\"San Diego\", \"Beach Access\", \"La Jolla Strand Park\", \"W. of Neptune Pl., from Playa Del Sur to Palomar Ave., La Jolla\", \"Yes\", \" \", \"Yes\", \" \", 32.828405, -117.280187], [\"San Diego\", \"Beach Access\", \"Hermosa Terrace Park\", \"W. of Camino de la Costa, S. of Palomar Ave., La Jolla\", \"Yes\", \" \", \"Yes\", \" \", 32.825453, -117.279202], [\"San Diego\", \"Beach Access\", \"Overlooks and Stairway (La Jolla)\", \"W. of Camino de la Costa, La Jolla\", \"No\", \" \", \"Yes\", \" \", 32.818652, -117.27594], [\"San Diego\", \"Beach Access\", \"La Jolla Hermosa Park\", \"W. of Camino de la Costa, at the intersection with Chelsea Ave., La Jolla\", \"No\", \" \", \"Yes\", \" \", 32.817163, -117.272638], [\"San Diego\", \"Visual Access\", \"Bird Rock Viewpoint\", \"End of Bird Rock Ave., La Jolla\", \"No\", \" \", \"Yes\", \" \", 32.815002, -117.27337], [\"San Diego\", \"Visual Access\", \"Viewpoints (Sun Gold Point)\", \"W. of Chelsea Ave., La Jolla\", \"No\", \" \", \"Yes\", \" \", 32.812618, -117.270868], [\"San Diego\", \"Park\", \"Calumet Park\", \"W. of Calumet Ave., between Midway St. and Colima Ct., La Jolla\", \"No\", \" \", \"Yes\", \" \", 32.810938, -117.269425], [\"San Diego\", \"Visual Access\", \"Viewpoint (False Point)\", \"W. of Calumet Ave., opposite end of Bandera St., La Jolla\", \"No\", \" \", \"Yes\", \" \", 32.808469, -117.267778], [\"San Diego\", \"Beach Access\", \"Stairway to Beach (Linda Way)\", \"Seaward of Sea Ridge Dr., opposite Linda Way, La Jolla\", \"Yes\", \" \", \"Yes\", \" \", 32.808309, -117.266209], [\"San Diego\", \"Beach Access\", \"Tourmaline Surfing Park\", \"W. of La Jolla Blvd., at the end of Tourmaline St., La Jolla\", \"Yes\", \" \", \"Yes\", \" \", 32.805167, -117.262229], [\"San Diego\", \"Beach Access\", \"Palisades Park (Pacific Beach)\", \"W. of Ocean Blvd., between Loring St. and Law St., Pacific Beach\", \"Yes\", \" \", \" \", \" \", 32.80248, -117.259646], [\"San Diego\", \"Beach Access\", \"Pacific Beach Park\", \"W. of Ocean Blvd., from Diamond St. to Thomas Ave., Pacific Beach\", \"Yes\", \" \", \" \", \" \", 32.797249, -117.257458], [\"San Diego\", \"Pier\", \"Crystal Pier\", \"End of Garnet Ave., Pacific Beach\", \"No\", \" \", \" \", \" \", 32.796302, -117.256853], [\"San Diego\", \"Beach Access\", \"Pacific Beach\", \"W. of Mission Blvd., from La Jolla to Mission Beach\", \"Yes\", \" \", \"No\", \" \", 32.79165, -117.255625], [\"San Diego\", \"Beach Access\", \"Mission Beach\", \"W. of Mission Blvd., S. of Pacific Beach Blvd., San Diego\", \"Yes\", \" \", \"No\", \" \", 32.786061, -117.254473], [\"San Diego\", \"Beach Access\", \"Sail Bay and Riviera Shores\", \"S. of Pacific Beach Dr., between Mission Blvd., and Riviera Dr., Mission Bay\", \"Yes\", \" \", \" \", \" \", 32.788806, -117.246459], [\"San Diego\", \"Beach Access\", \"Riviera Shores Access #1\", \"3862 Riviera Dr., San Diego\", \"Yes\", \" \", \"No\", \"No\", 32.789489, -117.240618], [\"San Diego\", \"Beach Access\", \"Riviera Shores Access #2\", \"3750 Riviera Dr., San Diego\", \"Yes\", \" \", \"No\", \"No\", 32.787627, -117.240065], [\"San Diego\", \"Boat Access\", \"Santa Clara Point\", \"E. of Mission Blvd. at Santa Clara Pl., Mission Bay\", \"Yes\", \" \", \" \", \" \", 32.783388, -117.249378], [\"San Diego\", \"Boat Access\", \"Mission Bay Sports Center\", \"1010 Santa Clara Pl., Mission Bay\", \"No\", \" \", \" \", \" \", 32.784902, -117.249463], [\"San Diego\", \"Beach Access\", \"El Carmel Point\", \"E. of Mission Blvd. at El Carmel Pl., Mission Bay\", \"Yes\", \" \", \" \", \" \", 32.778831, -117.247759], [\"San Diego\", \"Beach Access\", \"Mission Beach Park\", \"W. of Strand Way, from Santa Rita Pl. to Mission Bay entrance channel\", \"Yes\", \" \", \" \", \" \", 32.778167, -117.253235], [\"San Diego\", \"Beach Access\", \"Ventura Cove\", \"W. Mission Bay Dr., at Gleason Rd., Mission Bay\", \"Yes\", \" \", \" \", \" \", 32.770379, -117.244734], [\"San Diego\", \"Beach Access\", \"Bonita Cove\", \"W. Mission Bay Dr., at Mariners Way, Mission Bay\", \"Yes\", \" \", \" \", \" \", 32.769601, -117.249613], [\"San Diego\", \"LCOA\", \"Mission Beach Hostel\", \"3204 Mission Blvd., Mission Beach\", \"No\", \" \", \" \", \" \", 32.771949, -117.251779], [\"San Diego\", \"Natural Resource\", \"Sunset Point\", \"N. of Mission Bay Dr., end of Dana Landing Rd., Mission Bay\", \"No\", \" \", \" \", \" \", 32.767251, -117.239131], [\"San Diego\", \"Boat Access\", \"Quivira Basin\", \"S. of Mission Bay Dr. at Quivira Rd., Mission Bay\", \"No\", \" \", \" \", \" \", 32.763462, -117.241578], [\"San Diego\", \"Boat Access\", \"Dana Landing\", \"N. of Mission Bay Dr., at Dana Landing Rd., Mission Bay\", \"Yes\", \" \", \" \", \" \", 32.766525, -117.234888], [\"San Diego\", \"Beach Access\", \"Vacation Isle\", \"W. of Ingraham St., at Vacation Rd., Mission Bay\", \"Yes\", \" \", \" \", \" \", 32.772154, -117.237806], [\"San Diego\", \"Beach Access\", \"Ski Beach\", \"E. of Ingraham St., at Vacation Rd., Mission Bay\", \"Yes\", \" \", \" \", \" \", 32.776356, -117.233234], [\"San Diego\", \"Beach Access\", \"Crown Point Shores\", \"E. of Crown Pt. Dr., Mission Bay\", \"Yes\", \" \", \" \", \" \", 32.78413, -117.232516], [\"San Diego\", \"Boat Access\", \"Campland on the Bay\", \"2211 Pacific Beach Dr. off Olney St., Mission Bay\", \"Yes\", \" \", \" \", \" \", 32.795624, -117.224706], [\"San Diego\", \"Beach Access\", \"De Anza Cove\", \"3000 E. Mission Bay Dr., Mission Bay\", \"Yes\", \" \", \" \", \" \", 32.797184, -117.213345], [\"San Diego\", \"Historic/Cultural Site\", \"Visitor Information Center (Mission Bay)\", \"2688 E. Mission Bay Dr., Mission Bay\", \"No\", \" \", \" \", \" \", 32.789478, -117.209954], [\"San Diego\", \"Beach Access\", \"East Shore\", \"Along E. Mission Bay Dr., from Clairemont Dr. to Fiesta Island Rd., Mission Bay\", \"No\", \" \", \" \", \" \", 32.784519, -117.208371], [\"San Diego\", \"Beach Access\", \"Playa Pacifica\", \"Off E. Mission Bay Dr., S. of the Visitor Information Center, Mission Bay\", \"Yes\", \" \", \" \", \" \", 32.781527, -117.210201], [\"San Diego\", \"Beach Access\", \"Tecolote Shores North\", \"Off E. Mission Bay Dr., S. of the Hilton Hotel, Mission Bay\", \"No\", \" \", \" \", \" \", 32.775734, -117.209991], [\"San Diego\", \"Beach Access\", \"Fiesta Island\", \"Fiesta Island Rd. off E. Mission Bay Dr., Mission Bay\", \"Yes\", \" \", \" \", \" \", 32.780292, -117.219177], [\"San Diego\", \"Boat Access\", \"South Shores Park\", \"Sea World Dr. between Sea World and Hwy. I-5, Mission Bay\", \"No\", \" \", \" \", \" \", 32.764438, -117.218144], [\"San Diego\", \"Historic/Cultural Site\", \"SeaWorld San Diego\", \"Sea World Dr., Mission Bay\", \"No\", \" \", \" \", \" \", 32.763923, -117.228557], [\"San Diego\", \"Historic/Cultural Site\", \"Old Town San Diego State Historic Park\", \"San Diego Ave. at Twiggs St., San Diego\", \"No\", \" \", \" \", \" \", 32.754107, -117.196293], [\"San Diego\", \"Natural Resource\", \"Bike Path (San Diego River)\", \"S. side of San Diego River channel, San Diego\", \"No\", \" \", \" \", \" \", 32.757315, -117.226675], [\"San Diego\", \"Natural Resource\", \"Famosa Slough\", \"Off W. Pt. Loma Blvd. at Famosa Blvd., San Diego\", \"No\", \" \", \" \", \" \", 32.752337, -117.228703], [\"San Diego\", \"Natural Resource\", \"Robb Field\", \"End of Bacon St., off W. Point Loma Blvd., San Diego\", \"No\", \" \", \" \", \" \", 32.754264, -117.23985], [\"San Diego\", \"Beach Access\", \"Dog Beach (Ocean Beach)\", \"W. end of Voltaire St. off W. Point Loma Blvd., Ocean Beach\", \"Yes\", \" \", \" \", \" \", 32.754904, -117.251115], [\"San Diego\", \"Beach Access\", \"Ocean Beach Park\", \"Abbott St. at Santa Monica Ave., Ocean Beach\", \"Yes\", \" \", \"Yes\", \"Yes\", 32.749216, -117.25279], [\"San Diego\", \"Pier\", \"Ocean Beach Municipal Fishing Pier\", \"End of Niagara Ave., Ocean Beach\", \"No\", \" \", \" \", \" \", 32.747001, -117.253394], [\"San Diego\", \"Beach Access\", \"Ocean Beach City Beaches\", \"Between Ocean Beach Pier and the end of Bermuda Ave., Ocean Beach\", \"Yes\", \" \", \"Yes\", \" \", 32.743925, -117.254691], [\"San Diego\", \"Beach Access\", \"Sunset Cliffs Natural Park\", \"Along Sunset Cliffs Blvd., from Adair St. to .3 mi. S. of Ladera St., Ocean Beach\", \"Yes\", \" \", \"Yes\", \" \", 32.718288, -117.255893], [\"San Diego\", \"Beach Access\", \"Cabrillo National Monument Ocean Access\", \"End of Cabrillo Rd., off Cabrillo Memorial Dr., Point Loma\", \"No\", \" \", \"Yes\", \"Yes\", 32.675024, -117.246059], [\"San Diego\", \"Beach Access\", \"Cabrillo National Monument\", \"S. end of Cabrillo Memorial Dr., Point Loma\", \"No\", \" \", \"Yes\", \"Yes\", 32.674189, -117.239526], [\"San Diego\", \"MPA\", \"Cabrillo State Marine Reserve\", \"Offshore, W. side of Pt. Loma\", \"No\", \" \", \" \", \" \", 32.666706, -117.245033], [\"San Diego\", \"Lighthouse\", \"Old Point Loma Lighthouse\", \"Within Cabrillo National Monument, Point Loma\", \"No\", \" \", \" \", \" \", 32.672152, -117.240958], [\"San Diego\", \"Beach Access\", \"Point Loma Ecological Reserve\", \"Offshore, W. side of Pt. Loma\", \"No\", \" \", \" \", \" \", 32.711748, -117.252457], [\"San Diego\", \"Beach Access\", \"La Playa\", \"W. shoreline of Shelter Island Yacht Basin, San Diego\", \"Yes\", \" \", \" \", \" \", 32.715955, -117.235596], [\"San Diego\", \"Boat Access\", \"Shelter Island Yacht Basin\", \"E. of Rosecrans St. and S. of Shelter Island Dr., San Diego\", \"No\", \" \", \" \", \" \", 32.71338, -117.231823], [\"San Diego\", \"Beach Access\", \"Shelter Island Shoreline Park\", \"Along Shelter Island Dr., San Diego\", \"Yes\", \" \", \"Yes\", \" \", 32.715141, -117.223885], [\"San Diego\", \"Boat Access\", \"Shelter Island\", \"Along Shelter Island Dr., San Diego\", \"No\", \" \", \" \", \" \", 32.718574, -117.224235], [\"San Diego\", \"Boat Access\", \"America's Cup Harbor\", \"E. of Rosecrans St., N. of Shelter Island Dr., San Diego\", \"No\", \" \", \" \", \" \", 32.720976, -117.22477], [\"San Diego\", \"LCOA\", \"Point Loma International Youth Hostel\", \"3790 Udall St., San Diego\", \"No\", \" \", \" \", \" \", 32.740295, -117.230608], [\"San Diego\", \"Beach Access\", \"Spanish Landing Park\", \"On the San Diego Bay side of N. Harbor Dr., W. of Harbor Island Dr., San Diego\", \"Yes\", \" \", \" \", \" \", 32.729047, -117.205216], [\"San Diego\", \"Beach Access\", \"Harbor Island\", \"Along Harbor Island Dr., San Diego\", \"No\", \" \", \"Yes\", \" \", 32.725066, -117.206503], [\"San Diego\", \"Visual Access\", \"Embarcadero (San Diego)\", \"Along Harbor Dr., W. of downtown San Diego\", \"No\", \" \", \" \", \" \", 32.725066, -117.173598], [\"San Diego\", \"Historic/Cultural Site\", \"Maritime Museum of San Diego\", \"1492 N. Harbor Dr., San Diego\", \"No\", \" \", \" \", \" \", 32.720949, -117.173412], [\"San Diego\", \"Historic/Cultural Site\", \"Cruise Ship Terminal\", \"B St. Pier, San Diego\", \"No\", \" \", \" \", \" \", 32.717435, -117.175837], [\"San Diego\", \"Pier\", \"Broadway Pier\", \"Foot of Broadway, San Diego\", \"No\", \" \", \" \", \" \", 32.71569, -117.17594], [\"San Diego\", \"Historic/Cultural Site\", \"U.S.S. Midway Museum\", \"Navy Pier, 901 N. Harbor Dr., San Diego\", \"No\", \" \", \" \", \" \", 32.714348, -117.175728], [\"San Diego\", \"Park\", \"Tuna Harbor Park\", \"Foot of W. G St., San Diego\", \"No\", \" \", \"No\", \" \", 32.712893, -117.17476], [\"San Diego\", \"Visual Access\", \"G Street Pier\", \"Foot of G St., San Diego\", \"No\", \" \", \" \", \" \", 32.711819, -117.175172], [\"San Diego\", \"Historic/Cultural Site\", \"Seaport Village\", \"849 W. Harbor Dr. at Kettner Blvd., San Diego\", \"No\", \" \", \" \", \" \", 32.708899, -117.170173], [\"San Diego\", \"Park\", \"Embarcadero Marina Park - North\", \"End of Kettner Blvd., San Diego\", \"No\", \" \", \"No\", \"No\", 32.707565, -117.169434], [\"San Diego\", \"Park\", \"Embarcadero Marina Park - South\", \"End of Marina Park Way, San Diego\", \"No\", \" \", \" \", \" \", 32.703703, -117.164471], [\"San Diego\", \"Historic/Cultural Site\", \"San Diego Convention Center\", \"Bay side of Harbor Dr., downtown San Diego\", \"No\", \" \", \" \", \" \", 32.706592, -117.163355], [\"San Diego\", \"LCOA\", \"Hostelling International San Diego Downtown\", \"521 Market St., San Diego\", \"No\", \" \", \" \", \" \", 32.711374, -117.159745], [\"San Diego\", \"Visual Access\", \"Cesar Chavez Park\", \"Foot of Cesar E. Chavez Parkway, San Diego\", \"No\", \" \", \" \", \" \", 32.696032, -117.150237], [\"San Diego\", \"Visual Access\", \"Bay View Park\", \"\\\"I\\\" Ave. and 1st St., Coronado\", \"No\", \" \", \" \", \" \", 32.701598, -117.17908], [\"San Diego\", \"Visual Access\", \"Harbor View Park\", \"1st St. and \\\"E\\\" Ave., Coronado\", \"No\", \" \", \" \", \" \", 32.70016, -117.174457], [\"San Diego\", \"Beach Access\", \"Centennial Park\", \"1st St. and Orange Ave., Coronado\", \"No\", \" \", \" \", \" \", 32.698965, -117.172209], [\"San Diego\", \"Pier\", \"Ferry Landing\", \"End of B Ave. at 1st St., Coronado\", \"Yes\", \" \", \" \", \" \", 32.699871, -117.169819], [\"San Diego\", \"Beach Access\", \"Coronado Tidelands Regional Park\", \"End of Mullinix Dr. off Glorietta Blvd., Coronado\", \"Yes\", \" \", \" \", \" \", 32.691201, -117.165478], [\"San Diego\", \"Natural Resource\", \"Coronado Municipal Golf Course\", \"2000 Visalia Row, off Glorietta Blvd., Coronado\", \"No\", \" \", \" \", \" \", 32.685001, -117.167202], [\"San Diego\", \"Beach Access\", \"Coronado Dog Beach\", \"Near intersection of Ocean Blvd. and Ocean Drive, Coronado\", \"Yes\", \" \", \"No\", \" \", 32.68657, -117.193345], [\"San Diego\", \"Beach Access\", \"Coronado City Beach\", \"W. of Ocean Blvd., Coronado\", \"Yes\", \" \", \" \", \" \", 32.682798, -117.183827], [\"San Diego\", \"Beach Access\", \"Coronado Shores Beach\", \"Seaward of Coronado Shores Condominiums on Hwy. 75, Coronado\", \"Yes\", \" \", \" \", \" \", 32.676192, -117.175283], [\"San Diego\", \"Boat Access\", \"Glorietta Bay Marina\", \"1715 Strand Way, Coronado\", \"No\", \" \", \" \", \" \", 32.678945, -117.174461], [\"San Diego\", \"Historic/Cultural Site\", \"Coronado Aquatics Center\", \"1845 Strand Way, Coronado\", \"No\", \" \", \" \", \" \", 32.67624, -117.170468], [\"San Diego\", \"Beach Access\", \"Glorietta Bay Park\", \"1975 Strand Way, Coronado\", \"Yes\", \" \", \" \", \" \", 32.675232, -117.169047], [\"San Diego\", \"Beach Access\", \"Pepper Park\", \"S. end of Tidelands Ave., National City\", \"No\", \" \", \" \", \" \", 32.649882, -117.111868], [\"San Diego\", \"Natural Resource\", \"Living Coast Discovery Center\", \"Foot of E St., within Sweetwater Marsh, Chula Vista\", \"No\", \" \", \" \", \" \", 32.639838, -117.111025], [\"San Diego\", \"Boat Access\", \"Chula Vista Bayside Park\", \"End of Marina Parkway, Chula Vista\", \"Yes\", \" \", \" \", \" \", 32.628267, -117.107364], [\"San Diego\", \"Boat Access\", \"Chula Vista Launch Ramp\", \"W. end of Marina Way, off Marina Parkway, Chula Vista\", \"No\", \" \", \" \", \" \", 32.621377, -117.103395], [\"San Diego\", \"Beach Access\", \"Grand Caribe Shoreline Park\", \"End of Grand Caribe Causeway, off Coronado Cays Blvd., Coronado\", \"Yes\", \" \", \" \", \" \", 32.624131, -117.129468], [\"San Diego\", \"Beach Access\", \"Cays Parks\", \"Off Hwy. 75 (Silver Strand Blvd.), along Coronado Cays Blvd., Coronado\", \"No\", \" \", \" \", \" \", 32.622221, -117.135282], [\"San Diego\", \"Beach Access\", \"Silver Strand State Beach\", \"5000 Hwy. 75, Coronado\", \"Yes\", \" \", \" \", \" \", 32.631013, -117.140939], [\"San Diego\", \"Boat Access\", \"Crown Cove\", \"E. of Hwy. 75, Coronado\", \"Yes\", \" \", \"No\", \" \", 32.635808, -117.140978], [\"San Diego\", \"Natural Resource\", \"San Diego Bay National Wildlife Refuge\", \"S. end of San Diego Bay\", \"No\", \" \", \" \", \" \", 32.594119, -117.119239], [\"San Diego\", \"Natural Resource\", \"San Diego Bay NWR - Sweetwater Marsh\", \"E. shore of San Diego Bay, National City and Chula Vista\", \"No\", \" \", \" \", \" \", 32.639141, -117.113402], [\"San Diego\", \"Natural Resource\", \"South Bay Marine Biological Study Area\", \"E. of Hwy. 75, 1 mi. N. of Imperial Beach city limits, Coronado\", \"No\", \" \", \" \", \" \", 32.603754, -117.123208], [\"San Diego\", \"Natural Resource\", \"Bayshore Bikeway\", \"Around San Diego Bay, from downtown San Diego to Imperial Beach\", \"No\", \" \", \" \", \" \", 32.587596, -117.105702], [\"San Diego\", \"Beach Access\", \"Imperial Beach\", \"W. of Seacoast Dr., from Carnation to S. end of Seacoast Dr., Imperial Beach\", \"Yes\", \" \", \" \", \" \", 32.580791, -117.132867], [\"San Diego\", \"Pier\", \"Imperial Beach Pier\", \"Foot of Evergreen Ave., Imperial Beach\", \"No\", \" \", \" \", \" \", 32.579563, -117.132575], [\"San Diego\", \"Beach Access\", \"Tijuana River Estuary\", \"W. of Hwy. I-5, between Imperial Beach and the International Border\", \"Yes\", \" \", \" \", \" \", 32.556817, -117.127811], [\"San Diego\", \"Beach Access\", \"Tijuana River National Estuarine Research Reserve\", \"301 Caspian Way, Imperial Beach\", \"No\", \" \", \" \", \" \", 32.574727, -117.126456], [\"San Diego\", \"Historic/Cultural Site\", \"Tijuana Estuary Visitor Center\", \"3rd St., and Caspian Way, Imperial Beach\", \"No\", \" \", \" \", \" \", 32.575166, -117.124852], [\"San Diego\", \"Natural Resource\", \"Dairy Mart Ponds\", \"S. of Hwy. I-5, both sides of Dairy Mart Rd., San Diego\", \"No\", \" \", \" \", \" \", 32.554299, -117.062808], [\"San Diego\", \"Natural Resource\", \"Tijuana River Valley Regional Park\", \"2721 Monument Rd., San Diego\", \"No\", \" \", \" \", \" \", 32.544516, -117.074186], [\"San Diego\", \"Beach Access\", \"Border Field State Park\", \"W. end of Monument Rd., San Diego\", \"Yes\", \" \", \" \", \" \", 32.544757, -117.121919], [\"Humboldt\", \"Natural Resource\", \"Humboldt Bay Trail - North\", \"W. of Hwy. 101, from State Route 255 to Bayside Cutoff, Arcata\", \" \", \" \", \" \", \" \", 40.858197, -124.090502], [\"Humboldt\", \"Beach Access\", \"Baker Beach (Trinidad)\", \"Scenic Drive N. of Kidder Road, Trinidad\", \"Yes\", \" \", \" \", \" \", 41.048402, -124.125058], [\"Humboldt\", \"Natural Resource\", \"Eureka Waterfront Trail\", \"along Humboldt Bay from Truesdale Street to Tydd Street, Eureka\", \" \", \" \", \" \", \" \", 40.80545, -124.14235], [\"Mendocino\", \"Natural Resource\", \"Noyo Headlands Park - South\", \"W. end of W. Cypress St.\", \"No\", \" \", \"Yes\", \" \", 39.431869, -123.812308], [\"Mendocino\", \"Beach Access\", \"Noyo Beach Off-Leash Dog Area\", \"W. end of Harbor Drive, Noyo Harbor, Ft Bragg\", \"Yes\", \" \", \" \", \" \", 39.42833, -123.8088], [\"Sonoma\", \"Beach Access\", \"South Salmon Creek Beach\", \"W. end of Bean Avenue, Bodega Bay\", \"Yes\", \" \", \" \", \" \", 38.350215, -123.066552], [\"San Luis Obispo\", \"Beach Access\", \"Ebb Tide Park and Beach Stairway\", \"W. end Ebb Tide Lane, Pismo Beach\", \"Yes\", \" \", \" \", \" \", 35.166395, -120.691668], [\"Los Angeles\", \"Beach Access\", \"Maritime Rocks Beach Stairway\", \"between 20516-20466 Pacific Coast Hwy, Malibu\", \"Yes\", \" \", \" \", \" \", 34.037855, -118.621147], [\"Los Angeles\", \"Visual Access\", \"Miramar Coastal Overlook\", \"between 19620-19562 Pacific Coast Hwy, Malibu\", \"No\", \" \", \" \", \" \", 34.039281, -118.603321], [\"Los Angeles\", \"Visual Access\", \"Dolphin View Coastal Overlook\", \"between 19812-19768 Pacific Coast Hwy, Malibu\", \"No\", \" \", \" \", \" \", 34.038274, -118.606634], [\"Los Angeles\", \"Beach Access\", \"Escondido Creek Beach - PCH Underpass\", \"Via Escondido Drive and Pacific Coast Hwy, Malibu\", \"No\", \" \", \" \", \" \", 34.026042, -118.765486], [\"Los Angeles\", \"Beach Access\", \"Malibu Road East Stairway\", \"24033 Malibu Road, Malibu\", \"Yes\", \" \", \" \", \" \", 34.031798, -118.699172]];\n",
       "\n",
       "        // Define the dt_args\n",
       "        let dt_args = {\"layout\": {\"topStart\": \"pageLength\", \"topEnd\": \"search\", \"bottomStart\": \"info\", \"bottomEnd\": \"paging\"}, \"order\": [], \"fnInfoCallback\": function (oSettings, iStart, iEnd, iMax, iTotal, sPre) { return sPre + ' (<a href=\"https://mwouts.github.io/itables/downsampling.html\">downsampled</a> from 1,647x10 to 819x10 as maxBytes=64KB)'; }};\n",
       "        dt_args[\"data\"] = data;\n",
       "\n",
       "        \n",
       "        new DataTable(table, dt_args);\n",
       "    });\n",
       "</script>\n"
      ],
      "text/plain": [
       "<IPython.core.display.HTML object>"
      ]
     },
     "metadata": {},
     "output_type": "display_data"
    }
   ],
   "source": [
    "my_columns = ['COUNTY','AccessType','Name', 'Location','SNDY_BEACH','SHPWRECKS','RKY_SHORE','TIDEPOOL','LATITUDE','LONGITUDE']\n",
    "DF_beachesfinal = DF_beaches[my_columns]\n",
    "show(DF_beachesfinal)\n",
    "\n"
   ]
  },
  {
   "cell_type": "code",
   "execution_count": 415,
   "id": "63fc6724-eabe-4bae-9922-503639f72a70",
   "metadata": {},
   "outputs": [
    {
     "data": {
      "text/plain": [
       "COUNTY         object\n",
       "Name           object\n",
       "Location       object\n",
       "SNDY_BEACH     object\n",
       "SHPWRECKS      object\n",
       "RKY_SHORE      object\n",
       "TIDEPOOL       object\n",
       "LATITUDE      float64\n",
       "LONGITUDE     float64\n",
       "dtype: object"
      ]
     },
     "execution_count": 415,
     "metadata": {},
     "output_type": "execute_result"
    }
   ],
   "source": [
    "DF_beachesfinal.dtypes"
   ]
  },
  {
   "cell_type": "code",
   "execution_count": 418,
   "id": "2c129344-8970-490f-8b31-93cfcb1a4838",
   "metadata": {},
   "outputs": [
    {
     "data": {
      "text/html": [
       "<div>\n",
       "<style scoped>\n",
       "    .dataframe tbody tr th:only-of-type {\n",
       "        vertical-align: middle;\n",
       "    }\n",
       "\n",
       "    .dataframe tbody tr th {\n",
       "        vertical-align: top;\n",
       "    }\n",
       "\n",
       "    .dataframe thead th {\n",
       "        text-align: right;\n",
       "    }\n",
       "</style>\n",
       "<table border=\"1\" class=\"dataframe\">\n",
       "  <thead>\n",
       "    <tr style=\"text-align: right;\">\n",
       "      <th></th>\n",
       "      <th>LATITUDE</th>\n",
       "      <th>LONGITUDE</th>\n",
       "    </tr>\n",
       "  </thead>\n",
       "  <tbody>\n",
       "    <tr>\n",
       "      <th>count</th>\n",
       "      <td>1647.000000</td>\n",
       "      <td>1647.000000</td>\n",
       "    </tr>\n",
       "    <tr>\n",
       "      <th>mean</th>\n",
       "      <td>36.030660</td>\n",
       "      <td>-120.673615</td>\n",
       "    </tr>\n",
       "    <tr>\n",
       "      <th>std</th>\n",
       "      <td>2.601830</td>\n",
       "      <td>2.399567</td>\n",
       "    </tr>\n",
       "    <tr>\n",
       "      <th>min</th>\n",
       "      <td>32.544516</td>\n",
       "      <td>-124.390964</td>\n",
       "    </tr>\n",
       "    <tr>\n",
       "      <th>25%</th>\n",
       "      <td>33.751148</td>\n",
       "      <td>-122.673277</td>\n",
       "    </tr>\n",
       "    <tr>\n",
       "      <th>50%</th>\n",
       "      <td>35.406135</td>\n",
       "      <td>-120.887354</td>\n",
       "    </tr>\n",
       "    <tr>\n",
       "      <th>75%</th>\n",
       "      <td>37.902840</td>\n",
       "      <td>-118.337843</td>\n",
       "    </tr>\n",
       "    <tr>\n",
       "      <th>max</th>\n",
       "      <td>41.992854</td>\n",
       "      <td>-117.062808</td>\n",
       "    </tr>\n",
       "  </tbody>\n",
       "</table>\n",
       "</div>"
      ],
      "text/plain": [
       "          LATITUDE    LONGITUDE\n",
       "count  1647.000000  1647.000000\n",
       "mean     36.030660  -120.673615\n",
       "std       2.601830     2.399567\n",
       "min      32.544516  -124.390964\n",
       "25%      33.751148  -122.673277\n",
       "50%      35.406135  -120.887354\n",
       "75%      37.902840  -118.337843\n",
       "max      41.992854  -117.062808"
      ]
     },
     "execution_count": 418,
     "metadata": {},
     "output_type": "execute_result"
    }
   ],
   "source": [
    "DF_beachesfinal.describe()"
   ]
  },
  {
   "cell_type": "code",
   "execution_count": 449,
   "id": "b50bcf10-5977-4aae-a60d-564ca6e01b0d",
   "metadata": {},
   "outputs": [
    {
     "data": {
      "text/html": [
       "<div>\n",
       "<style scoped>\n",
       "    .dataframe tbody tr th:only-of-type {\n",
       "        vertical-align: middle;\n",
       "    }\n",
       "\n",
       "    .dataframe tbody tr th {\n",
       "        vertical-align: top;\n",
       "    }\n",
       "\n",
       "    .dataframe thead th {\n",
       "        text-align: right;\n",
       "    }\n",
       "</style>\n",
       "<table border=\"1\" class=\"dataframe\">\n",
       "  <thead>\n",
       "    <tr style=\"text-align: right;\">\n",
       "      <th></th>\n",
       "      <th>COUNTY</th>\n",
       "      <th>AccessType</th>\n",
       "      <th>Name</th>\n",
       "      <th>Location</th>\n",
       "      <th>SNDY_BEACH</th>\n",
       "      <th>SHPWRECKS</th>\n",
       "      <th>RKY_SHORE</th>\n",
       "      <th>TIDEPOOL</th>\n",
       "      <th>LATITUDE</th>\n",
       "      <th>LONGITUDE</th>\n",
       "    </tr>\n",
       "  </thead>\n",
       "  <tbody>\n",
       "    <tr>\n",
       "      <th>3</th>\n",
       "      <td>Del Norte</td>\n",
       "      <td>Boat Access</td>\n",
       "      <td>Smith River Boating Access</td>\n",
       "      <td>Fred Haight Dr., W. of Hwy. 101, 3 mi. S. of T...</td>\n",
       "      <td>No</td>\n",
       "      <td></td>\n",
       "      <td>No</td>\n",
       "      <td></td>\n",
       "      <td>41.890326</td>\n",
       "      <td>-124.147810</td>\n",
       "    </tr>\n",
       "    <tr>\n",
       "      <th>4</th>\n",
       "      <td>Del Norte</td>\n",
       "      <td>Boat Access</td>\n",
       "      <td>Xaa-wan'-k'wvt Village &amp; Resort Boat Ramp</td>\n",
       "      <td>200 N Salmon Harbor Rd, Smith River.</td>\n",
       "      <td>Yes</td>\n",
       "      <td></td>\n",
       "      <td>Yes</td>\n",
       "      <td></td>\n",
       "      <td>41.943917</td>\n",
       "      <td>-124.198709</td>\n",
       "    </tr>\n",
       "    <tr>\n",
       "      <th>7</th>\n",
       "      <td>Del Norte</td>\n",
       "      <td>Boat Access</td>\n",
       "      <td>Lakeview Drive Boat Launch</td>\n",
       "      <td>End of Lakeview Dr. off Lake Earl Dr.</td>\n",
       "      <td>No</td>\n",
       "      <td></td>\n",
       "      <td>No</td>\n",
       "      <td>No</td>\n",
       "      <td>41.813705</td>\n",
       "      <td>-124.180635</td>\n",
       "    </tr>\n",
       "    <tr>\n",
       "      <th>12</th>\n",
       "      <td>Del Norte</td>\n",
       "      <td>Boat Access</td>\n",
       "      <td>Jedediah Smith Redwoods State Park</td>\n",
       "      <td>Hwy. 199, 5 mi. E. of Hwy. 101</td>\n",
       "      <td>No</td>\n",
       "      <td></td>\n",
       "      <td>No</td>\n",
       "      <td></td>\n",
       "      <td>41.795574</td>\n",
       "      <td>-124.085074</td>\n",
       "    </tr>\n",
       "    <tr>\n",
       "      <th>13</th>\n",
       "      <td>Del Norte</td>\n",
       "      <td>Boat Access</td>\n",
       "      <td>Smith River National Recreation Area</td>\n",
       "      <td>Hwy. 199, 14 mi. E of Hwy. 101</td>\n",
       "      <td>No</td>\n",
       "      <td></td>\n",
       "      <td>No</td>\n",
       "      <td></td>\n",
       "      <td>41.846261</td>\n",
       "      <td>-123.969349</td>\n",
       "    </tr>\n",
       "    <tr>\n",
       "      <th>...</th>\n",
       "      <td>...</td>\n",
       "      <td>...</td>\n",
       "      <td>...</td>\n",
       "      <td>...</td>\n",
       "      <td>...</td>\n",
       "      <td>...</td>\n",
       "      <td>...</td>\n",
       "      <td>...</td>\n",
       "      <td>...</td>\n",
       "      <td>...</td>\n",
       "    </tr>\n",
       "    <tr>\n",
       "      <th>1586</th>\n",
       "      <td>San Diego</td>\n",
       "      <td>Boat Access</td>\n",
       "      <td>America's Cup Harbor</td>\n",
       "      <td>E. of Rosecrans St., N. of Shelter Island Dr.,...</td>\n",
       "      <td>No</td>\n",
       "      <td></td>\n",
       "      <td></td>\n",
       "      <td></td>\n",
       "      <td>32.720976</td>\n",
       "      <td>-117.224770</td>\n",
       "    </tr>\n",
       "    <tr>\n",
       "      <th>1612</th>\n",
       "      <td>San Diego</td>\n",
       "      <td>Boat Access</td>\n",
       "      <td>Glorietta Bay Marina</td>\n",
       "      <td>1715 Strand Way, Coronado</td>\n",
       "      <td>No</td>\n",
       "      <td></td>\n",
       "      <td></td>\n",
       "      <td></td>\n",
       "      <td>32.678945</td>\n",
       "      <td>-117.174461</td>\n",
       "    </tr>\n",
       "    <tr>\n",
       "      <th>1617</th>\n",
       "      <td>San Diego</td>\n",
       "      <td>Boat Access</td>\n",
       "      <td>Chula Vista Bayside Park</td>\n",
       "      <td>End of Marina Parkway, Chula Vista</td>\n",
       "      <td>Yes</td>\n",
       "      <td></td>\n",
       "      <td></td>\n",
       "      <td></td>\n",
       "      <td>32.628267</td>\n",
       "      <td>-117.107364</td>\n",
       "    </tr>\n",
       "    <tr>\n",
       "      <th>1618</th>\n",
       "      <td>San Diego</td>\n",
       "      <td>Boat Access</td>\n",
       "      <td>Chula Vista Launch Ramp</td>\n",
       "      <td>W. end of Marina Way, off Marina Parkway, Chul...</td>\n",
       "      <td>No</td>\n",
       "      <td></td>\n",
       "      <td></td>\n",
       "      <td></td>\n",
       "      <td>32.621377</td>\n",
       "      <td>-117.103395</td>\n",
       "    </tr>\n",
       "    <tr>\n",
       "      <th>1622</th>\n",
       "      <td>San Diego</td>\n",
       "      <td>Boat Access</td>\n",
       "      <td>Crown Cove</td>\n",
       "      <td>E. of Hwy. 75, Coronado</td>\n",
       "      <td>Yes</td>\n",
       "      <td></td>\n",
       "      <td>No</td>\n",
       "      <td></td>\n",
       "      <td>32.635808</td>\n",
       "      <td>-117.140978</td>\n",
       "    </tr>\n",
       "  </tbody>\n",
       "</table>\n",
       "<p>99 rows × 10 columns</p>\n",
       "</div>"
      ],
      "text/plain": [
       "         COUNTY   AccessType                                       Name  \\\n",
       "3     Del Norte  Boat Access                 Smith River Boating Access   \n",
       "4     Del Norte  Boat Access  Xaa-wan'-k'wvt Village & Resort Boat Ramp   \n",
       "7     Del Norte  Boat Access                 Lakeview Drive Boat Launch   \n",
       "12    Del Norte  Boat Access         Jedediah Smith Redwoods State Park   \n",
       "13    Del Norte  Boat Access       Smith River National Recreation Area   \n",
       "...         ...          ...                                        ...   \n",
       "1586  San Diego  Boat Access                       America's Cup Harbor   \n",
       "1612  San Diego  Boat Access                       Glorietta Bay Marina   \n",
       "1617  San Diego  Boat Access                   Chula Vista Bayside Park   \n",
       "1618  San Diego  Boat Access                    Chula Vista Launch Ramp   \n",
       "1622  San Diego  Boat Access                                 Crown Cove   \n",
       "\n",
       "                                               Location SNDY_BEACH SHPWRECKS  \\\n",
       "3     Fred Haight Dr., W. of Hwy. 101, 3 mi. S. of T...         No             \n",
       "4                  200 N Salmon Harbor Rd, Smith River.        Yes             \n",
       "7                 End of Lakeview Dr. off Lake Earl Dr.         No             \n",
       "12                       Hwy. 199, 5 mi. E. of Hwy. 101         No             \n",
       "13                       Hwy. 199, 14 mi. E of Hwy. 101         No             \n",
       "...                                                 ...        ...       ...   \n",
       "1586  E. of Rosecrans St., N. of Shelter Island Dr.,...         No             \n",
       "1612                          1715 Strand Way, Coronado         No             \n",
       "1617                 End of Marina Parkway, Chula Vista        Yes             \n",
       "1618  W. end of Marina Way, off Marina Parkway, Chul...         No             \n",
       "1622                            E. of Hwy. 75, Coronado        Yes             \n",
       "\n",
       "     RKY_SHORE TIDEPOOL   LATITUDE   LONGITUDE  \n",
       "3           No           41.890326 -124.147810  \n",
       "4          Yes           41.943917 -124.198709  \n",
       "7           No       No  41.813705 -124.180635  \n",
       "12          No           41.795574 -124.085074  \n",
       "13          No           41.846261 -123.969349  \n",
       "...        ...      ...        ...         ...  \n",
       "1586                     32.720976 -117.224770  \n",
       "1612                     32.678945 -117.174461  \n",
       "1617                     32.628267 -117.107364  \n",
       "1618                     32.621377 -117.103395  \n",
       "1622        No           32.635808 -117.140978  \n",
       "\n",
       "[99 rows x 10 columns]"
      ]
     },
     "execution_count": 449,
     "metadata": {},
     "output_type": "execute_result"
    }
   ],
   "source": [
    "mask_beaches = (DF_beachesfinal['AccessType']=='Boat Access')\n",
    "DF_beachesfinal_masked = DF_beachesfinal[mask_beaches]\n",
    "DF_beachesfinal_masked"
   ]
  },
  {
   "cell_type": "code",
   "execution_count": 470,
   "id": "c9218c3d-4898-436a-9570-93e2b47bcce5",
   "metadata": {},
   "outputs": [
    {
     "data": {
      "application/vnd.plotly.v1+json": {
       "config": {
        "plotlyServerURL": "https://plot.ly"
       },
       "data": [
        {
         "alignmentgroup": "True",
         "hovertemplate": "SNDY_BEACH=No<br>COUNTY=%{x}<br>count=%{y}<extra></extra>",
         "legendgroup": "No",
         "marker": {
          "color": "silver",
          "line": {
           "width": 0
          },
          "pattern": {
           "shape": ""
          }
         },
         "name": "No",
         "offsetgroup": "No",
         "orientation": "v",
         "showlegend": true,
         "textposition": "auto",
         "type": "bar",
         "x": [
          "Del Norte",
          "Del Norte",
          "Del Norte",
          "Del Norte",
          "Del Norte",
          "Del Norte",
          "Humboldt",
          "Humboldt",
          "Humboldt",
          "Humboldt",
          "Humboldt",
          "Humboldt",
          "Humboldt",
          "Humboldt",
          "Humboldt",
          "Humboldt",
          "Humboldt",
          "Humboldt",
          "Humboldt",
          "Humboldt",
          "Sonoma",
          "Sonoma",
          "Sonoma",
          "San Francisco",
          "San Francisco",
          "San Francisco",
          "Santa Cruz",
          "Santa Cruz",
          "Santa Cruz",
          "Monterey",
          "Monterey",
          "Monterey",
          "Monterey",
          "Monterey",
          "Monterey",
          "San Luis Obispo",
          "San Luis Obispo",
          "San Luis Obispo",
          "Santa Barbara",
          "Santa Barbara",
          "Santa Barbara",
          "Santa Barbara",
          "Santa Barbara",
          "Santa Barbara",
          "Ventura",
          "Ventura",
          "Ventura",
          "Los Angeles",
          "Los Angeles",
          "Los Angeles",
          "Los Angeles",
          "Los Angeles",
          "Los Angeles",
          "Los Angeles",
          "Los Angeles",
          "Los Angeles",
          "Los Angeles",
          "Los Angeles",
          "Los Angeles",
          "Los Angeles",
          "Los Angeles",
          "Los Angeles",
          "Los Angeles",
          "Los Angeles",
          "Orange",
          "Orange",
          "Orange",
          "Orange",
          "Orange",
          "Orange",
          "San Diego",
          "San Diego",
          "San Diego",
          "San Diego",
          "San Diego",
          "San Diego",
          "San Diego",
          "San Diego",
          "San Diego",
          "San Diego",
          "San Diego"
         ],
         "xaxis": "x",
         "y": [
          1,
          1,
          1,
          1,
          1,
          1,
          1,
          1,
          1,
          1,
          1,
          1,
          1,
          1,
          1,
          1,
          1,
          1,
          1,
          1,
          1,
          1,
          1,
          1,
          1,
          1,
          1,
          1,
          1,
          1,
          1,
          1,
          1,
          1,
          1,
          1,
          1,
          1,
          1,
          1,
          1,
          1,
          1,
          1,
          1,
          1,
          1,
          1,
          1,
          1,
          1,
          1,
          1,
          1,
          1,
          1,
          1,
          1,
          1,
          1,
          1,
          1,
          1,
          1,
          1,
          1,
          1,
          1,
          1,
          1,
          1,
          1,
          1,
          1,
          1,
          1,
          1,
          1,
          1,
          1,
          1
         ],
         "yaxis": "y"
        },
        {
         "alignmentgroup": "True",
         "hovertemplate": "SNDY_BEACH=Yes<br>COUNTY=%{x}<br>count=%{y}<extra></extra>",
         "legendgroup": "Yes",
         "marker": {
          "color": "papayawhip",
          "line": {
           "width": 0
          },
          "pattern": {
           "shape": ""
          }
         },
         "name": "Yes",
         "offsetgroup": "Yes",
         "orientation": "v",
         "showlegend": true,
         "textposition": "auto",
         "type": "bar",
         "x": [
          "Del Norte",
          "Humboldt",
          "Mendocino",
          "Marin",
          "San Francisco",
          "San Mateo",
          "Monterey",
          "Santa Barbara",
          "Ventura",
          "Los Angeles",
          "Orange",
          "San Diego",
          "San Diego",
          "San Diego",
          "San Diego",
          "San Diego"
         ],
         "xaxis": "x",
         "y": [
          1,
          1,
          1,
          1,
          1,
          1,
          1,
          1,
          1,
          1,
          1,
          1,
          1,
          1,
          1,
          1
         ],
         "yaxis": "y"
        },
        {
         "alignmentgroup": "True",
         "hovertemplate": "SNDY_BEACH= <br>COUNTY=%{x}<br>count=%{y}<extra></extra>",
         "legendgroup": " ",
         "marker": {
          "color": "#00cc96",
          "line": {
           "width": 0
          },
          "pattern": {
           "shape": ""
          }
         },
         "name": " ",
         "offsetgroup": " ",
         "orientation": "v",
         "showlegend": true,
         "textposition": "auto",
         "type": "bar",
         "x": [
          "Marin",
          "Marin"
         ],
         "xaxis": "x",
         "y": [
          1,
          1
         ],
         "yaxis": "y"
        }
       ],
       "layout": {
        "autosize": false,
        "bargap": 0.1,
        "barmode": "relative",
        "height": 600,
        "legend": {
         "title": {
          "text": "SNDY_BEACH"
         },
         "tracegroupgap": 0
        },
        "margin": {
         "t": 60
        },
        "template": {
         "data": {
          "bar": [
           {
            "error_x": {
             "color": "#2a3f5f"
            },
            "error_y": {
             "color": "#2a3f5f"
            },
            "marker": {
             "line": {
              "color": "#E5ECF6",
              "width": 0.5
             },
             "pattern": {
              "fillmode": "overlay",
              "size": 10,
              "solidity": 0.2
             }
            },
            "type": "bar"
           }
          ],
          "barpolar": [
           {
            "marker": {
             "line": {
              "color": "#E5ECF6",
              "width": 0.5
             },
             "pattern": {
              "fillmode": "overlay",
              "size": 10,
              "solidity": 0.2
             }
            },
            "type": "barpolar"
           }
          ],
          "carpet": [
           {
            "aaxis": {
             "endlinecolor": "#2a3f5f",
             "gridcolor": "white",
             "linecolor": "white",
             "minorgridcolor": "white",
             "startlinecolor": "#2a3f5f"
            },
            "baxis": {
             "endlinecolor": "#2a3f5f",
             "gridcolor": "white",
             "linecolor": "white",
             "minorgridcolor": "white",
             "startlinecolor": "#2a3f5f"
            },
            "type": "carpet"
           }
          ],
          "choropleth": [
           {
            "colorbar": {
             "outlinewidth": 0,
             "ticks": ""
            },
            "type": "choropleth"
           }
          ],
          "contour": [
           {
            "colorbar": {
             "outlinewidth": 0,
             "ticks": ""
            },
            "colorscale": [
             [
              0,
              "#0d0887"
             ],
             [
              0.1111111111111111,
              "#46039f"
             ],
             [
              0.2222222222222222,
              "#7201a8"
             ],
             [
              0.3333333333333333,
              "#9c179e"
             ],
             [
              0.4444444444444444,
              "#bd3786"
             ],
             [
              0.5555555555555556,
              "#d8576b"
             ],
             [
              0.6666666666666666,
              "#ed7953"
             ],
             [
              0.7777777777777778,
              "#fb9f3a"
             ],
             [
              0.8888888888888888,
              "#fdca26"
             ],
             [
              1,
              "#f0f921"
             ]
            ],
            "type": "contour"
           }
          ],
          "contourcarpet": [
           {
            "colorbar": {
             "outlinewidth": 0,
             "ticks": ""
            },
            "type": "contourcarpet"
           }
          ],
          "heatmap": [
           {
            "colorbar": {
             "outlinewidth": 0,
             "ticks": ""
            },
            "colorscale": [
             [
              0,
              "#0d0887"
             ],
             [
              0.1111111111111111,
              "#46039f"
             ],
             [
              0.2222222222222222,
              "#7201a8"
             ],
             [
              0.3333333333333333,
              "#9c179e"
             ],
             [
              0.4444444444444444,
              "#bd3786"
             ],
             [
              0.5555555555555556,
              "#d8576b"
             ],
             [
              0.6666666666666666,
              "#ed7953"
             ],
             [
              0.7777777777777778,
              "#fb9f3a"
             ],
             [
              0.8888888888888888,
              "#fdca26"
             ],
             [
              1,
              "#f0f921"
             ]
            ],
            "type": "heatmap"
           }
          ],
          "heatmapgl": [
           {
            "colorbar": {
             "outlinewidth": 0,
             "ticks": ""
            },
            "colorscale": [
             [
              0,
              "#0d0887"
             ],
             [
              0.1111111111111111,
              "#46039f"
             ],
             [
              0.2222222222222222,
              "#7201a8"
             ],
             [
              0.3333333333333333,
              "#9c179e"
             ],
             [
              0.4444444444444444,
              "#bd3786"
             ],
             [
              0.5555555555555556,
              "#d8576b"
             ],
             [
              0.6666666666666666,
              "#ed7953"
             ],
             [
              0.7777777777777778,
              "#fb9f3a"
             ],
             [
              0.8888888888888888,
              "#fdca26"
             ],
             [
              1,
              "#f0f921"
             ]
            ],
            "type": "heatmapgl"
           }
          ],
          "histogram": [
           {
            "marker": {
             "pattern": {
              "fillmode": "overlay",
              "size": 10,
              "solidity": 0.2
             }
            },
            "type": "histogram"
           }
          ],
          "histogram2d": [
           {
            "colorbar": {
             "outlinewidth": 0,
             "ticks": ""
            },
            "colorscale": [
             [
              0,
              "#0d0887"
             ],
             [
              0.1111111111111111,
              "#46039f"
             ],
             [
              0.2222222222222222,
              "#7201a8"
             ],
             [
              0.3333333333333333,
              "#9c179e"
             ],
             [
              0.4444444444444444,
              "#bd3786"
             ],
             [
              0.5555555555555556,
              "#d8576b"
             ],
             [
              0.6666666666666666,
              "#ed7953"
             ],
             [
              0.7777777777777778,
              "#fb9f3a"
             ],
             [
              0.8888888888888888,
              "#fdca26"
             ],
             [
              1,
              "#f0f921"
             ]
            ],
            "type": "histogram2d"
           }
          ],
          "histogram2dcontour": [
           {
            "colorbar": {
             "outlinewidth": 0,
             "ticks": ""
            },
            "colorscale": [
             [
              0,
              "#0d0887"
             ],
             [
              0.1111111111111111,
              "#46039f"
             ],
             [
              0.2222222222222222,
              "#7201a8"
             ],
             [
              0.3333333333333333,
              "#9c179e"
             ],
             [
              0.4444444444444444,
              "#bd3786"
             ],
             [
              0.5555555555555556,
              "#d8576b"
             ],
             [
              0.6666666666666666,
              "#ed7953"
             ],
             [
              0.7777777777777778,
              "#fb9f3a"
             ],
             [
              0.8888888888888888,
              "#fdca26"
             ],
             [
              1,
              "#f0f921"
             ]
            ],
            "type": "histogram2dcontour"
           }
          ],
          "mesh3d": [
           {
            "colorbar": {
             "outlinewidth": 0,
             "ticks": ""
            },
            "type": "mesh3d"
           }
          ],
          "parcoords": [
           {
            "line": {
             "colorbar": {
              "outlinewidth": 0,
              "ticks": ""
             }
            },
            "type": "parcoords"
           }
          ],
          "pie": [
           {
            "automargin": true,
            "type": "pie"
           }
          ],
          "scatter": [
           {
            "fillpattern": {
             "fillmode": "overlay",
             "size": 10,
             "solidity": 0.2
            },
            "type": "scatter"
           }
          ],
          "scatter3d": [
           {
            "line": {
             "colorbar": {
              "outlinewidth": 0,
              "ticks": ""
             }
            },
            "marker": {
             "colorbar": {
              "outlinewidth": 0,
              "ticks": ""
             }
            },
            "type": "scatter3d"
           }
          ],
          "scattercarpet": [
           {
            "marker": {
             "colorbar": {
              "outlinewidth": 0,
              "ticks": ""
             }
            },
            "type": "scattercarpet"
           }
          ],
          "scattergeo": [
           {
            "marker": {
             "colorbar": {
              "outlinewidth": 0,
              "ticks": ""
             }
            },
            "type": "scattergeo"
           }
          ],
          "scattergl": [
           {
            "marker": {
             "colorbar": {
              "outlinewidth": 0,
              "ticks": ""
             }
            },
            "type": "scattergl"
           }
          ],
          "scattermapbox": [
           {
            "marker": {
             "colorbar": {
              "outlinewidth": 0,
              "ticks": ""
             }
            },
            "type": "scattermapbox"
           }
          ],
          "scatterpolar": [
           {
            "marker": {
             "colorbar": {
              "outlinewidth": 0,
              "ticks": ""
             }
            },
            "type": "scatterpolar"
           }
          ],
          "scatterpolargl": [
           {
            "marker": {
             "colorbar": {
              "outlinewidth": 0,
              "ticks": ""
             }
            },
            "type": "scatterpolargl"
           }
          ],
          "scatterternary": [
           {
            "marker": {
             "colorbar": {
              "outlinewidth": 0,
              "ticks": ""
             }
            },
            "type": "scatterternary"
           }
          ],
          "surface": [
           {
            "colorbar": {
             "outlinewidth": 0,
             "ticks": ""
            },
            "colorscale": [
             [
              0,
              "#0d0887"
             ],
             [
              0.1111111111111111,
              "#46039f"
             ],
             [
              0.2222222222222222,
              "#7201a8"
             ],
             [
              0.3333333333333333,
              "#9c179e"
             ],
             [
              0.4444444444444444,
              "#bd3786"
             ],
             [
              0.5555555555555556,
              "#d8576b"
             ],
             [
              0.6666666666666666,
              "#ed7953"
             ],
             [
              0.7777777777777778,
              "#fb9f3a"
             ],
             [
              0.8888888888888888,
              "#fdca26"
             ],
             [
              1,
              "#f0f921"
             ]
            ],
            "type": "surface"
           }
          ],
          "table": [
           {
            "cells": {
             "fill": {
              "color": "#EBF0F8"
             },
             "line": {
              "color": "white"
             }
            },
            "header": {
             "fill": {
              "color": "#C8D4E3"
             },
             "line": {
              "color": "white"
             }
            },
            "type": "table"
           }
          ]
         },
         "layout": {
          "annotationdefaults": {
           "arrowcolor": "#2a3f5f",
           "arrowhead": 0,
           "arrowwidth": 1
          },
          "autotypenumbers": "strict",
          "coloraxis": {
           "colorbar": {
            "outlinewidth": 0,
            "ticks": ""
           }
          },
          "colorscale": {
           "diverging": [
            [
             0,
             "#8e0152"
            ],
            [
             0.1,
             "#c51b7d"
            ],
            [
             0.2,
             "#de77ae"
            ],
            [
             0.3,
             "#f1b6da"
            ],
            [
             0.4,
             "#fde0ef"
            ],
            [
             0.5,
             "#f7f7f7"
            ],
            [
             0.6,
             "#e6f5d0"
            ],
            [
             0.7,
             "#b8e186"
            ],
            [
             0.8,
             "#7fbc41"
            ],
            [
             0.9,
             "#4d9221"
            ],
            [
             1,
             "#276419"
            ]
           ],
           "sequential": [
            [
             0,
             "#0d0887"
            ],
            [
             0.1111111111111111,
             "#46039f"
            ],
            [
             0.2222222222222222,
             "#7201a8"
            ],
            [
             0.3333333333333333,
             "#9c179e"
            ],
            [
             0.4444444444444444,
             "#bd3786"
            ],
            [
             0.5555555555555556,
             "#d8576b"
            ],
            [
             0.6666666666666666,
             "#ed7953"
            ],
            [
             0.7777777777777778,
             "#fb9f3a"
            ],
            [
             0.8888888888888888,
             "#fdca26"
            ],
            [
             1,
             "#f0f921"
            ]
           ],
           "sequentialminus": [
            [
             0,
             "#0d0887"
            ],
            [
             0.1111111111111111,
             "#46039f"
            ],
            [
             0.2222222222222222,
             "#7201a8"
            ],
            [
             0.3333333333333333,
             "#9c179e"
            ],
            [
             0.4444444444444444,
             "#bd3786"
            ],
            [
             0.5555555555555556,
             "#d8576b"
            ],
            [
             0.6666666666666666,
             "#ed7953"
            ],
            [
             0.7777777777777778,
             "#fb9f3a"
            ],
            [
             0.8888888888888888,
             "#fdca26"
            ],
            [
             1,
             "#f0f921"
            ]
           ]
          },
          "colorway": [
           "#636efa",
           "#EF553B",
           "#00cc96",
           "#ab63fa",
           "#FFA15A",
           "#19d3f3",
           "#FF6692",
           "#B6E880",
           "#FF97FF",
           "#FECB52"
          ],
          "font": {
           "color": "#2a3f5f"
          },
          "geo": {
           "bgcolor": "white",
           "lakecolor": "white",
           "landcolor": "#E5ECF6",
           "showlakes": true,
           "showland": true,
           "subunitcolor": "white"
          },
          "hoverlabel": {
           "align": "left"
          },
          "hovermode": "closest",
          "mapbox": {
           "style": "light"
          },
          "paper_bgcolor": "white",
          "plot_bgcolor": "#E5ECF6",
          "polar": {
           "angularaxis": {
            "gridcolor": "white",
            "linecolor": "white",
            "ticks": ""
           },
           "bgcolor": "#E5ECF6",
           "radialaxis": {
            "gridcolor": "white",
            "linecolor": "white",
            "ticks": ""
           }
          },
          "scene": {
           "xaxis": {
            "backgroundcolor": "#E5ECF6",
            "gridcolor": "white",
            "gridwidth": 2,
            "linecolor": "white",
            "showbackground": true,
            "ticks": "",
            "zerolinecolor": "white"
           },
           "yaxis": {
            "backgroundcolor": "#E5ECF6",
            "gridcolor": "white",
            "gridwidth": 2,
            "linecolor": "white",
            "showbackground": true,
            "ticks": "",
            "zerolinecolor": "white"
           },
           "zaxis": {
            "backgroundcolor": "#E5ECF6",
            "gridcolor": "white",
            "gridwidth": 2,
            "linecolor": "white",
            "showbackground": true,
            "ticks": "",
            "zerolinecolor": "white"
           }
          },
          "shapedefaults": {
           "line": {
            "color": "#2a3f5f"
           }
          },
          "ternary": {
           "aaxis": {
            "gridcolor": "white",
            "linecolor": "white",
            "ticks": ""
           },
           "baxis": {
            "gridcolor": "white",
            "linecolor": "white",
            "ticks": ""
           },
           "bgcolor": "#E5ECF6",
           "caxis": {
            "gridcolor": "white",
            "linecolor": "white",
            "ticks": ""
           }
          },
          "title": {
           "x": 0.05
          },
          "xaxis": {
           "automargin": true,
           "gridcolor": "white",
           "linecolor": "white",
           "ticks": "",
           "title": {
            "standoff": 15
           },
           "zerolinecolor": "white",
           "zerolinewidth": 2
          },
          "yaxis": {
           "automargin": true,
           "gridcolor": "white",
           "linecolor": "white",
           "ticks": "",
           "title": {
            "standoff": 15
           },
           "zerolinecolor": "white",
           "zerolinewidth": 2
          }
         }
        },
        "title": {
         "text": "Beaches Accessible By Boat",
         "x": 0.5
        },
        "width": 800,
        "xaxis": {
         "anchor": "y",
         "autorange": true,
         "domain": [
          0,
          1
         ],
         "range": [
          -0.5,
          14.5
         ],
         "title": {
          "text": "County"
         },
         "type": "category"
        },
        "yaxis": {
         "anchor": "x",
         "autorange": true,
         "domain": [
          0,
          1
         ],
         "range": [
          0,
          18.94736842105263
         ],
         "title": {
          "text": "Count"
         },
         "type": "linear"
        }
       }
      },
      "image/png": "[encoded data removed]",
      "text/html": [
       "<div>                            <div id=\"943e69e4-68ea-4927-9415-8de9abd013c8\" class=\"plotly-graph-div\" style=\"height:600px; width:800px;\"></div>            <script type=\"text/javascript\">                require([\"plotly\"], function(Plotly) {                    window.PLOTLYENV=window.PLOTLYENV || {};                                    if (document.getElementById(\"943e69e4-68ea-4927-9415-8de9abd013c8\")) {                    Plotly.newPlot(                        \"943e69e4-68ea-4927-9415-8de9abd013c8\",                        [{\"alignmentgroup\":\"True\",\"hovertemplate\":\"SNDY_BEACH=No\\u003cbr\\u003eCOUNTY=%{x}\\u003cbr\\u003ecount=%{y}\\u003cextra\\u003e\\u003c\\u002fextra\\u003e\",\"legendgroup\":\"No\",\"marker\":{\"color\":\"silver\",\"pattern\":{\"shape\":\"\"},\"line\":{\"width\":0}},\"name\":\"No\",\"offsetgroup\":\"No\",\"orientation\":\"v\",\"showlegend\":true,\"textposition\":\"auto\",\"x\":[\"Del Norte\",\"Del Norte\",\"Del Norte\",\"Del Norte\",\"Del Norte\",\"Del Norte\",\"Humboldt\",\"Humboldt\",\"Humboldt\",\"Humboldt\",\"Humboldt\",\"Humboldt\",\"Humboldt\",\"Humboldt\",\"Humboldt\",\"Humboldt\",\"Humboldt\",\"Humboldt\",\"Humboldt\",\"Humboldt\",\"Sonoma\",\"Sonoma\",\"Sonoma\",\"San Francisco\",\"San Francisco\",\"San Francisco\",\"Santa Cruz\",\"Santa Cruz\",\"Santa Cruz\",\"Monterey\",\"Monterey\",\"Monterey\",\"Monterey\",\"Monterey\",\"Monterey\",\"San Luis Obispo\",\"San Luis Obispo\",\"San Luis Obispo\",\"Santa Barbara\",\"Santa Barbara\",\"Santa Barbara\",\"Santa Barbara\",\"Santa Barbara\",\"Santa Barbara\",\"Ventura\",\"Ventura\",\"Ventura\",\"Los Angeles\",\"Los Angeles\",\"Los Angeles\",\"Los Angeles\",\"Los Angeles\",\"Los Angeles\",\"Los Angeles\",\"Los Angeles\",\"Los Angeles\",\"Los Angeles\",\"Los Angeles\",\"Los Angeles\",\"Los Angeles\",\"Los Angeles\",\"Los Angeles\",\"Los Angeles\",\"Los Angeles\",\"Orange\",\"Orange\",\"Orange\",\"Orange\",\"Orange\",\"Orange\",\"San Diego\",\"San Diego\",\"San Diego\",\"San Diego\",\"San Diego\",\"San Diego\",\"San Diego\",\"San Diego\",\"San Diego\",\"San Diego\",\"San Diego\"],\"xaxis\":\"x\",\"y\":[1,1,1,1,1,1,1,1,1,1,1,1,1,1,1,1,1,1,1,1,1,1,1,1,1,1,1,1,1,1,1,1,1,1,1,1,1,1,1,1,1,1,1,1,1,1,1,1,1,1,1,1,1,1,1,1,1,1,1,1,1,1,1,1,1,1,1,1,1,1,1,1,1,1,1,1,1,1,1,1,1],\"yaxis\":\"y\",\"type\":\"bar\"},{\"alignmentgroup\":\"True\",\"hovertemplate\":\"SNDY_BEACH=Yes\\u003cbr\\u003eCOUNTY=%{x}\\u003cbr\\u003ecount=%{y}\\u003cextra\\u003e\\u003c\\u002fextra\\u003e\",\"legendgroup\":\"Yes\",\"marker\":{\"color\":\"papayawhip\",\"pattern\":{\"shape\":\"\"},\"line\":{\"width\":0}},\"name\":\"Yes\",\"offsetgroup\":\"Yes\",\"orientation\":\"v\",\"showlegend\":true,\"textposition\":\"auto\",\"x\":[\"Del Norte\",\"Humboldt\",\"Mendocino\",\"Marin\",\"San Francisco\",\"San Mateo\",\"Monterey\",\"Santa Barbara\",\"Ventura\",\"Los Angeles\",\"Orange\",\"San Diego\",\"San Diego\",\"San Diego\",\"San Diego\",\"San Diego\"],\"xaxis\":\"x\",\"y\":[1,1,1,1,1,1,1,1,1,1,1,1,1,1,1,1],\"yaxis\":\"y\",\"type\":\"bar\"},{\"alignmentgroup\":\"True\",\"hovertemplate\":\"SNDY_BEACH= \\u003cbr\\u003eCOUNTY=%{x}\\u003cbr\\u003ecount=%{y}\\u003cextra\\u003e\\u003c\\u002fextra\\u003e\",\"legendgroup\":\" \",\"marker\":{\"color\":\"#00cc96\",\"pattern\":{\"shape\":\"\"},\"line\":{\"width\":0}},\"name\":\" \",\"offsetgroup\":\" \",\"orientation\":\"v\",\"showlegend\":true,\"textposition\":\"auto\",\"x\":[\"Marin\",\"Marin\"],\"xaxis\":\"x\",\"y\":[1,1],\"yaxis\":\"y\",\"type\":\"bar\"}],                        {\"template\":{\"data\":{\"histogram2dcontour\":[{\"type\":\"histogram2dcontour\",\"colorbar\":{\"outlinewidth\":0,\"ticks\":\"\"},\"colorscale\":[[0.0,\"#0d0887\"],[0.1111111111111111,\"#46039f\"],[0.2222222222222222,\"#7201a8\"],[0.3333333333333333,\"#9c179e\"],[0.4444444444444444,\"#bd3786\"],[0.5555555555555556,\"#d8576b\"],[0.6666666666666666,\"#ed7953\"],[0.7777777777777778,\"#fb9f3a\"],[0.8888888888888888,\"#fdca26\"],[1.0,\"#f0f921\"]]}],\"choropleth\":[{\"type\":\"choropleth\",\"colorbar\":{\"outlinewidth\":0,\"ticks\":\"\"}}],\"histogram2d\":[{\"type\":\"histogram2d\",\"colorbar\":{\"outlinewidth\":0,\"ticks\":\"\"},\"colorscale\":[[0.0,\"#0d0887\"],[0.1111111111111111,\"#46039f\"],[0.2222222222222222,\"#7201a8\"],[0.3333333333333333,\"#9c179e\"],[0.4444444444444444,\"#bd3786\"],[0.5555555555555556,\"#d8576b\"],[0.6666666666666666,\"#ed7953\"],[0.7777777777777778,\"#fb9f3a\"],[0.8888888888888888,\"#fdca26\"],[1.0,\"#f0f921\"]]}],\"heatmap\":[{\"type\":\"heatmap\",\"colorbar\":{\"outlinewidth\":0,\"ticks\":\"\"},\"colorscale\":[[0.0,\"#0d0887\"],[0.1111111111111111,\"#46039f\"],[0.2222222222222222,\"#7201a8\"],[0.3333333333333333,\"#9c179e\"],[0.4444444444444444,\"#bd3786\"],[0.5555555555555556,\"#d8576b\"],[0.6666666666666666,\"#ed7953\"],[0.7777777777777778,\"#fb9f3a\"],[0.8888888888888888,\"#fdca26\"],[1.0,\"#f0f921\"]]}],\"heatmapgl\":[{\"type\":\"heatmapgl\",\"colorbar\":{\"outlinewidth\":0,\"ticks\":\"\"},\"colorscale\":[[0.0,\"#0d0887\"],[0.1111111111111111,\"#46039f\"],[0.2222222222222222,\"#7201a8\"],[0.3333333333333333,\"#9c179e\"],[0.4444444444444444,\"#bd3786\"],[0.5555555555555556,\"#d8576b\"],[0.6666666666666666,\"#ed7953\"],[0.7777777777777778,\"#fb9f3a\"],[0.8888888888888888,\"#fdca26\"],[1.0,\"#f0f921\"]]}],\"contourcarpet\":[{\"type\":\"contourcarpet\",\"colorbar\":{\"outlinewidth\":0,\"ticks\":\"\"}}],\"contour\":[{\"type\":\"contour\",\"colorbar\":{\"outlinewidth\":0,\"ticks\":\"\"},\"colorscale\":[[0.0,\"#0d0887\"],[0.1111111111111111,\"#46039f\"],[0.2222222222222222,\"#7201a8\"],[0.3333333333333333,\"#9c179e\"],[0.4444444444444444,\"#bd3786\"],[0.5555555555555556,\"#d8576b\"],[0.6666666666666666,\"#ed7953\"],[0.7777777777777778,\"#fb9f3a\"],[0.8888888888888888,\"#fdca26\"],[1.0,\"#f0f921\"]]}],\"surface\":[{\"type\":\"surface\",\"colorbar\":{\"outlinewidth\":0,\"ticks\":\"\"},\"colorscale\":[[0.0,\"#0d0887\"],[0.1111111111111111,\"#46039f\"],[0.2222222222222222,\"#7201a8\"],[0.3333333333333333,\"#9c179e\"],[0.4444444444444444,\"#bd3786\"],[0.5555555555555556,\"#d8576b\"],[0.6666666666666666,\"#ed7953\"],[0.7777777777777778,\"#fb9f3a\"],[0.8888888888888888,\"#fdca26\"],[1.0,\"#f0f921\"]]}],\"mesh3d\":[{\"type\":\"mesh3d\",\"colorbar\":{\"outlinewidth\":0,\"ticks\":\"\"}}],\"scatter\":[{\"fillpattern\":{\"fillmode\":\"overlay\",\"size\":10,\"solidity\":0.2},\"type\":\"scatter\"}],\"parcoords\":[{\"type\":\"parcoords\",\"line\":{\"colorbar\":{\"outlinewidth\":0,\"ticks\":\"\"}}}],\"scatterpolargl\":[{\"type\":\"scatterpolargl\",\"marker\":{\"colorbar\":{\"outlinewidth\":0,\"ticks\":\"\"}}}],\"bar\":[{\"error_x\":{\"color\":\"#2a3f5f\"},\"error_y\":{\"color\":\"#2a3f5f\"},\"marker\":{\"line\":{\"color\":\"#E5ECF6\",\"width\":0.5},\"pattern\":{\"fillmode\":\"overlay\",\"size\":10,\"solidity\":0.2}},\"type\":\"bar\"}],\"scattergeo\":[{\"type\":\"scattergeo\",\"marker\":{\"colorbar\":{\"outlinewidth\":0,\"ticks\":\"\"}}}],\"scatterpolar\":[{\"type\":\"scatterpolar\",\"marker\":{\"colorbar\":{\"outlinewidth\":0,\"ticks\":\"\"}}}],\"histogram\":[{\"marker\":{\"pattern\":{\"fillmode\":\"overlay\",\"size\":10,\"solidity\":0.2}},\"type\":\"histogram\"}],\"scattergl\":[{\"type\":\"scattergl\",\"marker\":{\"colorbar\":{\"outlinewidth\":0,\"ticks\":\"\"}}}],\"scatter3d\":[{\"type\":\"scatter3d\",\"line\":{\"colorbar\":{\"outlinewidth\":0,\"ticks\":\"\"}},\"marker\":{\"colorbar\":{\"outlinewidth\":0,\"ticks\":\"\"}}}],\"scattermapbox\":[{\"type\":\"scattermapbox\",\"marker\":{\"colorbar\":{\"outlinewidth\":0,\"ticks\":\"\"}}}],\"scatterternary\":[{\"type\":\"scatterternary\",\"marker\":{\"colorbar\":{\"outlinewidth\":0,\"ticks\":\"\"}}}],\"scattercarpet\":[{\"type\":\"scattercarpet\",\"marker\":{\"colorbar\":{\"outlinewidth\":0,\"ticks\":\"\"}}}],\"carpet\":[{\"aaxis\":{\"endlinecolor\":\"#2a3f5f\",\"gridcolor\":\"white\",\"linecolor\":\"white\",\"minorgridcolor\":\"white\",\"startlinecolor\":\"#2a3f5f\"},\"baxis\":{\"endlinecolor\":\"#2a3f5f\",\"gridcolor\":\"white\",\"linecolor\":\"white\",\"minorgridcolor\":\"white\",\"startlinecolor\":\"#2a3f5f\"},\"type\":\"carpet\"}],\"table\":[{\"cells\":{\"fill\":{\"color\":\"#EBF0F8\"},\"line\":{\"color\":\"white\"}},\"header\":{\"fill\":{\"color\":\"#C8D4E3\"},\"line\":{\"color\":\"white\"}},\"type\":\"table\"}],\"barpolar\":[{\"marker\":{\"line\":{\"color\":\"#E5ECF6\",\"width\":0.5},\"pattern\":{\"fillmode\":\"overlay\",\"size\":10,\"solidity\":0.2}},\"type\":\"barpolar\"}],\"pie\":[{\"automargin\":true,\"type\":\"pie\"}]},\"layout\":{\"autotypenumbers\":\"strict\",\"colorway\":[\"#636efa\",\"#EF553B\",\"#00cc96\",\"#ab63fa\",\"#FFA15A\",\"#19d3f3\",\"#FF6692\",\"#B6E880\",\"#FF97FF\",\"#FECB52\"],\"font\":{\"color\":\"#2a3f5f\"},\"hovermode\":\"closest\",\"hoverlabel\":{\"align\":\"left\"},\"paper_bgcolor\":\"white\",\"plot_bgcolor\":\"#E5ECF6\",\"polar\":{\"bgcolor\":\"#E5ECF6\",\"angularaxis\":{\"gridcolor\":\"white\",\"linecolor\":\"white\",\"ticks\":\"\"},\"radialaxis\":{\"gridcolor\":\"white\",\"linecolor\":\"white\",\"ticks\":\"\"}},\"ternary\":{\"bgcolor\":\"#E5ECF6\",\"aaxis\":{\"gridcolor\":\"white\",\"linecolor\":\"white\",\"ticks\":\"\"},\"baxis\":{\"gridcolor\":\"white\",\"linecolor\":\"white\",\"ticks\":\"\"},\"caxis\":{\"gridcolor\":\"white\",\"linecolor\":\"white\",\"ticks\":\"\"}},\"coloraxis\":{\"colorbar\":{\"outlinewidth\":0,\"ticks\":\"\"}},\"colorscale\":{\"sequential\":[[0.0,\"#0d0887\"],[0.1111111111111111,\"#46039f\"],[0.2222222222222222,\"#7201a8\"],[0.3333333333333333,\"#9c179e\"],[0.4444444444444444,\"#bd3786\"],[0.5555555555555556,\"#d8576b\"],[0.6666666666666666,\"#ed7953\"],[0.7777777777777778,\"#fb9f3a\"],[0.8888888888888888,\"#fdca26\"],[1.0,\"#f0f921\"]],\"sequentialminus\":[[0.0,\"#0d0887\"],[0.1111111111111111,\"#46039f\"],[0.2222222222222222,\"#7201a8\"],[0.3333333333333333,\"#9c179e\"],[0.4444444444444444,\"#bd3786\"],[0.5555555555555556,\"#d8576b\"],[0.6666666666666666,\"#ed7953\"],[0.7777777777777778,\"#fb9f3a\"],[0.8888888888888888,\"#fdca26\"],[1.0,\"#f0f921\"]],\"diverging\":[[0,\"#8e0152\"],[0.1,\"#c51b7d\"],[0.2,\"#de77ae\"],[0.3,\"#f1b6da\"],[0.4,\"#fde0ef\"],[0.5,\"#f7f7f7\"],[0.6,\"#e6f5d0\"],[0.7,\"#b8e186\"],[0.8,\"#7fbc41\"],[0.9,\"#4d9221\"],[1,\"#276419\"]]},\"xaxis\":{\"gridcolor\":\"white\",\"linecolor\":\"white\",\"ticks\":\"\",\"title\":{\"standoff\":15},\"zerolinecolor\":\"white\",\"automargin\":true,\"zerolinewidth\":2},\"yaxis\":{\"gridcolor\":\"white\",\"linecolor\":\"white\",\"ticks\":\"\",\"title\":{\"standoff\":15},\"zerolinecolor\":\"white\",\"automargin\":true,\"zerolinewidth\":2},\"scene\":{\"xaxis\":{\"backgroundcolor\":\"#E5ECF6\",\"gridcolor\":\"white\",\"linecolor\":\"white\",\"showbackground\":true,\"ticks\":\"\",\"zerolinecolor\":\"white\",\"gridwidth\":2},\"yaxis\":{\"backgroundcolor\":\"#E5ECF6\",\"gridcolor\":\"white\",\"linecolor\":\"white\",\"showbackground\":true,\"ticks\":\"\",\"zerolinecolor\":\"white\",\"gridwidth\":2},\"zaxis\":{\"backgroundcolor\":\"#E5ECF6\",\"gridcolor\":\"white\",\"linecolor\":\"white\",\"showbackground\":true,\"ticks\":\"\",\"zerolinecolor\":\"white\",\"gridwidth\":2}},\"shapedefaults\":{\"line\":{\"color\":\"#2a3f5f\"}},\"annotationdefaults\":{\"arrowcolor\":\"#2a3f5f\",\"arrowhead\":0,\"arrowwidth\":1},\"geo\":{\"bgcolor\":\"white\",\"landcolor\":\"#E5ECF6\",\"subunitcolor\":\"white\",\"showland\":true,\"showlakes\":true,\"lakecolor\":\"white\"},\"title\":{\"x\":0.05},\"mapbox\":{\"style\":\"light\"}}},\"xaxis\":{\"anchor\":\"y\",\"domain\":[0.0,1.0],\"title\":{\"text\":\"County\"}},\"yaxis\":{\"anchor\":\"x\",\"domain\":[0.0,1.0],\"title\":{\"text\":\"Count\"}},\"legend\":{\"title\":{\"text\":\"SNDY_BEACH\"},\"tracegroupgap\":0},\"margin\":{\"t\":60},\"barmode\":\"relative\",\"title\":{\"text\":\"Beaches Accessible By Boat\",\"x\":0.5},\"bargap\":0.1,\"autosize\":false,\"width\":800,\"height\":600},                        {\"responsive\": true}                    ).then(function(){\n",
       "                            \n",
       "var gd = document.getElementById('943e69e4-68ea-4927-9415-8de9abd013c8');\n",
       "var x = new MutationObserver(function (mutations, observer) {{\n",
       "        var display = window.getComputedStyle(gd).display;\n",
       "        if (!display || display === 'none') {{\n",
       "            console.log([gd, 'removed!']);\n",
       "            Plotly.purge(gd);\n",
       "            observer.disconnect();\n",
       "        }}\n",
       "}});\n",
       "\n",
       "// Listen for the removal of the full notebook cells\n",
       "var notebookContainer = gd.closest('#notebook-container');\n",
       "if (notebookContainer) {{\n",
       "    x.observe(notebookContainer, {childList: true});\n",
       "}}\n",
       "\n",
       "// Listen for the clearing of the current output cell\n",
       "var outputEl = gd.closest('.output');\n",
       "if (outputEl) {{\n",
       "    x.observe(outputEl, {childList: true});\n",
       "}}\n",
       "\n",
       "                        })                };                });            </script>        </div>"
      ]
     },
     "metadata": {},
     "output_type": "display_data"
    }
   ],
   "source": [
    "fig = px.bar(DF_beachesfinal_masked,\n",
    "            x='COUNTY',\n",
    "            color='SNDY_BEACH',\n",
    "            color_discrete_map={'Yes': 'papayawhip', \n",
    "                                       'No':'silver'})\n",
    "fig.update_traces(dict(marker_line_width=0))\n",
    "fig.update_layout(bargap=0.1,\n",
    "                  title='Beaches Accessible By Boat',\n",
    "                  title_x=0.5,\n",
    "                  xaxis_title=\"County\",\n",
    "                  yaxis_title=\"Count\",\n",
    "                  autosize=False,\n",
    "                  width=800,\n",
    "                  height=600)\n",
    "fig.show()"
   ]
  }
 ],
 "metadata": {
  "kernelspec": {
   "display_name": "Python 3 (ipykernel)",
   "language": "python",
   "name": "python3"
  },
  "language_info": {
   "codemirror_mode": {
    "name": "ipython",
    "version": 3
   },
   "file_extension": ".py",
   "mimetype": "text/x-python",
   "name": "python",
   "nbconvert_exporter": "python",
   "pygments_lexer": "ipython3",
   "version": "3.12.2"
  }
 },
 "nbformat": 4,
 "nbformat_minor": 5
}
